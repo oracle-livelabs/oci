{
 "cells": [
  {
   "cell_type": "markdown",
   "id": "f7032e18",
   "metadata": {},
   "source": [
    "# Data Lakehouse Medallion - LiveLabs\n",
    "## SUMÁRIO:\n",
    "---\n",
    "\n",
    "- <a href='#prerequisites'>1. Pré-requisitos</a>\n",
    "    - <a href='#prerequisites_policies'>1.1 Políticas</a>\n",
    "    - <a href='#prerequisites_helpers'>1.2 Helpers</a>\n",
    "    - <a href='#prerequisites_authentication'>1.3 Autenticação</a>\n",
    "    - <a href='#prerequisites_variables'>1.4 Variáveis</a>   \n",
    "- <a href='#dataflow_spark_magic'>2. Data Flow Spark Magic</a>\n",
    "    - <a href='#dataflow_spark_magic_comands'>2.1 Carregando Comandos do Data Flow Spark Magic</a>\n",
    "- <a href='#create_session'>3. Criando uma sessão</a>\n",
    "    - <a href='#use_session'>3.1 Utilizando sessão existente</a>\n",
    "- <a href='#basic_spark_comands'>4. Comandos Spark Básicos</a>\n",
    "- <a href='#dataset_information'>5.Visão Geral do Conjunto de Dados</a>\n",
    "    - <a href='#FDA_information'>5.1 Informações Gerais [FDA - Food & Drug Administration]</a>\n",
    "    - <a href='#dataset_dictionary'>5.2 Dicionário de Dados</a>\n",
    "- <a href='#import_json'>6. Importando arquivos JSON - <span style=\"color:#CD7F32\">**Camada Bronze**</span></a>\n",
    "    - <a href='#read_json'>6.1 Configuração de Leitura de Arquivos JSON no Spark</a>\n",
    "    - <a href='#verification_null'>5.2 Verificação de Valores Nulos</a>\n",
    "- <a href='#sql_spark'>7. Exploração e Tratamento - SQL Spark</a>\n",
    "   \n",
    "    "
   ]
  },
  {
   "cell_type": "markdown",
   "id": "7b1dfd8b",
   "metadata": {},
   "source": [
    "<a id='prerequisites'></a>\n",
    "## 1.Pré-Requisitos"
   ]
  },
  {
   "cell_type": "markdown",
   "id": "03662a8b",
   "metadata": {},
   "source": [
    "As sessões do Data Flow são acessíveis por meio do seguinte [Conda Environment](https://docs.oracle.com/en-us/iaas/data-science/using/conda-pyspark-fam.htm).: **PySpark 3.2 e Data Flow CPU no Python 3.8 (versão 3.0)**\n"
   ]
  },
  {
   "cell_type": "markdown",
   "id": "4b45ee2a",
   "metadata": {},
   "source": [
    "<a id='prerequisites_policies'></a>\n",
    "### 1.1 Políticas"
   ]
  },
  {
   "cell_type": "markdown",
   "id": "fa9a3cab",
   "metadata": {},
   "source": [
    "Esta seção aborda a criação de grupos dinâmicos e políticas necessárias para usar o serviço.\n",
    "\n",
    "* [Data Flow Policies](https://docs.oracle.com/iaas/data-flow/using/policies.htm/)\n",
    "* [Getting Started with Data Flow](https://docs.oracle.com/iaas/data-flow/using/dfs_getting_started.htm)\n",
    "* [About Data Science Policies](https://docs.oracle.com/iaas/data-science/using/policies.htm)\n",
    "* [Data Catalog Metastore](https://docs.oracle.com/en-us/iaas/data-catalog/using/metastore.htm)"
   ]
  },
  {
   "cell_type": "markdown",
   "id": "3349f55a",
   "metadata": {},
   "source": [
    "<a id='prerequisites_helpers'></a>\n",
    "### 1.2 Helpers"
   ]
  },
  {
   "cell_type": "markdown",
   "id": "cbc8e769",
   "metadata": {},
   "source": [
    "Nesta seção, estamos criando uma função simples para facilitar a manipulação dos argumentos e parâmetros ao configurar a sessão no Data Flow Studio. Essa função é usada em todo o notebook para preparar os argumentos necessários para os comandos mágicos. É especialmente útil quando você deseja passar variáveis Python como argumentos para os comandos mágicos do Spark."
   ]
  },
  {
   "cell_type": "code",
   "execution_count": 1,
   "id": "e110b6dc",
   "metadata": {},
   "outputs": [],
   "source": [
    "import json\n",
    "def prepare_command(command: dict) -> str:\n",
    "    \"\"\"Converts dictionary command to the string formatted commands.\"\"\"\n",
    "    return f\"'{json.dumps(command)}'\""
   ]
  },
  {
   "cell_type": "markdown",
   "id": "e839bb57",
   "metadata": {},
   "source": [
    "<a id='prerequisites_authentication'></a>\n",
    "### 1.3 Autenticação"
   ]
  },
  {
   "cell_type": "markdown",
   "id": "a5f725d1",
   "metadata": {},
   "source": [
    "O [Oracle Accelerated Data Science SDK (ADS)](https://docs.oracle.com/iaas/tools/ads-sdk/latest/index.html) controla o mecanismo de autenticação com o cluster Spark da Sessão de Fluxo de Dados. Para configurar a autenticação, use ```ads.set_auth(\"resource_principal\")``` ou ```ads.set_auth(\"api_key\")```\n"
   ]
  },
  {
   "cell_type": "code",
   "execution_count": 2,
   "id": "ea495fad",
   "metadata": {},
   "outputs": [],
   "source": [
    "#Importando a biblioteca ADS e realizando a autenticação.\n",
    "import ads\n",
    "ads.set_auth(\"resource_principal\")"
   ]
  },
  {
   "cell_type": "markdown",
   "id": "c09b1bcb",
   "metadata": {},
   "source": [
    "<a id='prerequisites_variables'></a>\n",
    "### 1.4 Variáveis"
   ]
  },
  {
   "cell_type": "markdown",
   "id": "f4c4bc76",
   "metadata": {},
   "source": [
    "Importamos variáveis de ambiente da OCI Data Science Notebook através da biblioteca **os**. Para criar e executar uma sessão do Data Flow, você deve especificar um ```<compartment_id>``` e um bucket ```<logs_bucket_uri>``` para armazenar os logs. Esses recursos devem estar no mesmo compartimento."
   ]
  },
  {
   "cell_type": "code",
   "execution_count": 3,
   "id": "01f64f4a",
   "metadata": {},
   "outputs": [],
   "source": [
    "import os\n",
    "compartment_id = os.environ.get(\"NB_SESSION_COMPARTMENT_OCID\") #identificando o compartimento da OCI em utilização\n",
    "logs_bucket_uri = \"oci://bucket_livelabs_logs@id3kyspkytmr\" #definindo o bucket para armazenamento de logs"
   ]
  },
  {
   "cell_type": "markdown",
   "id": "87b5e493",
   "metadata": {},
   "source": [
    "<a id='dataflow_spark_magic'></a>\n",
    "## 2. Data Flow Spark Magic\n"
   ]
  },
  {
   "cell_type": "markdown",
   "id": "1229ad61",
   "metadata": {},
   "source": [
    "Por meio da API REST do Livy, ele fornece um conjunto de comandos mágicos de células do Jupyter Notebook para transformar o Jupyter em um ambiente de desenvolvimento Spark integrado para clusters remotos.\n",
    "\n",
    "Data Flow Magic permite que você:\n",
    "\n",
    "* Execute código Spark em um cluster Spark remoto do Data Flow.\n",
    "* Crie uma sessão Spark do Data Flow com SparkContext e HiveContext em um cluster Spark remoto do Data Flow.\n",
    "* Capture a saída de consultas Spark como um DataFrame Pandas local para interagir facilmente com outras bibliotecas Python (por exemplo, matplotlib)."
   ]
  },
  {
   "cell_type": "markdown",
   "id": "00d1f166",
   "metadata": {},
   "source": [
    "<a id='dataflow_spark_magic_comands'></a>\n",
    "### 2.1. Carregando Comandos do Data Flow Spark Magic\n"
   ]
  },
  {
   "cell_type": "markdown",
   "id": "4a91bc2e",
   "metadata": {},
   "source": [
    "O Data Flow Spark Magic é uma extensão do JupyterLab que você precisa ativar em seu notebook usando o comando mágico ```%load_ext dataflow.magics.```\n",
    "Após a ativação da extensão, o comando ```%help``` pode ser usado para obter a lista de comandos suportados."
   ]
  },
  {
   "cell_type": "code",
   "execution_count": 4,
   "id": "149644a2",
   "metadata": {},
   "outputs": [],
   "source": [
    "%load_ext dataflow.magics"
   ]
  },
  {
   "cell_type": "markdown",
   "id": "8923af31",
   "metadata": {},
   "source": [
    "O comando ```%help``` fornece uma lista de todos os comandos disponíveis, juntamente com uma lista de seus argumentos e exemplos de chamadas."
   ]
  },
  {
   "cell_type": "code",
   "execution_count": 5,
   "id": "31bbb622",
   "metadata": {},
   "outputs": [
    {
     "data": {
      "text/html": [
       "\n",
       "<table>\n",
       "  <tr>\n",
       "    <th style=\"text-align:left\">Magic</th>\n",
       "    <th style=\"text-align:left\">Example</th>\n",
       "    <th style=\"text-align:left\">Explanation</th>\n",
       "  </tr>\n",
       "  <tr>\n",
       "    <td>create_session</td>\n",
       "    <td  style=\"text-align:left\">%create_session -l python -c '{\"compartmentId\":\"Data Flow Run resource compartment OCID\",\"displayName\":\"SessionApp\",\"sparkVersion\":\"3.2.1\",\"driverShape\":\"VM.Standard2.1\",\"executorShape\":\"VM.Standard2.1\",\"numExecutors\":1,\"archiveUri\":\"Object Storage URL for Data Flow zip archive.\",\"metastoreId\":\"optional metastore OCID\",\"configuration\":{      \"spark.archives\":\"oci://bucket@namespace/path/to/conda/pack\",      #optional property to use Dataflow 'Run' resource to access OCI resources.\n",
       "      \"dataflow.auth\":\"resource_principal\"   }}'</td>\n",
       "    <td style=\"text-align:left\">Creates new session by providing session details.<br/><br/><b>Example command for Flex shapes :</b><br/>\n",
       "    %create_session -l python -c '{\"compartmentId\":\"Data Flow Run resource compartment OCID\",\"displayName\":\"SessionApp\",\"sparkVersion\":\"3.2.1\",\"driverShape\":\"VM.Standard.E4.Flex\",\"executorShape\":\"VM.Standard.E4.Flex\",\"numExecutors\":1,\"driverShapeConfig\":{\"ocpus\":1,\"memoryInGBs\":16},\"executorShapeConfig\":{\"ocpus\":1,\"memoryInGBs\":16}}'\n",
       "    <br/><br/><b>Example command for Spark dynamic allocation :</b><br/>\n",
       "    %create_session -l python -c '{\"compartmentId\":\"Data Flow Run resource compartment OCID\",\"displayName\":\"SessionApp\",\"sparkVersion\":\"3.2.1\",\"driverShape\":\"VM.Standard2.1\",\"executorShape\":\"VM.Standard2.1\",\"numExecutors\":1,\"configuration\":{ \"spark.dynamicAllocation.enabled\":\"true\", \"spark.dynamicAllocation.shuffleTracking.enabled\":\"true\", \"spark.dynamicAllocation.minExecutors\":\"1\", \"spark.dynamicAllocation.maxExecutors\":\"4\", \"spark.dynamicAllocation.executorIdleTimeout\":\"60\", \"spark.dynamicAllocation.schedulerBacklogTimeout\":\"60\", \"spark.dataflow.dynamicAllocation.quotaPolicy\":\"min\" }}'\n",
       "    </td>\n",
       "  </tr>\n",
       "  <tr>\n",
       "    <td>use_session</td>\n",
       "    <td  style=\"text-align:left\">%use_session -s {sessionId}</td>\n",
       "    <td  style=\"text-align:left\">To use already existing active session.The force flag -f is mandatory to create a new session if no active session found.</td>\n",
       "  </tr>\n",
       "  <tr>\n",
       "    <td>status</td>\n",
       "    <td  style=\"text-align:left\">%status</td>\n",
       "    <td  style=\"text-align:left\">Outputs current session status.</td>\n",
       "  </tr>\n",
       "  <tr>\n",
       "    <td>update_session</td>\n",
       "    <td  style=\"text-align:left\">%update_session -i '{\"maxDurationInMinutes\": 4896,\"idleTimeoutInMinutes\": 4888}'</td>\n",
       "    <td  style=\"text-align:left\">Updates current active session[not session config] for max duration or idle time out.</td>\n",
       "  </tr>\n",
       "  <tr>\n",
       "    <td>stop_session</td>\n",
       "    <td  style=\"text-align:left\">%stop_session</td>\n",
       "    <td  style=\"text-align:left\">Stops current active session. One active session should be associated with current notebook to stop.</td>\n",
       "  </tr>\n",
       "  <tr>\n",
       "    <td>config</td>\n",
       "    <td  style=\"text-align:left\">%config</td>\n",
       "    <td  style=\"text-align:left\">Outputs current session configuration.</td>\n",
       "  </tr>\n",
       "  <tr>\n",
       "    <td>configure_session</td>\n",
       "    <td  style=\"text-align:left\">%configure_session -i '{\"driverShape\": \"VM.Standard2.1\", \"executorShape\": \"VM.Standard2.1\", \"numExecutors\": 1}'</td>\n",
       "    <td  style=\"text-align:left\">Configures the session creation parameters. The force flag -f is mandatory for immediate effect of the config change, in that case session will be dropped and recreated.</td>\n",
       "  </tr>\n",
       "  <tr>\n",
       "    <td>spark</td>\n",
       "    <td  style=\"text-align:left\">%%spark -o df<br/>df = spark.read.parquet('...</td>\n",
       "    <td  style=\"text-align:left\">Executes spark commands.<br/>\n",
       "    Parameters:\n",
       "      <ul>\n",
       "        <li>-o VAR_NAME: The Spark dataframe of name VAR_NAME will be available in the %%local Python context as a\n",
       "          <a href=\"http://pandas.pydata.org/\">Pandas</a> dataframe with the same name.</li>\n",
       "        <li>-m METHOD: Sample method, either <tt>take</tt> or <tt>sample</tt>.</li>\n",
       "        <li>-n MAXROWS: The maximum number of rows of a dataframe that will be pulled from Dataflow to Jupyter.\n",
       "            If this number is negative, then the number of rows will be unlimited.</li>\n",
       "        <li>-r FRACTION: Fraction used for sampling.</li>\n",
       "      </ul>\n",
       "    </td>\n",
       "  </tr>\n",
       "</table>\n"
      ],
      "text/plain": [
       "<IPython.core.display.HTML object>"
      ]
     },
     "metadata": {},
     "output_type": "display_data"
    }
   ],
   "source": [
    "%help"
   ]
  },
  {
   "cell_type": "markdown",
   "id": "0c234e7b",
   "metadata": {},
   "source": [
    "Para acessar as docstrings de qualquer comando mágico e descobrir quais argumentos fornecer, basta adicionar ```?``` no final do comando."
   ]
  },
  {
   "cell_type": "code",
   "execution_count": 6,
   "id": "64a3d03d",
   "metadata": {},
   "outputs": [
    {
     "data": {
      "text/plain": [
       "\u001b[0;31mDocstring:\u001b[0m\n",
       "::\n",
       "\n",
       "  %create_session [-l LANGUAGE] [-c CONFIG] [-e ENDPOINT]\n",
       "\n",
       "optional arguments:\n",
       "  -l LANGUAGE, --language LANGUAGE\n",
       "                        Language to use.\n",
       "  -c CONFIG, --config CONFIG\n",
       "                        Region to use.\n",
       "  -e ENDPOINT, --endpoint ENDPOINT\n",
       "                        Endpoint to use.\n",
       "\u001b[0;31mFile:\u001b[0m      ~/conda/pyspark32_p38_cpu_v3/lib/python3.8/site-packages/dataflow/dataflowclientlib/exceptions.py\n"
      ]
     },
     "metadata": {},
     "output_type": "display_data"
    }
   ],
   "source": [
    "?%create_session"
   ]
  },
  {
   "cell_type": "markdown",
   "id": "2a7f264f",
   "metadata": {},
   "source": [
    "<a id='create_session'></a>\n",
    "## 3. Criando uma Sessão"
   ]
  },
  {
   "cell_type": "markdown",
   "id": "9c2896a2",
   "metadata": {},
   "source": [
    "Para criar uma nova sessão de cluster do Data Flow, utilize o comando mágico ```%create_session```."
   ]
  },
  {
   "cell_type": "markdown",
   "id": "38f91637",
   "metadata": {},
   "source": [
    "\n",
    "No exemplo abaixo, a nova sessão de cluster do Data Flow é iniciada com a configuração básica nas formas flexíveis para o driver e os executores.\n",
    "A [VM.Standard.E4.Flex](https://docs.oracle.com/en-us/iaas/Content/Compute/References/computeshapes.htm) é usada tanto para as formas do driver quanto dos executores. Para cada um, definimos independentemente o número de OCPUs e a quantidade de memória primária."
   ]
  },
  {
   "cell_type": "code",
   "execution_count": 8,
   "id": "b2a3f74a",
   "metadata": {},
   "outputs": [
    {
     "name": "stdout",
     "output_type": "stream",
     "text": [
      "Setting up the Cluster..\n"
     ]
    },
    {
     "data": {
      "application/vnd.jupyter.widget-view+json": {
       "model_id": "13bc7720d85b4addafbbe8746ea5c0fd",
       "version_major": 2,
       "version_minor": 0
      },
      "text/plain": [
       "FloatProgress(value=0.0, bar_style='info', description='Progress:', layout=Layout(height='25px', width='50%'),…"
      ]
     },
     "metadata": {},
     "output_type": "display_data"
    },
    {
     "name": "stdout",
     "output_type": "stream",
     "text": [
      "Cluster is ready..\n",
      "Starting Spark application..\n"
     ]
    },
    {
     "data": {
      "text/html": [
       "<table>\n",
       "<tr><th>Session ID</th><th>Kind</th><th>State</th><th>Current session</th></tr><tr><td>ocid1.dataflowapplication.oc1.sa-saopaulo-1.antxeljrtsbrckqa37rysx65mmd3xdp4dstbxl6eckx5p2mgsg3lpbz3rncq</td><td>pyspark</td><td>IN_PROGRESS</td><td><a target=\"_blank\" href=\"https://console.us-phoenix-1.oraclecloud.com/data-flow/runs/details/ocid1.dataflowrun.oc1.sa-saopaulo-1.antxeljrtsbrckqarvegb5jlxutfp4qc2pheis5u4kbyl3owh6zrwiwy7igq?region=sa-saopaulo-1\">Dataflow Run</a></td></tr></table>"
      ],
      "text/plain": [
       "<IPython.core.display.HTML object>"
      ]
     },
     "metadata": {},
     "output_type": "display_data"
    },
    {
     "data": {
      "application/vnd.jupyter.widget-view+json": {
       "model_id": "",
       "version_major": 2,
       "version_minor": 0
      },
      "text/plain": [
       "FloatProgress(value=0.0, bar_style='info', description='Progress:', layout=Layout(height='25px', width='50%'),…"
      ]
     },
     "metadata": {},
     "output_type": "display_data"
    },
    {
     "name": "stdout",
     "output_type": "stream",
     "text": [
      "SparkSession available as 'spark'.\n",
      "SparkContext available as 'sc'.\n"
     ]
    }
   ],
   "source": [
    "%create_session -l python -c '{\\\n",
    "        \"compartmentId\": \"ocid1.compartment.oc1..aaaaaaaaoyy7kev7c7dzab3uacklnqjdjfookaqsqq4cekercgy5zifo3wja\",\\\n",
    "        \"displayName\": \"DataFlow Studio - Data Lakehouse Livelabs\",\\\n",
    "        \"language\": \"PYTHON\",\\\n",
    "        \"sparkVersion\": \"3.2.1\",\\\n",
    "        \"numExecutors\": 1,\\\n",
    "        \"driverShape\": \"VM.Standard.E4.Flex\",\\\n",
    "        \"executorShape\": \"VM.Standard.E4.Flex\",\\\n",
    "        \"driverShapeConfig\": {\"ocpus\": 1, \"memoryInGBs\": 16},\\\n",
    "        \"executorShapeConfig\": {\"ocpus\": 1, \"memoryInGBs\": 16},\\\n",
    "        \"logsBucketUri\": \"oci://bkt_demo_project_logs@id3kyspkytmr\",\\\n",
    "        \"configuration\":{\\\n",
    "          \"spark.archives\": \"oci://bkt_demo_project_logs@id3kyspkytmr/conda_environments/cpu/PySpark 3.2 and Data Flow/3.0/pyspark32_p38_cpu_v3#conda\"}}'"
   ]
  },
  {
   "cell_type": "markdown",
   "id": "ab5b0791",
   "metadata": {},
   "source": [
    "%configure_session -f -i\n",
    "'{\"configuration\": {\n",
    "\"spark.archives\": \"oci://bkt_demo_project_logs@id3kyspkytmr/conda_environments/cpu/PySpark 3.2 and Data Flow/3.0/pyspark32_p38_cpu_v3#conda\",\n",
    "\"spark.oracle.datasource.enabled\":\"true\"}}'"
   ]
  },
  {
   "cell_type": "markdown",
   "id": "694f6b34",
   "metadata": {},
   "source": [
    "<a id='use_session'></a>\n",
    "### 3.1 Utilizando sessão existente"
   ]
  },
  {
   "cell_type": "markdown",
   "id": "6c1bca36",
   "metadata": {},
   "source": [
    "Para se conectar à sessão existente, utilize o comando mágico `%use_session`. Esse comando permite que você reutilize uma sessão já criada e ativa para continuar trabalhando nela sem a necessidade de criar uma nova sessão."
   ]
  },
  {
   "cell_type": "code",
   "execution_count": null,
   "id": "50ae8fb2",
   "metadata": {},
   "outputs": [],
   "source": [
    "%use_session -s 'ocid1.datasciencenotebooksession.oc1.sa-saopaulo-1.amaaaaaatsbrckqa6sd5ao4olxfzddu2yuf4j3njroxkbneizp3omywlnklq' -f"
   ]
  },
  {
   "cell_type": "markdown",
   "id": "22449c84",
   "metadata": {},
   "source": [
    "Utilize o comando mágico `%status` para verificar o status da sessão atual."
   ]
  },
  {
   "cell_type": "code",
   "execution_count": null,
   "id": "c88328d9",
   "metadata": {},
   "outputs": [],
   "source": [
    "%status"
   ]
  },
  {
   "cell_type": "markdown",
   "id": "8ffade8f",
   "metadata": {},
   "source": [
    "Utilize o comando mágico `%config`  para visualizar a configuração da sessão atual. Este comando pode fornecer informações detalhadas sobre a configuração da sessão em uso."
   ]
  },
  {
   "cell_type": "code",
   "execution_count": null,
   "id": "3a0839d0",
   "metadata": {},
   "outputs": [],
   "source": [
    "%config"
   ]
  },
  {
   "cell_type": "markdown",
   "id": "b278f131",
   "metadata": {},
   "source": [
    "Para encerrar a sessão atual, utilize o comando mágico `%stop_session.`"
   ]
  },
  {
   "cell_type": "code",
   "execution_count": null,
   "id": "b970e715",
   "metadata": {},
   "outputs": [],
   "source": [
    "%stop_session"
   ]
  },
  {
   "cell_type": "markdown",
   "id": "5cd40bf5",
   "metadata": {},
   "source": [
    "<a id='basic_spark_comands'></a>\n",
    "## 4. Comandos Spark Básicos"
   ]
  },
  {
   "cell_type": "markdown",
   "id": "cbf77c36",
   "metadata": {},
   "source": [
    "A variável sc representa o contexto Spark e está disponível quando o comando mágico %%spark é usado no ambiente do Data Flow Spark Magic. A célula a seguir é um exemplo simples de como usar sc em uma célula do Data Flow Spark Magic. A célula chama o método parallelize, que cria um RDD (Resilient Distributed Dataset), chamado numbers, a partir de uma lista de números. Em seguida, informações sobre o RDD são impressas. O método toDebugString retorna uma descrição do RDD."
   ]
  },
  {
   "cell_type": "code",
   "execution_count": 9,
   "id": "0c7b7f21",
   "metadata": {},
   "outputs": [
    {
     "data": {
      "application/vnd.jupyter.widget-view+json": {
       "model_id": "",
       "version_major": 2,
       "version_minor": 0
      },
      "text/plain": [
       "FloatProgress(value=0.0, bar_style='info', description='Progress:', layout=Layout(height='25px', width='50%'),…"
      ]
     },
     "metadata": {},
     "output_type": "display_data"
    },
    {
     "name": "stdout",
     "output_type": "stream",
     "text": [
      "A versão do Spark em execução no cluster do Data Flow Studio é: 3.2.1"
     ]
    }
   ],
   "source": [
    "%%spark\n",
    "print(f'A versão do Spark em execução no cluster do Data Flow Studio é: {sc.version}')"
   ]
  },
  {
   "cell_type": "markdown",
   "id": "c3ca9a71",
   "metadata": {},
   "source": [
    "<a id='dataset_information'></a>\n",
    "\n",
    "## 5.Visão Geral do Conjunto de Dados"
   ]
  },
  {
   "cell_type": "markdown",
   "id": "3d1fa404",
   "metadata": {},
   "source": [
    "---\n",
    "<span style=\"color:blue\">**Importação/exportação do Brasil desde 1996 a 2023**</span>\n",
    "\n",
    "---\n",
    "O conjunto de dados a seguir é gerado pelo Governo Federal Brasileiro em língua portuguesa e apresenta detalhadamente todos os dados utilizados para construir a balança comercial brasileira, bem como a fonte de dados do sistema Comex Stat, detalhada por NCM ou por Municípios do exportador/importador (e SH4). Os dados estão disponíveis em CSV com os nomes das colunas na primeira linha.\n",
    "\n",
    "Esta base de dados é detalhada pela NCM e é um arquivo CSV com separador ponto e vírgula (;) detalhado por ano, mês, código NCM, código da unidade estatística, código do país de destino/origem do produto, código de UF do produto origem/destino, código da rota de transporte, código URF de carga/descarga, quantidade estatística, quilograma líquido, valor em dólar FOB (US$).\n",
    "\n",
    "---"
   ]
  },
  {
   "cell_type": "markdown",
   "id": "a8a4751f",
   "metadata": {},
   "source": [
    "<a id='dataset_dictionary'></a>\n",
    "\n",
    "### 5.2 Dicionário de Dados"
   ]
  },
  {
   "cell_type": "markdown",
   "id": "b85ee7a2",
   "metadata": {},
   "source": [
    "| <span style=\"color:red\">**Campo**</span>| <span style=\"color:red\">**Descrição**</span>|\n",
    "|-------------------------------------------|-----------|\n",
    "| **CO_ANO**               | Ano (1997 a 2021) |\n",
    "| **CO_MES**               | códigos de mês (1:janeiro 12:dezembro) |\n",
    "| **CO_NCM**               | Código da Nomenclatura Comum do Mercosul - Utilizado para controlar e identificar mercadorias comercializadas no Brasil e demais países do Mercosul (cada NCM representa um produto diferente) |\n",
    "| **Países do Mercosul**   | O Mercado Comum do Sul, comumente conhecido pela abreviatura espanhola Mercosul e portuguesa Mercosul, é um bloco comercial sul-americano estabelecido pelo Tratado de Assunção em 1991 e pelo Protocolo de Ouro Preto em 1994. Seus membros plenos são Argentina, Brasil, Paraguai e Uruguai. Fonte: Wikipédia |\n",
    "| **CO_UNID**              | Código da Unidade de Medida Estatística que é uma unidade de medida padrão para cada NCM, podendo ter valores como quilograma, metro, litro, pares, tonelada, entre outros. |\n",
    "| **CO_PAIS**              | Código do nome do país com o qual foi realizada a operação comercial (importação ou exportação) |\n",
    "| **SG_UF _NCM**           | Código da Unidade Federativa (estado) de origem (exportação) ou destino (importação) da mercadoria. |\n",
    "| **CO_VIA**               | Código para identificar o meio de transporte utilizado (aéreo, marítimo, rodoviário, ferroviário e outros). Na exportação, é o meio utilizado para transportar a mercadoria entre o último local de embarque para o exterior. Na importação, configura-se através do meio de acesso da mercadoria no primeiro ponto de entrada no território nacional. |\n",
    "| **CO_URF**               | Código do órgão responsável pela execução dos trâmites necessários ao desembaraço aduaneiro de mercadorias importadas/exportadas |\n",
    "| **QT_ESTAT**             | Na discriminação por NCM, cada produto possui sua unidade estatística. A maioria dos produtos tem o peso em quilogramas como unidade estatística, mas existem outras: quilograma líquido, número (unidades), pares, dezenas, mil e tonelada. A tabela completa que relaciona cada NCM à sua unidade estatística pode ser encontrada na tabela “NCM_UNIDADE”. É importante ressaltar que não devem ser somadas quantidades estatísticas de NCM que contenham unidades estatísticas diferentes. [dois] |\n",
    "| **KG_NET**               | Medida que expressa o peso líquido da mercadoria. Mesmo produtos com quantidades estatísticas diferentes de quilogramas também possuem disponível a medida em quilogramas, referente ao peso líquido da mercadoria, ou seja, mercadoria desconsiderando embalagens, caixas ou qualquer outro transporte adicional. Vale lembrar que essas informações, assim como outras informações prestadas nas operações de comércio exterior, são de livre preenchimento e de responsabilidade exclusiva dos operadores de comércio exterior. [dois] |\n",
    "| **VL_FOB**               | O valor FOB indica o preço da mercadoria em dólares americanos (USD $) no Incoterm FOB (Free on Board), modalidade em que o vendedor é responsável pelo envio da mercadoria enquanto o comprador paga frete, seguro e outros custos. custos pós-embarque. [dois] |\n"
   ]
  },
  {
   "cell_type": "markdown",
   "id": "48bbc48b",
   "metadata": {},
   "source": [
    "### Análises sobre as relações comerciais entre Brasil e Mercosul:\n",
    "\n",
    "1. **Principais produtos (NCM) exportados pelo Brasil para os países do Mercosul**:\n",
    "    - **Passos**:\n",
    "        - Agrupar os dados por `CO_NCM`, filtrando pelas operações de exportação e pelos países do Mercosul (CO_PAIS correspondente).\n",
    "        - Somar o `VL_FOB` para cada NCM.\n",
    "        - Ordenar em ordem decrescente.\n",
    "\n",
    "2. **Estado brasileiro que mais importou mercadorias do Mercosul no último ano**:\n",
    "    - **Passos**:\n",
    "        - Filtrar os dados pelo ano mais recente e pelas operações de importação dos países do Mercosul.\n",
    "        - Agrupar por `SG_UF_NCM` e somar o `VL_FOB`.\n",
    "        - Ordenar os estados em ordem decrescente pelo valor total de importação.\n",
    "\n",
    "3. **Principal via de transporte utilizada para as importações brasileiras do Mercosul no ano de 2023**:\n",
    "    - **Passos**:\n",
    "        - Filtrar os dados pelo ano 2020 e pelas operações de importação dos países do Mercosul.\n",
    "        - Agrupar por `CO_VIA` e contar o número de operações ou somar o `VL_FOB` para cada meio de transporte.\n",
    "        - Ordenar em ordem decrescente.\n",
    "\n",
    "4. **Principais produtos importados pelo Brasil do Mercosul que são medidos em toneladas**:\n",
    "    - **Passos**:\n",
    "        - Filtrar os dados pelas operações de importação e pelos produtos com unidade estatística de tonelada (`QT_ESTAT`).\n",
    "        - Agrupar por `CO_NCM` e somar o `VL_FOB`.\n",
    "        - Ordenar os produtos em ordem decrescente pelo valor total de importação.\n",
    "\n",
    "5. **Total pago pelo Brasil em importações do Mercosul no último trimestre de 2021, excluindo os custos pós-embarque**:\n",
    "    - **Passos**:\n",
    "        - Filtrar os dados pelo ano 2021 e pelos meses de outubro a dezembro.\n",
    "        - Somar o `VL_FOB` para todas as operações de importação dos países do Mercosul.\n",
    "\n",
    "6. **Correlação entre o peso líquido (KG_NET) e o valor FOB (VL_FOB) das importações do Mercosul**:\n",
    "    - **Passos**:\n",
    "        - Usar uma análise de correlação estatística entre as variáveis `KG_NET` e `VL_FOB` para todas as importações dos países do Mercosul.\n",
    "\n",
    "7. **Órgão (CO_URF) com maior atividade de desembaraço aduaneiro em 2023**:\n",
    "    - **Passos**:\n",
    "        - Filtrar os dados pelo ano 2023.\n",
    "        - Agrupar por `CO_URF` e contar o número de operações de desembaraço ou somar o `VL_FOB` para cada órgão.\n",
    "        - Ordenar em ordem decrescente.\n",
    "\n",
    "8. **Variação do peso líquido médio (KG_NET) das exportações para os países do Mercosul ao longo dos anos**:\n",
    "    - **Passos**:\n",
    "        - Agrupar os dados por ano (`CO_ANO`) e calcular a média de `KG_NET` para cada ano.\n",
    "        - Plotar um gráfico de linhas para visualizar a tendência ao longo dos anos.\n"
   ]
  },
  {
   "cell_type": "markdown",
   "id": "b890c3d7",
   "metadata": {},
   "source": [
    "<a id='import_json'></a>\n",
    "## 6. Importando arquivos JSON - <span style=\"color:#CD7F32\">**Camada Bronze**</span>"
   ]
  },
  {
   "cell_type": "markdown",
   "id": "bf5fd3c6",
   "metadata": {},
   "source": [
    "---\n",
    "<span style=\"color:blue\">**Buscando arquivos em Bucket OCI**</span>\n",
    "\n",
    "---\n",
    "\n",
    "Na estrutura **oci://bucket_livelabs_bronze@id3kyspkytmr/FDA_enforcement.json**, podemos identificar os seguintes componentes:\n",
    "\n",
    "**Nome do Bucket: bucket_livelabs_bronze**\n",
    "\n",
    "Isso representa o nome do bucket de armazenamento. Em sistemas de armazenamento em nuvem, um bucket é um contêiner de nível superior usado para organizar e armazenar dados, como arquivos.\n",
    "\n",
    "**Namespace: id3kyspkytmr**\n",
    "\n",
    "O namespace é uma unidade de organização dentro de um sistema de armazenamento em nuvem. Ele atua como um espaço de nomenclatura único para evitar conflitos de nomes de objetos e fornecer uma maneira de acessar recursos dentro do ambiente de armazenamento.\n",
    "\n",
    "**Nome do Arquivo: BRASIL_EXPORTACAO_LIVELABS.csv**\n",
    "\n",
    "Este é o nome do arquivo específico localizado dentro do bucket bkt_demo_project_bronze. No contexto desse código, é o arquivo JSON que está sendo lido e processado pelo Spark.\n",
    "\n",
    "---\n"
   ]
  },
  {
   "cell_type": "markdown",
   "id": "360442eb",
   "metadata": {},
   "source": [
    "<a id='read_json'></a>\n",
    "### 6.2 Configuração de Leitura de Arquivos CSV no Spark - Bucket OCI"
   ]
  },
  {
   "cell_type": "markdown",
   "id": "14e243d5",
   "metadata": {},
   "source": [
    "Neste passo, estamos definindo a variável `json_file_path` para armazenar o caminho do arquivo JSON que queremos importar. Estamos buscando esse arquivo de um bucket chamado `oci://bkt_demo_project_bronze@id3kyspkytmr`.\n",
    "Em seguida, estamos usando o Spark para ler o arquivo JSON e CSV. O Spark é um framework de processamento de big data. Estamos configurando algumas opções para o processo de leitura:\n",
    "\n",
    "- `multiline` está definido como **true**, o que significa que estamos permitindo que o JSON tenha várias linhas para representar um objeto. Isso é útil quando os objetos JSON estão formatados em várias linhas."
   ]
  },
  {
   "cell_type": "code",
   "execution_count": 10,
   "id": "ab9ffaf8",
   "metadata": {},
   "outputs": [
    {
     "data": {
      "application/vnd.jupyter.widget-view+json": {
       "model_id": "",
       "version_major": 2,
       "version_minor": 0
      },
      "text/plain": [
       "FloatProgress(value=0.0, bar_style='info', description='Progress:', layout=Layout(height='25px', width='50%'),…"
      ]
     },
     "metadata": {},
     "output_type": "display_data"
    },
    {
     "name": "stdout",
     "output_type": "stream",
     "text": [
      "+------+------+--------+-------+-------+---------+------+-------+--------+----------+------+\n",
      "|CO_ANO|CO_MES|  CO_NCM|CO_UNID|CO_PAIS|SG_UF_NCM|CO_VIA| CO_URF|QT_ESTAT|KG_LIQUIDO|VL_FOB|\n",
      "+------+------+--------+-------+-------+---------+------+-------+--------+----------+------+\n",
      "|  2023|     3| 4029900|     10|     63|       RJ|     1| 717600|      11|        11|    59|\n",
      "|  2023|     8|39199020|     10|    160|       SP|     4| 817600|       1|         1|    51|\n",
      "|  2023|     4|90183929|     11|     40|       PR|     4| 817600|      25|         4|   578|\n",
      "|  2023|     7|87089100|     11|    239|       PR|     4| 817600|       1|       114|   800|\n",
      "|  2023|     3|84671900|     11|     87|       SP|     4| 817600|       4|         4|   593|\n",
      "|  2023|     1| 2064900|     10|    351|       SC|     1| 927700|   26802|     26802| 39755|\n",
      "|  2023|     6|84796000|     11|    845|       RS|     7|1017701|      56|       971|  8016|\n",
      "|  2023|     5|84799090|     10|    589|       RS|     4| 817700|     169|       169|  7727|\n",
      "|  2023|     7| 7051100|     10|    476|       SC|     1| 927502|      25|        25|    40|\n",
      "|  2023|     1|17049020|     10|    196|       SP|     4| 817700|       5|         5|     2|\n",
      "|  2023|     8|28401900|     10|    337|       SP|     1|1017700|     750|       750|  2298|\n",
      "|  2023|     5|94033000|     11|     97|       PR|     7| 147600|    1604|     54963| 99326|\n",
      "|  2023|     3|84818092|     11|    764|       PR|     4| 917900|       1|         1|   151|\n",
      "|  2023|     1| 9021000|     10|     77|       BA|     1| 517800|       0|         0|    11|\n",
      "|  2023|     8|90292010|     11|    361|       SP|     1| 817800|       6|         9|  1096|\n",
      "|  2023|     1|35069190|     10|    586|       PR|     7| 147800|     217|       217|  1377|\n",
      "|  2023|     3| 8071900|     10|    573|       RN|     1| 317900|  785682|    785682|475946|\n",
      "|  2023|     8|22011000|     17|    275|       RJ|     4| 717700|     476|       461|  1248|\n",
      "|  2023|     8|96033000|     11|    586|       SP|     7| 917500|     152|        34|   404|\n",
      "|  2023|     5|73211100|     11|    589|       SP|     1| 817800|    1018|     39577|167324|\n",
      "+------+------+--------+-------+-------+---------+------+-------+--------+----------+------+\n",
      "only showing top 20 rows"
     ]
    }
   ],
   "source": [
    "%%spark\n",
    "csv_file_path = \"oci://bucket_livelabs_bronze@id3kyspkytmr/EXPORTACAO_BRASIL_LIVELABS.csv\"\n",
    "df_csv = spark.read.csv(csv_file_path, header=True, inferSchema=True)\n",
    "df_csv.show()"
   ]
  },
  {
   "cell_type": "code",
   "execution_count": 11,
   "id": "074bc65a",
   "metadata": {},
   "outputs": [
    {
     "data": {
      "application/vnd.jupyter.widget-view+json": {
       "model_id": "",
       "version_major": 2,
       "version_minor": 0
      },
      "text/plain": [
       "FloatProgress(value=0.0, bar_style='info', description='Progress:', layout=Layout(height='25px', width='50%'),…"
      ]
     },
     "metadata": {},
     "output_type": "display_data"
    },
    {
     "name": "stdout",
     "output_type": "stream",
     "text": [
      "root\n",
      " |-- CO_ANO: integer (nullable = true)\n",
      " |-- CO_MES: integer (nullable = true)\n",
      " |-- CO_NCM: integer (nullable = true)\n",
      " |-- CO_UNID: integer (nullable = true)\n",
      " |-- CO_PAIS: integer (nullable = true)\n",
      " |-- SG_UF_NCM: string (nullable = true)\n",
      " |-- CO_VIA: integer (nullable = true)\n",
      " |-- CO_URF: integer (nullable = true)\n",
      " |-- QT_ESTAT: long (nullable = true)\n",
      " |-- KG_LIQUIDO: long (nullable = true)\n",
      " |-- VL_FOB: integer (nullable = true)"
     ]
    }
   ],
   "source": [
    "%%spark\n",
    "df_csv.printSchema()"
   ]
  },
  {
   "cell_type": "code",
   "execution_count": 19,
   "id": "56868e16",
   "metadata": {},
   "outputs": [
    {
     "data": {
      "application/vnd.jupyter.widget-view+json": {
       "model_id": "",
       "version_major": 2,
       "version_minor": 0
      },
      "text/plain": [
       "FloatProgress(value=0.0, bar_style='info', description='Progress:', layout=Layout(height='25px', width='50%'),…"
      ]
     },
     "metadata": {},
     "output_type": "display_data"
    },
    {
     "name": "stdout",
     "output_type": "stream",
     "text": [
      "+--------------------+\n",
      "|                data|\n",
      "+--------------------+\n",
      "|[{0, ZZZ, 898, Nã...|\n",
      "+--------------------+"
     ]
    }
   ],
   "source": [
    "%%spark\n",
    "json_file_path = \"oci://bucket_livelabs_bronze@id3kyspkytmr/CODIGO_PAISES_LIVELABS.json\"\n",
    "df_json = spark.read.option(\"multiline\",\"true\").json(json_file_path)\n",
    "df_json.show()"
   ]
  },
  {
   "cell_type": "code",
   "execution_count": 20,
   "id": "345f55f3",
   "metadata": {},
   "outputs": [
    {
     "data": {
      "application/vnd.jupyter.widget-view+json": {
       "model_id": "",
       "version_major": 2,
       "version_minor": 0
      },
      "text/plain": [
       "FloatProgress(value=0.0, bar_style='info', description='Progress:', layout=Layout(height='25px', width='50%'),…"
      ]
     },
     "metadata": {},
     "output_type": "display_data"
    },
    {
     "name": "stdout",
     "output_type": "stream",
     "text": [
      "root\n",
      " |-- data: array (nullable = true)\n",
      " |    |-- element: struct (containsNull = true)\n",
      " |    |    |-- CO_PAIS: string (nullable = true)\n",
      " |    |    |-- CO_PAIS_ISOA3: string (nullable = true)\n",
      " |    |    |-- CO_PAIS_ISON3: string (nullable = true)\n",
      " |    |    |-- NO_PAIS: string (nullable = true)\n",
      " |    |    |-- NO_PAIS_ESP: string (nullable = true)\n",
      " |    |    |-- NO_PAIS_ING: string (nullable = true)"
     ]
    }
   ],
   "source": [
    "%%spark\n",
    "df_json.printSchema()"
   ]
  },
  {
   "cell_type": "markdown",
   "id": "a12df174",
   "metadata": {},
   "source": [
    "### 6.3 Salvando um DataFrame como um Arquivo Delta na Oracle Cloud Infrastructure (OCI) - Bronze"
   ]
  },
  {
   "cell_type": "markdown",
   "id": "337dce4a",
   "metadata": {},
   "source": [
    "Este código está salvando o DataFrame `df_json` como um arquivo Delta na Oracle Cloud Infrastructure (OCI) no local especificado. Isso permite que você mantenha seus dados de forma confiável e transac### 5.2 Salvando um DataFrame como um Arquivo Delta na Oracle Cloud Infrastructure (OCI)### 5.2 Salvando um DataFrame como um Arquivo Delta na Oracle Cloud Infrastructure (OCI)ional na OCI para análise e processamento posterior."
   ]
  },
  {
   "cell_type": "code",
   "execution_count": null,
   "id": "c76a37b1",
   "metadata": {},
   "outputs": [],
   "source": [
    "%%spark\n",
    "from delta import *\n",
    "\n",
    "df_csv.write.format(\"delta\").save(\"oci://bucket_livelabs_bronze@id3kyspkytmr/delta/csv_data\")\n",
    "df_json.write.format(\"delta\").save(\"oci://bucket_livelabs_bronze@id3kyspkytmr/delta/json_data\")"
   ]
  },
  {
   "cell_type": "markdown",
   "id": "df776f9b",
   "metadata": {},
   "source": [
    "## 7. Exploração e Tratamento - Silver"
   ]
  },
  {
   "cell_type": "code",
   "execution_count": 17,
   "id": "31c608f5",
   "metadata": {},
   "outputs": [
    {
     "data": {
      "application/vnd.jupyter.widget-view+json": {
       "model_id": "",
       "version_major": 2,
       "version_minor": 0
      },
      "text/plain": [
       "FloatProgress(value=0.0, bar_style='info', description='Progress:', layout=Layout(height='25px', width='50%'),…"
      ]
     },
     "metadata": {},
     "output_type": "display_data"
    }
   ],
   "source": [
    "%%spark\n",
    "df_csv_parquet_bronze = spark.read.parquet(\"oci://bucket_livelabs_bronze@id3kyspkytmr/delta/csv_data/*.parquet\", header=True, inferSchema=True)\n",
    "df_json_parquet_bronze = spark.read.parquet(\"oci://bucket_livelabs_bronze@id3kyspkytmr/delta/json_data/*.parquet\", header=True, inferSchema=True)"
   ]
  },
  {
   "cell_type": "code",
   "execution_count": 24,
   "id": "bb2224ff",
   "metadata": {},
   "outputs": [
    {
     "data": {
      "application/vnd.jupyter.widget-view+json": {
       "model_id": "",
       "version_major": 2,
       "version_minor": 0
      },
      "text/plain": [
       "FloatProgress(value=0.0, bar_style='info', description='Progress:', layout=Layout(height='25px', width='50%'),…"
      ]
     },
     "metadata": {},
     "output_type": "display_data"
    },
    {
     "name": "stdout",
     "output_type": "stream",
     "text": [
      "root\n",
      " |-- data_CO_PAIS: string (nullable = true)\n",
      " |-- data_CO_PAIS_ISOA3: string (nullable = true)\n",
      " |-- data_CO_PAIS_ISON3: string (nullable = true)\n",
      " |-- data_NO_PAIS: string (nullable = true)\n",
      " |-- data_NO_PAIS_ESP: string (nullable = true)\n",
      " |-- data_NO_PAIS_ING: string (nullable = true)"
     ]
    }
   ],
   "source": [
    "%%spark\n",
    "df_json_flatten = flatten_array_struct_df(df_json_parquet_bronze)\n",
    "df_json_flatten.printSchema()"
   ]
  },
  {
   "cell_type": "markdown",
   "id": "6087503d",
   "metadata": {},
   "source": [
    "### 7.1 Função flatten para dataset JSON"
   ]
  },
  {
   "cell_type": "markdown",
   "id": "59a11fe1",
   "metadata": {},
   "source": [
    "Abaixo temos uma função Python que tem o objetivo de \"achatar\" (flatten) o DataFrame chamado `df_selected` que contém dados aninhados em uma coluna chamada `results` e `meta`, especificamente colunas de tipo \"array\" e \"struct\". A operação de achatar expande os elementos dessa coluna aninhada em linhas independentes, mantendo a coluna `meta` original, e o resultado é armazenado no DataFrame `df_flatten`."
   ]
  },
  {
   "cell_type": "code",
   "execution_count": 22,
   "id": "0e038760",
   "metadata": {},
   "outputs": [
    {
     "data": {
      "application/vnd.jupyter.widget-view+json": {
       "model_id": "",
       "version_major": 2,
       "version_minor": 0
      },
      "text/plain": [
       "FloatProgress(value=0.0, bar_style='info', description='Progress:', layout=Layout(height='25px', width='50%'),…"
      ]
     },
     "metadata": {},
     "output_type": "display_data"
    }
   ],
   "source": [
    "%%spark\n",
    "import pyspark.sql.functions as F\n",
    "\n",
    "def flatten_structs(nested_df):\n",
    "    stack = [((), nested_df)]\n",
    "    columns = []\n",
    "    \n",
    "    while len(stack) > 0:\n",
    "        parents, df = stack.pop()\n",
    "        array_cols = [\n",
    "            c[0]\n",
    "            for c in df.dtypes\n",
    "            if c[1][:5] == \"array\"\n",
    "        ]\n",
    "        flat_cols = [\n",
    "            F.col(\".\".join(parents + (c[0],))).alias(\"_\".join(parents + (c[0],)))\n",
    "            for c in df.dtypes\n",
    "            if c[1][:6] != \"struct\"\n",
    "        ]\n",
    "        nested_cols = [\n",
    "            c[0]\n",
    "            for c in df.dtypes\n",
    "            if c[1][:6] == \"struct\"\n",
    "        ]\n",
    "        columns.extend(flat_cols)\n",
    "        for nested_col in nested_cols:\n",
    "            projected_df = df.select(nested_col + \".*\")\n",
    "            stack.append((parents + (nested_col,), projected_df))\n",
    "    return nested_df.select(columns)\n",
    "\n",
    "def flatten_array_struct_df(df):\n",
    "    array_cols = [\n",
    "            c[0]\n",
    "            for c in df.dtypes\n",
    "            if c[1][:5] == \"array\"\n",
    "        ]\n",
    "    while len(array_cols) > 0:\n",
    "        for array_col in array_cols:\n",
    "            cols_to_select = [x for x in df.columns if x != array_col ]\n",
    "            df = df.withColumn(array_col, F.explode_outer(F.col(array_col)))\n",
    "        df = flatten_structs(df)\n",
    "        array_cols = [\n",
    "            c[0]\n",
    "            for c in df.dtypes\n",
    "            if c[1][:5] == \"array\"\n",
    "        ]\n",
    "    return df"
   ]
  },
  {
   "cell_type": "markdown",
   "id": "71440bc8",
   "metadata": {},
   "source": [
    "O código está realizando uma operação de transformação de dados no DataFrame chamado `df_json`, achatando sua estrutura e, em seguida, imprimindo o esquema do novo DataFrame resultante `df_flatten`. O detalhe específico da transformação depende da implementação da função `flatten_array_struct_df()`"
   ]
  },
  {
   "cell_type": "markdown",
   "id": "a7f3e7c9",
   "metadata": {},
   "source": [
    "### 7.2 Join JSON e CSV"
   ]
  },
  {
   "cell_type": "code",
   "execution_count": 25,
   "id": "02583a53",
   "metadata": {},
   "outputs": [
    {
     "data": {
      "application/vnd.jupyter.widget-view+json": {
       "model_id": "",
       "version_major": 2,
       "version_minor": 0
      },
      "text/plain": [
       "FloatProgress(value=0.0, bar_style='info', description='Progress:', layout=Layout(height='25px', width='50%'),…"
      ]
     },
     "metadata": {},
     "output_type": "display_data"
    },
    {
     "name": "stdout",
     "output_type": "stream",
     "text": [
      "+--------------------+------+------+--------+-------+-------+---------+------+-------+--------+----------+------+\n",
      "|        data_NO_PAIS|CO_ANO|CO_MES|  CO_NCM|CO_UNID|CO_PAIS|SG_UF_NCM|CO_VIA| CO_URF|QT_ESTAT|KG_LIQUIDO|VL_FOB|\n",
      "+--------------------+------+------+--------+-------+-------+---------+------+-------+--------+----------+------+\n",
      "|           Argentina|  2023|     3| 4029900|     10|     63|       RJ|     1| 717600|      11|        11|    59|\n",
      "|               China|  2023|     8|39199020|     10|    160|       SP|     4| 817600|       1|         1|    51|\n",
      "|              Angola|  2023|     4|90183929|     11|     40|       PR|     4| 817600|      25|         4|   578|\n",
      "|             Equador|  2023|     7|87089100|     11|    239|       PR|     4| 817600|       1|       114|   800|\n",
      "|             Bélgica|  2023|     3|84671900|     11|     87|       SP|     4| 817600|       4|         4|   593|\n",
      "|           Hong Kong|  2023|     1| 2064900|     10|    351|       SC|     1| 927700|   26802|     26802| 39755|\n",
      "|             Uruguai|  2023|     6|84796000|     11|    845|       RS|     7|1017701|      56|       971|  8016|\n",
      "|                Peru|  2023|     5|84799090|     10|    589|       RS|     4| 817700|     169|       169|  7727|\n",
      "|            Marshall|  2023|     7| 7051100|     10|    476|       SC|     1| 927502|      25|        25|    40|\n",
      "|          Costa Rica|  2023|     1|17049020|     10|    196|       SP|     4| 817700|       5|         5|     2|\n",
      "|              Guiana|  2023|     8|28401900|     10|    337|       SP|     1|1017700|     750|       750|  2298|\n",
      "|             Bolívia|  2023|     5|94033000|     11|     97|       PR|     7| 147600|    1604|     54963| 99326|\n",
      "|              Suécia|  2023|     3|84818092|     11|    764|       PR|     4| 917900|       1|         1|   151|\n",
      "|             Bahamas|  2023|     1| 9021000|     10|     77|       BA|     1| 517800|       0|         0|    11|\n",
      "|               Índia|  2023|     8|90292010|     11|    361|       SP|     1| 817800|       6|         9|  1096|\n",
      "|            Paraguai|  2023|     1|35069190|     10|    586|       PR|     7| 147800|     217|       217|  1377|\n",
      "|Países Baixos (Ho...|  2023|     3| 8071900|     10|    573|       RN|     1| 317900|  785682|    785682|475946|\n",
      "|              França|  2023|     8|22011000|     17|    275|       RJ|     4| 717700|     476|       461|  1248|\n",
      "|            Paraguai|  2023|     8|96033000|     11|    586|       SP|     7| 917500|     152|        34|   404|\n",
      "|                Peru|  2023|     5|73211100|     11|    589|       SP|     1| 817800|    1018|     39577|167324|\n",
      "+--------------------+------+------+--------+-------+-------+---------+------+-------+--------+----------+------+\n",
      "only showing top 20 rows"
     ]
    }
   ],
   "source": [
    "%%spark\n",
    "\n",
    "join_condition = df_json_flatten[\"data_CO_PAIS\"] == df_csv[\"CO_PAIS\"]\n",
    "\n",
    "df = df_json_flatten.join(df_csv, join_condition, 'inner').select(df_json_flatten[\"data_NO_PAIS\"], *df_csv.columns)\n",
    "\n",
    "df.show()"
   ]
  },
  {
   "cell_type": "code",
   "execution_count": 26,
   "id": "72c52dfc",
   "metadata": {},
   "outputs": [
    {
     "data": {
      "application/vnd.jupyter.widget-view+json": {
       "model_id": "",
       "version_major": 2,
       "version_minor": 0
      },
      "text/plain": [
       "FloatProgress(value=0.0, bar_style='info', description='Progress:', layout=Layout(height='25px', width='50%'),…"
      ]
     },
     "metadata": {},
     "output_type": "display_data"
    },
    {
     "name": "stdout",
     "output_type": "stream",
     "text": [
      "root\n",
      " |-- data_NO_PAIS: string (nullable = true)\n",
      " |-- CO_ANO: integer (nullable = true)\n",
      " |-- CO_MES: integer (nullable = true)\n",
      " |-- CO_NCM: integer (nullable = true)\n",
      " |-- CO_UNID: integer (nullable = true)\n",
      " |-- CO_PAIS: integer (nullable = true)\n",
      " |-- SG_UF_NCM: string (nullable = true)\n",
      " |-- CO_VIA: integer (nullable = true)\n",
      " |-- CO_URF: integer (nullable = true)\n",
      " |-- QT_ESTAT: long (nullable = true)\n",
      " |-- KG_LIQUIDO: long (nullable = true)\n",
      " |-- VL_FOB: integer (nullable = true)"
     ]
    }
   ],
   "source": [
    "%%spark\n",
    "df.printSchema()"
   ]
  },
  {
   "cell_type": "markdown",
   "id": "af1742b0",
   "metadata": {},
   "source": [
    "### 7.3 Eliminando duplicatas"
   ]
  },
  {
   "cell_type": "markdown",
   "id": "4bb89cf3",
   "metadata": {},
   "source": [
    "Neste código, estamos realizando uma contagem do número de linhas e colunas no DataFrame `df_selected`, em seguida, removendo as linhas duplicadas do DataFrame `df_selected` e, em seguida, contando o número de linhas no novo DataFrame `df` após a remoção das duplicatas. "
   ]
  },
  {
   "cell_type": "code",
   "execution_count": 27,
   "id": "da275a71",
   "metadata": {},
   "outputs": [
    {
     "data": {
      "application/vnd.jupyter.widget-view+json": {
       "model_id": "",
       "version_major": 2,
       "version_minor": 0
      },
      "text/plain": [
       "FloatProgress(value=0.0, bar_style='info', description='Progress:', layout=Layout(height='25px', width='50%'),…"
      ]
     },
     "metadata": {},
     "output_type": "display_data"
    },
    {
     "name": "stdout",
     "output_type": "stream",
     "text": [
      "Número de linhas: 1042360\n",
      "Número de colunas: 12"
     ]
    }
   ],
   "source": [
    "%%spark\n",
    "# Contagem de colunas\n",
    "numero_de_linhas = df.count()\n",
    "\n",
    "# Para contar o número de colunas em 'df'\n",
    "numero_de_colunas = len(df.columns)\n",
    "\n",
    "# Exibir o número de linhas e colunas\n",
    "print(f\"Número de linhas: {numero_de_linhas}\")\n",
    "print(f\"Número de colunas: {numero_de_colunas}\")"
   ]
  },
  {
   "cell_type": "code",
   "execution_count": null,
   "id": "ea16ee6f",
   "metadata": {},
   "outputs": [],
   "source": [
    "%%spark\n",
    "df = df.dropDuplicates()\n",
    "numero_de_linhas = df.count()\n",
    "print(f\"Número de linhas: {numero_de_linhas}\")"
   ]
  },
  {
   "cell_type": "markdown",
   "id": "52a00e95",
   "metadata": {},
   "source": [
    "### 7.4 Padronização de colunas do DataFrame"
   ]
  },
  {
   "cell_type": "markdown",
   "id": "3d7d7886",
   "metadata": {},
   "source": [
    "Neste código em PySpark, estamos renomeando as colunas do DataFrame `df`, removendo o prefixo `results_`"
   ]
  },
  {
   "cell_type": "code",
   "execution_count": 28,
   "id": "4d1455a4",
   "metadata": {},
   "outputs": [
    {
     "data": {
      "application/vnd.jupyter.widget-view+json": {
       "model_id": "",
       "version_major": 2,
       "version_minor": 0
      },
      "text/plain": [
       "FloatProgress(value=0.0, bar_style='info', description='Progress:', layout=Layout(height='25px', width='50%'),…"
      ]
     },
     "metadata": {},
     "output_type": "display_data"
    },
    {
     "name": "stdout",
     "output_type": "stream",
     "text": [
      "root\n",
      " |-- NO_PAIS: string (nullable = true)\n",
      " |-- CO_ANO: integer (nullable = true)\n",
      " |-- CO_MES: integer (nullable = true)\n",
      " |-- CO_NCM: integer (nullable = true)\n",
      " |-- CO_UNID: integer (nullable = true)\n",
      " |-- CO_PAIS: integer (nullable = true)\n",
      " |-- SG_UF_NCM: string (nullable = true)\n",
      " |-- CO_VIA: integer (nullable = true)\n",
      " |-- CO_URF: integer (nullable = true)\n",
      " |-- QT_ESTAT: long (nullable = true)\n",
      " |-- KG_LIQUIDO: long (nullable = true)\n",
      " |-- VL_FOB: integer (nullable = true)"
     ]
    }
   ],
   "source": [
    "%%spark\n",
    "\n",
    "colunas = df.columns\n",
    "\n",
    "for coluna in colunas:\n",
    "    novo_nome = coluna.replace(\"data_\", \"\")\n",
    "    df = df.withColumnRenamed(coluna, novo_nome)\n",
    "df.printSchema()"
   ]
  },
  {
   "cell_type": "markdown",
   "id": "0f475bec",
   "metadata": {},
   "source": [
    "<a id='verification_null'></a>\n",
    "\n",
    "### 7.5 Identificação e Preenchimento de Valores Nulos em Colunas"
   ]
  },
  {
   "cell_type": "markdown",
   "id": "9749ca89",
   "metadata": {},
   "source": [
    "Nesta abordagem, estamos verificando individualmente cada coluna para ver se há valores nulos usando `df.filter(col(col_name).isNull()).count()`. Se o resultado for maior que zero, isso significa que há valores nulos na coluna e a coluna é adicionada à lista `null_columns`, caso existam, imprimimos o número de valores nulos em cada coluna. \n",
    "\n",
    "Para colunas do tipo booleano, os valores nulos são substituídos por False, enquanto para todas as outras colunas, os valores nulos são substituídos por 0. Esse tratamento é útil quando desejamos garantir que não haja valores nulos em colunas específicas ou que eles sejam substituídos por valores padrão."
   ]
  },
  {
   "cell_type": "code",
   "execution_count": null,
   "id": "de9f64c3",
   "metadata": {},
   "outputs": [],
   "source": [
    "%%spark\n",
    "from pyspark.sql.functions import isnan, when, col, expr\n",
    "\n",
    "null_columns = [\n",
    "    col_name\n",
    "    for col_name in df.columns\n",
    "    if df.filter(col(col_name).isNull()).count() > 0\n",
    "]\n",
    "\n",
    "if null_columns:\n",
    "    print(\"Colunas com valores nulos:\")\n",
    "    for null_col in null_columns:\n",
    "        null_count = df.filter(col(null_col).isNull()).count()\n",
    "        print(f\"{null_col}: {null_count} valores nulos\")\n",
    "else:\n",
    "    print(\"Não há valores nulos em nenhuma coluna do DataFrame.\")"
   ]
  },
  {
   "cell_type": "code",
   "execution_count": null,
   "id": "0e418e9e",
   "metadata": {},
   "outputs": [],
   "source": [
    "%%spark\n",
    "from pyspark.sql.functions import when, col\n",
    "from pyspark.sql.types import BooleanType \n",
    "\n",
    "null_columns = df.columns  \n",
    "\n",
    "for null_col in null_columns:\n",
    "    data_type = df.schema[null_col].dataType\n",
    "    if isinstance(data_type, BooleanType):\n",
    "        df = df.withColumn(null_col, when(col(null_col).isNull(), False).otherwise(col(null_col)))\n",
    "    else:\n",
    "        df = df.withColumn(null_col, when(col(null_col).isNull(), 0).otherwise(col(null_col)))"
   ]
  },
  {
   "cell_type": "markdown",
   "id": "20767bac",
   "metadata": {},
   "source": [
    "### 7.6 Conversão de colunas "
   ]
  },
  {
   "cell_type": "markdown",
   "id": "465a4251",
   "metadata": {},
   "source": [
    "Todas as colunas de data especificadas na lista `colunas_de_data` serão convertidas do formato string para o formato DateType com o formato de data `yyyyMMdd`. "
   ]
  },
  {
   "cell_type": "code",
   "execution_count": 29,
   "id": "958e0464",
   "metadata": {},
   "outputs": [
    {
     "data": {
      "application/vnd.jupyter.widget-view+json": {
       "model_id": "",
       "version_major": 2,
       "version_minor": 0
      },
      "text/plain": [
       "FloatProgress(value=0.0, bar_style='info', description='Progress:', layout=Layout(height='25px', width='50%'),…"
      ]
     },
     "metadata": {},
     "output_type": "display_data"
    },
    {
     "name": "stdout",
     "output_type": "stream",
     "text": [
      "root\n",
      " |-- NO_PAIS: string (nullable = true)\n",
      " |-- CO_ANO: string (nullable = true)\n",
      " |-- CO_MES: string (nullable = true)\n",
      " |-- CO_NCM: string (nullable = true)\n",
      " |-- CO_UNID: string (nullable = true)\n",
      " |-- CO_PAIS: string (nullable = true)\n",
      " |-- SG_UF_NCM: string (nullable = true)\n",
      " |-- CO_VIA: string (nullable = true)\n",
      " |-- CO_URF: string (nullable = true)\n",
      " |-- QT_ESTAT: string (nullable = true)\n",
      " |-- KG_LIQUIDO: long (nullable = true)\n",
      " |-- VL_FOB: integer (nullable = true)"
     ]
    }
   ],
   "source": [
    "%%spark\n",
    "from pyspark.sql.functions import col, expr\n",
    "\n",
    "# Listando todas as colunas\n",
    "all_columns = [\n",
    "    \"NO_PAIS\", \"CO_ANO\", \"CO_MES\", \"CO_NCM\", \"CO_UNID\", \n",
    "    \"CO_PAIS\", \"SG_UF_NCM\", \"CO_VIA\", \"CO_URF\", \"QT_ESTAT\", \n",
    "    \"KG_LIQUIDO\", \"VL_FOB\"\n",
    "]\n",
    "\n",
    "# Colunas que não devem ser convertidas para string\n",
    "exclude_columns = [\"KG_LIQUIDO\", \"VL_FOB\"]\n",
    "\n",
    "# Loop através de todas as colunas e convertendo para string, exceto as excluídas\n",
    "for column_name in all_columns:\n",
    "    if column_name not in exclude_columns:\n",
    "        df = df.withColumn(column_name, col(column_name).cast(\"string\"))\n",
    "\n",
    "# Mostrar o esquema atualizado\n",
    "df.printSchema()\n"
   ]
  },
  {
   "cell_type": "markdown",
   "id": "97be903c",
   "metadata": {},
   "source": [
    "<a id='sql_spark'></a>\n",
    "\n",
    "## 8. Exploração dos dados - SQL Spark"
   ]
  },
  {
   "cell_type": "markdown",
   "id": "84683d1e",
   "metadata": {},
   "source": [
    "Neste passo, estamos usando o método `createOrReplaceTempView` para criar ou substituir uma visualização temporária do DataFrame df. Em muitos sistemas de processamento de big data, como o Apache Spark, você pode criar visualizações temporárias de DataFrames. Essas visualizações temporárias permitem que você execute consultas SQL no DataFrame como se ele fosse uma tabela em um banco de dados."
   ]
  },
  {
   "cell_type": "markdown",
   "id": "7ad2d255",
   "metadata": {},
   "source": [
    "Neste código, estamos executando operações de consulta SQL no DataFrame restaurant_data usando o ambiente Spark:\n",
    "- **-c sql:** Essa opção indica que o código na célula será interpretado como SQL. Ou seja, você está prestes a executar uma consulta SQL no DataFrame.\n",
    "\n",
    "- **-o df:** Essa opção significa que desejamos que o resultado da consulta SQL seja armazenado na variável df. O resultado da consulta será exibido na célula seguinte.\n",
    "\n",
    "- **DESCRIBE df_FDA;:** Esta é a consulta SQL em si. Estamos executando um comando DESCRIBE na tabela temporária restaurant_data, que é usado para exibir informações sobre a estrutura da tabela, como os nomes das colunas, tipos de dados e outras informações relevantes."
   ]
  },
  {
   "cell_type": "code",
   "execution_count": 30,
   "id": "86e31e5e",
   "metadata": {},
   "outputs": [
    {
     "data": {
      "application/vnd.jupyter.widget-view+json": {
       "model_id": "",
       "version_major": 2,
       "version_minor": 0
      },
      "text/plain": [
       "FloatProgress(value=0.0, bar_style='info', description='Progress:', layout=Layout(height='25px', width='50%'),…"
      ]
     },
     "metadata": {},
     "output_type": "display_data"
    }
   ],
   "source": [
    "%%spark\n",
    "df.createOrReplaceTempView(\"df\")"
   ]
  },
  {
   "cell_type": "code",
   "execution_count": 31,
   "id": "6f08631c",
   "metadata": {},
   "outputs": [
    {
     "data": {
      "application/vnd.jupyter.widget-view+json": {
       "model_id": "",
       "version_major": 2,
       "version_minor": 0
      },
      "text/plain": [
       "FloatProgress(value=0.0, bar_style='info', description='Progress:', layout=Layout(height='25px', width='50%'),…"
      ]
     },
     "metadata": {},
     "output_type": "display_data"
    },
    {
     "data": {
      "text/html": [
       "<div>\n",
       "<style scoped>\n",
       "    .dataframe tbody tr th:only-of-type {\n",
       "        vertical-align: middle;\n",
       "    }\n",
       "\n",
       "    .dataframe tbody tr th {\n",
       "        vertical-align: top;\n",
       "    }\n",
       "\n",
       "    .dataframe thead th {\n",
       "        text-align: right;\n",
       "    }\n",
       "</style>\n",
       "<table border=\"1\" class=\"dataframe\">\n",
       "  <thead>\n",
       "    <tr style=\"text-align: right;\">\n",
       "      <th></th>\n",
       "      <th>col_name</th>\n",
       "      <th>data_type</th>\n",
       "    </tr>\n",
       "  </thead>\n",
       "  <tbody>\n",
       "    <tr>\n",
       "      <th>0</th>\n",
       "      <td>NO_PAIS</td>\n",
       "      <td>string</td>\n",
       "    </tr>\n",
       "    <tr>\n",
       "      <th>1</th>\n",
       "      <td>CO_ANO</td>\n",
       "      <td>string</td>\n",
       "    </tr>\n",
       "    <tr>\n",
       "      <th>2</th>\n",
       "      <td>CO_MES</td>\n",
       "      <td>string</td>\n",
       "    </tr>\n",
       "    <tr>\n",
       "      <th>3</th>\n",
       "      <td>CO_NCM</td>\n",
       "      <td>string</td>\n",
       "    </tr>\n",
       "    <tr>\n",
       "      <th>4</th>\n",
       "      <td>CO_UNID</td>\n",
       "      <td>string</td>\n",
       "    </tr>\n",
       "    <tr>\n",
       "      <th>5</th>\n",
       "      <td>CO_PAIS</td>\n",
       "      <td>string</td>\n",
       "    </tr>\n",
       "    <tr>\n",
       "      <th>6</th>\n",
       "      <td>SG_UF_NCM</td>\n",
       "      <td>string</td>\n",
       "    </tr>\n",
       "    <tr>\n",
       "      <th>7</th>\n",
       "      <td>CO_VIA</td>\n",
       "      <td>string</td>\n",
       "    </tr>\n",
       "    <tr>\n",
       "      <th>8</th>\n",
       "      <td>CO_URF</td>\n",
       "      <td>string</td>\n",
       "    </tr>\n",
       "    <tr>\n",
       "      <th>9</th>\n",
       "      <td>QT_ESTAT</td>\n",
       "      <td>string</td>\n",
       "    </tr>\n",
       "    <tr>\n",
       "      <th>10</th>\n",
       "      <td>KG_LIQUIDO</td>\n",
       "      <td>bigint</td>\n",
       "    </tr>\n",
       "    <tr>\n",
       "      <th>11</th>\n",
       "      <td>VL_FOB</td>\n",
       "      <td>int</td>\n",
       "    </tr>\n",
       "  </tbody>\n",
       "</table>\n",
       "</div>"
      ],
      "text/plain": [
       "      col_name data_type\n",
       "0      NO_PAIS    string\n",
       "1       CO_ANO    string\n",
       "2       CO_MES    string\n",
       "3       CO_NCM    string\n",
       "4      CO_UNID    string\n",
       "5      CO_PAIS    string\n",
       "6    SG_UF_NCM    string\n",
       "7       CO_VIA    string\n",
       "8       CO_URF    string\n",
       "9     QT_ESTAT    string\n",
       "10  KG_LIQUIDO    bigint\n",
       "11      VL_FOB       int"
      ]
     },
     "execution_count": 31,
     "metadata": {},
     "output_type": "execute_result"
    }
   ],
   "source": [
    "%%spark -c sql\n",
    "DESCRIBE df;"
   ]
  },
  {
   "cell_type": "code",
   "execution_count": 32,
   "id": "6035e4fc",
   "metadata": {},
   "outputs": [
    {
     "data": {
      "application/vnd.jupyter.widget-view+json": {
       "model_id": "",
       "version_major": 2,
       "version_minor": 0
      },
      "text/plain": [
       "FloatProgress(value=0.0, bar_style='info', description='Progress:', layout=Layout(height='25px', width='50%'),…"
      ]
     },
     "metadata": {},
     "output_type": "display_data"
    },
    {
     "data": {
      "text/html": [
       "<div>\n",
       "<style scoped>\n",
       "    .dataframe tbody tr th:only-of-type {\n",
       "        vertical-align: middle;\n",
       "    }\n",
       "\n",
       "    .dataframe tbody tr th {\n",
       "        vertical-align: top;\n",
       "    }\n",
       "\n",
       "    .dataframe thead th {\n",
       "        text-align: right;\n",
       "    }\n",
       "</style>\n",
       "<table border=\"1\" class=\"dataframe\">\n",
       "  <thead>\n",
       "    <tr style=\"text-align: right;\">\n",
       "      <th></th>\n",
       "      <th>NO_PAIS</th>\n",
       "      <th>CO_ANO</th>\n",
       "      <th>CO_MES</th>\n",
       "      <th>CO_NCM</th>\n",
       "      <th>CO_UNID</th>\n",
       "      <th>CO_PAIS</th>\n",
       "      <th>SG_UF_NCM</th>\n",
       "      <th>CO_VIA</th>\n",
       "      <th>CO_URF</th>\n",
       "      <th>QT_ESTAT</th>\n",
       "      <th>KG_LIQUIDO</th>\n",
       "      <th>VL_FOB</th>\n",
       "    </tr>\n",
       "  </thead>\n",
       "  <tbody>\n",
       "    <tr>\n",
       "      <th>0</th>\n",
       "      <td>Argentina</td>\n",
       "      <td>2023-01-01</td>\n",
       "      <td>3</td>\n",
       "      <td>4029900</td>\n",
       "      <td>10</td>\n",
       "      <td>63</td>\n",
       "      <td>RJ</td>\n",
       "      <td>1</td>\n",
       "      <td>717600</td>\n",
       "      <td>11</td>\n",
       "      <td>11</td>\n",
       "      <td>59</td>\n",
       "    </tr>\n",
       "    <tr>\n",
       "      <th>1</th>\n",
       "      <td>China</td>\n",
       "      <td>2023-01-01</td>\n",
       "      <td>8</td>\n",
       "      <td>39199020</td>\n",
       "      <td>10</td>\n",
       "      <td>160</td>\n",
       "      <td>SP</td>\n",
       "      <td>4</td>\n",
       "      <td>817600</td>\n",
       "      <td>1</td>\n",
       "      <td>1</td>\n",
       "      <td>51</td>\n",
       "    </tr>\n",
       "    <tr>\n",
       "      <th>2</th>\n",
       "      <td>Angola</td>\n",
       "      <td>2023-01-01</td>\n",
       "      <td>4</td>\n",
       "      <td>90183929</td>\n",
       "      <td>11</td>\n",
       "      <td>40</td>\n",
       "      <td>PR</td>\n",
       "      <td>4</td>\n",
       "      <td>817600</td>\n",
       "      <td>25</td>\n",
       "      <td>4</td>\n",
       "      <td>578</td>\n",
       "    </tr>\n",
       "  </tbody>\n",
       "</table>\n",
       "</div>"
      ],
      "text/plain": [
       "     NO_PAIS     CO_ANO  CO_MES    CO_NCM  CO_UNID  CO_PAIS SG_UF_NCM  CO_VIA  \\\n",
       "0  Argentina 2023-01-01       3   4029900       10       63        RJ       1   \n",
       "1      China 2023-01-01       8  39199020       10      160        SP       4   \n",
       "2     Angola 2023-01-01       4  90183929       11       40        PR       4   \n",
       "\n",
       "   CO_URF  QT_ESTAT  KG_LIQUIDO  VL_FOB  \n",
       "0  717600        11          11      59  \n",
       "1  817600         1           1      51  \n",
       "2  817600        25           4     578  "
      ]
     },
     "execution_count": 32,
     "metadata": {},
     "output_type": "execute_result"
    }
   ],
   "source": [
    "%%spark -c sql\n",
    "SELECT * FROM df LIMIT 3;"
   ]
  },
  {
   "cell_type": "markdown",
   "id": "084b314e",
   "metadata": {},
   "source": [
    "### 8.1 Salvando um DataFrame como um Arquivo Delta na Oracle Cloud Infrastructure (OCI) - Silver"
   ]
  },
  {
   "cell_type": "markdown",
   "id": "2666e3a1",
   "metadata": {},
   "source": [
    "Este código está salvando o DataFrame `df_json` como um arquivo Delta na Oracle Cloud Infrastructure (OCI) no local especificado. Isso permite que você mantenha seus dados de forma confiável e transacional na OCI para análise e processamento posterior."
   ]
  },
  {
   "cell_type": "code",
   "execution_count": 33,
   "id": "923e6106",
   "metadata": {},
   "outputs": [
    {
     "data": {
      "application/vnd.jupyter.widget-view+json": {
       "model_id": "",
       "version_major": 2,
       "version_minor": 0
      },
      "text/plain": [
       "FloatProgress(value=0.0, bar_style='info', description='Progress:', layout=Layout(height='25px', width='50%'),…"
      ]
     },
     "metadata": {},
     "output_type": "display_data"
    }
   ],
   "source": [
    "%%spark\n",
    "from delta import *\n",
    "df.write.format(\"delta\").save(\"oci://bucket_livelabs_silver@id3kyspkytmr/delta\")"
   ]
  },
  {
   "cell_type": "markdown",
   "id": "247cbec6",
   "metadata": {},
   "source": [
    "## 9. Refinamento - Gold"
   ]
  },
  {
   "cell_type": "code",
   "execution_count": 12,
   "id": "efaf1021",
   "metadata": {},
   "outputs": [
    {
     "data": {
      "application/vnd.jupyter.widget-view+json": {
       "model_id": "",
       "version_major": 2,
       "version_minor": 0
      },
      "text/plain": [
       "FloatProgress(value=0.0, bar_style='info', description='Progress:', layout=Layout(height='25px', width='50%'),…"
      ]
     },
     "metadata": {},
     "output_type": "display_data"
    },
    {
     "name": "stdout",
     "output_type": "stream",
     "text": [
      "+--------------------+---------------------------+--------------------+\n",
      "|                 Ato|Data_Ultima_Atualizacao_NCM|       Nomenclaturas|\n",
      "+--------------------+---------------------------+--------------------+\n",
      "|Resolução Camex n...|       Vigente em 22/10/...|[{2021, 01, 31/12...|\n",
      "+--------------------+---------------------------+--------------------+"
     ]
    }
   ],
   "source": [
    "%%spark\n",
    "json_NCM_file_path = \"oci://bucket_livelabs_bronze@id3kyspkytmr/CODIGO_NCM.json\"\n",
    "df_json_NCM = spark.read.option(\"multiline\",\"true\").json(json_NCM_file_path)\n",
    "df_json_NCM.show()"
   ]
  },
  {
   "cell_type": "code",
   "execution_count": 15,
   "id": "10d5ef20",
   "metadata": {},
   "outputs": [
    {
     "data": {
      "application/vnd.jupyter.widget-view+json": {
       "model_id": "",
       "version_major": 2,
       "version_minor": 0
      },
      "text/plain": [
       "FloatProgress(value=0.0, bar_style='info', description='Progress:', layout=Layout(height='25px', width='50%'),…"
      ]
     },
     "metadata": {},
     "output_type": "display_data"
    },
    {
     "name": "stdout",
     "output_type": "stream",
     "text": [
      "root\n",
      " |-- Ato: string (nullable = true)\n",
      " |-- Data_Ultima_Atualizacao_NCM: string (nullable = true)\n",
      " |-- Nomenclaturas_Ano_Ato: string (nullable = true)\n",
      " |-- Nomenclaturas_Codigo: string (nullable = true)\n",
      " |-- Nomenclaturas_Data_Fim: string (nullable = true)\n",
      " |-- Nomenclaturas_Data_Inicio: string (nullable = true)\n",
      " |-- Nomenclaturas_Descricao: string (nullable = true)\n",
      " |-- Nomenclaturas_Numero_Ato: string (nullable = true)\n",
      " |-- Nomenclaturas_Tipo_Ato: string (nullable = true)"
     ]
    }
   ],
   "source": [
    "%%spark\n",
    "df_json_flatten_NCM = flatten_array_struct_df(df_json_NCM)\n",
    "df_json_flatten_NCM.printSchema()"
   ]
  },
  {
   "cell_type": "code",
   "execution_count": null,
   "id": "7e143ce1",
   "metadata": {},
   "outputs": [],
   "source": []
  },
  {
   "cell_type": "markdown",
   "id": "ab8ac137",
   "metadata": {},
   "source": [
    "A implementação de um modelo de dados Star Schema é motivada pela necessidade de melhorar o desempenho das consultas em um ambiente de business intelligence (BI) ou análise de dados. Esse modelo é especialmente útil quando se lida com grandes volumes de dados e consultas complexas. Ele oferece uma estrutura otimizada para consultas analíticas, simplificando a navegação e agregação de dados, o que resulta em consultas mais rápidas e eficientes."
   ]
  },
  {
   "cell_type": "markdown",
   "id": "3b06b1ba",
   "metadata": {},
   "source": [
    "%%spark\n",
    "import uuid\n",
    "from pyspark.sql.functions import lit\n",
    "\n",
    "# Adicionar coluna de ID único para a tabela Fato_Evento\n",
    "df = df.withColumn(\"fato_evento_id\", lit(str(uuid.uuid4())))\n",
    "\n",
    "# Adicionar coluna de ID único para a tabela Dim_Fabricante\n",
    "df = df.withColumn(\"dim_fabricante_id\", lit(str(uuid.uuid4())))\n",
    "\n",
    "# Adicionar coluna de ID único para a tabela Dim_Status\n",
    "df = df.withColumn(\"dim_status_id\", lit(str(uuid.uuid4())))\n",
    "\n",
    "# Adicionar coluna de ID único para a tabela Dim_Produto\n",
    "df = df.withColumn(\"dim_produto_id\", lit(str(uuid.uuid4())))\n",
    "\n",
    "# Adicionar coluna de ID único para a tabela Dim_Empresa_Recall\n",
    "df = df.withColumn(\"dim_empresa_recall_id\", lit(str(uuid.uuid4())))\n",
    "\n",
    "# Adicionar coluna de ID único para a tabela Dim_Classificacao\n",
    "df = df.withColumn(\"dim_classificacao_id\", lit(str(uuid.uuid4())))"
   ]
  },
  {
   "cell_type": "markdown",
   "id": "68b2c894",
   "metadata": {},
   "source": [
    "%%spark\n",
    "df.createOrReplaceTempView(\"df_gold\")"
   ]
  },
  {
   "cell_type": "markdown",
   "id": "bb833663",
   "metadata": {},
   "source": [
    "%%spark -c sql -o df_gold\n",
    "\n",
    "CREATE TABLE Fato_Evento AS\n",
    "SELECT\n",
    "    fato_evento_id,\n",
    "    event_id,\n",
    "    product_type,\n",
    "    distribution_pattern,\n",
    "    initial_firm_notification,\n",
    "    voluntary_mandated,\n",
    "    report_date,\n",
    "    recall_initiation_date,\n",
    "    center_classification_date,\n",
    "    termination_date,\n",
    "    recall_number,\n",
    "    dim_fabricante_id,\n",
    "    dim_status_id,\n",
    "    dim_produto_id,\n",
    "    dim_empresa_recall_id,\n",
    "    dim_classificacao_id\n",
    "FROM df_gold"
   ]
  },
  {
   "cell_type": "markdown",
   "id": "642c28a9",
   "metadata": {},
   "source": [
    "%%spark -c sql -o df\n",
    "\n",
    "CREATE TABLE Dim_Fabricante \n",
    "SELECT\n",
    "    dim_fabricante_id,\n",
    "    openfda_manufacturer_name,\n",
    "    openfda_is_original_packager\n",
    "FROM df_gold"
   ]
  },
  {
   "cell_type": "markdown",
   "id": "24fb47db",
   "metadata": {},
   "source": [
    "%%spark -c sql -o df\n",
    "\n",
    "CREATE TABLE Dim_Status\n",
    "SELECT\n",
    "    dim_status_id,\n",
    "    status\n",
    "FROM df_gold"
   ]
  },
  {
   "cell_type": "markdown",
   "id": "9cb3a12d",
   "metadata": {},
   "source": [
    "%%spark -c sql -o df\n",
    "\n",
    "CREATE TABLE Dim_Produto\n",
    "SELECT\n",
    "    dim_produto_id,\n",
    "    openfda_application_number,\n",
    "    openfda_brand_name,\n",
    "    openfda_generic_name,\n",
    "    openfda_product_type,\n",
    "    product_quantity,\n",
    "    openfda_substance_name,\n",
    "    openfda_route,\n",
    "    openfda_manufacturer_name,\n",
    "    openfda_is_original_packager\n",
    "FROM df_gold"
   ]
  },
  {
   "cell_type": "markdown",
   "id": "7be8faf2",
   "metadata": {},
   "source": [
    "%%spark -c sql -o df\n",
    "\n",
    "CREATE TABLE Dim_Empresa_Recall\n",
    "SELECT\n",
    "    dim_empresa_recall_id,\n",
    "    recalling_firm,\n",
    "    city,\n",
    "    state,\n",
    "    country,\n",
    "    address_1,\n",
    "    address_2,\n",
    "    postal_code\n",
    "FROM df_gold\n"
   ]
  },
  {
   "cell_type": "markdown",
   "id": "6a2f7679",
   "metadata": {},
   "source": [
    "%%spark -c sql -o df\n",
    "\n",
    "CREATE TABLE Dim_Recall\n",
    "SELECT\n",
    "    recall_number,\n",
    "    reason_for_recall,\n",
    "    code_info,\n",
    "    product_description,\n",
    "    product_quantity\n",
    "FROM df_gold\n"
   ]
  },
  {
   "cell_type": "markdown",
   "id": "6820b8a0",
   "metadata": {},
   "source": [
    "%%spark -c sql -o df\n",
    "\n",
    "CREATE TABLE Dim_Classificacao\n",
    "SELECT\n",
    "    dim_classificacao_id,\n",
    "    classification\n",
    "FROM df_gold"
   ]
  },
  {
   "cell_type": "markdown",
   "id": "5ae2f83b",
   "metadata": {},
   "source": [
    "%%spark -c sql -o df\n",
    "SELECT * FROM Fato_Recalls"
   ]
  },
  {
   "cell_type": "markdown",
   "id": "b13018ef",
   "metadata": {},
   "source": [
    "## 10. Visualização Matplotlib"
   ]
  },
  {
   "cell_type": "markdown",
   "id": "2cc09f2b",
   "metadata": {},
   "source": [
    "**Pergunta de Negócio:** Como a diferença média de dias entre o início do recall e a classificação do centro varia ao longo dos meses para diferentes categorias/classificações de produtos?\n",
    "\n",
    "O gráfico mostra a diferença nas médias de dias entre o início do recall e a classificação do centro para cada mês, desagregado por categoria/classificação de produtos. Isso pode ajudar a identificar se existem padrões sazonais ou tendências específicas relacionadas ao tempo de resposta para diferentes categorias de produtos."
   ]
  },
  {
   "cell_type": "code",
   "execution_count": null,
   "id": "33842167",
   "metadata": {},
   "outputs": [],
   "source": [
    "%%spark\n",
    "import matplotlib.pyplot as plt\n",
    "from pyspark.sql.functions import col, datediff\n",
    "import seaborn as sns  \n",
    "import pandas as pd  \n",
    "\n",
    "#df_mat = df.groupby(\"status\").count().toPandas().plot.bar(x=\"status\", y=\"count\")\n",
    "\n",
    "\n",
    "df_diff = df.withColumn(\"date_diff\", datediff(col(\"center_classification_date\"), col(\"recall_initiation_date\")))\n",
    "result_df = df_diff.groupBy(\"classification\").agg({\"date_diff\": \"mean\"}).withColumnRenamed(\"avg(date_diff)\", \"avg_date_diff\")\n",
    "result_pd = result_df.toPandas()\n",
    "\n",
    "plt.figure(figsize=(10, 6))  \n",
    "plt.xticks(rotation=0, ha='right')\n",
    "plt.bar(result_pd[\"classification\"], result_pd[\"avg_date_diff\"], color='skyblue')\n",
    "plt.ylabel(\"Average Date Difference\")\n",
    "plt.title(\"Diferença média de dias - Início do Recall e Atendimento por Risco\")\n",
    "plt.grid(axis='y') \n",
    "plt.tight_layout()\n",
    "\n",
    "%matplot plt"
   ]
  },
  {
   "cell_type": "code",
   "execution_count": null,
   "id": "72e78c35",
   "metadata": {},
   "outputs": [],
   "source": [
    "%%spark\n",
    "\n",
    "import matplotlib.pyplot as plt\n",
    "from pyspark.sql.functions import col, datediff, month\n",
    "import seaborn as sns\n",
    "import pandas as pd\n",
    "\n",
    "df_diff = df_diff.withColumn(\"recall_initiation_month\", month(col(\"recall_initiation_date\")))\n",
    "df_diff = df_diff.withColumn(\"center_classification_month\", month(col(\"center_classification_date\")))\n",
    "\n",
    "result_recall_initiation = df_diff.groupBy(\"recall_initiation_month\").agg({\"date_diff\": \"mean\"}).withColumnRenamed(\"avg(date_diff)\", \"avg_date_diff\")\n",
    "result_center_classification = df_diff.groupBy(\"center_classification_month\").agg({\"date_diff\": \"mean\"}).withColumnRenamed(\"avg(date_diff)\", \"avg_date_diff\")\n",
    "\n",
    "result_recall_initiation_pd = result_recall_initiation.toPandas()\n",
    "result_center_classification_pd = result_center_classification.toPandas()\n",
    "\n",
    "plt.figure(figsize=(12, 6))\n",
    "\n",
    "plt.subplot(1, 2, 1)\n",
    "plt.bar(result_recall_initiation_pd[\"recall_initiation_month\"], result_recall_initiation_pd[\"avg_date_diff\"], color='skyblue')\n",
    "plt.xlabel(\"Month\")\n",
    "plt.ylabel(\"Average Date Difference\")\n",
    "plt.title(\"Diferença Média de Dias - Início do Recall por Mês\")\n",
    "plt.grid(axis='y')\n",
    "plt.tight_layout()\n",
    "\n",
    "plt.subplot(1, 2, 2)\n",
    "plt.bar(result_center_classification_pd[\"center_classification_month\"], result_center_classification_pd[\"avg_date_diff\"], color='salmon')\n",
    "plt.xlabel(\"Month\")\n",
    "plt.ylabel(\"Average Date Difference\")\n",
    "plt.title(\"Diferença Média de Dias - Center Classification por Mês\")\n",
    "plt.xticks(range(1, 13))\n",
    "plt.grid(axis='y')\n",
    "plt.tight_layout()\n",
    "\n",
    "%matplot plt"
   ]
  },
  {
   "cell_type": "code",
   "execution_count": null,
   "id": "4e7dc315",
   "metadata": {
    "jupyter": {
     "source_hidden": true
    }
   },
   "outputs": [],
   "source": [
    "%%spark\n",
    "import matplotlib.pyplot as plt\n",
    "from pyspark.sql.functions import col, datediff, month\n",
    "import pandas as pd\n",
    "\n",
    "df_diff = df_diff.withColumn(\"recall_initiation_month\", month(col(\"recall_initiation_date\")))\n",
    "df_diff = df_diff.withColumn(\"center_classification_month\", month(col(\"center_classification_date\")))\n",
    "\n",
    "result_recall_initiation = df_diff.groupBy(\"recall_initiation_month\", \"classification\").agg({\"date_diff\": \"mean\"}).withColumnRenamed(\"avg(date_diff)\", \"avg_date_diff_recall\")\n",
    "result_center_classification = df_diff.groupBy(\"center_classification_month\", \"classification\").agg({\"date_diff\": \"mean\"}).withColumnRenamed(\"avg(date_diff)\", \"avg_date_diff_center\")\n",
    "\n",
    "result_recall_initiation_pd = result_recall_initiation.toPandas()\n",
    "result_center_classification_pd = result_center_classification.toPandas()\n",
    "\n",
    "# Calcular a diferença entre as médias para cada mês e classification\n",
    "result_diff = pd.merge(result_recall_initiation_pd, result_center_classification_pd, left_on=[\"recall_initiation_month\", \"classification\"], right_on=[\"center_classification_month\", \"classification\"], suffixes=(\"_recall\", \"_center\"))\n",
    "result_diff[\"avg_date_diff_difference\"] = result_diff[\"avg_date_diff_recall\"] - result_diff[\"avg_date_diff_center\"]\n",
    "\n",
    "plt.figure(figsize=(12, 6))\n",
    "plt.bar(result_diff[\"recall_initiation_month\"], result_diff[\"avg_date_diff_difference\"], color='purple')\n",
    "plt.xlabel(\"Month\")\n",
    "plt.ylabel(\"Average Date Difference Difference\")\n",
    "plt.title(\"Diferença nas Médias de Dias entre Recall Initiation e Center Classification por Mês e Classificação\")\n",
    "plt.grid(axis='y')\n",
    "plt.tight_layout()\n",
    "plt.show()\n",
    "%matplot plt"
   ]
  },
  {
   "cell_type": "code",
   "execution_count": null,
   "id": "2edffc29",
   "metadata": {},
   "outputs": [],
   "source": [
    "%%spark\n",
    "\n",
    "import matplotlib.pyplot as plt\n",
    "from pyspark.sql.functions import col, datediff, month\n",
    "import seaborn as sns\n",
    "import pandas as pd\n",
    "\n",
    "df_diff = df.withColumn(\"date_diff\", datediff(col(\"center_classification_date\"), col(\"recall_initiation_date\")))\n",
    "\n",
    "df_diff = df_diff.withColumn(\"month\", month(col(\"recall_initiation_date\")))\n",
    "\n",
    "result_df = df_diff.groupBy(\"classification\", \"month\").agg({\"date_diff\": \"mean\"}).withColumnRenamed(\"avg(date_diff)\", \"avg_date_diff\")\n",
    "\n",
    "result_pd = result_df.toPandas()\n",
    "\n",
    "plt.figure(figsize=(12, 8))\n",
    "sns.lineplot(data=result_pd, x=\"month\", y=\"avg_date_diff\", hue=\"classification\", palette=\"Set1\")\n",
    "plt.xlabel(\"Mês\")\n",
    "plt.ylabel(\"Diferença Média de Dias\")\n",
    "plt.title(\"Diferença Média de Dias - Início do Recall e Atendimento por Mês e Classificação\")\n",
    "plt.legend(title=\"Classificação\")\n",
    "plt.tight_layout()\n",
    "plt.show()\n",
    "%matplot plt"
   ]
  }
 ],
 "metadata": {
  "kernelspec": {
   "display_name": "Python [conda env:pyspark32_p38_cpu_v3]",
   "language": "python",
   "name": "conda-env-pyspark32_p38_cpu_v3-py"
  },
  "language_info": {
   "codemirror_mode": {
    "name": "ipython",
    "version": 3
   },
   "file_extension": ".py",
   "mimetype": "text/x-python",
   "name": "python",
   "nbconvert_exporter": "python",
   "pygments_lexer": "ipython3",
   "version": "3.8.16"
  },
  "widgets": {
   "application/vnd.jupyter.widget-state+json": {
    "state": {
     "00045fd057754ec6a7e1eb7806a0c5d6": {
      "model_module": "@jupyter-widgets/controls",
      "model_module_version": "1.5.0",
      "model_name": "ProgressStyleModel",
      "state": {
       "description_width": ""
      }
     },
     "000f76566002469e886bbf0f45d1d64c": {
      "model_module": "@jupyter-widgets/controls",
      "model_module_version": "1.5.0",
      "model_name": "ProgressStyleModel",
      "state": {
       "description_width": ""
      }
     },
     "001cfe7dbf434a2c83b4f1fc09e53d11": {
      "model_module": "@jupyter-widgets/base",
      "model_module_version": "1.2.0",
      "model_name": "LayoutModel",
      "state": {
       "height": "25px",
       "width": "50%"
      }
     },
     "0065a3ef00cc48f4bc27a6874d763c18": {
      "model_module": "@jupyter-widgets/base",
      "model_module_version": "1.2.0",
      "model_name": "LayoutModel",
      "state": {
       "height": "25px",
       "width": "50%"
      }
     },
     "0090d62da73a4d24af60f3e76142c910": {
      "model_module": "@jupyter-widgets/controls",
      "model_module_version": "1.5.0",
      "model_name": "ProgressStyleModel",
      "state": {
       "description_width": ""
      }
     },
     "00a094aaa0514bb79025504cd621b5ed": {
      "model_module": "@jupyter-widgets/controls",
      "model_module_version": "1.5.0",
      "model_name": "ProgressStyleModel",
      "state": {
       "description_width": ""
      }
     },
     "00c23c0a697540ddab2f4a7e1b948551": {
      "model_module": "@jupyter-widgets/base",
      "model_module_version": "1.2.0",
      "model_name": "LayoutModel",
      "state": {
       "height": "25px",
       "width": "50%"
      }
     },
     "00e81dc31945457084c529613d59dcd9": {
      "model_module": "@jupyter-widgets/controls",
      "model_module_version": "1.5.0",
      "model_name": "ProgressStyleModel",
      "state": {
       "description_width": ""
      }
     },
     "01100abd0acd488cb5732edbd96789c5": {
      "model_module": "@jupyter-widgets/controls",
      "model_module_version": "1.5.0",
      "model_name": "ProgressStyleModel",
      "state": {
       "description_width": ""
      }
     },
     "014a534eea0440e09eaa363788c3f36e": {
      "model_module": "@jupyter-widgets/base",
      "model_module_version": "1.2.0",
      "model_name": "LayoutModel",
      "state": {
       "height": "25px",
       "width": "50%"
      }
     },
     "01b3c3e811414e529611019ff8f8fb00": {
      "model_module": "@jupyter-widgets/controls",
      "model_module_version": "1.5.0",
      "model_name": "ProgressStyleModel",
      "state": {
       "description_width": ""
      }
     },
     "0247e6e81c934ba0bcc7425ad562841b": {
      "model_module": "@jupyter-widgets/base",
      "model_module_version": "1.2.0",
      "model_name": "LayoutModel",
      "state": {
       "height": "25px",
       "width": "50%"
      }
     },
     "0272285e3a88493984aa3497127e761d": {
      "model_module": "@jupyter-widgets/controls",
      "model_module_version": "1.5.0",
      "model_name": "ProgressStyleModel",
      "state": {
       "description_width": ""
      }
     },
     "02d1e6a33c304741b1fab7405c9d6ab0": {
      "model_module": "@jupyter-widgets/controls",
      "model_module_version": "1.5.0",
      "model_name": "ProgressStyleModel",
      "state": {
       "description_width": ""
      }
     },
     "032a63d779a94779af7ec73b981034aa": {
      "model_module": "@jupyter-widgets/base",
      "model_module_version": "1.2.0",
      "model_name": "LayoutModel",
      "state": {
       "height": "25px",
       "width": "50%"
      }
     },
     "03316f03ba624564b35143dfd8849f9a": {
      "model_module": "@jupyter-widgets/base",
      "model_module_version": "1.2.0",
      "model_name": "LayoutModel",
      "state": {
       "height": "25px",
       "width": "50%"
      }
     },
     "0338a64c19ea44088278c024f4cd5b74": {
      "model_module": "@jupyter-widgets/base",
      "model_module_version": "1.2.0",
      "model_name": "LayoutModel",
      "state": {
       "height": "25px",
       "width": "50%"
      }
     },
     "0382a642d150482b9dd171eab0014b4c": {
      "model_module": "@jupyter-widgets/controls",
      "model_module_version": "1.5.0",
      "model_name": "FloatProgressModel",
      "state": {
       "bar_style": "info",
       "description": "Progress:",
       "layout": "IPY_MODEL_3954ab72b39f4499a03a9a9441ad8257",
       "max": 1,
       "style": "IPY_MODEL_05605ed4e55e486ea73b63be83a0a5d1",
       "value": 1
      }
     },
     "03ca8c059a7147938be33d75d941c2a2": {
      "model_module": "@jupyter-widgets/controls",
      "model_module_version": "1.5.0",
      "model_name": "ProgressStyleModel",
      "state": {
       "description_width": ""
      }
     },
     "0412bb783ad540b787a16e42157fda82": {
      "model_module": "@jupyter-widgets/controls",
      "model_module_version": "1.5.0",
      "model_name": "ProgressStyleModel",
      "state": {
       "description_width": ""
      }
     },
     "042e416b22e448118b7a2eb88eb32ff7": {
      "model_module": "@jupyter-widgets/base",
      "model_module_version": "1.2.0",
      "model_name": "LayoutModel",
      "state": {
       "height": "25px",
       "width": "50%"
      }
     },
     "04b218313df447bead5a5b86bb78c51d": {
      "model_module": "@jupyter-widgets/base",
      "model_module_version": "1.2.0",
      "model_name": "LayoutModel",
      "state": {
       "height": "25px",
       "width": "50%"
      }
     },
     "04bdce3252534850ab6b304ffab57e36": {
      "model_module": "@jupyter-widgets/base",
      "model_module_version": "1.2.0",
      "model_name": "LayoutModel",
      "state": {
       "height": "25px",
       "width": "50%"
      }
     },
     "04d03f7d2df64f9cab339a6edaf47192": {
      "model_module": "@jupyter-widgets/base",
      "model_module_version": "1.2.0",
      "model_name": "LayoutModel",
      "state": {
       "height": "25px",
       "width": "50%"
      }
     },
     "0558a775392b47a8a6da825078201111": {
      "model_module": "@jupyter-widgets/base",
      "model_module_version": "1.2.0",
      "model_name": "LayoutModel",
      "state": {
       "height": "25px",
       "width": "50%"
      }
     },
     "055c7675394f4b2d89daa6ab063ac757": {
      "model_module": "@jupyter-widgets/base",
      "model_module_version": "1.2.0",
      "model_name": "LayoutModel",
      "state": {
       "height": "25px",
       "width": "50%"
      }
     },
     "05605ed4e55e486ea73b63be83a0a5d1": {
      "model_module": "@jupyter-widgets/controls",
      "model_module_version": "1.5.0",
      "model_name": "ProgressStyleModel",
      "state": {
       "description_width": ""
      }
     },
     "058c5a49e5794542bd90adce72092b64": {
      "model_module": "@jupyter-widgets/base",
      "model_module_version": "1.2.0",
      "model_name": "LayoutModel",
      "state": {
       "height": "25px",
       "width": "50%"
      }
     },
     "05b44ee42f0e48d594d0d8739f29854e": {
      "model_module": "@jupyter-widgets/controls",
      "model_module_version": "1.5.0",
      "model_name": "ProgressStyleModel",
      "state": {
       "description_width": ""
      }
     },
     "05c57c82f63f4fa29d7425edbe3e9559": {
      "model_module": "@jupyter-widgets/controls",
      "model_module_version": "1.5.0",
      "model_name": "ProgressStyleModel",
      "state": {
       "description_width": ""
      }
     },
     "064d6ac7caf1488cbd6ac135ca0f157a": {
      "model_module": "@jupyter-widgets/base",
      "model_module_version": "1.2.0",
      "model_name": "LayoutModel",
      "state": {
       "height": "25px",
       "width": "50%"
      }
     },
     "06ad145ca36a4093b7c37f44589ee0af": {
      "model_module": "@jupyter-widgets/controls",
      "model_module_version": "1.5.0",
      "model_name": "ProgressStyleModel",
      "state": {
       "description_width": ""
      }
     },
     "0710c1ac6eba42f0acd4f725779ce3bc": {
      "model_module": "@jupyter-widgets/base",
      "model_module_version": "1.2.0",
      "model_name": "LayoutModel",
      "state": {
       "height": "25px",
       "width": "50%"
      }
     },
     "0734261062894f7192d5a6e20da0b758": {
      "model_module": "@jupyter-widgets/base",
      "model_module_version": "1.2.0",
      "model_name": "LayoutModel",
      "state": {
       "height": "25px",
       "width": "50%"
      }
     },
     "076c64b9981d45a89ff2a0e123ffb5e6": {
      "model_module": "@jupyter-widgets/controls",
      "model_module_version": "1.5.0",
      "model_name": "ProgressStyleModel",
      "state": {
       "description_width": ""
      }
     },
     "078daf3a3b5d40cea88e45c053bd7dce": {
      "model_module": "@jupyter-widgets/controls",
      "model_module_version": "1.5.0",
      "model_name": "ProgressStyleModel",
      "state": {
       "description_width": ""
      }
     },
     "080326ea1f024f1b8e796d73b3f24490": {
      "model_module": "@jupyter-widgets/base",
      "model_module_version": "1.2.0",
      "model_name": "LayoutModel",
      "state": {
       "height": "25px",
       "width": "50%"
      }
     },
     "085c1ce339584712be144f4df4829496": {
      "model_module": "@jupyter-widgets/controls",
      "model_module_version": "1.5.0",
      "model_name": "ProgressStyleModel",
      "state": {
       "description_width": ""
      }
     },
     "085d152557954a9a9224ae73427c0b23": {
      "model_module": "@jupyter-widgets/controls",
      "model_module_version": "1.5.0",
      "model_name": "ProgressStyleModel",
      "state": {
       "description_width": ""
      }
     },
     "093e2c0419e24a29b028eb4c2ea8960e": {
      "model_module": "@jupyter-widgets/controls",
      "model_module_version": "1.5.0",
      "model_name": "ProgressStyleModel",
      "state": {
       "description_width": ""
      }
     },
     "09457982b8bb42c0a81ad8b17bcba0d3": {
      "model_module": "@jupyter-widgets/base",
      "model_module_version": "1.2.0",
      "model_name": "LayoutModel",
      "state": {
       "height": "25px",
       "width": "50%"
      }
     },
     "09bf93173a6f4025a45e2be894410b0a": {
      "model_module": "@jupyter-widgets/base",
      "model_module_version": "1.2.0",
      "model_name": "LayoutModel",
      "state": {
       "height": "25px",
       "width": "50%"
      }
     },
     "09c7af0868be4faa97b68ca1cd3b82d8": {
      "model_module": "@jupyter-widgets/base",
      "model_module_version": "1.2.0",
      "model_name": "LayoutModel",
      "state": {
       "height": "25px",
       "width": "50%"
      }
     },
     "0a0a50d2de134e91ab33d2e1d967ab3a": {
      "model_module": "@jupyter-widgets/controls",
      "model_module_version": "1.5.0",
      "model_name": "ProgressStyleModel",
      "state": {
       "description_width": ""
      }
     },
     "0a7b9367cca34ae998052c83e339c6fd": {
      "model_module": "@jupyter-widgets/controls",
      "model_module_version": "1.5.0",
      "model_name": "ProgressStyleModel",
      "state": {
       "description_width": ""
      }
     },
     "0a8c382b3fdb4244aa44f0dc3abc9fa7": {
      "model_module": "@jupyter-widgets/controls",
      "model_module_version": "1.5.0",
      "model_name": "ProgressStyleModel",
      "state": {
       "description_width": ""
      }
     },
     "0aefd2f3e4024b1dac69037d571cb6bf": {
      "model_module": "@jupyter-widgets/controls",
      "model_module_version": "1.5.0",
      "model_name": "ProgressStyleModel",
      "state": {
       "description_width": ""
      }
     },
     "0b866fb6f91f497dabc23100bcd38ebd": {
      "model_module": "@jupyter-widgets/base",
      "model_module_version": "1.2.0",
      "model_name": "LayoutModel",
      "state": {
       "height": "25px",
       "width": "50%"
      }
     },
     "0bab61405b654089b7cbc46edb39c340": {
      "model_module": "@jupyter-widgets/base",
      "model_module_version": "1.2.0",
      "model_name": "LayoutModel",
      "state": {
       "height": "25px",
       "width": "50%"
      }
     },
     "0bb6860a17b046c39f9db0e7ed46eeb5": {
      "model_module": "@jupyter-widgets/base",
      "model_module_version": "1.2.0",
      "model_name": "LayoutModel",
      "state": {
       "height": "25px",
       "width": "50%"
      }
     },
     "0bb7fbeb6a3e46d18e585713b95c9779": {
      "model_module": "@jupyter-widgets/base",
      "model_module_version": "1.2.0",
      "model_name": "LayoutModel",
      "state": {
       "height": "25px",
       "width": "50%"
      }
     },
     "0bef12423c0b46cfb6958d3e88a1fb14": {
      "model_module": "@jupyter-widgets/controls",
      "model_module_version": "1.5.0",
      "model_name": "ProgressStyleModel",
      "state": {
       "description_width": ""
      }
     },
     "0c4c26bbb3214494a82cdf75bace2fa5": {
      "model_module": "@jupyter-widgets/base",
      "model_module_version": "1.2.0",
      "model_name": "LayoutModel",
      "state": {
       "height": "25px",
       "width": "50%"
      }
     },
     "0c631572bec6498f86031340521c7475": {
      "model_module": "@jupyter-widgets/controls",
      "model_module_version": "1.5.0",
      "model_name": "ProgressStyleModel",
      "state": {
       "description_width": ""
      }
     },
     "0cc553e5e37e40268acd8671c6b2079e": {
      "model_module": "@jupyter-widgets/base",
      "model_module_version": "1.2.0",
      "model_name": "LayoutModel",
      "state": {
       "height": "25px",
       "width": "50%"
      }
     },
     "0ce3a8b6f42b45dc8dab65d1665c0fae": {
      "model_module": "@jupyter-widgets/base",
      "model_module_version": "1.2.0",
      "model_name": "LayoutModel",
      "state": {
       "height": "25px",
       "width": "50%"
      }
     },
     "0d64512d10b0440192bb4d47fb30d878": {
      "model_module": "@jupyter-widgets/base",
      "model_module_version": "1.2.0",
      "model_name": "LayoutModel",
      "state": {
       "height": "25px",
       "width": "50%"
      }
     },
     "0d650ae7311543f9ad51e077ae1988f3": {
      "model_module": "@jupyter-widgets/base",
      "model_module_version": "1.2.0",
      "model_name": "LayoutModel",
      "state": {
       "height": "25px",
       "width": "50%"
      }
     },
     "0db0004332034da3bfac9a6b6a37c931": {
      "model_module": "@jupyter-widgets/controls",
      "model_module_version": "1.5.0",
      "model_name": "FloatProgressModel",
      "state": {
       "bar_style": "info",
       "description": "Progress:",
       "layout": "IPY_MODEL_95c9cc840a66418eada314890bd22fa7",
       "max": 1,
       "style": "IPY_MODEL_739396a9f5af4c7a9301955bcda3f11a"
      }
     },
     "0dcc097a4c444f5d8ef8a959e96adcaf": {
      "model_module": "@jupyter-widgets/base",
      "model_module_version": "1.2.0",
      "model_name": "LayoutModel",
      "state": {
       "height": "25px",
       "width": "50%"
      }
     },
     "0de4cafbcd95455087941a8199b4d521": {
      "model_module": "@jupyter-widgets/base",
      "model_module_version": "1.2.0",
      "model_name": "LayoutModel",
      "state": {
       "height": "25px",
       "width": "50%"
      }
     },
     "0de539e8c85b4c25beab7f02b04233ff": {
      "model_module": "@jupyter-widgets/base",
      "model_module_version": "1.2.0",
      "model_name": "LayoutModel",
      "state": {
       "height": "25px",
       "width": "50%"
      }
     },
     "0df7fd87047c450e9ec7af5478a43a84": {
      "model_module": "@jupyter-widgets/base",
      "model_module_version": "1.2.0",
      "model_name": "LayoutModel",
      "state": {
       "height": "25px",
       "width": "50%"
      }
     },
     "0ed236ab28b14be2a222960eafe2b9fd": {
      "model_module": "@jupyter-widgets/controls",
      "model_module_version": "1.5.0",
      "model_name": "ProgressStyleModel",
      "state": {
       "description_width": ""
      }
     },
     "0edf547ff2b6412281f691d6f48eb779": {
      "model_module": "@jupyter-widgets/base",
      "model_module_version": "1.2.0",
      "model_name": "LayoutModel",
      "state": {
       "height": "25px",
       "width": "50%"
      }
     },
     "0edfbf173f4e49d39ea7010a7d0f37bc": {
      "model_module": "@jupyter-widgets/base",
      "model_module_version": "1.2.0",
      "model_name": "LayoutModel",
      "state": {
       "height": "25px",
       "width": "50%"
      }
     },
     "0ef3d5ed3aca4b2f9d3868ec2a127682": {
      "model_module": "@jupyter-widgets/base",
      "model_module_version": "1.2.0",
      "model_name": "LayoutModel",
      "state": {
       "height": "25px",
       "width": "50%"
      }
     },
     "0f6aac89d29349a89fbdc4e1e67d25bc": {
      "model_module": "@jupyter-widgets/controls",
      "model_module_version": "1.5.0",
      "model_name": "ProgressStyleModel",
      "state": {
       "description_width": ""
      }
     },
     "0f6e7094fb5b4d9299421150f3f7d7b0": {
      "model_module": "@jupyter-widgets/controls",
      "model_module_version": "1.5.0",
      "model_name": "ProgressStyleModel",
      "state": {
       "description_width": ""
      }
     },
     "0f7493fc9c3147438cbad92ffb365759": {
      "model_module": "@jupyter-widgets/base",
      "model_module_version": "1.2.0",
      "model_name": "LayoutModel",
      "state": {
       "height": "25px",
       "width": "50%"
      }
     },
     "1000c519352d45619dbe3055eebdf2ed": {
      "model_module": "@jupyter-widgets/controls",
      "model_module_version": "1.5.0",
      "model_name": "ProgressStyleModel",
      "state": {
       "description_width": ""
      }
     },
     "102111518fd24f828427d8cc0f6d9339": {
      "model_module": "@jupyter-widgets/controls",
      "model_module_version": "1.5.0",
      "model_name": "ProgressStyleModel",
      "state": {
       "description_width": ""
      }
     },
     "102877981c594769a7b4c5eba3b7f789": {
      "model_module": "@jupyter-widgets/controls",
      "model_module_version": "1.5.0",
      "model_name": "ProgressStyleModel",
      "state": {
       "description_width": ""
      }
     },
     "1041ec0a175b4569aeeb4f270d667da3": {
      "model_module": "@jupyter-widgets/base",
      "model_module_version": "1.2.0",
      "model_name": "LayoutModel",
      "state": {
       "height": "25px",
       "width": "50%"
      }
     },
     "104e2138eb96401b9224b0dab6c6c99b": {
      "model_module": "@jupyter-widgets/base",
      "model_module_version": "1.2.0",
      "model_name": "LayoutModel",
      "state": {
       "height": "25px",
       "width": "50%"
      }
     },
     "1054781a6b3e4d2786a016d280e034c3": {
      "model_module": "@jupyter-widgets/controls",
      "model_module_version": "1.5.0",
      "model_name": "FloatProgressModel",
      "state": {
       "bar_style": "info",
       "description": "Progress:",
       "layout": "IPY_MODEL_9a0052ad7ee34adba781cb4cd65f0ebd",
       "max": 1,
       "style": "IPY_MODEL_e3d8ae425822489d9846e11fad0f52e7"
      }
     },
     "11497b40c04a4f6e94e123f0101a3a86": {
      "model_module": "@jupyter-widgets/base",
      "model_module_version": "1.2.0",
      "model_name": "LayoutModel",
      "state": {
       "height": "25px",
       "width": "50%"
      }
     },
     "11561ba9e76e4e3098bb9b52abe508d2": {
      "model_module": "@jupyter-widgets/base",
      "model_module_version": "1.2.0",
      "model_name": "LayoutModel",
      "state": {
       "height": "25px",
       "width": "50%"
      }
     },
     "11b96a1ec77d463590fb7bab3a26dc4c": {
      "model_module": "@jupyter-widgets/controls",
      "model_module_version": "1.5.0",
      "model_name": "FloatProgressModel",
      "state": {
       "bar_style": "info",
       "description": "Progress:",
       "layout": "IPY_MODEL_3eb2dd5eec8a49e9904d06ac6a06ff22",
       "max": 1,
       "style": "IPY_MODEL_37e5af87bbcb449dbe497985f5126d89"
      }
     },
     "11c53bc4ca4a4b6ea37e0c42dc7aba2e": {
      "model_module": "@jupyter-widgets/base",
      "model_module_version": "1.2.0",
      "model_name": "LayoutModel",
      "state": {
       "height": "25px",
       "width": "50%"
      }
     },
     "11e86a07cb4e467d9bd87e97494cee85": {
      "model_module": "@jupyter-widgets/controls",
      "model_module_version": "1.5.0",
      "model_name": "ProgressStyleModel",
      "state": {
       "description_width": ""
      }
     },
     "1273173d24c04715996b868c460b0032": {
      "model_module": "@jupyter-widgets/base",
      "model_module_version": "1.2.0",
      "model_name": "LayoutModel",
      "state": {
       "height": "25px",
       "width": "50%"
      }
     },
     "127333b66d85425aae5cd7e3611a0e42": {
      "model_module": "@jupyter-widgets/controls",
      "model_module_version": "1.5.0",
      "model_name": "ProgressStyleModel",
      "state": {
       "description_width": ""
      }
     },
     "130bfabd442a44e79825542f4b81a6e5": {
      "model_module": "@jupyter-widgets/base",
      "model_module_version": "1.2.0",
      "model_name": "LayoutModel",
      "state": {
       "height": "25px",
       "width": "50%"
      }
     },
     "13645ecb6b814a7eb2ba185551649531": {
      "model_module": "@jupyter-widgets/controls",
      "model_module_version": "1.5.0",
      "model_name": "ProgressStyleModel",
      "state": {
       "description_width": ""
      }
     },
     "136d58b0706d424099814d255d50733f": {
      "model_module": "@jupyter-widgets/base",
      "model_module_version": "1.2.0",
      "model_name": "LayoutModel",
      "state": {
       "height": "25px",
       "width": "50%"
      }
     },
     "13b5a5043e604ae6be99093741e1d67c": {
      "model_module": "@jupyter-widgets/controls",
      "model_module_version": "1.5.0",
      "model_name": "ProgressStyleModel",
      "state": {
       "description_width": ""
      }
     },
     "140a83bde102494084f6ec9e3439c0a9": {
      "model_module": "@jupyter-widgets/base",
      "model_module_version": "1.2.0",
      "model_name": "LayoutModel",
      "state": {
       "height": "25px",
       "width": "50%"
      }
     },
     "1448a0e2c0184ae99601921991e5f00f": {
      "model_module": "@jupyter-widgets/controls",
      "model_module_version": "1.5.0",
      "model_name": "ProgressStyleModel",
      "state": {
       "description_width": ""
      }
     },
     "1471bfb4d78b4f469519f869b4c85cc5": {
      "model_module": "@jupyter-widgets/base",
      "model_module_version": "1.2.0",
      "model_name": "LayoutModel",
      "state": {
       "height": "25px",
       "width": "50%"
      }
     },
     "14c3f1c9850c4183a44c10bf8db752fd": {
      "model_module": "@jupyter-widgets/controls",
      "model_module_version": "1.5.0",
      "model_name": "ProgressStyleModel",
      "state": {
       "description_width": ""
      }
     },
     "14c6783030b246a1b2a5e0ce2f90db6c": {
      "model_module": "@jupyter-widgets/controls",
      "model_module_version": "1.5.0",
      "model_name": "ProgressStyleModel",
      "state": {
       "description_width": ""
      }
     },
     "14c9669409e54d10a0e4ad885df3225d": {
      "model_module": "@jupyter-widgets/controls",
      "model_module_version": "1.5.0",
      "model_name": "ProgressStyleModel",
      "state": {
       "description_width": ""
      }
     },
     "152a9ede98034b08b3dc6ce9baaac7a1": {
      "model_module": "@jupyter-widgets/controls",
      "model_module_version": "1.5.0",
      "model_name": "ProgressStyleModel",
      "state": {
       "description_width": ""
      }
     },
     "156040af4b6343d89954fb35ac9d6fb2": {
      "model_module": "@jupyter-widgets/controls",
      "model_module_version": "1.5.0",
      "model_name": "ProgressStyleModel",
      "state": {
       "description_width": ""
      }
     },
     "156e249411d842689cc2470017b79320": {
      "model_module": "@jupyter-widgets/base",
      "model_module_version": "1.2.0",
      "model_name": "LayoutModel",
      "state": {
       "height": "25px",
       "width": "50%"
      }
     },
     "15a26d93236f4dc08564c3d74267d6a0": {
      "model_module": "@jupyter-widgets/base",
      "model_module_version": "1.2.0",
      "model_name": "LayoutModel",
      "state": {
       "height": "25px",
       "width": "50%"
      }
     },
     "15d4cb76122d431ea61015644533df98": {
      "model_module": "@jupyter-widgets/controls",
      "model_module_version": "1.5.0",
      "model_name": "FloatProgressModel",
      "state": {
       "bar_style": "info",
       "description": "Progress:",
       "layout": "IPY_MODEL_30671e3b2e7448b7841e8e6c2e502cb9",
       "max": 1,
       "style": "IPY_MODEL_76de0acadecd46c79cfb21a462e9124b"
      }
     },
     "15e65c8cea6d4c17a208fdfd5ee706e4": {
      "model_module": "@jupyter-widgets/base",
      "model_module_version": "1.2.0",
      "model_name": "LayoutModel",
      "state": {
       "height": "25px",
       "width": "50%"
      }
     },
     "16245e3ff7004fa5ad444d1e3acd9930": {
      "model_module": "@jupyter-widgets/base",
      "model_module_version": "1.2.0",
      "model_name": "LayoutModel",
      "state": {
       "height": "25px",
       "width": "50%"
      }
     },
     "164f24f8aefb418c8e6fa4bc8c43abd2": {
      "model_module": "@jupyter-widgets/base",
      "model_module_version": "1.2.0",
      "model_name": "LayoutModel",
      "state": {
       "height": "25px",
       "width": "50%"
      }
     },
     "1666a7c54a084e69af32e954f313be79": {
      "model_module": "@jupyter-widgets/base",
      "model_module_version": "1.2.0",
      "model_name": "LayoutModel",
      "state": {
       "height": "25px",
       "width": "50%"
      }
     },
     "166c026eee31457b8b25b1f3c5569509": {
      "model_module": "@jupyter-widgets/base",
      "model_module_version": "1.2.0",
      "model_name": "LayoutModel",
      "state": {
       "height": "25px",
       "width": "50%"
      }
     },
     "1690d9414c654f76bbac622f0fbcec78": {
      "model_module": "@jupyter-widgets/base",
      "model_module_version": "1.2.0",
      "model_name": "LayoutModel",
      "state": {
       "height": "25px",
       "width": "50%"
      }
     },
     "169e768040a142af901d1f899f386512": {
      "model_module": "@jupyter-widgets/base",
      "model_module_version": "1.2.0",
      "model_name": "LayoutModel",
      "state": {
       "height": "25px",
       "width": "50%"
      }
     },
     "16b98890924a4b39af9a1a6eba8815c0": {
      "model_module": "@jupyter-widgets/controls",
      "model_module_version": "1.5.0",
      "model_name": "ProgressStyleModel",
      "state": {
       "description_width": ""
      }
     },
     "16d8b222fe464b63ada72dd4a2747da9": {
      "model_module": "@jupyter-widgets/controls",
      "model_module_version": "1.5.0",
      "model_name": "ProgressStyleModel",
      "state": {
       "description_width": ""
      }
     },
     "170a2082efac466ca04e922e229d52f1": {
      "model_module": "@jupyter-widgets/controls",
      "model_module_version": "1.5.0",
      "model_name": "ProgressStyleModel",
      "state": {
       "description_width": ""
      }
     },
     "1743ad5b72d64ee8af9210e6137dfb87": {
      "model_module": "@jupyter-widgets/controls",
      "model_module_version": "1.5.0",
      "model_name": "ProgressStyleModel",
      "state": {
       "description_width": ""
      }
     },
     "17bbfa2163f94428b52355882337a008": {
      "model_module": "@jupyter-widgets/controls",
      "model_module_version": "1.5.0",
      "model_name": "ProgressStyleModel",
      "state": {
       "description_width": ""
      }
     },
     "17f7e148722e49ca80de2023ad1f2300": {
      "model_module": "@jupyter-widgets/controls",
      "model_module_version": "1.5.0",
      "model_name": "FloatProgressModel",
      "state": {
       "bar_style": "info",
       "description": "Progress:",
       "layout": "IPY_MODEL_a95a1641363d4fbcb7d0950047490f9b",
       "max": 1,
       "style": "IPY_MODEL_a147b9907b4d495f8835172bf9dbe153"
      }
     },
     "17f94e8a6240431f9f04a252a34f1f54": {
      "model_module": "@jupyter-widgets/base",
      "model_module_version": "1.2.0",
      "model_name": "LayoutModel",
      "state": {
       "height": "25px",
       "width": "50%"
      }
     },
     "1884a5fbcd1a4a94997de8a85b77fb6b": {
      "model_module": "@jupyter-widgets/base",
      "model_module_version": "1.2.0",
      "model_name": "LayoutModel",
      "state": {
       "height": "25px",
       "width": "50%"
      }
     },
     "189067b371234e2cb44aa7f7fa54e6ca": {
      "model_module": "@jupyter-widgets/controls",
      "model_module_version": "1.5.0",
      "model_name": "ProgressStyleModel",
      "state": {
       "description_width": ""
      }
     },
     "18bcd75137234b17ad319dcbe3482705": {
      "model_module": "@jupyter-widgets/controls",
      "model_module_version": "1.5.0",
      "model_name": "FloatProgressModel",
      "state": {
       "bar_style": "info",
       "description": "Progress:",
       "layout": "IPY_MODEL_a40bcb230b7740f58092bb4f3e742e36",
       "max": 1,
       "style": "IPY_MODEL_9bce1de069984a08a85f0682075edf4a"
      }
     },
     "18bdd5937a0d4f02a6d8713905923220": {
      "model_module": "@jupyter-widgets/controls",
      "model_module_version": "1.5.0",
      "model_name": "ProgressStyleModel",
      "state": {
       "description_width": ""
      }
     },
     "19ddd7c312da40639db10abc13a13acf": {
      "model_module": "@jupyter-widgets/base",
      "model_module_version": "1.2.0",
      "model_name": "LayoutModel",
      "state": {
       "height": "25px",
       "width": "50%"
      }
     },
     "1a1bb19ae9964c759a8b83f5314190db": {
      "model_module": "@jupyter-widgets/base",
      "model_module_version": "1.2.0",
      "model_name": "LayoutModel",
      "state": {
       "height": "25px",
       "width": "50%"
      }
     },
     "1a467c2454fa482a8187e48f7d34d2da": {
      "model_module": "@jupyter-widgets/controls",
      "model_module_version": "1.5.0",
      "model_name": "ProgressStyleModel",
      "state": {
       "description_width": ""
      }
     },
     "1a4a1a4563d6488eb0a1ccc78117c6d5": {
      "model_module": "@jupyter-widgets/controls",
      "model_module_version": "1.5.0",
      "model_name": "ProgressStyleModel",
      "state": {
       "description_width": ""
      }
     },
     "1a5b61612b044e09a6c24ff1a77420ee": {
      "model_module": "@jupyter-widgets/base",
      "model_module_version": "1.2.0",
      "model_name": "LayoutModel",
      "state": {
       "height": "25px",
       "width": "50%"
      }
     },
     "1a5ea58d42dc441b99ef2fd9005d1bc1": {
      "model_module": "@jupyter-widgets/base",
      "model_module_version": "1.2.0",
      "model_name": "LayoutModel",
      "state": {
       "height": "25px",
       "width": "50%"
      }
     },
     "1a6abdde092e49e4bf70f722b209c843": {
      "model_module": "@jupyter-widgets/controls",
      "model_module_version": "1.5.0",
      "model_name": "ProgressStyleModel",
      "state": {
       "description_width": ""
      }
     },
     "1a6ed134043c48b5a0f68de1b30bf4f2": {
      "model_module": "@jupyter-widgets/controls",
      "model_module_version": "1.5.0",
      "model_name": "ProgressStyleModel",
      "state": {
       "description_width": ""
      }
     },
     "1aee53d061ad4d7db816ac5b20a59ed2": {
      "model_module": "@jupyter-widgets/controls",
      "model_module_version": "1.5.0",
      "model_name": "ProgressStyleModel",
      "state": {
       "description_width": ""
      }
     },
     "1b179ee691594450816679a243879f15": {
      "model_module": "@jupyter-widgets/controls",
      "model_module_version": "1.5.0",
      "model_name": "ProgressStyleModel",
      "state": {
       "description_width": ""
      }
     },
     "1b819a7aa0d64351b3d9655e22014782": {
      "model_module": "@jupyter-widgets/base",
      "model_module_version": "1.2.0",
      "model_name": "LayoutModel",
      "state": {
       "height": "25px",
       "width": "50%"
      }
     },
     "1ba5023ece0a45daa7cbda6411acde9e": {
      "model_module": "@jupyter-widgets/controls",
      "model_module_version": "1.5.0",
      "model_name": "ProgressStyleModel",
      "state": {
       "description_width": ""
      }
     },
     "1bfd56e62253428fb0a9fc9a803e2dd2": {
      "model_module": "@jupyter-widgets/controls",
      "model_module_version": "1.5.0",
      "model_name": "ProgressStyleModel",
      "state": {
       "description_width": ""
      }
     },
     "1c14cb60dac64d82a0ca6105753f617f": {
      "model_module": "@jupyter-widgets/controls",
      "model_module_version": "1.5.0",
      "model_name": "ProgressStyleModel",
      "state": {
       "description_width": ""
      }
     },
     "1c22cc8220f7424d8b4038d2347d587d": {
      "model_module": "@jupyter-widgets/controls",
      "model_module_version": "1.5.0",
      "model_name": "ProgressStyleModel",
      "state": {
       "description_width": ""
      }
     },
     "1c66a8855025405aadad7617c8e27cff": {
      "model_module": "@jupyter-widgets/controls",
      "model_module_version": "1.5.0",
      "model_name": "ProgressStyleModel",
      "state": {
       "description_width": ""
      }
     },
     "1c85aedc3ad5476897a5b0e53d490a96": {
      "model_module": "@jupyter-widgets/controls",
      "model_module_version": "1.5.0",
      "model_name": "ProgressStyleModel",
      "state": {
       "description_width": ""
      }
     },
     "1c8be7a040ae47a0adc0d9d0a05bb860": {
      "model_module": "@jupyter-widgets/base",
      "model_module_version": "1.2.0",
      "model_name": "LayoutModel",
      "state": {
       "height": "25px",
       "width": "50%"
      }
     },
     "1cf326d6dff248dd8750573d1a4f0feb": {
      "model_module": "@jupyter-widgets/base",
      "model_module_version": "1.2.0",
      "model_name": "LayoutModel",
      "state": {
       "height": "25px",
       "width": "50%"
      }
     },
     "1d17ed23bd8945f1a9eed1d48b138303": {
      "model_module": "@jupyter-widgets/controls",
      "model_module_version": "1.5.0",
      "model_name": "ProgressStyleModel",
      "state": {
       "description_width": ""
      }
     },
     "1d4bf7051d0e4a7db2610435b4f781a0": {
      "model_module": "@jupyter-widgets/controls",
      "model_module_version": "1.5.0",
      "model_name": "ProgressStyleModel",
      "state": {
       "description_width": ""
      }
     },
     "1d4c2b0de06e4e209b3b064dccafaeed": {
      "model_module": "@jupyter-widgets/base",
      "model_module_version": "1.2.0",
      "model_name": "LayoutModel",
      "state": {
       "height": "25px",
       "width": "50%"
      }
     },
     "1d712c4d523547b19de7cac10e487687": {
      "model_module": "@jupyter-widgets/controls",
      "model_module_version": "1.5.0",
      "model_name": "ProgressStyleModel",
      "state": {
       "description_width": ""
      }
     },
     "1dad54bad1d64b73beb5efeabac0d34c": {
      "model_module": "@jupyter-widgets/controls",
      "model_module_version": "1.5.0",
      "model_name": "ProgressStyleModel",
      "state": {
       "description_width": ""
      }
     },
     "1dad84ba78eb4e32ad8f8b2217082ec7": {
      "model_module": "@jupyter-widgets/controls",
      "model_module_version": "1.5.0",
      "model_name": "ProgressStyleModel",
      "state": {
       "description_width": ""
      }
     },
     "1ddf6366fd234c1d9e59faa9418f7e6c": {
      "model_module": "@jupyter-widgets/controls",
      "model_module_version": "1.5.0",
      "model_name": "ProgressStyleModel",
      "state": {
       "description_width": ""
      }
     },
     "1e92b2bfeb09423a95183cc01612ade1": {
      "model_module": "@jupyter-widgets/base",
      "model_module_version": "1.2.0",
      "model_name": "LayoutModel",
      "state": {
       "height": "25px",
       "width": "50%"
      }
     },
     "1ea6c536db26468daa9a3f3897df2300": {
      "model_module": "@jupyter-widgets/controls",
      "model_module_version": "1.5.0",
      "model_name": "ProgressStyleModel",
      "state": {
       "description_width": ""
      }
     },
     "1f64b63c393745f1a07d9d85d82ea2a4": {
      "model_module": "@jupyter-widgets/base",
      "model_module_version": "1.2.0",
      "model_name": "LayoutModel",
      "state": {
       "height": "25px",
       "width": "50%"
      }
     },
     "1f66df1ddbd548ac902eb91ad2913d14": {
      "model_module": "@jupyter-widgets/base",
      "model_module_version": "1.2.0",
      "model_name": "LayoutModel",
      "state": {
       "height": "25px",
       "width": "50%"
      }
     },
     "1f9832adfa1f48d0bb9f2027bf4ac50e": {
      "model_module": "@jupyter-widgets/base",
      "model_module_version": "1.2.0",
      "model_name": "LayoutModel",
      "state": {
       "height": "25px",
       "width": "50%"
      }
     },
     "1fb269dfd6834845a3a96ffc3e539320": {
      "model_module": "@jupyter-widgets/base",
      "model_module_version": "1.2.0",
      "model_name": "LayoutModel",
      "state": {
       "height": "25px",
       "width": "50%"
      }
     },
     "1ff61795bf7c4c87ba49ae70fd10798e": {
      "model_module": "@jupyter-widgets/controls",
      "model_module_version": "1.5.0",
      "model_name": "ProgressStyleModel",
      "state": {
       "description_width": ""
      }
     },
     "20ac553352bc497ab8a075947cae61f5": {
      "model_module": "@jupyter-widgets/base",
      "model_module_version": "1.2.0",
      "model_name": "LayoutModel",
      "state": {
       "height": "25px",
       "width": "50%"
      }
     },
     "21656c73d45646f2a4574251b1e87eb5": {
      "model_module": "@jupyter-widgets/controls",
      "model_module_version": "1.5.0",
      "model_name": "ProgressStyleModel",
      "state": {
       "description_width": ""
      }
     },
     "21acdfad74ae4957a08a1e52737e84a3": {
      "model_module": "@jupyter-widgets/base",
      "model_module_version": "1.2.0",
      "model_name": "LayoutModel",
      "state": {
       "height": "25px",
       "width": "50%"
      }
     },
     "229cf4296ed544129409e0b24fb83ace": {
      "model_module": "@jupyter-widgets/controls",
      "model_module_version": "1.5.0",
      "model_name": "ProgressStyleModel",
      "state": {
       "description_width": ""
      }
     },
     "22ea665e30294bf7bd0d821578370d4d": {
      "model_module": "@jupyter-widgets/controls",
      "model_module_version": "1.5.0",
      "model_name": "ProgressStyleModel",
      "state": {
       "description_width": ""
      }
     },
     "2331267c0ce844dcb8410d830815ea39": {
      "model_module": "@jupyter-widgets/base",
      "model_module_version": "1.2.0",
      "model_name": "LayoutModel",
      "state": {
       "height": "25px",
       "width": "50%"
      }
     },
     "236285b454314608966018065124e63a": {
      "model_module": "@jupyter-widgets/base",
      "model_module_version": "1.2.0",
      "model_name": "LayoutModel",
      "state": {
       "height": "25px",
       "width": "50%"
      }
     },
     "236a3aae055a4a24bc1ea97176b78c5a": {
      "model_module": "@jupyter-widgets/base",
      "model_module_version": "1.2.0",
      "model_name": "LayoutModel",
      "state": {
       "height": "25px",
       "width": "50%"
      }
     },
     "23adf1796d4946148a38a8d7cf367e03": {
      "model_module": "@jupyter-widgets/base",
      "model_module_version": "1.2.0",
      "model_name": "LayoutModel",
      "state": {
       "height": "25px",
       "width": "50%"
      }
     },
     "23e53f007b3d4493aa6180296dd633f0": {
      "model_module": "@jupyter-widgets/base",
      "model_module_version": "1.2.0",
      "model_name": "LayoutModel",
      "state": {
       "height": "25px",
       "width": "50%"
      }
     },
     "23f70782e6594e7ca062562fcdc92721": {
      "model_module": "@jupyter-widgets/controls",
      "model_module_version": "1.5.0",
      "model_name": "ProgressStyleModel",
      "state": {
       "description_width": ""
      }
     },
     "24259493f30644cc87d5187fa831a47f": {
      "model_module": "@jupyter-widgets/base",
      "model_module_version": "1.2.0",
      "model_name": "LayoutModel",
      "state": {
       "height": "25px",
       "width": "50%"
      }
     },
     "247d508f8eaf48d190d7865fa7b7034e": {
      "model_module": "@jupyter-widgets/base",
      "model_module_version": "1.2.0",
      "model_name": "LayoutModel",
      "state": {
       "height": "25px",
       "width": "50%"
      }
     },
     "24809714f11e40e5a1d86fba6cc8e70f": {
      "model_module": "@jupyter-widgets/base",
      "model_module_version": "1.2.0",
      "model_name": "LayoutModel",
      "state": {
       "height": "25px",
       "width": "50%"
      }
     },
     "24d7ff13420a41f99f8450b78075773d": {
      "model_module": "@jupyter-widgets/base",
      "model_module_version": "1.2.0",
      "model_name": "LayoutModel",
      "state": {
       "height": "25px",
       "width": "50%"
      }
     },
     "24db7384c33d432fb7fbd4a5c89524c6": {
      "model_module": "@jupyter-widgets/base",
      "model_module_version": "1.2.0",
      "model_name": "LayoutModel",
      "state": {
       "height": "25px",
       "width": "50%"
      }
     },
     "25140172f82647dbbb9d5eb092b9727b": {
      "model_module": "@jupyter-widgets/controls",
      "model_module_version": "1.5.0",
      "model_name": "ProgressStyleModel",
      "state": {
       "description_width": ""
      }
     },
     "252da52af9ce4f03a2e145d4267a1765": {
      "model_module": "@jupyter-widgets/base",
      "model_module_version": "1.2.0",
      "model_name": "LayoutModel",
      "state": {
       "height": "25px",
       "width": "50%"
      }
     },
     "256993331185487e927ad2eb4ad3ac70": {
      "model_module": "@jupyter-widgets/controls",
      "model_module_version": "1.5.0",
      "model_name": "ProgressStyleModel",
      "state": {
       "description_width": ""
      }
     },
     "25a63d0a16cb4b0a8bec7b82ae961b48": {
      "model_module": "@jupyter-widgets/controls",
      "model_module_version": "1.5.0",
      "model_name": "ProgressStyleModel",
      "state": {
       "description_width": ""
      }
     },
     "2677bb1480f04f598b4e54a6282cace9": {
      "model_module": "@jupyter-widgets/controls",
      "model_module_version": "1.5.0",
      "model_name": "ProgressStyleModel",
      "state": {
       "description_width": ""
      }
     },
     "267e3129e75247b8bc232903323534c1": {
      "model_module": "@jupyter-widgets/base",
      "model_module_version": "1.2.0",
      "model_name": "LayoutModel",
      "state": {
       "height": "25px",
       "width": "50%"
      }
     },
     "26c579307549491199f244fb4cc7ef65": {
      "model_module": "@jupyter-widgets/controls",
      "model_module_version": "1.5.0",
      "model_name": "ProgressStyleModel",
      "state": {
       "description_width": ""
      }
     },
     "271364e7cea9409e8e7e7a963db19212": {
      "model_module": "@jupyter-widgets/controls",
      "model_module_version": "1.5.0",
      "model_name": "ProgressStyleModel",
      "state": {
       "description_width": ""
      }
     },
     "2727aa9fe8c54f1280d529c189a7ab18": {
      "model_module": "@jupyter-widgets/base",
      "model_module_version": "1.2.0",
      "model_name": "LayoutModel",
      "state": {
       "height": "25px",
       "width": "50%"
      }
     },
     "27781924aabd4df180a0c87f3a104709": {
      "model_module": "@jupyter-widgets/controls",
      "model_module_version": "1.5.0",
      "model_name": "ProgressStyleModel",
      "state": {
       "description_width": ""
      }
     },
     "2782230dda8f432cb2fd02b1b2c817f5": {
      "model_module": "@jupyter-widgets/controls",
      "model_module_version": "1.5.0",
      "model_name": "ProgressStyleModel",
      "state": {
       "description_width": ""
      }
     },
     "278b578d19c14d899a6ece328c7f42b3": {
      "model_module": "@jupyter-widgets/base",
      "model_module_version": "1.2.0",
      "model_name": "LayoutModel",
      "state": {
       "height": "25px",
       "width": "50%"
      }
     },
     "27a306f31c444cca9cab799befd851d9": {
      "model_module": "@jupyter-widgets/controls",
      "model_module_version": "1.5.0",
      "model_name": "ProgressStyleModel",
      "state": {
       "description_width": ""
      }
     },
     "27c1194b4f5c44dcb9fc7beeebeecaad": {
      "model_module": "@jupyter-widgets/controls",
      "model_module_version": "1.5.0",
      "model_name": "ProgressStyleModel",
      "state": {
       "description_width": ""
      }
     },
     "27c84a320932438493e64aec39e9be13": {
      "model_module": "@jupyter-widgets/controls",
      "model_module_version": "1.5.0",
      "model_name": "ProgressStyleModel",
      "state": {
       "description_width": ""
      }
     },
     "27f3e448010c447b9799c84514c47c81": {
      "model_module": "@jupyter-widgets/base",
      "model_module_version": "1.2.0",
      "model_name": "LayoutModel",
      "state": {
       "height": "25px",
       "width": "50%"
      }
     },
     "2858d836c58c4f738f4701ee67c11f87": {
      "model_module": "@jupyter-widgets/controls",
      "model_module_version": "1.5.0",
      "model_name": "ProgressStyleModel",
      "state": {
       "description_width": ""
      }
     },
     "285f370a72b84544ad9f74c59b2264db": {
      "model_module": "@jupyter-widgets/base",
      "model_module_version": "1.2.0",
      "model_name": "LayoutModel",
      "state": {
       "height": "25px",
       "width": "50%"
      }
     },
     "28cb909f8d424a3f8b2b5a0c19908410": {
      "model_module": "@jupyter-widgets/controls",
      "model_module_version": "1.5.0",
      "model_name": "ProgressStyleModel",
      "state": {
       "description_width": ""
      }
     },
     "28d49a49fe2b4b3ab19110ec7ab9d977": {
      "model_module": "@jupyter-widgets/controls",
      "model_module_version": "1.5.0",
      "model_name": "ProgressStyleModel",
      "state": {
       "description_width": ""
      }
     },
     "28dc283ceaf04fde8ae95ec7aa272c69": {
      "model_module": "@jupyter-widgets/base",
      "model_module_version": "1.2.0",
      "model_name": "LayoutModel",
      "state": {
       "height": "25px",
       "width": "50%"
      }
     },
     "295161b4572a4bf6bb490afb4e015d0f": {
      "model_module": "@jupyter-widgets/controls",
      "model_module_version": "1.5.0",
      "model_name": "ProgressStyleModel",
      "state": {
       "description_width": ""
      }
     },
     "2953a74d560049d19bba66862836cc07": {
      "model_module": "@jupyter-widgets/controls",
      "model_module_version": "1.5.0",
      "model_name": "ProgressStyleModel",
      "state": {
       "description_width": ""
      }
     },
     "297894cde32b4d33bdbe02da4fcbdad9": {
      "model_module": "@jupyter-widgets/base",
      "model_module_version": "1.2.0",
      "model_name": "LayoutModel",
      "state": {
       "height": "25px",
       "width": "50%"
      }
     },
     "29f7d609c6c040f7a21a748743e93612": {
      "model_module": "@jupyter-widgets/controls",
      "model_module_version": "1.5.0",
      "model_name": "ProgressStyleModel",
      "state": {
       "description_width": ""
      }
     },
     "2a26fe52cdb24f588618cca5e09c01f6": {
      "model_module": "@jupyter-widgets/controls",
      "model_module_version": "1.5.0",
      "model_name": "ProgressStyleModel",
      "state": {
       "description_width": ""
      }
     },
     "2a486e622fd3466b8260130e6cf30b85": {
      "model_module": "@jupyter-widgets/controls",
      "model_module_version": "1.5.0",
      "model_name": "ProgressStyleModel",
      "state": {
       "description_width": ""
      }
     },
     "2a9fc6d0f6cb4f9fb527704584bc5d6a": {
      "model_module": "@jupyter-widgets/controls",
      "model_module_version": "1.5.0",
      "model_name": "ProgressStyleModel",
      "state": {
       "description_width": ""
      }
     },
     "2ac71df2cd434b1ab82f0531517de9da": {
      "model_module": "@jupyter-widgets/controls",
      "model_module_version": "1.5.0",
      "model_name": "FloatProgressModel",
      "state": {
       "bar_style": "info",
       "description": "Progress:",
       "layout": "IPY_MODEL_2c9cd47e526d46fc9358e3411c9c0ebc",
       "max": 1,
       "style": "IPY_MODEL_324fc9f311854c3698227db2b05d48d5"
      }
     },
     "2b2de3c99e914f819c655ff26730bb50": {
      "model_module": "@jupyter-widgets/base",
      "model_module_version": "1.2.0",
      "model_name": "LayoutModel",
      "state": {
       "height": "25px",
       "width": "50%"
      }
     },
     "2b2f628682f24412a56aee4463be11f4": {
      "model_module": "@jupyter-widgets/controls",
      "model_module_version": "1.5.0",
      "model_name": "ProgressStyleModel",
      "state": {
       "description_width": ""
      }
     },
     "2b36cbd0e4094390976da7f870d4dc89": {
      "model_module": "@jupyter-widgets/controls",
      "model_module_version": "1.5.0",
      "model_name": "ProgressStyleModel",
      "state": {
       "description_width": ""
      }
     },
     "2baca5b450c84b4a897731409601424a": {
      "model_module": "@jupyter-widgets/base",
      "model_module_version": "1.2.0",
      "model_name": "LayoutModel",
      "state": {
       "height": "25px",
       "width": "50%"
      }
     },
     "2bdd1db10a094b39ab40b8e028db8439": {
      "model_module": "@jupyter-widgets/base",
      "model_module_version": "1.2.0",
      "model_name": "LayoutModel",
      "state": {
       "height": "25px",
       "width": "50%"
      }
     },
     "2c2881b8563243af84f0dcf6d7128ab2": {
      "model_module": "@jupyter-widgets/controls",
      "model_module_version": "1.5.0",
      "model_name": "ProgressStyleModel",
      "state": {
       "description_width": ""
      }
     },
     "2c32d5645a514472ad24f227a3390f1f": {
      "model_module": "@jupyter-widgets/controls",
      "model_module_version": "1.5.0",
      "model_name": "ProgressStyleModel",
      "state": {
       "description_width": ""
      }
     },
     "2c572c58ace44fc4a5ca8d06ade25a76": {
      "model_module": "@jupyter-widgets/controls",
      "model_module_version": "1.5.0",
      "model_name": "FloatProgressModel",
      "state": {
       "bar_style": "info",
       "description": "Progress:",
       "layout": "IPY_MODEL_6105cff411c846689fd172f9ac433616",
       "max": 1,
       "style": "IPY_MODEL_44740e2b043b45d78867e9ba973f3452"
      }
     },
     "2c9cd47e526d46fc9358e3411c9c0ebc": {
      "model_module": "@jupyter-widgets/base",
      "model_module_version": "1.2.0",
      "model_name": "LayoutModel",
      "state": {
       "height": "25px",
       "width": "50%"
      }
     },
     "2cc0a30cbec745a2a83d816963fc0c75": {
      "model_module": "@jupyter-widgets/base",
      "model_module_version": "1.2.0",
      "model_name": "LayoutModel",
      "state": {
       "height": "25px",
       "width": "50%"
      }
     },
     "2cc303bfe7ef4620a5e29bc069997292": {
      "model_module": "@jupyter-widgets/base",
      "model_module_version": "1.2.0",
      "model_name": "LayoutModel",
      "state": {
       "height": "25px",
       "width": "50%"
      }
     },
     "2d49c44490c0432696c4012ddf9dc778": {
      "model_module": "@jupyter-widgets/base",
      "model_module_version": "1.2.0",
      "model_name": "LayoutModel",
      "state": {
       "height": "25px",
       "width": "50%"
      }
     },
     "2d4fa3ffdb6b48529cc9c0e27c930a5f": {
      "model_module": "@jupyter-widgets/base",
      "model_module_version": "1.2.0",
      "model_name": "LayoutModel",
      "state": {
       "height": "25px",
       "width": "50%"
      }
     },
     "2dfba8218e5149bba2635818389ac039": {
      "model_module": "@jupyter-widgets/base",
      "model_module_version": "1.2.0",
      "model_name": "LayoutModel",
      "state": {
       "height": "25px",
       "width": "50%"
      }
     },
     "2e5b6f92c3ed450e85aa16176aa2c790": {
      "model_module": "@jupyter-widgets/base",
      "model_module_version": "1.2.0",
      "model_name": "LayoutModel",
      "state": {
       "height": "25px",
       "width": "50%"
      }
     },
     "2fd27ee8b99d47d49b3775f4db2dc287": {
      "model_module": "@jupyter-widgets/base",
      "model_module_version": "1.2.0",
      "model_name": "LayoutModel",
      "state": {
       "height": "25px",
       "width": "50%"
      }
     },
     "2fd953457668471d98929f90a901c8d8": {
      "model_module": "@jupyter-widgets/base",
      "model_module_version": "1.2.0",
      "model_name": "LayoutModel",
      "state": {
       "height": "25px",
       "width": "50%"
      }
     },
     "305a91270b454e7c89b5b35c26f5f1dd": {
      "model_module": "@jupyter-widgets/base",
      "model_module_version": "1.2.0",
      "model_name": "LayoutModel",
      "state": {
       "height": "25px",
       "width": "50%"
      }
     },
     "30671e3b2e7448b7841e8e6c2e502cb9": {
      "model_module": "@jupyter-widgets/base",
      "model_module_version": "1.2.0",
      "model_name": "LayoutModel",
      "state": {
       "height": "25px",
       "width": "50%"
      }
     },
     "30c8acc9b49b45b8864c6d08676c30ba": {
      "model_module": "@jupyter-widgets/base",
      "model_module_version": "1.2.0",
      "model_name": "LayoutModel",
      "state": {
       "height": "25px",
       "width": "50%"
      }
     },
     "30e5bceeaa6245d5b10af2abd5e0a1bb": {
      "model_module": "@jupyter-widgets/base",
      "model_module_version": "1.2.0",
      "model_name": "LayoutModel",
      "state": {
       "height": "25px",
       "width": "50%"
      }
     },
     "310ab92ef88f4fecac48379ec9ffb56a": {
      "model_module": "@jupyter-widgets/controls",
      "model_module_version": "1.5.0",
      "model_name": "ProgressStyleModel",
      "state": {
       "description_width": ""
      }
     },
     "311f46b7b93348068c5add0c5e8e07a5": {
      "model_module": "@jupyter-widgets/controls",
      "model_module_version": "1.5.0",
      "model_name": "ProgressStyleModel",
      "state": {
       "description_width": ""
      }
     },
     "3165f7f9be854192b7e1edba3561953f": {
      "model_module": "@jupyter-widgets/base",
      "model_module_version": "1.2.0",
      "model_name": "LayoutModel",
      "state": {
       "height": "25px",
       "width": "50%"
      }
     },
     "318c4972b1c141489d1a3cee9af46072": {
      "model_module": "@jupyter-widgets/base",
      "model_module_version": "1.2.0",
      "model_name": "LayoutModel",
      "state": {
       "height": "25px",
       "width": "50%"
      }
     },
     "31cf1364f24c405eaeb647d606092488": {
      "model_module": "@jupyter-widgets/base",
      "model_module_version": "1.2.0",
      "model_name": "LayoutModel",
      "state": {
       "height": "25px",
       "width": "50%"
      }
     },
     "321e9c9625494b26b9ecebb4b2d067df": {
      "model_module": "@jupyter-widgets/controls",
      "model_module_version": "1.5.0",
      "model_name": "ProgressStyleModel",
      "state": {
       "description_width": ""
      }
     },
     "3234936c5c4c4bafb0132546c8462689": {
      "model_module": "@jupyter-widgets/base",
      "model_module_version": "1.2.0",
      "model_name": "LayoutModel",
      "state": {
       "height": "25px",
       "width": "50%"
      }
     },
     "32453416b6224862b8a256c102790f2e": {
      "model_module": "@jupyter-widgets/controls",
      "model_module_version": "1.5.0",
      "model_name": "ProgressStyleModel",
      "state": {
       "description_width": ""
      }
     },
     "324fc9f311854c3698227db2b05d48d5": {
      "model_module": "@jupyter-widgets/controls",
      "model_module_version": "1.5.0",
      "model_name": "ProgressStyleModel",
      "state": {
       "description_width": ""
      }
     },
     "32fe1c4d2e8b4f2783e395be7fab3007": {
      "model_module": "@jupyter-widgets/base",
      "model_module_version": "1.2.0",
      "model_name": "LayoutModel",
      "state": {
       "height": "25px",
       "width": "50%"
      }
     },
     "330a38d41ce04903b6b9fae311033555": {
      "model_module": "@jupyter-widgets/controls",
      "model_module_version": "1.5.0",
      "model_name": "ProgressStyleModel",
      "state": {
       "description_width": ""
      }
     },
     "332328d9169849159a6ae0c646a5cdab": {
      "model_module": "@jupyter-widgets/controls",
      "model_module_version": "1.5.0",
      "model_name": "ProgressStyleModel",
      "state": {
       "description_width": ""
      }
     },
     "33bf85c5c31e4a848b430a6b245481e8": {
      "model_module": "@jupyter-widgets/base",
      "model_module_version": "1.2.0",
      "model_name": "LayoutModel",
      "state": {
       "height": "25px",
       "width": "50%"
      }
     },
     "33db469ebcf5463f91ae2b81e24e2618": {
      "model_module": "@jupyter-widgets/base",
      "model_module_version": "1.2.0",
      "model_name": "LayoutModel",
      "state": {
       "height": "25px",
       "width": "50%"
      }
     },
     "33f43ade1d6d4ebf91c62a3dc90eaaa5": {
      "model_module": "@jupyter-widgets/controls",
      "model_module_version": "1.5.0",
      "model_name": "FloatProgressModel",
      "state": {
       "bar_style": "info",
       "description": "Progress:",
       "layout": "IPY_MODEL_00c23c0a697540ddab2f4a7e1b948551",
       "max": 1,
       "style": "IPY_MODEL_9f3dc774157941e78077e47ebe69e230"
      }
     },
     "3445ecf17ea646c8b157f69afa362874": {
      "model_module": "@jupyter-widgets/controls",
      "model_module_version": "1.5.0",
      "model_name": "ProgressStyleModel",
      "state": {
       "description_width": ""
      }
     },
     "34b0750cff1749af9b615d31449aa962": {
      "model_module": "@jupyter-widgets/base",
      "model_module_version": "1.2.0",
      "model_name": "LayoutModel",
      "state": {
       "height": "25px",
       "width": "50%"
      }
     },
     "3514cdf02a4749f0a05dc16ff12a9ceb": {
      "model_module": "@jupyter-widgets/controls",
      "model_module_version": "1.5.0",
      "model_name": "ProgressStyleModel",
      "state": {
       "description_width": ""
      }
     },
     "3523266be6df4db2be7d56e7a18872ce": {
      "model_module": "@jupyter-widgets/base",
      "model_module_version": "1.2.0",
      "model_name": "LayoutModel",
      "state": {
       "height": "25px",
       "width": "50%"
      }
     },
     "3536a0ba407440b497937ec50f064c19": {
      "model_module": "@jupyter-widgets/base",
      "model_module_version": "1.2.0",
      "model_name": "LayoutModel",
      "state": {
       "height": "25px",
       "width": "50%"
      }
     },
     "3546f03fe29b4ad28ebb4b6811d2438f": {
      "model_module": "@jupyter-widgets/controls",
      "model_module_version": "1.5.0",
      "model_name": "ProgressStyleModel",
      "state": {
       "description_width": ""
      }
     },
     "35584e5a780940d4b57178d9de89f877": {
      "model_module": "@jupyter-widgets/base",
      "model_module_version": "1.2.0",
      "model_name": "LayoutModel",
      "state": {
       "height": "25px",
       "width": "50%"
      }
     },
     "35bbaae6c3694ff29b3396d10c3545e3": {
      "model_module": "@jupyter-widgets/controls",
      "model_module_version": "1.5.0",
      "model_name": "ProgressStyleModel",
      "state": {
       "description_width": ""
      }
     },
     "366a9d0a688a40bd8c58102ec200b229": {
      "model_module": "@jupyter-widgets/base",
      "model_module_version": "1.2.0",
      "model_name": "LayoutModel",
      "state": {
       "height": "25px",
       "width": "50%"
      }
     },
     "36ecc567c26244ad91247ec4a67bbf25": {
      "model_module": "@jupyter-widgets/controls",
      "model_module_version": "1.5.0",
      "model_name": "ProgressStyleModel",
      "state": {
       "description_width": ""
      }
     },
     "37068cb0e0ba4c25b71616d0c73efff3": {
      "model_module": "@jupyter-widgets/base",
      "model_module_version": "1.2.0",
      "model_name": "LayoutModel",
      "state": {
       "height": "25px",
       "width": "50%"
      }
     },
     "37491f62582b4580bc931d036d5031db": {
      "model_module": "@jupyter-widgets/controls",
      "model_module_version": "1.5.0",
      "model_name": "ProgressStyleModel",
      "state": {
       "description_width": ""
      }
     },
     "3765ea7002c54e859e336945f33887ae": {
      "model_module": "@jupyter-widgets/controls",
      "model_module_version": "1.5.0",
      "model_name": "ProgressStyleModel",
      "state": {
       "description_width": ""
      }
     },
     "37902deba8594d71a64fec9007eee801": {
      "model_module": "@jupyter-widgets/base",
      "model_module_version": "1.2.0",
      "model_name": "LayoutModel",
      "state": {
       "height": "25px",
       "width": "50%"
      }
     },
     "37adffa79807428ca2d48f97c5f7720a": {
      "model_module": "@jupyter-widgets/base",
      "model_module_version": "1.2.0",
      "model_name": "LayoutModel",
      "state": {
       "height": "25px",
       "width": "50%"
      }
     },
     "37e5af87bbcb449dbe497985f5126d89": {
      "model_module": "@jupyter-widgets/controls",
      "model_module_version": "1.5.0",
      "model_name": "ProgressStyleModel",
      "state": {
       "description_width": ""
      }
     },
     "37ece135253344019e195942613580c0": {
      "model_module": "@jupyter-widgets/base",
      "model_module_version": "1.2.0",
      "model_name": "LayoutModel",
      "state": {
       "height": "25px",
       "width": "50%"
      }
     },
     "3899f438402446a4a9d2848f1756802e": {
      "model_module": "@jupyter-widgets/base",
      "model_module_version": "1.2.0",
      "model_name": "LayoutModel",
      "state": {
       "height": "25px",
       "width": "50%"
      }
     },
     "38eabac87f9745fa9211a0778a858b15": {
      "model_module": "@jupyter-widgets/controls",
      "model_module_version": "1.5.0",
      "model_name": "ProgressStyleModel",
      "state": {
       "description_width": ""
      }
     },
     "3950e5ad1c184135892e0cd782ed4df9": {
      "model_module": "@jupyter-widgets/controls",
      "model_module_version": "1.5.0",
      "model_name": "ProgressStyleModel",
      "state": {
       "description_width": ""
      }
     },
     "3954ab72b39f4499a03a9a9441ad8257": {
      "model_module": "@jupyter-widgets/base",
      "model_module_version": "1.2.0",
      "model_name": "LayoutModel",
      "state": {
       "height": "25px",
       "width": "50%"
      }
     },
     "39689b81425e499895bc7531f20a1131": {
      "model_module": "@jupyter-widgets/controls",
      "model_module_version": "1.5.0",
      "model_name": "ProgressStyleModel",
      "state": {
       "description_width": ""
      }
     },
     "3992a6ba11db40d2afb97b3660488346": {
      "model_module": "@jupyter-widgets/base",
      "model_module_version": "1.2.0",
      "model_name": "LayoutModel",
      "state": {
       "height": "25px",
       "width": "50%"
      }
     },
     "3a13319341a9457db42b98cea6681ee6": {
      "model_module": "@jupyter-widgets/controls",
      "model_module_version": "1.5.0",
      "model_name": "ProgressStyleModel",
      "state": {
       "description_width": ""
      }
     },
     "3a8c521dc10e46b8a4518c3d3698648d": {
      "model_module": "@jupyter-widgets/controls",
      "model_module_version": "1.5.0",
      "model_name": "ProgressStyleModel",
      "state": {
       "description_width": ""
      }
     },
     "3ad61b9f24c6445c987cfcdd3b713b34": {
      "model_module": "@jupyter-widgets/base",
      "model_module_version": "1.2.0",
      "model_name": "LayoutModel",
      "state": {
       "height": "25px",
       "width": "50%"
      }
     },
     "3b0355a71f44430a97af292d81e09103": {
      "model_module": "@jupyter-widgets/controls",
      "model_module_version": "1.5.0",
      "model_name": "ProgressStyleModel",
      "state": {
       "description_width": ""
      }
     },
     "3b7726b061ab44378e094932e44d97cc": {
      "model_module": "@jupyter-widgets/controls",
      "model_module_version": "1.5.0",
      "model_name": "ProgressStyleModel",
      "state": {
       "description_width": ""
      }
     },
     "3b8e384860784afa83a2dd77872587a5": {
      "model_module": "@jupyter-widgets/controls",
      "model_module_version": "1.5.0",
      "model_name": "ProgressStyleModel",
      "state": {
       "description_width": ""
      }
     },
     "3c0d874112714324a8d085349f706fae": {
      "model_module": "@jupyter-widgets/base",
      "model_module_version": "1.2.0",
      "model_name": "LayoutModel",
      "state": {
       "height": "25px",
       "width": "50%"
      }
     },
     "3c3606c7c0724beebd0caa3105b150d2": {
      "model_module": "@jupyter-widgets/base",
      "model_module_version": "1.2.0",
      "model_name": "LayoutModel",
      "state": {
       "height": "25px",
       "width": "50%"
      }
     },
     "3c3b4a71dae94924a8e8923d60ff725b": {
      "model_module": "@jupyter-widgets/controls",
      "model_module_version": "1.5.0",
      "model_name": "ProgressStyleModel",
      "state": {
       "description_width": ""
      }
     },
     "3c56f810506c4ff79c2b67e76b41c24b": {
      "model_module": "@jupyter-widgets/controls",
      "model_module_version": "1.5.0",
      "model_name": "ProgressStyleModel",
      "state": {
       "description_width": ""
      }
     },
     "3ca5542cadfd408a8de2eaf4fe8f6b37": {
      "model_module": "@jupyter-widgets/controls",
      "model_module_version": "1.5.0",
      "model_name": "ProgressStyleModel",
      "state": {
       "description_width": ""
      }
     },
     "3cc21297a14e4879a7105feda6d0a04a": {
      "model_module": "@jupyter-widgets/controls",
      "model_module_version": "1.5.0",
      "model_name": "ProgressStyleModel",
      "state": {
       "description_width": ""
      }
     },
     "3cfe878a24894d53994a22940d89f042": {
      "model_module": "@jupyter-widgets/controls",
      "model_module_version": "1.5.0",
      "model_name": "ProgressStyleModel",
      "state": {
       "description_width": ""
      }
     },
     "3d046f1c40e54792a64cf8dc463081a7": {
      "model_module": "@jupyter-widgets/base",
      "model_module_version": "1.2.0",
      "model_name": "LayoutModel",
      "state": {
       "height": "25px",
       "width": "50%"
      }
     },
     "3e37f25061aa4fc1b3ed596cac2b6beb": {
      "model_module": "@jupyter-widgets/base",
      "model_module_version": "1.2.0",
      "model_name": "LayoutModel",
      "state": {
       "height": "25px",
       "width": "50%"
      }
     },
     "3e45351e58ba478d817412de2775ea38": {
      "model_module": "@jupyter-widgets/controls",
      "model_module_version": "1.5.0",
      "model_name": "ProgressStyleModel",
      "state": {
       "description_width": ""
      }
     },
     "3e81694b9e5a49218600dfb7584abaa2": {
      "model_module": "@jupyter-widgets/controls",
      "model_module_version": "1.5.0",
      "model_name": "ProgressStyleModel",
      "state": {
       "description_width": ""
      }
     },
     "3e9c3684cbde4890826d668336889baf": {
      "model_module": "@jupyter-widgets/base",
      "model_module_version": "1.2.0",
      "model_name": "LayoutModel",
      "state": {
       "height": "25px",
       "width": "50%"
      }
     },
     "3ea2d88c19ac476db60cd3719d3f36d1": {
      "model_module": "@jupyter-widgets/base",
      "model_module_version": "1.2.0",
      "model_name": "LayoutModel",
      "state": {
       "height": "25px",
       "width": "50%"
      }
     },
     "3eb2dd5eec8a49e9904d06ac6a06ff22": {
      "model_module": "@jupyter-widgets/base",
      "model_module_version": "1.2.0",
      "model_name": "LayoutModel",
      "state": {
       "height": "25px",
       "width": "50%"
      }
     },
     "3edc44f8bb744603a1c892e28bc14b49": {
      "model_module": "@jupyter-widgets/controls",
      "model_module_version": "1.5.0",
      "model_name": "FloatProgressModel",
      "state": {
       "bar_style": "info",
       "description": "Progress:",
       "layout": "IPY_MODEL_fd9c77b2d3f84f3ba0ea3b4759a10cb3",
       "max": 1,
       "style": "IPY_MODEL_4865f08845b44c7ab189573cf8b68e0b"
      }
     },
     "3ee3076a3c6e4760b3d2f20b16e7ab36": {
      "model_module": "@jupyter-widgets/base",
      "model_module_version": "1.2.0",
      "model_name": "LayoutModel",
      "state": {
       "height": "25px",
       "width": "50%"
      }
     },
     "3ef8b14b5585446b80a20a1738ab0c6a": {
      "model_module": "@jupyter-widgets/base",
      "model_module_version": "1.2.0",
      "model_name": "LayoutModel",
      "state": {
       "height": "25px",
       "width": "50%"
      }
     },
     "3efe336ef9a14e038dd4c30c53e9ff9e": {
      "model_module": "@jupyter-widgets/base",
      "model_module_version": "1.2.0",
      "model_name": "LayoutModel",
      "state": {
       "height": "25px",
       "width": "50%"
      }
     },
     "3f0c81d033994961800f31732c1936b2": {
      "model_module": "@jupyter-widgets/base",
      "model_module_version": "1.2.0",
      "model_name": "LayoutModel",
      "state": {
       "height": "25px",
       "width": "50%"
      }
     },
     "3f4d5901fcd244fa9199b1578635fa2b": {
      "model_module": "@jupyter-widgets/base",
      "model_module_version": "1.2.0",
      "model_name": "LayoutModel",
      "state": {
       "height": "25px",
       "width": "50%"
      }
     },
     "3f553ce25e9343fdb6bb9aef80f5c930": {
      "model_module": "@jupyter-widgets/base",
      "model_module_version": "1.2.0",
      "model_name": "LayoutModel",
      "state": {
       "height": "25px",
       "width": "50%"
      }
     },
     "3f66c8af0dfc45908696fd8df471d1e7": {
      "model_module": "@jupyter-widgets/controls",
      "model_module_version": "1.5.0",
      "model_name": "ProgressStyleModel",
      "state": {
       "description_width": ""
      }
     },
     "3fa87fdd25db4a5eb35847a57da5b4d2": {
      "model_module": "@jupyter-widgets/controls",
      "model_module_version": "1.5.0",
      "model_name": "ProgressStyleModel",
      "state": {
       "description_width": ""
      }
     },
     "3fe58144ca114a8bb2ea2496c2cb0c99": {
      "model_module": "@jupyter-widgets/base",
      "model_module_version": "1.2.0",
      "model_name": "LayoutModel",
      "state": {
       "height": "25px",
       "width": "50%"
      }
     },
     "4094503df3024ee6964a137cea12497f": {
      "model_module": "@jupyter-widgets/base",
      "model_module_version": "1.2.0",
      "model_name": "LayoutModel",
      "state": {
       "height": "25px",
       "width": "50%"
      }
     },
     "40e84b9078174c769b3d7a161ad551ad": {
      "model_module": "@jupyter-widgets/base",
      "model_module_version": "1.2.0",
      "model_name": "LayoutModel",
      "state": {
       "height": "25px",
       "width": "50%"
      }
     },
     "40fe5d886d7c410ea77b20282e981fe3": {
      "model_module": "@jupyter-widgets/base",
      "model_module_version": "1.2.0",
      "model_name": "LayoutModel",
      "state": {
       "height": "25px",
       "width": "50%"
      }
     },
     "4119ab1b313842cdba406cf139124bf4": {
      "model_module": "@jupyter-widgets/base",
      "model_module_version": "1.2.0",
      "model_name": "LayoutModel",
      "state": {
       "height": "25px",
       "width": "50%"
      }
     },
     "413622e2b2594d4589091bae413d6c5f": {
      "model_module": "@jupyter-widgets/controls",
      "model_module_version": "1.5.0",
      "model_name": "ProgressStyleModel",
      "state": {
       "description_width": ""
      }
     },
     "41d00fd9f6b6452e9e31771c7f992b47": {
      "model_module": "@jupyter-widgets/base",
      "model_module_version": "1.2.0",
      "model_name": "LayoutModel",
      "state": {
       "height": "25px",
       "width": "50%"
      }
     },
     "4208a06bd3ee4282bbde0473247727da": {
      "model_module": "@jupyter-widgets/controls",
      "model_module_version": "1.5.0",
      "model_name": "ProgressStyleModel",
      "state": {
       "description_width": ""
      }
     },
     "42407ff36ef94c7aa828be3b36cf8f98": {
      "model_module": "@jupyter-widgets/base",
      "model_module_version": "1.2.0",
      "model_name": "LayoutModel",
      "state": {
       "height": "25px",
       "width": "50%"
      }
     },
     "424a8397075544b0b5cf6f31af2fb734": {
      "model_module": "@jupyter-widgets/base",
      "model_module_version": "1.2.0",
      "model_name": "LayoutModel",
      "state": {
       "height": "25px",
       "width": "50%"
      }
     },
     "424e6c7f195a41239f5f61904cc561f4": {
      "model_module": "@jupyter-widgets/base",
      "model_module_version": "1.2.0",
      "model_name": "LayoutModel",
      "state": {
       "height": "25px",
       "width": "50%"
      }
     },
     "4278101def0245a2a59fe00ece20aa15": {
      "model_module": "@jupyter-widgets/base",
      "model_module_version": "1.2.0",
      "model_name": "LayoutModel",
      "state": {
       "height": "25px",
       "width": "50%"
      }
     },
     "42bb85d14c7f4b14915d4c0b0183443d": {
      "model_module": "@jupyter-widgets/base",
      "model_module_version": "1.2.0",
      "model_name": "LayoutModel",
      "state": {
       "height": "25px",
       "width": "50%"
      }
     },
     "42cdc57e03234d468f953c2408c42b39": {
      "model_module": "@jupyter-widgets/base",
      "model_module_version": "1.2.0",
      "model_name": "LayoutModel",
      "state": {
       "height": "25px",
       "width": "50%"
      }
     },
     "42d71ccedd944d3f820a4db659d566f3": {
      "model_module": "@jupyter-widgets/base",
      "model_module_version": "1.2.0",
      "model_name": "LayoutModel",
      "state": {
       "height": "25px",
       "width": "50%"
      }
     },
     "42d9aaba84344ae5a9e490187d210332": {
      "model_module": "@jupyter-widgets/controls",
      "model_module_version": "1.5.0",
      "model_name": "ProgressStyleModel",
      "state": {
       "description_width": ""
      }
     },
     "431cf53fb8114048b2ab02c0e3a7d90f": {
      "model_module": "@jupyter-widgets/base",
      "model_module_version": "1.2.0",
      "model_name": "LayoutModel",
      "state": {
       "height": "25px",
       "width": "50%"
      }
     },
     "437ede789a834242b267e5a9d04979d4": {
      "model_module": "@jupyter-widgets/controls",
      "model_module_version": "1.5.0",
      "model_name": "ProgressStyleModel",
      "state": {
       "description_width": ""
      }
     },
     "438401e9e36d4ce481b38e4b602101d8": {
      "model_module": "@jupyter-widgets/controls",
      "model_module_version": "1.5.0",
      "model_name": "ProgressStyleModel",
      "state": {
       "description_width": ""
      }
     },
     "44740e2b043b45d78867e9ba973f3452": {
      "model_module": "@jupyter-widgets/controls",
      "model_module_version": "1.5.0",
      "model_name": "ProgressStyleModel",
      "state": {
       "description_width": ""
      }
     },
     "4487e8c44b9e44d2a72be03249d9985a": {
      "model_module": "@jupyter-widgets/controls",
      "model_module_version": "1.5.0",
      "model_name": "ProgressStyleModel",
      "state": {
       "description_width": ""
      }
     },
     "452d7987117e4f0582457c5a8a155ff2": {
      "model_module": "@jupyter-widgets/base",
      "model_module_version": "1.2.0",
      "model_name": "LayoutModel",
      "state": {
       "height": "25px",
       "width": "50%"
      }
     },
     "4574967877694afa8ee123e1b7a13e68": {
      "model_module": "@jupyter-widgets/controls",
      "model_module_version": "1.5.0",
      "model_name": "ProgressStyleModel",
      "state": {
       "description_width": ""
      }
     },
     "457e10a1b5b7468e82646a0c608c0d45": {
      "model_module": "@jupyter-widgets/base",
      "model_module_version": "1.2.0",
      "model_name": "LayoutModel",
      "state": {
       "height": "25px",
       "width": "50%"
      }
     },
     "45b9209ad0134d2b8a44f3615a67290b": {
      "model_module": "@jupyter-widgets/base",
      "model_module_version": "1.2.0",
      "model_name": "LayoutModel",
      "state": {
       "height": "25px",
       "width": "50%"
      }
     },
     "45c6d89038f447bd9c52e5d8b8e3a86c": {
      "model_module": "@jupyter-widgets/base",
      "model_module_version": "1.2.0",
      "model_name": "LayoutModel",
      "state": {
       "height": "25px",
       "width": "50%"
      }
     },
     "46078950ce1847a69f4d2c83dacfdc90": {
      "model_module": "@jupyter-widgets/base",
      "model_module_version": "1.2.0",
      "model_name": "LayoutModel",
      "state": {
       "height": "25px",
       "width": "50%"
      }
     },
     "46882591ca054392b42d3a247b1db208": {
      "model_module": "@jupyter-widgets/controls",
      "model_module_version": "1.5.0",
      "model_name": "ProgressStyleModel",
      "state": {
       "description_width": ""
      }
     },
     "46d9e0c6e1304f33b53abc3bd3918628": {
      "model_module": "@jupyter-widgets/controls",
      "model_module_version": "1.5.0",
      "model_name": "ProgressStyleModel",
      "state": {
       "description_width": ""
      }
     },
     "46f827a34f8443179c8e69e30f65cc0f": {
      "model_module": "@jupyter-widgets/controls",
      "model_module_version": "1.5.0",
      "model_name": "ProgressStyleModel",
      "state": {
       "description_width": ""
      }
     },
     "471b1109a38842b5ad95230918dbdbfc": {
      "model_module": "@jupyter-widgets/base",
      "model_module_version": "1.2.0",
      "model_name": "LayoutModel",
      "state": {
       "height": "25px",
       "width": "50%"
      }
     },
     "47538eaa81734e08a77ec3d772a76347": {
      "model_module": "@jupyter-widgets/controls",
      "model_module_version": "1.5.0",
      "model_name": "ProgressStyleModel",
      "state": {
       "description_width": ""
      }
     },
     "47b71ac796ed49799e04b6e79ed5da9d": {
      "model_module": "@jupyter-widgets/controls",
      "model_module_version": "1.5.0",
      "model_name": "ProgressStyleModel",
      "state": {
       "description_width": ""
      }
     },
     "48241f281bc647fe8f50b1885ed2a75a": {
      "model_module": "@jupyter-widgets/controls",
      "model_module_version": "1.5.0",
      "model_name": "ProgressStyleModel",
      "state": {
       "description_width": ""
      }
     },
     "48550c7d04ee467993ad21a45f5f8f18": {
      "model_module": "@jupyter-widgets/controls",
      "model_module_version": "1.5.0",
      "model_name": "ProgressStyleModel",
      "state": {
       "description_width": ""
      }
     },
     "485dbf42ef8e450c93c548a849dd3cda": {
      "model_module": "@jupyter-widgets/base",
      "model_module_version": "1.2.0",
      "model_name": "LayoutModel",
      "state": {
       "height": "25px",
       "width": "50%"
      }
     },
     "485f673d122b4cac947636d85af7b697": {
      "model_module": "@jupyter-widgets/controls",
      "model_module_version": "1.5.0",
      "model_name": "ProgressStyleModel",
      "state": {
       "description_width": ""
      }
     },
     "4863a334e34843e2b056b31bd7c63dab": {
      "model_module": "@jupyter-widgets/controls",
      "model_module_version": "1.5.0",
      "model_name": "ProgressStyleModel",
      "state": {
       "description_width": ""
      }
     },
     "4865f08845b44c7ab189573cf8b68e0b": {
      "model_module": "@jupyter-widgets/controls",
      "model_module_version": "1.5.0",
      "model_name": "ProgressStyleModel",
      "state": {
       "description_width": ""
      }
     },
     "48c7e17f7756406a9d58b98f44f52962": {
      "model_module": "@jupyter-widgets/base",
      "model_module_version": "1.2.0",
      "model_name": "LayoutModel",
      "state": {
       "height": "25px",
       "width": "50%"
      }
     },
     "48d0b23ef1c14e999e2734e6a3459adc": {
      "model_module": "@jupyter-widgets/base",
      "model_module_version": "1.2.0",
      "model_name": "LayoutModel",
      "state": {
       "height": "25px",
       "width": "50%"
      }
     },
     "491cd87393da449181494d7664ab0574": {
      "model_module": "@jupyter-widgets/controls",
      "model_module_version": "1.5.0",
      "model_name": "FloatProgressModel",
      "state": {
       "bar_style": "info",
       "description": "Progress:",
       "layout": "IPY_MODEL_5c277946d8e34b94b254a6aa9b24f15a",
       "max": 1,
       "style": "IPY_MODEL_0412bb783ad540b787a16e42157fda82",
       "value": 1
      }
     },
     "4942ac550c7b4311a86b52c0de7a34aa": {
      "model_module": "@jupyter-widgets/base",
      "model_module_version": "1.2.0",
      "model_name": "LayoutModel",
      "state": {
       "height": "25px",
       "width": "50%"
      }
     },
     "494e042dcb9e439da6f33503f9b8aca5": {
      "model_module": "@jupyter-widgets/base",
      "model_module_version": "1.2.0",
      "model_name": "LayoutModel",
      "state": {
       "height": "25px",
       "width": "50%"
      }
     },
     "499b71652abd4f779bde85af4fb4bb0f": {
      "model_module": "@jupyter-widgets/controls",
      "model_module_version": "1.5.0",
      "model_name": "FloatProgressModel",
      "state": {
       "bar_style": "info",
       "description": "Progress:",
       "layout": "IPY_MODEL_bd7aa2b96dc3428c808a404a760e2afa",
       "max": 1,
       "style": "IPY_MODEL_00045fd057754ec6a7e1eb7806a0c5d6",
       "value": 1
      }
     },
     "499e78e8f6f041c98781ba4e6f2c67b1": {
      "model_module": "@jupyter-widgets/controls",
      "model_module_version": "1.5.0",
      "model_name": "FloatProgressModel",
      "state": {
       "bar_style": "info",
       "description": "Progress:",
       "layout": "IPY_MODEL_75b42ccdffd3401d9713a92e87e08d33",
       "max": 1,
       "style": "IPY_MODEL_078daf3a3b5d40cea88e45c053bd7dce"
      }
     },
     "4a5a9aa2390944bb8ee1652704be434e": {
      "model_module": "@jupyter-widgets/base",
      "model_module_version": "1.2.0",
      "model_name": "LayoutModel",
      "state": {
       "height": "25px",
       "width": "50%"
      }
     },
     "4a7517ca35a44975a5d0ac874629e41d": {
      "model_module": "@jupyter-widgets/controls",
      "model_module_version": "1.5.0",
      "model_name": "ProgressStyleModel",
      "state": {
       "description_width": ""
      }
     },
     "4a7e836b686b49be953679a6b6cf16c5": {
      "model_module": "@jupyter-widgets/base",
      "model_module_version": "1.2.0",
      "model_name": "LayoutModel",
      "state": {
       "height": "25px",
       "width": "50%"
      }
     },
     "4a8c8a3bd29d4646b00e1da499e6ddeb": {
      "model_module": "@jupyter-widgets/controls",
      "model_module_version": "1.5.0",
      "model_name": "ProgressStyleModel",
      "state": {
       "description_width": ""
      }
     },
     "4a93fd54f480458db84196cd9a024a7c": {
      "model_module": "@jupyter-widgets/controls",
      "model_module_version": "1.5.0",
      "model_name": "ProgressStyleModel",
      "state": {
       "description_width": ""
      }
     },
     "4ade174ab35e41b5ad6ea1a9156f7f4f": {
      "model_module": "@jupyter-widgets/controls",
      "model_module_version": "1.5.0",
      "model_name": "ProgressStyleModel",
      "state": {
       "description_width": ""
      }
     },
     "4af515f9f59a4d0ab94a3b2a756aeb61": {
      "model_module": "@jupyter-widgets/controls",
      "model_module_version": "1.5.0",
      "model_name": "ProgressStyleModel",
      "state": {
       "description_width": ""
      }
     },
     "4b0b23bec61f4da6a672c8d6f654cf5a": {
      "model_module": "@jupyter-widgets/base",
      "model_module_version": "1.2.0",
      "model_name": "LayoutModel",
      "state": {
       "height": "25px",
       "width": "50%"
      }
     },
     "4b4604b12b3645e192cd4b24d1f518b2": {
      "model_module": "@jupyter-widgets/controls",
      "model_module_version": "1.5.0",
      "model_name": "ProgressStyleModel",
      "state": {
       "description_width": ""
      }
     },
     "4b96b062d0b54fcc97f65e31d3036e30": {
      "model_module": "@jupyter-widgets/controls",
      "model_module_version": "1.5.0",
      "model_name": "ProgressStyleModel",
      "state": {
       "description_width": ""
      }
     },
     "4bbbf3830e3b4077981e2a98d78c4907": {
      "model_module": "@jupyter-widgets/controls",
      "model_module_version": "1.5.0",
      "model_name": "ProgressStyleModel",
      "state": {
       "description_width": ""
      }
     },
     "4bd3ee8bac1d47b5836d23d3194600fb": {
      "model_module": "@jupyter-widgets/base",
      "model_module_version": "1.2.0",
      "model_name": "LayoutModel",
      "state": {
       "height": "25px",
       "width": "50%"
      }
     },
     "4bd7a72d0a5841ca8204205a7c464d04": {
      "model_module": "@jupyter-widgets/controls",
      "model_module_version": "1.5.0",
      "model_name": "FloatProgressModel",
      "state": {
       "bar_style": "info",
       "description": "Progress:",
       "layout": "IPY_MODEL_82c51f33bd1f4aa791014e8544cc8f0b",
       "max": 1,
       "style": "IPY_MODEL_54f97ea227cf459497ca073bd9a71bbe"
      }
     },
     "4c467640daaf4f7dba759000fc2d2931": {
      "model_module": "@jupyter-widgets/base",
      "model_module_version": "1.2.0",
      "model_name": "LayoutModel",
      "state": {
       "height": "25px",
       "width": "50%"
      }
     },
     "4c6d258f48f14de8aa8b1f3a76241792": {
      "model_module": "@jupyter-widgets/controls",
      "model_module_version": "1.5.0",
      "model_name": "ProgressStyleModel",
      "state": {
       "description_width": ""
      }
     },
     "4c9fc6dbc6eb49f790f0bec6730e316b": {
      "model_module": "@jupyter-widgets/controls",
      "model_module_version": "1.5.0",
      "model_name": "ProgressStyleModel",
      "state": {
       "description_width": ""
      }
     },
     "4dd0408a3dab47dd8aa35c19fd2ecd74": {
      "model_module": "@jupyter-widgets/controls",
      "model_module_version": "1.5.0",
      "model_name": "ProgressStyleModel",
      "state": {
       "description_width": ""
      }
     },
     "4e071a28919e4a409107e9a7250b9145": {
      "model_module": "@jupyter-widgets/controls",
      "model_module_version": "1.5.0",
      "model_name": "ProgressStyleModel",
      "state": {
       "description_width": ""
      }
     },
     "4e87bdbf441b434e99fc5cd64dc24f3d": {
      "model_module": "@jupyter-widgets/base",
      "model_module_version": "1.2.0",
      "model_name": "LayoutModel",
      "state": {
       "height": "25px",
       "width": "50%"
      }
     },
     "4f064721de3d42d39026b5da9d3afc4d": {
      "model_module": "@jupyter-widgets/controls",
      "model_module_version": "1.5.0",
      "model_name": "ProgressStyleModel",
      "state": {
       "description_width": ""
      }
     },
     "4f14c76bd0484b18b9543c2f930fd589": {
      "model_module": "@jupyter-widgets/controls",
      "model_module_version": "1.5.0",
      "model_name": "ProgressStyleModel",
      "state": {
       "description_width": ""
      }
     },
     "4f3e96d44f404dc28b90bffd3b5a4dbb": {
      "model_module": "@jupyter-widgets/controls",
      "model_module_version": "1.5.0",
      "model_name": "ProgressStyleModel",
      "state": {
       "description_width": ""
      }
     },
     "4f44d3be08164e35906b1308b2911e56": {
      "model_module": "@jupyter-widgets/controls",
      "model_module_version": "1.5.0",
      "model_name": "ProgressStyleModel",
      "state": {
       "description_width": ""
      }
     },
     "4f83446029de482f9c2e963fa10ceac0": {
      "model_module": "@jupyter-widgets/controls",
      "model_module_version": "1.5.0",
      "model_name": "ProgressStyleModel",
      "state": {
       "description_width": ""
      }
     },
     "4fa84061bdf64a118396256cfc338a7a": {
      "model_module": "@jupyter-widgets/base",
      "model_module_version": "1.2.0",
      "model_name": "LayoutModel",
      "state": {
       "height": "25px",
       "width": "50%"
      }
     },
     "5001535965ff490aa21030e6932456d9": {
      "model_module": "@jupyter-widgets/controls",
      "model_module_version": "1.5.0",
      "model_name": "ProgressStyleModel",
      "state": {
       "description_width": ""
      }
     },
     "5040e70f9b96471c83d86ddabbad3242": {
      "model_module": "@jupyter-widgets/controls",
      "model_module_version": "1.5.0",
      "model_name": "ProgressStyleModel",
      "state": {
       "description_width": ""
      }
     },
     "5065180c69874fdb986aea1f1b6162fb": {
      "model_module": "@jupyter-widgets/controls",
      "model_module_version": "1.5.0",
      "model_name": "ProgressStyleModel",
      "state": {
       "description_width": ""
      }
     },
     "507605cf53114a3abc156574881425d2": {
      "model_module": "@jupyter-widgets/controls",
      "model_module_version": "1.5.0",
      "model_name": "ProgressStyleModel",
      "state": {
       "description_width": ""
      }
     },
     "50b61249a8cc4a53b5662e6ed93f8dd0": {
      "model_module": "@jupyter-widgets/controls",
      "model_module_version": "1.5.0",
      "model_name": "ProgressStyleModel",
      "state": {
       "description_width": ""
      }
     },
     "50bd19498f4345d7abaa2ae554b843e9": {
      "model_module": "@jupyter-widgets/base",
      "model_module_version": "1.2.0",
      "model_name": "LayoutModel",
      "state": {
       "height": "25px",
       "width": "50%"
      }
     },
     "521b8189a15c44c9a05738d75724167f": {
      "model_module": "@jupyter-widgets/controls",
      "model_module_version": "1.5.0",
      "model_name": "ProgressStyleModel",
      "state": {
       "description_width": ""
      }
     },
     "525188fd50ea486782c62e3d9634edeb": {
      "model_module": "@jupyter-widgets/controls",
      "model_module_version": "1.5.0",
      "model_name": "FloatProgressModel",
      "state": {
       "bar_style": "info",
       "description": "Progress:",
       "layout": "IPY_MODEL_ba8a34899d7b40f48631a335ac63f421",
       "max": 1,
       "style": "IPY_MODEL_82124ba7bd9f4b29ac74e97fc8455f58",
       "value": 1
      }
     },
     "527f3b52b5b543e9a05c46c38c79f30b": {
      "model_module": "@jupyter-widgets/base",
      "model_module_version": "1.2.0",
      "model_name": "LayoutModel",
      "state": {
       "height": "25px",
       "width": "50%"
      }
     },
     "52ee38438a484e70a15ca34c430bdf8d": {
      "model_module": "@jupyter-widgets/base",
      "model_module_version": "1.2.0",
      "model_name": "LayoutModel",
      "state": {
       "height": "25px",
       "width": "50%"
      }
     },
     "5352e132e9f54d6a9692b28b5ddf522d": {
      "model_module": "@jupyter-widgets/base",
      "model_module_version": "1.2.0",
      "model_name": "LayoutModel",
      "state": {
       "height": "25px",
       "width": "50%"
      }
     },
     "53747ed9f9744fb5a363b149bda594d3": {
      "model_module": "@jupyter-widgets/controls",
      "model_module_version": "1.5.0",
      "model_name": "ProgressStyleModel",
      "state": {
       "description_width": ""
      }
     },
     "53a2cd9d185a44e1bddbb079ff352445": {
      "model_module": "@jupyter-widgets/base",
      "model_module_version": "1.2.0",
      "model_name": "LayoutModel",
      "state": {
       "height": "25px",
       "width": "50%"
      }
     },
     "53ef64372bdc48179b51b160971e323f": {
      "model_module": "@jupyter-widgets/base",
      "model_module_version": "1.2.0",
      "model_name": "LayoutModel",
      "state": {
       "height": "25px",
       "width": "50%"
      }
     },
     "54b59bc1239949dca30586779b8430e4": {
      "model_module": "@jupyter-widgets/controls",
      "model_module_version": "1.5.0",
      "model_name": "ProgressStyleModel",
      "state": {
       "description_width": ""
      }
     },
     "54db39b980074e83b5fa66a1cbceeaee": {
      "model_module": "@jupyter-widgets/base",
      "model_module_version": "1.2.0",
      "model_name": "LayoutModel",
      "state": {
       "height": "25px",
       "width": "50%"
      }
     },
     "54f97ea227cf459497ca073bd9a71bbe": {
      "model_module": "@jupyter-widgets/controls",
      "model_module_version": "1.5.0",
      "model_name": "ProgressStyleModel",
      "state": {
       "description_width": ""
      }
     },
     "551a338fda25449bb3352282a2b66efa": {
      "model_module": "@jupyter-widgets/controls",
      "model_module_version": "1.5.0",
      "model_name": "ProgressStyleModel",
      "state": {
       "description_width": ""
      }
     },
     "551a776f64534540a330f32c8e783232": {
      "model_module": "@jupyter-widgets/controls",
      "model_module_version": "1.5.0",
      "model_name": "ProgressStyleModel",
      "state": {
       "description_width": ""
      }
     },
     "55371e21e5724d5e9e2bf73585a441ba": {
      "model_module": "@jupyter-widgets/base",
      "model_module_version": "1.2.0",
      "model_name": "LayoutModel",
      "state": {
       "height": "25px",
       "width": "50%"
      }
     },
     "55c2a206d0ce48bca1dc0dd19de237ab": {
      "model_module": "@jupyter-widgets/base",
      "model_module_version": "1.2.0",
      "model_name": "LayoutModel",
      "state": {
       "height": "25px",
       "width": "50%"
      }
     },
     "55daf5793c9c4882b93af8f93a50dea6": {
      "model_module": "@jupyter-widgets/base",
      "model_module_version": "1.2.0",
      "model_name": "LayoutModel",
      "state": {
       "height": "25px",
       "width": "50%"
      }
     },
     "5663f8e5a30b4580bdfce85be0309abc": {
      "model_module": "@jupyter-widgets/controls",
      "model_module_version": "1.5.0",
      "model_name": "ProgressStyleModel",
      "state": {
       "description_width": ""
      }
     },
     "567fdc218e634f68aeaddf44bc29c1fb": {
      "model_module": "@jupyter-widgets/base",
      "model_module_version": "1.2.0",
      "model_name": "LayoutModel",
      "state": {
       "height": "25px",
       "width": "50%"
      }
     },
     "56c8e3b854b04292882e1a9492c9b0d5": {
      "model_module": "@jupyter-widgets/controls",
      "model_module_version": "1.5.0",
      "model_name": "ProgressStyleModel",
      "state": {
       "description_width": ""
      }
     },
     "56d38f77a6e740a583c47d1237c2b68f": {
      "model_module": "@jupyter-widgets/base",
      "model_module_version": "1.2.0",
      "model_name": "LayoutModel",
      "state": {
       "height": "25px",
       "width": "50%"
      }
     },
     "56e7afac30be42b88e3cfd54b614b3b3": {
      "model_module": "@jupyter-widgets/base",
      "model_module_version": "1.2.0",
      "model_name": "LayoutModel",
      "state": {
       "height": "25px",
       "width": "50%"
      }
     },
     "577539fe33aa4e4193e68157a8b17a5d": {
      "model_module": "@jupyter-widgets/controls",
      "model_module_version": "1.5.0",
      "model_name": "ProgressStyleModel",
      "state": {
       "description_width": ""
      }
     },
     "58102a5968c14b9ba8c6425f0ab595e4": {
      "model_module": "@jupyter-widgets/base",
      "model_module_version": "1.2.0",
      "model_name": "LayoutModel",
      "state": {
       "height": "25px",
       "width": "50%"
      }
     },
     "582614e0d0bc42d7b48aad6454179aa1": {
      "model_module": "@jupyter-widgets/controls",
      "model_module_version": "1.5.0",
      "model_name": "ProgressStyleModel",
      "state": {
       "description_width": ""
      }
     },
     "5833448b05a74775a424af8e81bde090": {
      "model_module": "@jupyter-widgets/controls",
      "model_module_version": "1.5.0",
      "model_name": "ProgressStyleModel",
      "state": {
       "description_width": ""
      }
     },
     "587782baa8974669ada20d85736a8a69": {
      "model_module": "@jupyter-widgets/base",
      "model_module_version": "1.2.0",
      "model_name": "LayoutModel",
      "state": {
       "height": "25px",
       "width": "50%"
      }
     },
     "58c26736938841a5a8bd03b96ff08e5b": {
      "model_module": "@jupyter-widgets/controls",
      "model_module_version": "1.5.0",
      "model_name": "ProgressStyleModel",
      "state": {
       "description_width": ""
      }
     },
     "58d7a70ed3364407940854ec0b2f7c08": {
      "model_module": "@jupyter-widgets/base",
      "model_module_version": "1.2.0",
      "model_name": "LayoutModel",
      "state": {
       "height": "25px",
       "width": "50%"
      }
     },
     "58dea955fe724902ad3b9954503933ea": {
      "model_module": "@jupyter-widgets/controls",
      "model_module_version": "1.5.0",
      "model_name": "FloatProgressModel",
      "state": {
       "bar_style": "info",
       "description": "Progress:",
       "layout": "IPY_MODEL_a7156a298eed42cc9a785649ab2b2827",
       "max": 1,
       "style": "IPY_MODEL_f5e3fd4924294926b1093833d6d04002"
      }
     },
     "591f6dca698145ae839922dbee631021": {
      "model_module": "@jupyter-widgets/controls",
      "model_module_version": "1.5.0",
      "model_name": "ProgressStyleModel",
      "state": {
       "description_width": ""
      }
     },
     "59275178d6534a709217911b59588f66": {
      "model_module": "@jupyter-widgets/controls",
      "model_module_version": "1.5.0",
      "model_name": "FloatProgressModel",
      "state": {
       "bar_style": "info",
       "description": "Progress:",
       "layout": "IPY_MODEL_c74e434f3b134287b800675fa9b23fd5",
       "max": 1,
       "style": "IPY_MODEL_bcc6fd66177c4ae5ae04a8c0ee6c5f53"
      }
     },
     "599893246d544c45ad254acf27609ef6": {
      "model_module": "@jupyter-widgets/controls",
      "model_module_version": "1.5.0",
      "model_name": "ProgressStyleModel",
      "state": {
       "description_width": ""
      }
     },
     "59bc07ac9bec40c69736bc3b03ab7d97": {
      "model_module": "@jupyter-widgets/controls",
      "model_module_version": "1.5.0",
      "model_name": "ProgressStyleModel",
      "state": {
       "description_width": ""
      }
     },
     "5a28c19b39a9427898ad668e9f5749f6": {
      "model_module": "@jupyter-widgets/controls",
      "model_module_version": "1.5.0",
      "model_name": "ProgressStyleModel",
      "state": {
       "description_width": ""
      }
     },
     "5aaf34c5aec945a5bc934af02d2a6d18": {
      "model_module": "@jupyter-widgets/controls",
      "model_module_version": "1.5.0",
      "model_name": "ProgressStyleModel",
      "state": {
       "description_width": ""
      }
     },
     "5adbcc01b6274853be71a09a031952cf": {
      "model_module": "@jupyter-widgets/base",
      "model_module_version": "1.2.0",
      "model_name": "LayoutModel",
      "state": {
       "height": "25px",
       "width": "50%"
      }
     },
     "5b08b76ee47b4d28b7cddde6c8de18a8": {
      "model_module": "@jupyter-widgets/base",
      "model_module_version": "1.2.0",
      "model_name": "LayoutModel",
      "state": {
       "height": "25px",
       "width": "50%"
      }
     },
     "5b698c01134641488e1f1c6831a68c2d": {
      "model_module": "@jupyter-widgets/controls",
      "model_module_version": "1.5.0",
      "model_name": "ProgressStyleModel",
      "state": {
       "description_width": ""
      }
     },
     "5baa2927ad7c4d06b2c23a17a52a934b": {
      "model_module": "@jupyter-widgets/controls",
      "model_module_version": "1.5.0",
      "model_name": "ProgressStyleModel",
      "state": {
       "description_width": ""
      }
     },
     "5c277946d8e34b94b254a6aa9b24f15a": {
      "model_module": "@jupyter-widgets/base",
      "model_module_version": "1.2.0",
      "model_name": "LayoutModel",
      "state": {
       "height": "25px",
       "width": "50%"
      }
     },
     "5c4ea1ec603146f3991a45acab405e23": {
      "model_module": "@jupyter-widgets/base",
      "model_module_version": "1.2.0",
      "model_name": "LayoutModel",
      "state": {
       "height": "25px",
       "width": "50%"
      }
     },
     "5c655c1495ef4f40b62f07ba529dd0e4": {
      "model_module": "@jupyter-widgets/base",
      "model_module_version": "1.2.0",
      "model_name": "LayoutModel",
      "state": {
       "height": "25px",
       "width": "50%"
      }
     },
     "5d291ea319684a34b13c0bdf6f1d174c": {
      "model_module": "@jupyter-widgets/controls",
      "model_module_version": "1.5.0",
      "model_name": "ProgressStyleModel",
      "state": {
       "description_width": ""
      }
     },
     "5d35a4d9b3674595a8f4f11a90188a50": {
      "model_module": "@jupyter-widgets/base",
      "model_module_version": "1.2.0",
      "model_name": "LayoutModel",
      "state": {
       "height": "25px",
       "width": "50%"
      }
     },
     "5d993a395d1543ff8cccd54ced9313a1": {
      "model_module": "@jupyter-widgets/controls",
      "model_module_version": "1.5.0",
      "model_name": "ProgressStyleModel",
      "state": {
       "description_width": ""
      }
     },
     "5e00bf8fa5b64536ad5abf55f3791254": {
      "model_module": "@jupyter-widgets/base",
      "model_module_version": "1.2.0",
      "model_name": "LayoutModel",
      "state": {
       "height": "25px",
       "width": "50%"
      }
     },
     "5e41c595b47d4472a87446bf3e76b232": {
      "model_module": "@jupyter-widgets/controls",
      "model_module_version": "1.5.0",
      "model_name": "ProgressStyleModel",
      "state": {
       "description_width": ""
      }
     },
     "5e8126841cc142e09e5cb43ea3df0f19": {
      "model_module": "@jupyter-widgets/controls",
      "model_module_version": "1.5.0",
      "model_name": "ProgressStyleModel",
      "state": {
       "description_width": ""
      }
     },
     "5ea49992290e44b2918f670d58a3586a": {
      "model_module": "@jupyter-widgets/controls",
      "model_module_version": "1.5.0",
      "model_name": "ProgressStyleModel",
      "state": {
       "description_width": ""
      }
     },
     "5ebba07c79fd4280a338be0d25d6ef46": {
      "model_module": "@jupyter-widgets/controls",
      "model_module_version": "1.5.0",
      "model_name": "ProgressStyleModel",
      "state": {
       "description_width": ""
      }
     },
     "5eff0fe43b9f45cda17f5698bb371016": {
      "model_module": "@jupyter-widgets/base",
      "model_module_version": "1.2.0",
      "model_name": "LayoutModel",
      "state": {
       "height": "25px",
       "width": "50%"
      }
     },
     "5f9e534046fb41258a5db8ab67292f28": {
      "model_module": "@jupyter-widgets/base",
      "model_module_version": "1.2.0",
      "model_name": "LayoutModel",
      "state": {
       "height": "25px",
       "width": "50%"
      }
     },
     "5f9e7e2fbdbd401183ee34ba5d316ca2": {
      "model_module": "@jupyter-widgets/base",
      "model_module_version": "1.2.0",
      "model_name": "LayoutModel",
      "state": {
       "height": "25px",
       "width": "50%"
      }
     },
     "5fa31b5ef63c4a3493c8035e73ecce96": {
      "model_module": "@jupyter-widgets/controls",
      "model_module_version": "1.5.0",
      "model_name": "ProgressStyleModel",
      "state": {
       "description_width": ""
      }
     },
     "5fb5f34262f24099b36c3f20f3846d16": {
      "model_module": "@jupyter-widgets/controls",
      "model_module_version": "1.5.0",
      "model_name": "ProgressStyleModel",
      "state": {
       "description_width": ""
      }
     },
     "5fe2a93ad865456986c05b77f1a0be85": {
      "model_module": "@jupyter-widgets/controls",
      "model_module_version": "1.5.0",
      "model_name": "ProgressStyleModel",
      "state": {
       "description_width": ""
      }
     },
     "607a6376b03645039205995ab2a402e8": {
      "model_module": "@jupyter-widgets/base",
      "model_module_version": "1.2.0",
      "model_name": "LayoutModel",
      "state": {
       "height": "25px",
       "width": "50%"
      }
     },
     "60af0fe9147646b28bce2db9ad386c82": {
      "model_module": "@jupyter-widgets/controls",
      "model_module_version": "1.5.0",
      "model_name": "ProgressStyleModel",
      "state": {
       "description_width": ""
      }
     },
     "60b9745173934626954cfe2952c7b519": {
      "model_module": "@jupyter-widgets/controls",
      "model_module_version": "1.5.0",
      "model_name": "ProgressStyleModel",
      "state": {
       "description_width": ""
      }
     },
     "6105cff411c846689fd172f9ac433616": {
      "model_module": "@jupyter-widgets/base",
      "model_module_version": "1.2.0",
      "model_name": "LayoutModel",
      "state": {
       "height": "25px",
       "width": "50%"
      }
     },
     "612b01469c154ef991804f64ece7bd1b": {
      "model_module": "@jupyter-widgets/base",
      "model_module_version": "1.2.0",
      "model_name": "LayoutModel",
      "state": {
       "height": "25px",
       "width": "50%"
      }
     },
     "61419793a5c741aaaeeb5c549477b9c6": {
      "model_module": "@jupyter-widgets/controls",
      "model_module_version": "1.5.0",
      "model_name": "ProgressStyleModel",
      "state": {
       "description_width": ""
      }
     },
     "615a45d6fc804dc2b8cb2a03d4e6999b": {
      "model_module": "@jupyter-widgets/base",
      "model_module_version": "1.2.0",
      "model_name": "LayoutModel",
      "state": {
       "height": "25px",
       "width": "50%"
      }
     },
     "6189c6ccc6284d5aa712764a934d1550": {
      "model_module": "@jupyter-widgets/controls",
      "model_module_version": "1.5.0",
      "model_name": "ProgressStyleModel",
      "state": {
       "description_width": ""
      }
     },
     "61c14a84fa9d40c0a6afb0b9649f7e43": {
      "model_module": "@jupyter-widgets/base",
      "model_module_version": "1.2.0",
      "model_name": "LayoutModel",
      "state": {
       "height": "25px",
       "width": "50%"
      }
     },
     "6250e482fd4d4793bdd8fd1702714a65": {
      "model_module": "@jupyter-widgets/controls",
      "model_module_version": "1.5.0",
      "model_name": "ProgressStyleModel",
      "state": {
       "description_width": ""
      }
     },
     "628008e96be848c5b9a7e704322a1df2": {
      "model_module": "@jupyter-widgets/base",
      "model_module_version": "1.2.0",
      "model_name": "LayoutModel",
      "state": {
       "height": "25px",
       "width": "50%"
      }
     },
     "62d1f18e70f14b5b881681ed0fa41135": {
      "model_module": "@jupyter-widgets/controls",
      "model_module_version": "1.5.0",
      "model_name": "ProgressStyleModel",
      "state": {
       "description_width": ""
      }
     },
     "62e2092c3e094bba86f133fbab9e8718": {
      "model_module": "@jupyter-widgets/controls",
      "model_module_version": "1.5.0",
      "model_name": "FloatProgressModel",
      "state": {
       "bar_style": "info",
       "description": "Progress:",
       "layout": "IPY_MODEL_09bf93173a6f4025a45e2be894410b0a",
       "max": 1,
       "style": "IPY_MODEL_fdef97766ffb4fc3bfd63844bed98c5b",
       "value": 0.5
      }
     },
     "631fa78795b541569660debb7711e4bb": {
      "model_module": "@jupyter-widgets/base",
      "model_module_version": "1.2.0",
      "model_name": "LayoutModel",
      "state": {
       "height": "25px",
       "width": "50%"
      }
     },
     "632bda90fccd4a4d8453283a840a49a0": {
      "model_module": "@jupyter-widgets/base",
      "model_module_version": "1.2.0",
      "model_name": "LayoutModel",
      "state": {
       "height": "25px",
       "width": "50%"
      }
     },
     "6338d42f2b974b2cba14e59ec60a60f2": {
      "model_module": "@jupyter-widgets/controls",
      "model_module_version": "1.5.0",
      "model_name": "ProgressStyleModel",
      "state": {
       "description_width": ""
      }
     },
     "633f2f183e464d33acac3cae82703365": {
      "model_module": "@jupyter-widgets/controls",
      "model_module_version": "1.5.0",
      "model_name": "ProgressStyleModel",
      "state": {
       "description_width": ""
      }
     },
     "63469a8cf0884ddea9de0d401ca9b71c": {
      "model_module": "@jupyter-widgets/controls",
      "model_module_version": "1.5.0",
      "model_name": "ProgressStyleModel",
      "state": {
       "description_width": ""
      }
     },
     "637e143e9292413bb1a61590a7f20d00": {
      "model_module": "@jupyter-widgets/controls",
      "model_module_version": "1.5.0",
      "model_name": "ProgressStyleModel",
      "state": {
       "description_width": ""
      }
     },
     "6412cb34af1343d8b207e52543eaec0f": {
      "model_module": "@jupyter-widgets/base",
      "model_module_version": "1.2.0",
      "model_name": "LayoutModel",
      "state": {
       "height": "25px",
       "width": "50%"
      }
     },
     "647227c40c594124a41a92fb1ec9efd7": {
      "model_module": "@jupyter-widgets/base",
      "model_module_version": "1.2.0",
      "model_name": "LayoutModel",
      "state": {
       "height": "25px",
       "width": "50%"
      }
     },
     "64dbb666f8d64d039b58fa804f5d46f1": {
      "model_module": "@jupyter-widgets/controls",
      "model_module_version": "1.5.0",
      "model_name": "ProgressStyleModel",
      "state": {
       "description_width": ""
      }
     },
     "652e1019569c493297996aef6f5f261a": {
      "model_module": "@jupyter-widgets/controls",
      "model_module_version": "1.5.0",
      "model_name": "ProgressStyleModel",
      "state": {
       "description_width": ""
      }
     },
     "6552dc5e96e74a6aa76dc32fe58866f6": {
      "model_module": "@jupyter-widgets/controls",
      "model_module_version": "1.5.0",
      "model_name": "ProgressStyleModel",
      "state": {
       "description_width": ""
      }
     },
     "65642add6f7545a58103c124c9d3ba2e": {
      "model_module": "@jupyter-widgets/controls",
      "model_module_version": "1.5.0",
      "model_name": "ProgressStyleModel",
      "state": {
       "description_width": ""
      }
     },
     "65ac4dba00024737b267ec902169ad24": {
      "model_module": "@jupyter-widgets/controls",
      "model_module_version": "1.5.0",
      "model_name": "ProgressStyleModel",
      "state": {
       "description_width": ""
      }
     },
     "65ff474d8b2a4d108791aab9c6cb2df5": {
      "model_module": "@jupyter-widgets/base",
      "model_module_version": "1.2.0",
      "model_name": "LayoutModel",
      "state": {
       "height": "25px",
       "width": "50%"
      }
     },
     "66a096c0955e45088dea07712a3ee47a": {
      "model_module": "@jupyter-widgets/base",
      "model_module_version": "1.2.0",
      "model_name": "LayoutModel",
      "state": {
       "height": "25px",
       "width": "50%"
      }
     },
     "6707c3627e6341deb28449d3c4041044": {
      "model_module": "@jupyter-widgets/controls",
      "model_module_version": "1.5.0",
      "model_name": "FloatProgressModel",
      "state": {
       "bar_style": "info",
       "description": "Progress:",
       "layout": "IPY_MODEL_20ac553352bc497ab8a075947cae61f5",
       "max": 1,
       "style": "IPY_MODEL_745a7d3f4d5e43d0a3018f75234b0043"
      }
     },
     "672a2ab0598a46f8ae9feafa06207b5e": {
      "model_module": "@jupyter-widgets/base",
      "model_module_version": "1.2.0",
      "model_name": "LayoutModel",
      "state": {
       "height": "25px",
       "width": "50%"
      }
     },
     "675d887646cc4681a6e155ab0fd1a740": {
      "model_module": "@jupyter-widgets/controls",
      "model_module_version": "1.5.0",
      "model_name": "ProgressStyleModel",
      "state": {
       "description_width": ""
      }
     },
     "67b67edc50224917b279a8c7809f2215": {
      "model_module": "@jupyter-widgets/base",
      "model_module_version": "1.2.0",
      "model_name": "LayoutModel",
      "state": {
       "height": "25px",
       "width": "50%"
      }
     },
     "67bd79e76b8f43f2ab5da6ca3bd0f2c6": {
      "model_module": "@jupyter-widgets/base",
      "model_module_version": "1.2.0",
      "model_name": "LayoutModel",
      "state": {
       "height": "25px",
       "width": "50%"
      }
     },
     "680251394f0541fca390c1d608c38c36": {
      "model_module": "@jupyter-widgets/base",
      "model_module_version": "1.2.0",
      "model_name": "LayoutModel",
      "state": {
       "height": "25px",
       "width": "50%"
      }
     },
     "6898c886cbe3419ba11948c1264ce224": {
      "model_module": "@jupyter-widgets/controls",
      "model_module_version": "1.5.0",
      "model_name": "ProgressStyleModel",
      "state": {
       "description_width": ""
      }
     },
     "68c3bb1bb4874460bf6fcae108941e99": {
      "model_module": "@jupyter-widgets/controls",
      "model_module_version": "1.5.0",
      "model_name": "ProgressStyleModel",
      "state": {
       "description_width": ""
      }
     },
     "69724cbf02944b5fabfa926dfc540373": {
      "model_module": "@jupyter-widgets/base",
      "model_module_version": "1.2.0",
      "model_name": "LayoutModel",
      "state": {
       "height": "25px",
       "width": "50%"
      }
     },
     "6989c9b6664c4cbdbba81913f8d06080": {
      "model_module": "@jupyter-widgets/controls",
      "model_module_version": "1.5.0",
      "model_name": "ProgressStyleModel",
      "state": {
       "description_width": ""
      }
     },
     "6a0c671f6c49477a875a3cefd2ce56a3": {
      "model_module": "@jupyter-widgets/controls",
      "model_module_version": "1.5.0",
      "model_name": "ProgressStyleModel",
      "state": {
       "description_width": ""
      }
     },
     "6a19d4e5fc3545dd8ccd5f925613494a": {
      "model_module": "@jupyter-widgets/base",
      "model_module_version": "1.2.0",
      "model_name": "LayoutModel",
      "state": {
       "height": "25px",
       "width": "50%"
      }
     },
     "6a3457fbd2b249b19fe986cdf9dee78c": {
      "model_module": "@jupyter-widgets/controls",
      "model_module_version": "1.5.0",
      "model_name": "ProgressStyleModel",
      "state": {
       "description_width": ""
      }
     },
     "6a5f53a898ad4f50b325a63963c5ff77": {
      "model_module": "@jupyter-widgets/base",
      "model_module_version": "1.2.0",
      "model_name": "LayoutModel",
      "state": {
       "height": "25px",
       "width": "50%"
      }
     },
     "6a9eae0c650f438dab6764429869010b": {
      "model_module": "@jupyter-widgets/base",
      "model_module_version": "1.2.0",
      "model_name": "LayoutModel",
      "state": {
       "height": "25px",
       "width": "50%"
      }
     },
     "6ae301872984473ab508f75c7f1bb0c7": {
      "model_module": "@jupyter-widgets/base",
      "model_module_version": "1.2.0",
      "model_name": "LayoutModel",
      "state": {
       "height": "25px",
       "width": "50%"
      }
     },
     "6b56bccd740740ffb4abc50354ee182a": {
      "model_module": "@jupyter-widgets/controls",
      "model_module_version": "1.5.0",
      "model_name": "FloatProgressModel",
      "state": {
       "bar_style": "info",
       "description": "Progress:",
       "layout": "IPY_MODEL_0338a64c19ea44088278c024f4cd5b74",
       "max": 1,
       "style": "IPY_MODEL_9228f8736c1b4632a4e2ae793cb07253"
      }
     },
     "6b6ced03021947fcb593f9d46bf0847c": {
      "model_module": "@jupyter-widgets/controls",
      "model_module_version": "1.5.0",
      "model_name": "ProgressStyleModel",
      "state": {
       "description_width": ""
      }
     },
     "6b80ab5e64fe4c4fb044d451e9506aa6": {
      "model_module": "@jupyter-widgets/controls",
      "model_module_version": "1.5.0",
      "model_name": "ProgressStyleModel",
      "state": {
       "description_width": ""
      }
     },
     "6ba91cbf83cb485db0323314e5b583ee": {
      "model_module": "@jupyter-widgets/base",
      "model_module_version": "1.2.0",
      "model_name": "LayoutModel",
      "state": {
       "height": "25px",
       "width": "50%"
      }
     },
     "6be4516856514273ae5de0f538479c10": {
      "model_module": "@jupyter-widgets/controls",
      "model_module_version": "1.5.0",
      "model_name": "ProgressStyleModel",
      "state": {
       "description_width": ""
      }
     },
     "6cab27ecf44f4ae08c8b705feb00db98": {
      "model_module": "@jupyter-widgets/controls",
      "model_module_version": "1.5.0",
      "model_name": "ProgressStyleModel",
      "state": {
       "description_width": ""
      }
     },
     "6cae55f5cf814c398d1bde245f9ba617": {
      "model_module": "@jupyter-widgets/base",
      "model_module_version": "1.2.0",
      "model_name": "LayoutModel",
      "state": {
       "height": "25px",
       "width": "50%"
      }
     },
     "6cbd480a6ee54a1ea600f37880f75b29": {
      "model_module": "@jupyter-widgets/base",
      "model_module_version": "1.2.0",
      "model_name": "LayoutModel",
      "state": {
       "height": "25px",
       "width": "50%"
      }
     },
     "6db1b5c5f2ae49f6b9e0cdaf8744239a": {
      "model_module": "@jupyter-widgets/base",
      "model_module_version": "1.2.0",
      "model_name": "LayoutModel",
      "state": {
       "height": "25px",
       "width": "50%"
      }
     },
     "6e47c3d135114e53908cb1baf709c63e": {
      "model_module": "@jupyter-widgets/controls",
      "model_module_version": "1.5.0",
      "model_name": "ProgressStyleModel",
      "state": {
       "description_width": ""
      }
     },
     "6e65a29cf2c54710b0df73fa0bbb7a04": {
      "model_module": "@jupyter-widgets/base",
      "model_module_version": "1.2.0",
      "model_name": "LayoutModel",
      "state": {
       "height": "25px",
       "width": "50%"
      }
     },
     "6e6695de1e3d48919062e08221e1c85c": {
      "model_module": "@jupyter-widgets/base",
      "model_module_version": "1.2.0",
      "model_name": "LayoutModel",
      "state": {
       "height": "25px",
       "width": "50%"
      }
     },
     "6e6eab26a6c341da91bec672b0addc59": {
      "model_module": "@jupyter-widgets/controls",
      "model_module_version": "1.5.0",
      "model_name": "ProgressStyleModel",
      "state": {
       "description_width": ""
      }
     },
     "6ec8a35a32264cd4a5ae0678bc06b91e": {
      "model_module": "@jupyter-widgets/controls",
      "model_module_version": "1.5.0",
      "model_name": "FloatProgressModel",
      "state": {
       "bar_style": "info",
       "description": "Progress:",
       "layout": "IPY_MODEL_e163cb8727924715b790977761b9dabb",
       "max": 1,
       "style": "IPY_MODEL_8b590d392d2144c186835bb8721190ce",
       "value": 1
      }
     },
     "6edbb351a4b945f9947b290955a07752": {
      "model_module": "@jupyter-widgets/controls",
      "model_module_version": "1.5.0",
      "model_name": "FloatProgressModel",
      "state": {
       "bar_style": "info",
       "description": "Progress:",
       "layout": "IPY_MODEL_ca1a023189c347daadbb033558765cb5",
       "max": 1,
       "style": "IPY_MODEL_9aac128cc732499f8209393f08507007",
       "value": 1
      }
     },
     "6ee8356a5d7741de9ad50108d88d7741": {
      "model_module": "@jupyter-widgets/controls",
      "model_module_version": "1.5.0",
      "model_name": "FloatProgressModel",
      "state": {
       "bar_style": "info",
       "description": "Progress:",
       "layout": "IPY_MODEL_952f9887c7624163ba4f3dd5b9901be9",
       "max": 1,
       "style": "IPY_MODEL_1a6ed134043c48b5a0f68de1b30bf4f2"
      }
     },
     "6f16ac4ee42a4975ad7bc5f8b7e574d3": {
      "model_module": "@jupyter-widgets/controls",
      "model_module_version": "1.5.0",
      "model_name": "ProgressStyleModel",
      "state": {
       "description_width": ""
      }
     },
     "6f3eda75f87543bda555c75afd717a17": {
      "model_module": "@jupyter-widgets/controls",
      "model_module_version": "1.5.0",
      "model_name": "ProgressStyleModel",
      "state": {
       "description_width": ""
      }
     },
     "6f74aa1a5ee742d09ba9707b109052c3": {
      "model_module": "@jupyter-widgets/controls",
      "model_module_version": "1.5.0",
      "model_name": "ProgressStyleModel",
      "state": {
       "description_width": ""
      }
     },
     "6fc6d9153d8141878996b2be2a98b5c4": {
      "model_module": "@jupyter-widgets/controls",
      "model_module_version": "1.5.0",
      "model_name": "ProgressStyleModel",
      "state": {
       "description_width": ""
      }
     },
     "70054f06260942eb97b33a67c271cf8d": {
      "model_module": "@jupyter-widgets/base",
      "model_module_version": "1.2.0",
      "model_name": "LayoutModel",
      "state": {
       "height": "25px",
       "width": "50%"
      }
     },
     "7049a5ce88494307a3d8f66407299a37": {
      "model_module": "@jupyter-widgets/controls",
      "model_module_version": "1.5.0",
      "model_name": "ProgressStyleModel",
      "state": {
       "description_width": ""
      }
     },
     "7082e4f939404caea73e74defd197ecc": {
      "model_module": "@jupyter-widgets/controls",
      "model_module_version": "1.5.0",
      "model_name": "ProgressStyleModel",
      "state": {
       "description_width": ""
      }
     },
     "7098346e02e4454f8349c80ea23f5ed9": {
      "model_module": "@jupyter-widgets/controls",
      "model_module_version": "1.5.0",
      "model_name": "ProgressStyleModel",
      "state": {
       "description_width": ""
      }
     },
     "70a9b79e91c148bbb65a0f5c20d5923e": {
      "model_module": "@jupyter-widgets/base",
      "model_module_version": "1.2.0",
      "model_name": "LayoutModel",
      "state": {
       "height": "25px",
       "width": "50%"
      }
     },
     "70aa85ceff214161a994272ba9d3eb72": {
      "model_module": "@jupyter-widgets/controls",
      "model_module_version": "1.5.0",
      "model_name": "ProgressStyleModel",
      "state": {
       "description_width": ""
      }
     },
     "70b21e2cbbfe43aca5445111e58870d4": {
      "model_module": "@jupyter-widgets/base",
      "model_module_version": "1.2.0",
      "model_name": "LayoutModel",
      "state": {
       "height": "25px",
       "width": "50%"
      }
     },
     "70bbcceeea2e4c82a4bfca611516eab0": {
      "model_module": "@jupyter-widgets/base",
      "model_module_version": "1.2.0",
      "model_name": "LayoutModel",
      "state": {
       "height": "25px",
       "width": "50%"
      }
     },
     "70d57497fb6f46e5be34bdf0b56fdba0": {
      "model_module": "@jupyter-widgets/controls",
      "model_module_version": "1.5.0",
      "model_name": "ProgressStyleModel",
      "state": {
       "description_width": ""
      }
     },
     "70de10d839e8405ca1532e2b7c238eae": {
      "model_module": "@jupyter-widgets/controls",
      "model_module_version": "1.5.0",
      "model_name": "ProgressStyleModel",
      "state": {
       "description_width": ""
      }
     },
     "70e159c79e544e3d82c8468488323262": {
      "model_module": "@jupyter-widgets/controls",
      "model_module_version": "1.5.0",
      "model_name": "ProgressStyleModel",
      "state": {
       "description_width": ""
      }
     },
     "710c1129427343f5a71a14e4fb73e7c2": {
      "model_module": "@jupyter-widgets/base",
      "model_module_version": "1.2.0",
      "model_name": "LayoutModel",
      "state": {
       "height": "25px",
       "width": "50%"
      }
     },
     "711c528346ac44099ac47ca2c3109ec3": {
      "model_module": "@jupyter-widgets/controls",
      "model_module_version": "1.5.0",
      "model_name": "ProgressStyleModel",
      "state": {
       "description_width": ""
      }
     },
     "716eb09aa8fa48dc912f119101a84093": {
      "model_module": "@jupyter-widgets/base",
      "model_module_version": "1.2.0",
      "model_name": "LayoutModel",
      "state": {
       "height": "25px",
       "width": "50%"
      }
     },
     "71ace734f28543c6b8e0bca363927c6d": {
      "model_module": "@jupyter-widgets/base",
      "model_module_version": "1.2.0",
      "model_name": "LayoutModel",
      "state": {
       "height": "25px",
       "width": "50%"
      }
     },
     "721dfb05349b4a7fa44b1c0101dd5342": {
      "model_module": "@jupyter-widgets/controls",
      "model_module_version": "1.5.0",
      "model_name": "ProgressStyleModel",
      "state": {
       "description_width": ""
      }
     },
     "7243d859917244e8865a4b0b28b7564a": {
      "model_module": "@jupyter-widgets/controls",
      "model_module_version": "1.5.0",
      "model_name": "ProgressStyleModel",
      "state": {
       "description_width": ""
      }
     },
     "725dc8c9569d43b498bac7dc2554c03a": {
      "model_module": "@jupyter-widgets/base",
      "model_module_version": "1.2.0",
      "model_name": "LayoutModel",
      "state": {
       "height": "25px",
       "width": "50%"
      }
     },
     "72b186fa363f4b52af132bda5ea48754": {
      "model_module": "@jupyter-widgets/base",
      "model_module_version": "1.2.0",
      "model_name": "LayoutModel",
      "state": {
       "height": "25px",
       "width": "50%"
      }
     },
     "72b84c8a39894079b1833c172fc1848b": {
      "model_module": "@jupyter-widgets/controls",
      "model_module_version": "1.5.0",
      "model_name": "ProgressStyleModel",
      "state": {
       "description_width": ""
      }
     },
     "72e5ac3c13a747e99337c75019434bac": {
      "model_module": "@jupyter-widgets/base",
      "model_module_version": "1.2.0",
      "model_name": "LayoutModel",
      "state": {
       "height": "25px",
       "width": "50%"
      }
     },
     "730d1ae8224d4e019930f98e63d1736a": {
      "model_module": "@jupyter-widgets/base",
      "model_module_version": "1.2.0",
      "model_name": "LayoutModel",
      "state": {
       "height": "25px",
       "width": "50%"
      }
     },
     "7350d6c74fd34e2b830011de16c170f2": {
      "model_module": "@jupyter-widgets/base",
      "model_module_version": "1.2.0",
      "model_name": "LayoutModel",
      "state": {
       "height": "25px",
       "width": "50%"
      }
     },
     "7355713c36c24d148ae6e1cc76395304": {
      "model_module": "@jupyter-widgets/controls",
      "model_module_version": "1.5.0",
      "model_name": "ProgressStyleModel",
      "state": {
       "description_width": ""
      }
     },
     "7371f74735be407bae5e1bf915d4398e": {
      "model_module": "@jupyter-widgets/base",
      "model_module_version": "1.2.0",
      "model_name": "LayoutModel",
      "state": {
       "height": "25px",
       "width": "50%"
      }
     },
     "739396a9f5af4c7a9301955bcda3f11a": {
      "model_module": "@jupyter-widgets/controls",
      "model_module_version": "1.5.0",
      "model_name": "ProgressStyleModel",
      "state": {
       "description_width": ""
      }
     },
     "73acb2d86abc4c338c51ae948d89f09d": {
      "model_module": "@jupyter-widgets/base",
      "model_module_version": "1.2.0",
      "model_name": "LayoutModel",
      "state": {
       "height": "25px",
       "width": "50%"
      }
     },
     "740e3b5b3329412a8bbed5c190763c7a": {
      "model_module": "@jupyter-widgets/base",
      "model_module_version": "1.2.0",
      "model_name": "LayoutModel",
      "state": {
       "height": "25px",
       "width": "50%"
      }
     },
     "742751ff3857450dbfa2d1cb0f1fa1b9": {
      "model_module": "@jupyter-widgets/base",
      "model_module_version": "1.2.0",
      "model_name": "LayoutModel",
      "state": {
       "height": "25px",
       "width": "50%"
      }
     },
     "744937ce1113438ebdcf9365ec155e0a": {
      "model_module": "@jupyter-widgets/controls",
      "model_module_version": "1.5.0",
      "model_name": "FloatProgressModel",
      "state": {
       "bar_style": "info",
       "description": "Progress:",
       "layout": "IPY_MODEL_9ad02a7701ea4562b97879aec73a8f0d",
       "max": 1,
       "style": "IPY_MODEL_591f6dca698145ae839922dbee631021"
      }
     },
     "745a7d3f4d5e43d0a3018f75234b0043": {
      "model_module": "@jupyter-widgets/controls",
      "model_module_version": "1.5.0",
      "model_name": "ProgressStyleModel",
      "state": {
       "description_width": ""
      }
     },
     "747dda293b4c4a89a7590ced5527914a": {
      "model_module": "@jupyter-widgets/base",
      "model_module_version": "1.2.0",
      "model_name": "LayoutModel",
      "state": {
       "height": "25px",
       "width": "50%"
      }
     },
     "750aa118729e485cbdeec9a379a029ec": {
      "model_module": "@jupyter-widgets/controls",
      "model_module_version": "1.5.0",
      "model_name": "ProgressStyleModel",
      "state": {
       "description_width": ""
      }
     },
     "75b42ccdffd3401d9713a92e87e08d33": {
      "model_module": "@jupyter-widgets/base",
      "model_module_version": "1.2.0",
      "model_name": "LayoutModel",
      "state": {
       "height": "25px",
       "width": "50%"
      }
     },
     "75d99b1b7e7b42b4969beb91bb4426de": {
      "model_module": "@jupyter-widgets/controls",
      "model_module_version": "1.5.0",
      "model_name": "ProgressStyleModel",
      "state": {
       "description_width": ""
      }
     },
     "76458c3c701945c7a5ee7d705f5acf3d": {
      "model_module": "@jupyter-widgets/base",
      "model_module_version": "1.2.0",
      "model_name": "LayoutModel",
      "state": {
       "height": "25px",
       "width": "50%"
      }
     },
     "7656001eced34b04834fd5720d57e300": {
      "model_module": "@jupyter-widgets/base",
      "model_module_version": "1.2.0",
      "model_name": "LayoutModel",
      "state": {
       "height": "25px",
       "width": "50%"
      }
     },
     "76972b3b76a242dcb18ac44230e4d6e7": {
      "model_module": "@jupyter-widgets/controls",
      "model_module_version": "1.5.0",
      "model_name": "ProgressStyleModel",
      "state": {
       "description_width": ""
      }
     },
     "769bd951e9374074b41d69ddf9c89efd": {
      "model_module": "@jupyter-widgets/controls",
      "model_module_version": "1.5.0",
      "model_name": "ProgressStyleModel",
      "state": {
       "description_width": ""
      }
     },
     "76abefb233894d5dbdf347efe81eecca": {
      "model_module": "@jupyter-widgets/base",
      "model_module_version": "1.2.0",
      "model_name": "LayoutModel",
      "state": {
       "height": "25px",
       "width": "50%"
      }
     },
     "76b6eb09d63041dc99dee77e662bc873": {
      "model_module": "@jupyter-widgets/base",
      "model_module_version": "1.2.0",
      "model_name": "LayoutModel",
      "state": {
       "height": "25px",
       "width": "50%"
      }
     },
     "76de0acadecd46c79cfb21a462e9124b": {
      "model_module": "@jupyter-widgets/controls",
      "model_module_version": "1.5.0",
      "model_name": "ProgressStyleModel",
      "state": {
       "description_width": ""
      }
     },
     "76f2e3da359647df921f8aab8037e112": {
      "model_module": "@jupyter-widgets/base",
      "model_module_version": "1.2.0",
      "model_name": "LayoutModel",
      "state": {
       "height": "25px",
       "width": "50%"
      }
     },
     "7720a2c3f8124160b92d0b776e4b34d4": {
      "model_module": "@jupyter-widgets/base",
      "model_module_version": "1.2.0",
      "model_name": "LayoutModel",
      "state": {
       "height": "25px",
       "width": "50%"
      }
     },
     "77448577e9b947df9468511749357535": {
      "model_module": "@jupyter-widgets/controls",
      "model_module_version": "1.5.0",
      "model_name": "ProgressStyleModel",
      "state": {
       "description_width": ""
      }
     },
     "7754eb9bf21b47498a4997e9bd06c4b3": {
      "model_module": "@jupyter-widgets/controls",
      "model_module_version": "1.5.0",
      "model_name": "ProgressStyleModel",
      "state": {
       "description_width": ""
      }
     },
     "779a9dd43be648f1bd514ed3bf23db16": {
      "model_module": "@jupyter-widgets/base",
      "model_module_version": "1.2.0",
      "model_name": "LayoutModel",
      "state": {
       "height": "25px",
       "width": "50%"
      }
     },
     "77af7c74dec149c6af4bba67bcabb648": {
      "model_module": "@jupyter-widgets/controls",
      "model_module_version": "1.5.0",
      "model_name": "ProgressStyleModel",
      "state": {
       "description_width": ""
      }
     },
     "77de8b0518414a9097d05e0f6c8087e3": {
      "model_module": "@jupyter-widgets/base",
      "model_module_version": "1.2.0",
      "model_name": "LayoutModel",
      "state": {
       "height": "25px",
       "width": "50%"
      }
     },
     "787f690fcbee408ab418978e0773a2b7": {
      "model_module": "@jupyter-widgets/controls",
      "model_module_version": "1.5.0",
      "model_name": "ProgressStyleModel",
      "state": {
       "description_width": ""
      }
     },
     "78851090588946d7be4af50ba7b5b6ff": {
      "model_module": "@jupyter-widgets/controls",
      "model_module_version": "1.5.0",
      "model_name": "ProgressStyleModel",
      "state": {
       "description_width": ""
      }
     },
     "78c0e128c07a4f42ad040efb2c83159a": {
      "model_module": "@jupyter-widgets/base",
      "model_module_version": "1.2.0",
      "model_name": "LayoutModel",
      "state": {
       "height": "25px",
       "width": "50%"
      }
     },
     "78c1cd57a2e2419ea063764d93e3a513": {
      "model_module": "@jupyter-widgets/base",
      "model_module_version": "1.2.0",
      "model_name": "LayoutModel",
      "state": {
       "height": "25px",
       "width": "50%"
      }
     },
     "7900dc28993945448b6cf265db8b5cf0": {
      "model_module": "@jupyter-widgets/controls",
      "model_module_version": "1.5.0",
      "model_name": "ProgressStyleModel",
      "state": {
       "description_width": ""
      }
     },
     "79f9c3b351394e3abc2319ec0375b9ea": {
      "model_module": "@jupyter-widgets/controls",
      "model_module_version": "1.5.0",
      "model_name": "ProgressStyleModel",
      "state": {
       "description_width": ""
      }
     },
     "7a022c66918a44d8b104b628b9c3b157": {
      "model_module": "@jupyter-widgets/base",
      "model_module_version": "1.2.0",
      "model_name": "LayoutModel",
      "state": {
       "height": "25px",
       "width": "50%"
      }
     },
     "7a3646690e4041fd9c55bfe9eaa3eead": {
      "model_module": "@jupyter-widgets/controls",
      "model_module_version": "1.5.0",
      "model_name": "ProgressStyleModel",
      "state": {
       "description_width": ""
      }
     },
     "7a4cbac18bde4927b0c0291f449b7ffe": {
      "model_module": "@jupyter-widgets/controls",
      "model_module_version": "1.5.0",
      "model_name": "ProgressStyleModel",
      "state": {
       "description_width": ""
      }
     },
     "7ad03c4771f44481b0daa8ff033058b0": {
      "model_module": "@jupyter-widgets/controls",
      "model_module_version": "1.5.0",
      "model_name": "ProgressStyleModel",
      "state": {
       "description_width": ""
      }
     },
     "7ad08d52e17e4b1f969df8b60733b5bb": {
      "model_module": "@jupyter-widgets/base",
      "model_module_version": "1.2.0",
      "model_name": "LayoutModel",
      "state": {
       "height": "25px",
       "width": "50%"
      }
     },
     "7ada175dc41549b3a6c25e86ea52b21b": {
      "model_module": "@jupyter-widgets/base",
      "model_module_version": "1.2.0",
      "model_name": "LayoutModel",
      "state": {
       "height": "25px",
       "width": "50%"
      }
     },
     "7add59334681447a8dcd63ea67a0c077": {
      "model_module": "@jupyter-widgets/controls",
      "model_module_version": "1.5.0",
      "model_name": "ProgressStyleModel",
      "state": {
       "description_width": ""
      }
     },
     "7b43980019684b04bf5b8f7f5af1e898": {
      "model_module": "@jupyter-widgets/base",
      "model_module_version": "1.2.0",
      "model_name": "LayoutModel",
      "state": {
       "height": "25px",
       "width": "50%"
      }
     },
     "7b4b787bb06b4d59b161f7974529c3e7": {
      "model_module": "@jupyter-widgets/base",
      "model_module_version": "1.2.0",
      "model_name": "LayoutModel",
      "state": {
       "height": "25px",
       "width": "50%"
      }
     },
     "7be94f4a63a34ae6aa2d219f029b8730": {
      "model_module": "@jupyter-widgets/base",
      "model_module_version": "1.2.0",
      "model_name": "LayoutModel",
      "state": {
       "height": "25px",
       "width": "50%"
      }
     },
     "7c281dbbab0940e1a18315a33b3a8cba": {
      "model_module": "@jupyter-widgets/controls",
      "model_module_version": "1.5.0",
      "model_name": "ProgressStyleModel",
      "state": {
       "description_width": ""
      }
     },
     "7c673b82ce314d929f2d216ac722cdca": {
      "model_module": "@jupyter-widgets/controls",
      "model_module_version": "1.5.0",
      "model_name": "ProgressStyleModel",
      "state": {
       "description_width": ""
      }
     },
     "7c87583e011f4c93acdde46ae2493029": {
      "model_module": "@jupyter-widgets/base",
      "model_module_version": "1.2.0",
      "model_name": "LayoutModel",
      "state": {
       "height": "25px",
       "width": "50%"
      }
     },
     "7cdf23e33d34493594785d170f9af467": {
      "model_module": "@jupyter-widgets/controls",
      "model_module_version": "1.5.0",
      "model_name": "ProgressStyleModel",
      "state": {
       "description_width": ""
      }
     },
     "7d067782901941b8b20695842c78556e": {
      "model_module": "@jupyter-widgets/controls",
      "model_module_version": "1.5.0",
      "model_name": "ProgressStyleModel",
      "state": {
       "description_width": ""
      }
     },
     "7d3976e71c0e4bbca101e646b6e04e75": {
      "model_module": "@jupyter-widgets/controls",
      "model_module_version": "1.5.0",
      "model_name": "ProgressStyleModel",
      "state": {
       "description_width": ""
      }
     },
     "7e116d2e0a6447909158f0bfc7ee2d6f": {
      "model_module": "@jupyter-widgets/base",
      "model_module_version": "1.2.0",
      "model_name": "LayoutModel",
      "state": {
       "height": "25px",
       "width": "50%"
      }
     },
     "7e55e0c92bfc414b9f135fdabb6d8896": {
      "model_module": "@jupyter-widgets/base",
      "model_module_version": "1.2.0",
      "model_name": "LayoutModel",
      "state": {
       "height": "25px",
       "width": "50%"
      }
     },
     "7ec1c377aeba4a4fa46755c282245d3e": {
      "model_module": "@jupyter-widgets/controls",
      "model_module_version": "1.5.0",
      "model_name": "ProgressStyleModel",
      "state": {
       "description_width": ""
      }
     },
     "7f738b9332b84eb6851f7e760c85fd96": {
      "model_module": "@jupyter-widgets/base",
      "model_module_version": "1.2.0",
      "model_name": "LayoutModel",
      "state": {
       "height": "25px",
       "width": "50%"
      }
     },
     "7faa69d22ca44fff89be6c1da612896e": {
      "model_module": "@jupyter-widgets/controls",
      "model_module_version": "1.5.0",
      "model_name": "ProgressStyleModel",
      "state": {
       "description_width": ""
      }
     },
     "8010cf8a9feb445aa543fccde6563e48": {
      "model_module": "@jupyter-widgets/controls",
      "model_module_version": "1.5.0",
      "model_name": "ProgressStyleModel",
      "state": {
       "description_width": ""
      }
     },
     "802632e23e454bdca3e5eb584a06cae2": {
      "model_module": "@jupyter-widgets/controls",
      "model_module_version": "1.5.0",
      "model_name": "ProgressStyleModel",
      "state": {
       "description_width": ""
      }
     },
     "80ced467c350462e831a3db702e077e1": {
      "model_module": "@jupyter-widgets/controls",
      "model_module_version": "1.5.0",
      "model_name": "FloatProgressModel",
      "state": {
       "bar_style": "info",
       "description": "Progress:",
       "layout": "IPY_MODEL_37ece135253344019e195942613580c0",
       "max": 1,
       "style": "IPY_MODEL_c78488e609ac4127ad2281993093f6ce",
       "value": 1
      }
     },
     "80df1125750b495fbcf704c2f829013d": {
      "model_module": "@jupyter-widgets/controls",
      "model_module_version": "1.5.0",
      "model_name": "ProgressStyleModel",
      "state": {
       "description_width": ""
      }
     },
     "80e4500297e346c5bc79cc2aa7bdd1c1": {
      "model_module": "@jupyter-widgets/base",
      "model_module_version": "1.2.0",
      "model_name": "LayoutModel",
      "state": {
       "height": "25px",
       "width": "50%"
      }
     },
     "810d2fab129c4b37ab3652887e647a48": {
      "model_module": "@jupyter-widgets/controls",
      "model_module_version": "1.5.0",
      "model_name": "ProgressStyleModel",
      "state": {
       "description_width": ""
      }
     },
     "814751b0604a4ec4a5cb3a31bffed52b": {
      "model_module": "@jupyter-widgets/controls",
      "model_module_version": "1.5.0",
      "model_name": "ProgressStyleModel",
      "state": {
       "description_width": ""
      }
     },
     "81a503cd10ba41269586f8ce68fc843c": {
      "model_module": "@jupyter-widgets/base",
      "model_module_version": "1.2.0",
      "model_name": "LayoutModel",
      "state": {
       "height": "25px",
       "width": "50%"
      }
     },
     "81ae54983c754b1f8f6a71ac735ece09": {
      "model_module": "@jupyter-widgets/base",
      "model_module_version": "1.2.0",
      "model_name": "LayoutModel",
      "state": {
       "height": "25px",
       "width": "50%"
      }
     },
     "81afa78a3c7e4a149c12ec284b8593be": {
      "model_module": "@jupyter-widgets/base",
      "model_module_version": "1.2.0",
      "model_name": "LayoutModel",
      "state": {
       "height": "25px",
       "width": "50%"
      }
     },
     "81b22d7f9b4f421f8e7d94faa65257e7": {
      "model_module": "@jupyter-widgets/base",
      "model_module_version": "1.2.0",
      "model_name": "LayoutModel",
      "state": {
       "height": "25px",
       "width": "50%"
      }
     },
     "81d51cd98e304b45bb904f995649d5ad": {
      "model_module": "@jupyter-widgets/base",
      "model_module_version": "1.2.0",
      "model_name": "LayoutModel",
      "state": {
       "height": "25px",
       "width": "50%"
      }
     },
     "82124ba7bd9f4b29ac74e97fc8455f58": {
      "model_module": "@jupyter-widgets/controls",
      "model_module_version": "1.5.0",
      "model_name": "ProgressStyleModel",
      "state": {
       "description_width": ""
      }
     },
     "82c51f33bd1f4aa791014e8544cc8f0b": {
      "model_module": "@jupyter-widgets/base",
      "model_module_version": "1.2.0",
      "model_name": "LayoutModel",
      "state": {
       "height": "25px",
       "width": "50%"
      }
     },
     "83235065b4c8447caff026f6eea5b025": {
      "model_module": "@jupyter-widgets/base",
      "model_module_version": "1.2.0",
      "model_name": "LayoutModel",
      "state": {
       "height": "25px",
       "width": "50%"
      }
     },
     "832ec42898224f8381aa7af0fda0c358": {
      "model_module": "@jupyter-widgets/controls",
      "model_module_version": "1.5.0",
      "model_name": "ProgressStyleModel",
      "state": {
       "description_width": ""
      }
     },
     "8337ba86d8e247b19053dfb109295306": {
      "model_module": "@jupyter-widgets/controls",
      "model_module_version": "1.5.0",
      "model_name": "ProgressStyleModel",
      "state": {
       "description_width": ""
      }
     },
     "839a6a3162dc4e689879378a335b70a0": {
      "model_module": "@jupyter-widgets/controls",
      "model_module_version": "1.5.0",
      "model_name": "ProgressStyleModel",
      "state": {
       "description_width": ""
      }
     },
     "83b9d15c98d04b20a9f47c93b7a6b8fa": {
      "model_module": "@jupyter-widgets/controls",
      "model_module_version": "1.5.0",
      "model_name": "ProgressStyleModel",
      "state": {
       "description_width": ""
      }
     },
     "83bf3768c0e24022bef73d91e9d66805": {
      "model_module": "@jupyter-widgets/controls",
      "model_module_version": "1.5.0",
      "model_name": "ProgressStyleModel",
      "state": {
       "description_width": ""
      }
     },
     "83e48cf329394e09995360cf1e9c6868": {
      "model_module": "@jupyter-widgets/base",
      "model_module_version": "1.2.0",
      "model_name": "LayoutModel",
      "state": {
       "height": "25px",
       "width": "50%"
      }
     },
     "8470750ff2374561b98f336b0734f5ef": {
      "model_module": "@jupyter-widgets/controls",
      "model_module_version": "1.5.0",
      "model_name": "ProgressStyleModel",
      "state": {
       "description_width": ""
      }
     },
     "8471b7ae344b4975b7198feb9ad686ea": {
      "model_module": "@jupyter-widgets/controls",
      "model_module_version": "1.5.0",
      "model_name": "ProgressStyleModel",
      "state": {
       "description_width": ""
      }
     },
     "847818b98d384a2b93c78f1ead2a34dc": {
      "model_module": "@jupyter-widgets/base",
      "model_module_version": "1.2.0",
      "model_name": "LayoutModel",
      "state": {
       "height": "25px",
       "width": "50%"
      }
     },
     "848fd32b770c4592a87c12c9488aecf6": {
      "model_module": "@jupyter-widgets/controls",
      "model_module_version": "1.5.0",
      "model_name": "ProgressStyleModel",
      "state": {
       "description_width": ""
      }
     },
     "849551df34d5463baf6e0f231ffd49e7": {
      "model_module": "@jupyter-widgets/controls",
      "model_module_version": "1.5.0",
      "model_name": "FloatProgressModel",
      "state": {
       "bar_style": "info",
       "description": "Progress:",
       "layout": "IPY_MODEL_69724cbf02944b5fabfa926dfc540373",
       "max": 1,
       "style": "IPY_MODEL_e661aa449d0e49b58d78a991d359a777"
      }
     },
     "849e93c911a445bcb9721fa4cf5b7fb9": {
      "model_module": "@jupyter-widgets/base",
      "model_module_version": "1.2.0",
      "model_name": "LayoutModel",
      "state": {
       "height": "25px",
       "width": "50%"
      }
     },
     "849f45f325554c91b364b6bde7b25129": {
      "model_module": "@jupyter-widgets/base",
      "model_module_version": "1.2.0",
      "model_name": "LayoutModel",
      "state": {
       "height": "25px",
       "width": "50%"
      }
     },
     "84b40edcc5e44c62a8877f9aa4a42445": {
      "model_module": "@jupyter-widgets/controls",
      "model_module_version": "1.5.0",
      "model_name": "ProgressStyleModel",
      "state": {
       "description_width": ""
      }
     },
     "84e604f29b1f447d9a1d51bf661b111b": {
      "model_module": "@jupyter-widgets/base",
      "model_module_version": "1.2.0",
      "model_name": "LayoutModel",
      "state": {
       "height": "25px",
       "width": "50%"
      }
     },
     "85152f9d4e164a5bb2c17846618828aa": {
      "model_module": "@jupyter-widgets/controls",
      "model_module_version": "1.5.0",
      "model_name": "ProgressStyleModel",
      "state": {
       "description_width": ""
      }
     },
     "855d0a8d90554bf983a4ba89cecaa71e": {
      "model_module": "@jupyter-widgets/controls",
      "model_module_version": "1.5.0",
      "model_name": "ProgressStyleModel",
      "state": {
       "description_width": ""
      }
     },
     "85f1645b727d4745b2759abf3f91a640": {
      "model_module": "@jupyter-widgets/base",
      "model_module_version": "1.2.0",
      "model_name": "LayoutModel",
      "state": {
       "height": "25px",
       "width": "50%"
      }
     },
     "8623dfe808ca4453ab632a5b04b8d966": {
      "model_module": "@jupyter-widgets/base",
      "model_module_version": "1.2.0",
      "model_name": "LayoutModel",
      "state": {
       "height": "25px",
       "width": "50%"
      }
     },
     "8647fe5225f14b5888bf074d2208c8e7": {
      "model_module": "@jupyter-widgets/base",
      "model_module_version": "1.2.0",
      "model_name": "LayoutModel",
      "state": {
       "height": "25px",
       "width": "50%"
      }
     },
     "86573704a100466285623dba0a19e4f3": {
      "model_module": "@jupyter-widgets/base",
      "model_module_version": "1.2.0",
      "model_name": "LayoutModel",
      "state": {
       "height": "25px",
       "width": "50%"
      }
     },
     "8771d48d706b4cb69f96ab174fd6b412": {
      "model_module": "@jupyter-widgets/controls",
      "model_module_version": "1.5.0",
      "model_name": "ProgressStyleModel",
      "state": {
       "description_width": ""
      }
     },
     "87a6f0f1793f4150b31a63e8907ed1c9": {
      "model_module": "@jupyter-widgets/controls",
      "model_module_version": "1.5.0",
      "model_name": "ProgressStyleModel",
      "state": {
       "description_width": ""
      }
     },
     "87e7ea887dfb4073be37c19c6877ed2d": {
      "model_module": "@jupyter-widgets/controls",
      "model_module_version": "1.5.0",
      "model_name": "ProgressStyleModel",
      "state": {
       "description_width": ""
      }
     },
     "8823344755654a33948c6790a367476b": {
      "model_module": "@jupyter-widgets/controls",
      "model_module_version": "1.5.0",
      "model_name": "ProgressStyleModel",
      "state": {
       "description_width": ""
      }
     },
     "884a1973737e448d863b2f7c90b252ae": {
      "model_module": "@jupyter-widgets/controls",
      "model_module_version": "1.5.0",
      "model_name": "ProgressStyleModel",
      "state": {
       "description_width": ""
      }
     },
     "885144c711e546308d38a0c1a94ecc11": {
      "model_module": "@jupyter-widgets/controls",
      "model_module_version": "1.5.0",
      "model_name": "ProgressStyleModel",
      "state": {
       "description_width": ""
      }
     },
     "888b8a936f324455a94b7c8900c1bb14": {
      "model_module": "@jupyter-widgets/controls",
      "model_module_version": "1.5.0",
      "model_name": "ProgressStyleModel",
      "state": {
       "description_width": ""
      }
     },
     "88931b8d791e4c80a42b7629cf0136e3": {
      "model_module": "@jupyter-widgets/controls",
      "model_module_version": "1.5.0",
      "model_name": "ProgressStyleModel",
      "state": {
       "description_width": ""
      }
     },
     "88b82e244c74495592c438489f2730a3": {
      "model_module": "@jupyter-widgets/controls",
      "model_module_version": "1.5.0",
      "model_name": "FloatProgressModel",
      "state": {
       "bar_style": "info",
       "description": "Progress:",
       "layout": "IPY_MODEL_66a096c0955e45088dea07712a3ee47a",
       "max": 1,
       "style": "IPY_MODEL_256993331185487e927ad2eb4ad3ac70"
      }
     },
     "88c90e8aa3a44d2993bfcae044cec8b1": {
      "model_module": "@jupyter-widgets/base",
      "model_module_version": "1.2.0",
      "model_name": "LayoutModel",
      "state": {
       "height": "25px",
       "width": "50%"
      }
     },
     "88e5d595e42d416e98155b8ebf02cfeb": {
      "model_module": "@jupyter-widgets/base",
      "model_module_version": "1.2.0",
      "model_name": "LayoutModel",
      "state": {
       "height": "25px",
       "width": "50%"
      }
     },
     "892193e6342a4a85a6957ae5a320520c": {
      "model_module": "@jupyter-widgets/controls",
      "model_module_version": "1.5.0",
      "model_name": "ProgressStyleModel",
      "state": {
       "description_width": ""
      }
     },
     "8929fcf970f84146b0da01c18424ae97": {
      "model_module": "@jupyter-widgets/base",
      "model_module_version": "1.2.0",
      "model_name": "LayoutModel",
      "state": {
       "height": "25px",
       "width": "50%"
      }
     },
     "8939f9b519a448dca8036380acf22f20": {
      "model_module": "@jupyter-widgets/base",
      "model_module_version": "1.2.0",
      "model_name": "LayoutModel",
      "state": {
       "height": "25px",
       "width": "50%"
      }
     },
     "89a248003acd47edb8a6a6bc24c1686e": {
      "model_module": "@jupyter-widgets/base",
      "model_module_version": "1.2.0",
      "model_name": "LayoutModel",
      "state": {
       "height": "25px",
       "width": "50%"
      }
     },
     "89bb5367482643c5b5042683e36518a3": {
      "model_module": "@jupyter-widgets/controls",
      "model_module_version": "1.5.0",
      "model_name": "ProgressStyleModel",
      "state": {
       "description_width": ""
      }
     },
     "8a387da445c34f54ac0001c15fd9984c": {
      "model_module": "@jupyter-widgets/base",
      "model_module_version": "1.2.0",
      "model_name": "LayoutModel",
      "state": {
       "height": "25px",
       "width": "50%"
      }
     },
     "8a38bb4f5e6b444e90d71eee0d74c6ab": {
      "model_module": "@jupyter-widgets/controls",
      "model_module_version": "1.5.0",
      "model_name": "ProgressStyleModel",
      "state": {
       "description_width": ""
      }
     },
     "8a3c8f8abd934f42af584d0165b55ef9": {
      "model_module": "@jupyter-widgets/controls",
      "model_module_version": "1.5.0",
      "model_name": "ProgressStyleModel",
      "state": {
       "description_width": ""
      }
     },
     "8aa080f696264f93ba925ac2dda50df0": {
      "model_module": "@jupyter-widgets/controls",
      "model_module_version": "1.5.0",
      "model_name": "ProgressStyleModel",
      "state": {
       "description_width": ""
      }
     },
     "8ac7908b951543cead235fa911407aa2": {
      "model_module": "@jupyter-widgets/controls",
      "model_module_version": "1.5.0",
      "model_name": "ProgressStyleModel",
      "state": {
       "description_width": ""
      }
     },
     "8aec3dd8158f4543bb1ff46946a5fc2a": {
      "model_module": "@jupyter-widgets/controls",
      "model_module_version": "1.5.0",
      "model_name": "ProgressStyleModel",
      "state": {
       "description_width": ""
      }
     },
     "8b590d392d2144c186835bb8721190ce": {
      "model_module": "@jupyter-widgets/controls",
      "model_module_version": "1.5.0",
      "model_name": "ProgressStyleModel",
      "state": {
       "description_width": ""
      }
     },
     "8b636caf650b410385bfb92ad94b25bf": {
      "model_module": "@jupyter-widgets/controls",
      "model_module_version": "1.5.0",
      "model_name": "ProgressStyleModel",
      "state": {
       "description_width": ""
      }
     },
     "8baade1dbc3541a381049cf757ab4028": {
      "model_module": "@jupyter-widgets/base",
      "model_module_version": "1.2.0",
      "model_name": "LayoutModel",
      "state": {
       "height": "25px",
       "width": "50%"
      }
     },
     "8bacde8a54104fbbb2836b5b43e6db57": {
      "model_module": "@jupyter-widgets/controls",
      "model_module_version": "1.5.0",
      "model_name": "ProgressStyleModel",
      "state": {
       "description_width": ""
      }
     },
     "8bc892d773f24d9cbb24f3de4ba3a649": {
      "model_module": "@jupyter-widgets/controls",
      "model_module_version": "1.5.0",
      "model_name": "ProgressStyleModel",
      "state": {
       "description_width": ""
      }
     },
     "8bceb0821c6e46889bae47a71d8ce22e": {
      "model_module": "@jupyter-widgets/controls",
      "model_module_version": "1.5.0",
      "model_name": "ProgressStyleModel",
      "state": {
       "description_width": ""
      }
     },
     "8be02d2f62da4053b74b50f820af4319": {
      "model_module": "@jupyter-widgets/base",
      "model_module_version": "1.2.0",
      "model_name": "LayoutModel",
      "state": {
       "height": "25px",
       "width": "50%"
      }
     },
     "8c3892f60f814d018e4687b1580cddd1": {
      "model_module": "@jupyter-widgets/base",
      "model_module_version": "1.2.0",
      "model_name": "LayoutModel",
      "state": {
       "height": "25px",
       "width": "50%"
      }
     },
     "8c429be6a04b438ca0c9c20da1802c47": {
      "model_module": "@jupyter-widgets/controls",
      "model_module_version": "1.5.0",
      "model_name": "ProgressStyleModel",
      "state": {
       "description_width": ""
      }
     },
     "8c461d03dc38424997a679f075518921": {
      "model_module": "@jupyter-widgets/controls",
      "model_module_version": "1.5.0",
      "model_name": "ProgressStyleModel",
      "state": {
       "description_width": ""
      }
     },
     "8c6f4edfd9b340549e1df96d3133923c": {
      "model_module": "@jupyter-widgets/controls",
      "model_module_version": "1.5.0",
      "model_name": "ProgressStyleModel",
      "state": {
       "description_width": ""
      }
     },
     "8d0a874c4cb241a18c0bc97866ebeb0c": {
      "model_module": "@jupyter-widgets/controls",
      "model_module_version": "1.5.0",
      "model_name": "ProgressStyleModel",
      "state": {
       "description_width": ""
      }
     },
     "8d7f2b00d0d94b4991f48a5a1663a72a": {
      "model_module": "@jupyter-widgets/base",
      "model_module_version": "1.2.0",
      "model_name": "LayoutModel",
      "state": {
       "height": "25px",
       "width": "50%"
      }
     },
     "8d8b5a8b0da54d40bb8b87179a550155": {
      "model_module": "@jupyter-widgets/base",
      "model_module_version": "1.2.0",
      "model_name": "LayoutModel",
      "state": {
       "height": "25px",
       "width": "50%"
      }
     },
     "8dbb41cc4acb49ce9c542ba68f7d9cc4": {
      "model_module": "@jupyter-widgets/controls",
      "model_module_version": "1.5.0",
      "model_name": "ProgressStyleModel",
      "state": {
       "description_width": ""
      }
     },
     "8e16f48931dd4046b4933a06e4f46fe8": {
      "model_module": "@jupyter-widgets/base",
      "model_module_version": "1.2.0",
      "model_name": "LayoutModel",
      "state": {
       "height": "25px",
       "width": "50%"
      }
     },
     "8e1e028e214547fba8c815e3797cd84a": {
      "model_module": "@jupyter-widgets/controls",
      "model_module_version": "1.5.0",
      "model_name": "ProgressStyleModel",
      "state": {
       "description_width": ""
      }
     },
     "8e303b1d7cac47c095cd983cf8b73d61": {
      "model_module": "@jupyter-widgets/controls",
      "model_module_version": "1.5.0",
      "model_name": "ProgressStyleModel",
      "state": {
       "description_width": ""
      }
     },
     "8e38b7aadbe84caeb8500bfcfb624d2d": {
      "model_module": "@jupyter-widgets/controls",
      "model_module_version": "1.5.0",
      "model_name": "ProgressStyleModel",
      "state": {
       "description_width": ""
      }
     },
     "8e54637c7cd1484dbebce633ad0bf76e": {
      "model_module": "@jupyter-widgets/base",
      "model_module_version": "1.2.0",
      "model_name": "LayoutModel",
      "state": {
       "height": "25px",
       "width": "50%"
      }
     },
     "8ea23f8187f247378beaf58bbe25d5e5": {
      "model_module": "@jupyter-widgets/base",
      "model_module_version": "1.2.0",
      "model_name": "LayoutModel",
      "state": {
       "height": "25px",
       "width": "50%"
      }
     },
     "8eb6a939863e48fbb3ac07defe3b513f": {
      "model_module": "@jupyter-widgets/base",
      "model_module_version": "1.2.0",
      "model_name": "LayoutModel",
      "state": {
       "height": "25px",
       "width": "50%"
      }
     },
     "8ee3768f72854400bdcea87855c5a995": {
      "model_module": "@jupyter-widgets/controls",
      "model_module_version": "1.5.0",
      "model_name": "ProgressStyleModel",
      "state": {
       "description_width": ""
      }
     },
     "8eeb3825100a4b1da863c8ce82cb4d21": {
      "model_module": "@jupyter-widgets/base",
      "model_module_version": "1.2.0",
      "model_name": "LayoutModel",
      "state": {
       "height": "25px",
       "width": "50%"
      }
     },
     "8f76ab07bcd248449282a2d634a5cc35": {
      "model_module": "@jupyter-widgets/controls",
      "model_module_version": "1.5.0",
      "model_name": "ProgressStyleModel",
      "state": {
       "description_width": ""
      }
     },
     "9064910e3d1b4fd48616ba45ce64d8db": {
      "model_module": "@jupyter-widgets/controls",
      "model_module_version": "1.5.0",
      "model_name": "ProgressStyleModel",
      "state": {
       "description_width": ""
      }
     },
     "90996166d4eb4c3aa4d9dd888d3dd341": {
      "model_module": "@jupyter-widgets/base",
      "model_module_version": "1.2.0",
      "model_name": "LayoutModel",
      "state": {
       "height": "25px",
       "width": "50%"
      }
     },
     "90fdc66bef524a229edb021c5a7b5b6a": {
      "model_module": "@jupyter-widgets/controls",
      "model_module_version": "1.5.0",
      "model_name": "ProgressStyleModel",
      "state": {
       "description_width": ""
      }
     },
     "919f5b34eb984607bb286569556d35ba": {
      "model_module": "@jupyter-widgets/controls",
      "model_module_version": "1.5.0",
      "model_name": "ProgressStyleModel",
      "state": {
       "description_width": ""
      }
     },
     "92179de1685d4d77bdb8db547f9331c6": {
      "model_module": "@jupyter-widgets/base",
      "model_module_version": "1.2.0",
      "model_name": "LayoutModel",
      "state": {
       "height": "25px",
       "width": "50%"
      }
     },
     "9228f8736c1b4632a4e2ae793cb07253": {
      "model_module": "@jupyter-widgets/controls",
      "model_module_version": "1.5.0",
      "model_name": "ProgressStyleModel",
      "state": {
       "description_width": ""
      }
     },
     "922a9b349dfc4e5a91be02140d05d96b": {
      "model_module": "@jupyter-widgets/controls",
      "model_module_version": "1.5.0",
      "model_name": "ProgressStyleModel",
      "state": {
       "description_width": ""
      }
     },
     "9233983db0c34b41b2c9d681f04d6217": {
      "model_module": "@jupyter-widgets/base",
      "model_module_version": "1.2.0",
      "model_name": "LayoutModel",
      "state": {
       "height": "25px",
       "width": "50%"
      }
     },
     "9317190bf1604f7f89a7295e2526a80d": {
      "model_module": "@jupyter-widgets/base",
      "model_module_version": "1.2.0",
      "model_name": "LayoutModel",
      "state": {
       "height": "25px",
       "width": "50%"
      }
     },
     "93531ad87f12499a986c514a34e2e692": {
      "model_module": "@jupyter-widgets/controls",
      "model_module_version": "1.5.0",
      "model_name": "ProgressStyleModel",
      "state": {
       "description_width": ""
      }
     },
     "938cc435edb849739df3e088624ce7b9": {
      "model_module": "@jupyter-widgets/base",
      "model_module_version": "1.2.0",
      "model_name": "LayoutModel",
      "state": {
       "height": "25px",
       "width": "50%"
      }
     },
     "93e9bf6507df4fdb8bbb3a7bee2b99c6": {
      "model_module": "@jupyter-widgets/base",
      "model_module_version": "1.2.0",
      "model_name": "LayoutModel",
      "state": {
       "height": "25px",
       "width": "50%"
      }
     },
     "940dcc83a0e04590b54022ab4ebbc821": {
      "model_module": "@jupyter-widgets/base",
      "model_module_version": "1.2.0",
      "model_name": "LayoutModel",
      "state": {
       "height": "25px",
       "width": "50%"
      }
     },
     "941bd35814a34de5895be5013d8bb14d": {
      "model_module": "@jupyter-widgets/controls",
      "model_module_version": "1.5.0",
      "model_name": "ProgressStyleModel",
      "state": {
       "description_width": ""
      }
     },
     "94c3dc7d5c6c4a2fa0a133027501d2f6": {
      "model_module": "@jupyter-widgets/controls",
      "model_module_version": "1.5.0",
      "model_name": "ProgressStyleModel",
      "state": {
       "description_width": ""
      }
     },
     "94f0712f06684a8f812a37cb787093a8": {
      "model_module": "@jupyter-widgets/controls",
      "model_module_version": "1.5.0",
      "model_name": "FloatProgressModel",
      "state": {
       "bar_style": "info",
       "description": "Progress:",
       "layout": "IPY_MODEL_eaddc5383ef341a486fcc4ddc882c152",
       "max": 1,
       "style": "IPY_MODEL_0c631572bec6498f86031340521c7475",
       "value": 1
      }
     },
     "9505fef05db24c40a4b27facc3fae748": {
      "model_module": "@jupyter-widgets/controls",
      "model_module_version": "1.5.0",
      "model_name": "ProgressStyleModel",
      "state": {
       "description_width": ""
      }
     },
     "9522839e378d4c20a47458ddcb1b129a": {
      "model_module": "@jupyter-widgets/base",
      "model_module_version": "1.2.0",
      "model_name": "LayoutModel",
      "state": {
       "height": "25px",
       "width": "50%"
      }
     },
     "95286286d79947798e667920b74e8013": {
      "model_module": "@jupyter-widgets/base",
      "model_module_version": "1.2.0",
      "model_name": "LayoutModel",
      "state": {
       "height": "25px",
       "width": "50%"
      }
     },
     "952f9887c7624163ba4f3dd5b9901be9": {
      "model_module": "@jupyter-widgets/base",
      "model_module_version": "1.2.0",
      "model_name": "LayoutModel",
      "state": {
       "height": "25px",
       "width": "50%"
      }
     },
     "9589a73f074e461c9ff74897e2705e2b": {
      "model_module": "@jupyter-widgets/controls",
      "model_module_version": "1.5.0",
      "model_name": "ProgressStyleModel",
      "state": {
       "description_width": ""
      }
     },
     "95ab839e176e476f892b53e4f0974c4d": {
      "model_module": "@jupyter-widgets/controls",
      "model_module_version": "1.5.0",
      "model_name": "ProgressStyleModel",
      "state": {
       "description_width": ""
      }
     },
     "95bc123dcb0846768f713265736c432a": {
      "model_module": "@jupyter-widgets/controls",
      "model_module_version": "1.5.0",
      "model_name": "FloatProgressModel",
      "state": {
       "bar_style": "info",
       "description": "Progress:",
       "layout": "IPY_MODEL_23e53f007b3d4493aa6180296dd633f0",
       "max": 1,
       "style": "IPY_MODEL_832ec42898224f8381aa7af0fda0c358"
      }
     },
     "95c9cc840a66418eada314890bd22fa7": {
      "model_module": "@jupyter-widgets/base",
      "model_module_version": "1.2.0",
      "model_name": "LayoutModel",
      "state": {
       "height": "25px",
       "width": "50%"
      }
     },
     "96125bfcbb464d6f953de65f1b778746": {
      "model_module": "@jupyter-widgets/base",
      "model_module_version": "1.2.0",
      "model_name": "LayoutModel",
      "state": {
       "height": "25px",
       "width": "50%"
      }
     },
     "96a5096f513f4b76968560b26d7af97f": {
      "model_module": "@jupyter-widgets/controls",
      "model_module_version": "1.5.0",
      "model_name": "FloatProgressModel",
      "state": {
       "bar_style": "info",
       "description": "Progress:",
       "layout": "IPY_MODEL_5352e132e9f54d6a9692b28b5ddf522d",
       "max": 1,
       "style": "IPY_MODEL_efaaa778054144a5bc8a158a721e2acb"
      }
     },
     "96c52f94b1d747e3928b64c5404ed2ad": {
      "model_module": "@jupyter-widgets/base",
      "model_module_version": "1.2.0",
      "model_name": "LayoutModel",
      "state": {
       "height": "25px",
       "width": "50%"
      }
     },
     "96e4176cdd854f7fb90527477ab96729": {
      "model_module": "@jupyter-widgets/base",
      "model_module_version": "1.2.0",
      "model_name": "LayoutModel",
      "state": {
       "height": "25px",
       "width": "50%"
      }
     },
     "9703e58526b24e0d8d29313659245595": {
      "model_module": "@jupyter-widgets/base",
      "model_module_version": "1.2.0",
      "model_name": "LayoutModel",
      "state": {
       "height": "25px",
       "width": "50%"
      }
     },
     "971e2f3f6a2145f5b755f3498babe95a": {
      "model_module": "@jupyter-widgets/controls",
      "model_module_version": "1.5.0",
      "model_name": "ProgressStyleModel",
      "state": {
       "description_width": ""
      }
     },
     "973eb9c8e2494104a7f2fcf8999e46e9": {
      "model_module": "@jupyter-widgets/base",
      "model_module_version": "1.2.0",
      "model_name": "LayoutModel",
      "state": {
       "height": "25px",
       "width": "50%"
      }
     },
     "97530116a8214df79a92a677b536afb6": {
      "model_module": "@jupyter-widgets/base",
      "model_module_version": "1.2.0",
      "model_name": "LayoutModel",
      "state": {
       "height": "25px",
       "width": "50%"
      }
     },
     "97708ccc89fb4fdb93f30211daad4306": {
      "model_module": "@jupyter-widgets/controls",
      "model_module_version": "1.5.0",
      "model_name": "ProgressStyleModel",
      "state": {
       "description_width": ""
      }
     },
     "9787408f0e5745cba6c7411080a16183": {
      "model_module": "@jupyter-widgets/controls",
      "model_module_version": "1.5.0",
      "model_name": "ProgressStyleModel",
      "state": {
       "description_width": ""
      }
     },
     "978aa74a26d647669637fdba8f9a175c": {
      "model_module": "@jupyter-widgets/base",
      "model_module_version": "1.2.0",
      "model_name": "LayoutModel",
      "state": {
       "height": "25px",
       "width": "50%"
      }
     },
     "9879821fef7941d094369ac87e1d5750": {
      "model_module": "@jupyter-widgets/controls",
      "model_module_version": "1.5.0",
      "model_name": "ProgressStyleModel",
      "state": {
       "description_width": ""
      }
     },
     "98b6097efa4440e8b211ad6d45a503f8": {
      "model_module": "@jupyter-widgets/base",
      "model_module_version": "1.2.0",
      "model_name": "LayoutModel",
      "state": {
       "height": "25px",
       "width": "50%"
      }
     },
     "997aa5f63cf44cfb8babde5760c215c4": {
      "model_module": "@jupyter-widgets/controls",
      "model_module_version": "1.5.0",
      "model_name": "ProgressStyleModel",
      "state": {
       "description_width": ""
      }
     },
     "998fe6e75fbb48ccbe2603471bae94ff": {
      "model_module": "@jupyter-widgets/controls",
      "model_module_version": "1.5.0",
      "model_name": "FloatProgressModel",
      "state": {
       "bar_style": "info",
       "description": "Progress:",
       "layout": "IPY_MODEL_76abefb233894d5dbdf347efe81eecca",
       "max": 1,
       "style": "IPY_MODEL_000f76566002469e886bbf0f45d1d64c",
       "value": 0.5
      }
     },
     "9a0052ad7ee34adba781cb4cd65f0ebd": {
      "model_module": "@jupyter-widgets/base",
      "model_module_version": "1.2.0",
      "model_name": "LayoutModel",
      "state": {
       "height": "25px",
       "width": "50%"
      }
     },
     "9a1e231e8536478890dae31927ac0aee": {
      "model_module": "@jupyter-widgets/controls",
      "model_module_version": "1.5.0",
      "model_name": "ProgressStyleModel",
      "state": {
       "description_width": ""
      }
     },
     "9a23f730568645f481ab2d299a051ed4": {
      "model_module": "@jupyter-widgets/base",
      "model_module_version": "1.2.0",
      "model_name": "LayoutModel",
      "state": {
       "height": "25px",
       "width": "50%"
      }
     },
     "9a85a02eec3a4d29bbe5bdc7d1e9809c": {
      "model_module": "@jupyter-widgets/controls",
      "model_module_version": "1.5.0",
      "model_name": "ProgressStyleModel",
      "state": {
       "description_width": ""
      }
     },
     "9aa3320d99ac4f018c7b2d2cde1a383d": {
      "model_module": "@jupyter-widgets/controls",
      "model_module_version": "1.5.0",
      "model_name": "ProgressStyleModel",
      "state": {
       "description_width": ""
      }
     },
     "9aac128cc732499f8209393f08507007": {
      "model_module": "@jupyter-widgets/controls",
      "model_module_version": "1.5.0",
      "model_name": "ProgressStyleModel",
      "state": {
       "description_width": ""
      }
     },
     "9ad02a7701ea4562b97879aec73a8f0d": {
      "model_module": "@jupyter-widgets/base",
      "model_module_version": "1.2.0",
      "model_name": "LayoutModel",
      "state": {
       "height": "25px",
       "width": "50%"
      }
     },
     "9ade3cd31c0e42c088c38f537ccb5bf6": {
      "model_module": "@jupyter-widgets/base",
      "model_module_version": "1.2.0",
      "model_name": "LayoutModel",
      "state": {
       "height": "25px",
       "width": "50%"
      }
     },
     "9bbb1410808646e79fe88755541bc144": {
      "model_module": "@jupyter-widgets/controls",
      "model_module_version": "1.5.0",
      "model_name": "ProgressStyleModel",
      "state": {
       "description_width": ""
      }
     },
     "9bce1de069984a08a85f0682075edf4a": {
      "model_module": "@jupyter-widgets/controls",
      "model_module_version": "1.5.0",
      "model_name": "ProgressStyleModel",
      "state": {
       "description_width": ""
      }
     },
     "9bce581827824aa7b8394b194a9bd373": {
      "model_module": "@jupyter-widgets/controls",
      "model_module_version": "1.5.0",
      "model_name": "ProgressStyleModel",
      "state": {
       "description_width": ""
      }
     },
     "9c323d39d1f84daab3d78f3c221872bb": {
      "model_module": "@jupyter-widgets/base",
      "model_module_version": "1.2.0",
      "model_name": "LayoutModel",
      "state": {
       "height": "25px",
       "width": "50%"
      }
     },
     "9cd088be1e99461eab9a2c7e196bceef": {
      "model_module": "@jupyter-widgets/base",
      "model_module_version": "1.2.0",
      "model_name": "LayoutModel",
      "state": {
       "height": "25px",
       "width": "50%"
      }
     },
     "9ce129d4971b49f49e5a85f6593cb58f": {
      "model_module": "@jupyter-widgets/controls",
      "model_module_version": "1.5.0",
      "model_name": "ProgressStyleModel",
      "state": {
       "description_width": ""
      }
     },
     "9d097408809b4af2a517f8fdad2e19de": {
      "model_module": "@jupyter-widgets/base",
      "model_module_version": "1.2.0",
      "model_name": "LayoutModel",
      "state": {
       "height": "25px",
       "width": "50%"
      }
     },
     "9d2caf74a6e143099c128eea268a2075": {
      "model_module": "@jupyter-widgets/base",
      "model_module_version": "1.2.0",
      "model_name": "LayoutModel",
      "state": {
       "height": "25px",
       "width": "50%"
      }
     },
     "9da739d25280460ca05cd25fa42dd004": {
      "model_module": "@jupyter-widgets/controls",
      "model_module_version": "1.5.0",
      "model_name": "ProgressStyleModel",
      "state": {
       "description_width": ""
      }
     },
     "9dddd384ebb340ec9b3f97b2e2911eb4": {
      "model_module": "@jupyter-widgets/controls",
      "model_module_version": "1.5.0",
      "model_name": "ProgressStyleModel",
      "state": {
       "description_width": ""
      }
     },
     "9de56f9151864bdd826c49cb798fe7a0": {
      "model_module": "@jupyter-widgets/controls",
      "model_module_version": "1.5.0",
      "model_name": "ProgressStyleModel",
      "state": {
       "description_width": ""
      }
     },
     "9dfb617faee241269e0a4764867e2768": {
      "model_module": "@jupyter-widgets/base",
      "model_module_version": "1.2.0",
      "model_name": "LayoutModel",
      "state": {
       "height": "25px",
       "width": "50%"
      }
     },
     "9e03255ec9c544fc8369beac167227d2": {
      "model_module": "@jupyter-widgets/base",
      "model_module_version": "1.2.0",
      "model_name": "LayoutModel",
      "state": {
       "height": "25px",
       "width": "50%"
      }
     },
     "9e0d963991ee4fa3b042b17d1c5745f4": {
      "model_module": "@jupyter-widgets/controls",
      "model_module_version": "1.5.0",
      "model_name": "ProgressStyleModel",
      "state": {
       "description_width": ""
      }
     },
     "9e3cb05322a5417cae57bb01087213df": {
      "model_module": "@jupyter-widgets/base",
      "model_module_version": "1.2.0",
      "model_name": "LayoutModel",
      "state": {
       "height": "25px",
       "width": "50%"
      }
     },
     "9e4a182315ef423e97a4defb5a655897": {
      "model_module": "@jupyter-widgets/base",
      "model_module_version": "1.2.0",
      "model_name": "LayoutModel",
      "state": {
       "height": "25px",
       "width": "50%"
      }
     },
     "9e60aea0ca904672aff253d96122f020": {
      "model_module": "@jupyter-widgets/controls",
      "model_module_version": "1.5.0",
      "model_name": "ProgressStyleModel",
      "state": {
       "description_width": ""
      }
     },
     "9ea2311fd43e47bebaf653f04a2cc0cf": {
      "model_module": "@jupyter-widgets/base",
      "model_module_version": "1.2.0",
      "model_name": "LayoutModel",
      "state": {
       "height": "25px",
       "width": "50%"
      }
     },
     "9ea48ea200fc45c9ae085aef8318bacd": {
      "model_module": "@jupyter-widgets/controls",
      "model_module_version": "1.5.0",
      "model_name": "ProgressStyleModel",
      "state": {
       "description_width": ""
      }
     },
     "9ed73c217a3e4357b2d1d546683ac5e2": {
      "model_module": "@jupyter-widgets/base",
      "model_module_version": "1.2.0",
      "model_name": "LayoutModel",
      "state": {
       "height": "25px",
       "width": "50%"
      }
     },
     "9f2713efc713401c8855e76b6c1a49ce": {
      "model_module": "@jupyter-widgets/controls",
      "model_module_version": "1.5.0",
      "model_name": "ProgressStyleModel",
      "state": {
       "description_width": ""
      }
     },
     "9f3dc774157941e78077e47ebe69e230": {
      "model_module": "@jupyter-widgets/controls",
      "model_module_version": "1.5.0",
      "model_name": "ProgressStyleModel",
      "state": {
       "description_width": ""
      }
     },
     "9f7e7aaa0c43482f98bf1ea81a843d1b": {
      "model_module": "@jupyter-widgets/base",
      "model_module_version": "1.2.0",
      "model_name": "LayoutModel",
      "state": {
       "height": "25px",
       "width": "50%"
      }
     },
     "a00b5707be3b47e5bbc3d30106a54ede": {
      "model_module": "@jupyter-widgets/base",
      "model_module_version": "1.2.0",
      "model_name": "LayoutModel",
      "state": {
       "height": "25px",
       "width": "50%"
      }
     },
     "a053bf9e320e41a083eb19028883e3b6": {
      "model_module": "@jupyter-widgets/controls",
      "model_module_version": "1.5.0",
      "model_name": "ProgressStyleModel",
      "state": {
       "description_width": ""
      }
     },
     "a09d6a1d4f2c4a3583cc1d6463f219df": {
      "model_module": "@jupyter-widgets/controls",
      "model_module_version": "1.5.0",
      "model_name": "ProgressStyleModel",
      "state": {
       "description_width": ""
      }
     },
     "a147b9907b4d495f8835172bf9dbe153": {
      "model_module": "@jupyter-widgets/controls",
      "model_module_version": "1.5.0",
      "model_name": "ProgressStyleModel",
      "state": {
       "description_width": ""
      }
     },
     "a22aa3cd14e746acbbdfb4b93d12673f": {
      "model_module": "@jupyter-widgets/controls",
      "model_module_version": "1.5.0",
      "model_name": "ProgressStyleModel",
      "state": {
       "description_width": ""
      }
     },
     "a27b624b4e0e4f4681e1aeba1f225ad8": {
      "model_module": "@jupyter-widgets/controls",
      "model_module_version": "1.5.0",
      "model_name": "ProgressStyleModel",
      "state": {
       "description_width": ""
      }
     },
     "a27e01d910754fa7afeea84ebaf8875b": {
      "model_module": "@jupyter-widgets/base",
      "model_module_version": "1.2.0",
      "model_name": "LayoutModel",
      "state": {
       "height": "25px",
       "width": "50%"
      }
     },
     "a28f3d0d1d6f470fa242574468afa952": {
      "model_module": "@jupyter-widgets/base",
      "model_module_version": "1.2.0",
      "model_name": "LayoutModel",
      "state": {
       "height": "25px",
       "width": "50%"
      }
     },
     "a297aaf85ac84d4991da1f305b7a8a34": {
      "model_module": "@jupyter-widgets/base",
      "model_module_version": "1.2.0",
      "model_name": "LayoutModel",
      "state": {
       "height": "25px",
       "width": "50%"
      }
     },
     "a2c257431102428c9de175624e6c11a8": {
      "model_module": "@jupyter-widgets/base",
      "model_module_version": "1.2.0",
      "model_name": "LayoutModel",
      "state": {
       "height": "25px",
       "width": "50%"
      }
     },
     "a315e1e1f9b447af86ac8aed391e94e6": {
      "model_module": "@jupyter-widgets/controls",
      "model_module_version": "1.5.0",
      "model_name": "ProgressStyleModel",
      "state": {
       "description_width": ""
      }
     },
     "a32d549a14be498d857908bc91ec509d": {
      "model_module": "@jupyter-widgets/controls",
      "model_module_version": "1.5.0",
      "model_name": "ProgressStyleModel",
      "state": {
       "description_width": ""
      }
     },
     "a399e54c6b3c481da35815b2b40ffcb1": {
      "model_module": "@jupyter-widgets/base",
      "model_module_version": "1.2.0",
      "model_name": "LayoutModel",
      "state": {
       "height": "25px",
       "width": "50%"
      }
     },
     "a3ac41a7ce194a9ea24952bbd8cb921e": {
      "model_module": "@jupyter-widgets/controls",
      "model_module_version": "1.5.0",
      "model_name": "ProgressStyleModel",
      "state": {
       "description_width": ""
      }
     },
     "a40bcb230b7740f58092bb4f3e742e36": {
      "model_module": "@jupyter-widgets/base",
      "model_module_version": "1.2.0",
      "model_name": "LayoutModel",
      "state": {
       "height": "25px",
       "width": "50%"
      }
     },
     "a40cef97a62f4e3380465a52f5a4a953": {
      "model_module": "@jupyter-widgets/base",
      "model_module_version": "1.2.0",
      "model_name": "LayoutModel",
      "state": {
       "height": "25px",
       "width": "50%"
      }
     },
     "a44d51adbff84d3ead5dff2f92c57641": {
      "model_module": "@jupyter-widgets/base",
      "model_module_version": "1.2.0",
      "model_name": "LayoutModel",
      "state": {
       "height": "25px",
       "width": "50%"
      }
     },
     "a46329d2722446dfab0b9de0b5c5a45e": {
      "model_module": "@jupyter-widgets/base",
      "model_module_version": "1.2.0",
      "model_name": "LayoutModel",
      "state": {
       "height": "25px",
       "width": "50%"
      }
     },
     "a471f0dbeb4c4df2a9bf3008f682e134": {
      "model_module": "@jupyter-widgets/controls",
      "model_module_version": "1.5.0",
      "model_name": "ProgressStyleModel",
      "state": {
       "description_width": ""
      }
     },
     "a48fa4fbe7da46849bde797a9d0fbd27": {
      "model_module": "@jupyter-widgets/base",
      "model_module_version": "1.2.0",
      "model_name": "LayoutModel",
      "state": {
       "height": "25px",
       "width": "50%"
      }
     },
     "a4b84697bb3547c9b9d7c2ef19c5ce5a": {
      "model_module": "@jupyter-widgets/controls",
      "model_module_version": "1.5.0",
      "model_name": "ProgressStyleModel",
      "state": {
       "description_width": ""
      }
     },
     "a4b9a04559d7498f853c76983283d49d": {
      "model_module": "@jupyter-widgets/base",
      "model_module_version": "1.2.0",
      "model_name": "LayoutModel",
      "state": {
       "height": "25px",
       "width": "50%"
      }
     },
     "a544849627a04e70aec0ffb477ff866b": {
      "model_module": "@jupyter-widgets/controls",
      "model_module_version": "1.5.0",
      "model_name": "ProgressStyleModel",
      "state": {
       "description_width": ""
      }
     },
     "a5c11991d8df40ae99cefbe8499b2aed": {
      "model_module": "@jupyter-widgets/controls",
      "model_module_version": "1.5.0",
      "model_name": "ProgressStyleModel",
      "state": {
       "description_width": ""
      }
     },
     "a5cee31296ba45e99b56ddb77bf0bf37": {
      "model_module": "@jupyter-widgets/base",
      "model_module_version": "1.2.0",
      "model_name": "LayoutModel",
      "state": {
       "height": "25px",
       "width": "50%"
      }
     },
     "a5da2db723e14a4e8585afc54562569f": {
      "model_module": "@jupyter-widgets/base",
      "model_module_version": "1.2.0",
      "model_name": "LayoutModel",
      "state": {
       "height": "25px",
       "width": "50%"
      }
     },
     "a5fa46b08cda42bea79dfc58c67cf748": {
      "model_module": "@jupyter-widgets/controls",
      "model_module_version": "1.5.0",
      "model_name": "ProgressStyleModel",
      "state": {
       "description_width": ""
      }
     },
     "a614e169f7ba41d8afdb546e00a0109e": {
      "model_module": "@jupyter-widgets/controls",
      "model_module_version": "1.5.0",
      "model_name": "ProgressStyleModel",
      "state": {
       "description_width": ""
      }
     },
     "a63ea3312d5b41f09fafcb2dfa6565b4": {
      "model_module": "@jupyter-widgets/base",
      "model_module_version": "1.2.0",
      "model_name": "LayoutModel",
      "state": {
       "height": "25px",
       "width": "50%"
      }
     },
     "a66fb91241b04582bfefe8a900bea592": {
      "model_module": "@jupyter-widgets/base",
      "model_module_version": "1.2.0",
      "model_name": "LayoutModel",
      "state": {
       "height": "25px",
       "width": "50%"
      }
     },
     "a6beea325e6a45c0a6cb1ba8026bcf1e": {
      "model_module": "@jupyter-widgets/controls",
      "model_module_version": "1.5.0",
      "model_name": "ProgressStyleModel",
      "state": {
       "description_width": ""
      }
     },
     "a7156a298eed42cc9a785649ab2b2827": {
      "model_module": "@jupyter-widgets/base",
      "model_module_version": "1.2.0",
      "model_name": "LayoutModel",
      "state": {
       "height": "25px",
       "width": "50%"
      }
     },
     "a7612c1269bd4f0f974208e3ff243af0": {
      "model_module": "@jupyter-widgets/controls",
      "model_module_version": "1.5.0",
      "model_name": "ProgressStyleModel",
      "state": {
       "description_width": ""
      }
     },
     "a76ddbf394f148ce8f100489ecce9cbb": {
      "model_module": "@jupyter-widgets/controls",
      "model_module_version": "1.5.0",
      "model_name": "ProgressStyleModel",
      "state": {
       "description_width": ""
      }
     },
     "a76eaf9eb21a4b63893e73930fce9edd": {
      "model_module": "@jupyter-widgets/controls",
      "model_module_version": "1.5.0",
      "model_name": "FloatProgressModel",
      "state": {
       "bar_style": "info",
       "description": "Progress:",
       "layout": "IPY_MODEL_f9dcc951dddf42178a8dd38dd92d7557",
       "max": 1,
       "style": "IPY_MODEL_5d993a395d1543ff8cccd54ced9313a1",
       "value": 1
      }
     },
     "a84741ad5c1342f9befe2040de087e12": {
      "model_module": "@jupyter-widgets/base",
      "model_module_version": "1.2.0",
      "model_name": "LayoutModel",
      "state": {
       "height": "25px",
       "width": "50%"
      }
     },
     "a84ebf4f160143b19c0572261d69a350": {
      "model_module": "@jupyter-widgets/controls",
      "model_module_version": "1.5.0",
      "model_name": "ProgressStyleModel",
      "state": {
       "description_width": ""
      }
     },
     "a872c2bde2cc43c9ad35bd3c9d9f1da1": {
      "model_module": "@jupyter-widgets/base",
      "model_module_version": "1.2.0",
      "model_name": "LayoutModel",
      "state": {
       "height": "25px",
       "width": "50%"
      }
     },
     "a8915dd507024a3da2451f4d1f2eee0a": {
      "model_module": "@jupyter-widgets/base",
      "model_module_version": "1.2.0",
      "model_name": "LayoutModel",
      "state": {
       "height": "25px",
       "width": "50%"
      }
     },
     "a8f089a847804dc795b6a4cf8e55006b": {
      "model_module": "@jupyter-widgets/controls",
      "model_module_version": "1.5.0",
      "model_name": "FloatProgressModel",
      "state": {
       "bar_style": "info",
       "description": "Progress:",
       "layout": "IPY_MODEL_c80bf97dce7d434d89915f18413a76c8",
       "max": 1,
       "style": "IPY_MODEL_cb47591a97c94481acebffb2e04d8c7f",
       "value": 1
      }
     },
     "a8fc673533e549deac47baa6d99f552c": {
      "model_module": "@jupyter-widgets/base",
      "model_module_version": "1.2.0",
      "model_name": "LayoutModel",
      "state": {
       "height": "25px",
       "width": "50%"
      }
     },
     "a906e3fe5f664103afbe4996b4b8d997": {
      "model_module": "@jupyter-widgets/controls",
      "model_module_version": "1.5.0",
      "model_name": "ProgressStyleModel",
      "state": {
       "description_width": ""
      }
     },
     "a95a1641363d4fbcb7d0950047490f9b": {
      "model_module": "@jupyter-widgets/base",
      "model_module_version": "1.2.0",
      "model_name": "LayoutModel",
      "state": {
       "height": "25px",
       "width": "50%"
      }
     },
     "a9817b8795ad4e51a1557106778ea53c": {
      "model_module": "@jupyter-widgets/base",
      "model_module_version": "1.2.0",
      "model_name": "LayoutModel",
      "state": {
       "height": "25px",
       "width": "50%"
      }
     },
     "a9b88c0538e64368bf4d855a0a66519d": {
      "model_module": "@jupyter-widgets/base",
      "model_module_version": "1.2.0",
      "model_name": "LayoutModel",
      "state": {
       "height": "25px",
       "width": "50%"
      }
     },
     "aa04e5b5806344149522ee39e8786aec": {
      "model_module": "@jupyter-widgets/base",
      "model_module_version": "1.2.0",
      "model_name": "LayoutModel",
      "state": {
       "height": "25px",
       "width": "50%"
      }
     },
     "aa933cffe4434b418bb4f53f70eb4b15": {
      "model_module": "@jupyter-widgets/controls",
      "model_module_version": "1.5.0",
      "model_name": "ProgressStyleModel",
      "state": {
       "description_width": ""
      }
     },
     "aabb637eb5bd44abaed5f8fe728cf335": {
      "model_module": "@jupyter-widgets/base",
      "model_module_version": "1.2.0",
      "model_name": "LayoutModel",
      "state": {
       "height": "25px",
       "width": "50%"
      }
     },
     "aae51367b5e64dbd8933f1907c242b92": {
      "model_module": "@jupyter-widgets/base",
      "model_module_version": "1.2.0",
      "model_name": "LayoutModel",
      "state": {
       "height": "25px",
       "width": "50%"
      }
     },
     "ab1b82bbf90d468abec140be59732a6c": {
      "model_module": "@jupyter-widgets/base",
      "model_module_version": "1.2.0",
      "model_name": "LayoutModel",
      "state": {
       "height": "25px",
       "width": "50%"
      }
     },
     "ab33057e380c47fe85f8a8220ea2f1cd": {
      "model_module": "@jupyter-widgets/base",
      "model_module_version": "1.2.0",
      "model_name": "LayoutModel",
      "state": {
       "height": "25px",
       "width": "50%"
      }
     },
     "ab3874abd38c41529b9703f6f2e035d6": {
      "model_module": "@jupyter-widgets/controls",
      "model_module_version": "1.5.0",
      "model_name": "ProgressStyleModel",
      "state": {
       "description_width": ""
      }
     },
     "ab64f92161c2456e8c70f1ad53186f6b": {
      "model_module": "@jupyter-widgets/controls",
      "model_module_version": "1.5.0",
      "model_name": "FloatProgressModel",
      "state": {
       "bar_style": "info",
       "description": "Progress:",
       "layout": "IPY_MODEL_5f9e534046fb41258a5db8ab67292f28",
       "max": 1,
       "style": "IPY_MODEL_4a8c8a3bd29d4646b00e1da499e6ddeb"
      }
     },
     "ab77a65c0d964dbc8e34d4b3a08c9004": {
      "model_module": "@jupyter-widgets/controls",
      "model_module_version": "1.5.0",
      "model_name": "ProgressStyleModel",
      "state": {
       "description_width": ""
      }
     },
     "abb07cc61e164b18b12a3260c50bfdfb": {
      "model_module": "@jupyter-widgets/base",
      "model_module_version": "1.2.0",
      "model_name": "LayoutModel",
      "state": {
       "height": "25px",
       "width": "50%"
      }
     },
     "abb6b44b1dbc47879c68c91c6ac89f36": {
      "model_module": "@jupyter-widgets/controls",
      "model_module_version": "1.5.0",
      "model_name": "ProgressStyleModel",
      "state": {
       "description_width": ""
      }
     },
     "abed6d29e2fc4f7cb436f6eb4c6163a0": {
      "model_module": "@jupyter-widgets/controls",
      "model_module_version": "1.5.0",
      "model_name": "ProgressStyleModel",
      "state": {
       "description_width": ""
      }
     },
     "ac04c5f495604f87b9351ff6842a97d0": {
      "model_module": "@jupyter-widgets/base",
      "model_module_version": "1.2.0",
      "model_name": "LayoutModel",
      "state": {
       "height": "25px",
       "width": "50%"
      }
     },
     "ac4f1773da354cc3ba0042f590b42a87": {
      "model_module": "@jupyter-widgets/base",
      "model_module_version": "1.2.0",
      "model_name": "LayoutModel",
      "state": {
       "height": "25px",
       "width": "50%"
      }
     },
     "ac6616acade946d2b8173d374d0805e2": {
      "model_module": "@jupyter-widgets/base",
      "model_module_version": "1.2.0",
      "model_name": "LayoutModel",
      "state": {
       "height": "25px",
       "width": "50%"
      }
     },
     "ac72416194ea4029b1848946a913ea9f": {
      "model_module": "@jupyter-widgets/controls",
      "model_module_version": "1.5.0",
      "model_name": "ProgressStyleModel",
      "state": {
       "description_width": ""
      }
     },
     "ac89a48bb9b440fc94d494124040025c": {
      "model_module": "@jupyter-widgets/controls",
      "model_module_version": "1.5.0",
      "model_name": "ProgressStyleModel",
      "state": {
       "description_width": ""
      }
     },
     "acdf995b837d42299ca297065174962e": {
      "model_module": "@jupyter-widgets/controls",
      "model_module_version": "1.5.0",
      "model_name": "FloatProgressModel",
      "state": {
       "bar_style": "info",
       "description": "Progress:",
       "layout": "IPY_MODEL_dd4648b219b04eff864bc90276695711",
       "max": 1,
       "style": "IPY_MODEL_507605cf53114a3abc156574881425d2"
      }
     },
     "acf9c0a7e6244ca8bd0e1b550eea21af": {
      "model_module": "@jupyter-widgets/controls",
      "model_module_version": "1.5.0",
      "model_name": "ProgressStyleModel",
      "state": {
       "description_width": ""
      }
     },
     "ad081c9fd5714148a95a4e514a2da51b": {
      "model_module": "@jupyter-widgets/controls",
      "model_module_version": "1.5.0",
      "model_name": "ProgressStyleModel",
      "state": {
       "description_width": ""
      }
     },
     "ad7e614dbec840e3a6a7cca03dae3cd5": {
      "model_module": "@jupyter-widgets/controls",
      "model_module_version": "1.5.0",
      "model_name": "ProgressStyleModel",
      "state": {
       "description_width": ""
      }
     },
     "ad977301140b4348b533133e43e14f73": {
      "model_module": "@jupyter-widgets/controls",
      "model_module_version": "1.5.0",
      "model_name": "ProgressStyleModel",
      "state": {
       "description_width": ""
      }
     },
     "ae08c435efe149cc9532f996fdfcca90": {
      "model_module": "@jupyter-widgets/base",
      "model_module_version": "1.2.0",
      "model_name": "LayoutModel",
      "state": {
       "height": "25px",
       "width": "50%"
      }
     },
     "ae559d566ea24439a0697b6647b1173c": {
      "model_module": "@jupyter-widgets/base",
      "model_module_version": "1.2.0",
      "model_name": "LayoutModel",
      "state": {
       "height": "25px",
       "width": "50%"
      }
     },
     "aeba9c6b781042ffa22f518ff0187de6": {
      "model_module": "@jupyter-widgets/base",
      "model_module_version": "1.2.0",
      "model_name": "LayoutModel",
      "state": {
       "height": "25px",
       "width": "50%"
      }
     },
     "af207c0cf19c4f88949fc71367ad25ae": {
      "model_module": "@jupyter-widgets/base",
      "model_module_version": "1.2.0",
      "model_name": "LayoutModel",
      "state": {
       "height": "25px",
       "width": "50%"
      }
     },
     "af2ff0aac41c4d1eb69253f339a7a3f8": {
      "model_module": "@jupyter-widgets/controls",
      "model_module_version": "1.5.0",
      "model_name": "ProgressStyleModel",
      "state": {
       "description_width": ""
      }
     },
     "af321030b6824a25a9f578980b63af5c": {
      "model_module": "@jupyter-widgets/controls",
      "model_module_version": "1.5.0",
      "model_name": "ProgressStyleModel",
      "state": {
       "description_width": ""
      }
     },
     "b05f1f9166b4487e9edd06aa525b56c6": {
      "model_module": "@jupyter-widgets/base",
      "model_module_version": "1.2.0",
      "model_name": "LayoutModel",
      "state": {
       "height": "25px",
       "width": "50%"
      }
     },
     "b0e7a57bdacb4370926dd81ee3935371": {
      "model_module": "@jupyter-widgets/base",
      "model_module_version": "1.2.0",
      "model_name": "LayoutModel",
      "state": {
       "height": "25px",
       "width": "50%"
      }
     },
     "b0f17ed79bbf4b47942c8a3950fb55b3": {
      "model_module": "@jupyter-widgets/controls",
      "model_module_version": "1.5.0",
      "model_name": "FloatProgressModel",
      "state": {
       "bar_style": "info",
       "description": "Progress:",
       "layout": "IPY_MODEL_8d8b5a8b0da54d40bb8b87179a550155",
       "max": 1,
       "style": "IPY_MODEL_65642add6f7545a58103c124c9d3ba2e"
      }
     },
     "b10359375b3d460cbffad98ad1b66a90": {
      "model_module": "@jupyter-widgets/base",
      "model_module_version": "1.2.0",
      "model_name": "LayoutModel",
      "state": {
       "height": "25px",
       "width": "50%"
      }
     },
     "b176018b94134a4281002e74e479b644": {
      "model_module": "@jupyter-widgets/base",
      "model_module_version": "1.2.0",
      "model_name": "LayoutModel",
      "state": {
       "height": "25px",
       "width": "50%"
      }
     },
     "b1779aa6d5804e6a937b2b66974a65b1": {
      "model_module": "@jupyter-widgets/controls",
      "model_module_version": "1.5.0",
      "model_name": "ProgressStyleModel",
      "state": {
       "description_width": ""
      }
     },
     "b1b5d74cae244e2bba257e78414ac65e": {
      "model_module": "@jupyter-widgets/controls",
      "model_module_version": "1.5.0",
      "model_name": "ProgressStyleModel",
      "state": {
       "description_width": ""
      }
     },
     "b1d6a8bca96741ccbfcd53070006e065": {
      "model_module": "@jupyter-widgets/controls",
      "model_module_version": "1.5.0",
      "model_name": "ProgressStyleModel",
      "state": {
       "description_width": ""
      }
     },
     "b20f1a6927f54299a481a6439a789698": {
      "model_module": "@jupyter-widgets/base",
      "model_module_version": "1.2.0",
      "model_name": "LayoutModel",
      "state": {
       "height": "25px",
       "width": "50%"
      }
     },
     "b26c136bc8484e6192cf8aacb250464c": {
      "model_module": "@jupyter-widgets/base",
      "model_module_version": "1.2.0",
      "model_name": "LayoutModel",
      "state": {
       "height": "25px",
       "width": "50%"
      }
     },
     "b270aa2e15954a4c9ff04408aed6fa22": {
      "model_module": "@jupyter-widgets/controls",
      "model_module_version": "1.5.0",
      "model_name": "ProgressStyleModel",
      "state": {
       "description_width": ""
      }
     },
     "b2e5a36e902047bf93f59c9880aafc27": {
      "model_module": "@jupyter-widgets/base",
      "model_module_version": "1.2.0",
      "model_name": "LayoutModel",
      "state": {
       "height": "25px",
       "width": "50%"
      }
     },
     "b2fb7b20323f474cb74945c5d962e5bd": {
      "model_module": "@jupyter-widgets/base",
      "model_module_version": "1.2.0",
      "model_name": "LayoutModel",
      "state": {
       "height": "25px",
       "width": "50%"
      }
     },
     "b394f451d3d84bee8e3e44817e7e3305": {
      "model_module": "@jupyter-widgets/base",
      "model_module_version": "1.2.0",
      "model_name": "LayoutModel",
      "state": {
       "height": "25px",
       "width": "50%"
      }
     },
     "b398b247fa244b33beb48fe99fc381a9": {
      "model_module": "@jupyter-widgets/controls",
      "model_module_version": "1.5.0",
      "model_name": "ProgressStyleModel",
      "state": {
       "description_width": ""
      }
     },
     "b483ad70d11d4a66800b08a77824253b": {
      "model_module": "@jupyter-widgets/controls",
      "model_module_version": "1.5.0",
      "model_name": "ProgressStyleModel",
      "state": {
       "description_width": ""
      }
     },
     "b48d4f7263554b00b5a9d1a55a8ac2e5": {
      "model_module": "@jupyter-widgets/controls",
      "model_module_version": "1.5.0",
      "model_name": "FloatProgressModel",
      "state": {
       "bar_style": "info",
       "description": "Progress:",
       "layout": "IPY_MODEL_37068cb0e0ba4c25b71616d0c73efff3",
       "max": 1,
       "style": "IPY_MODEL_e2ee7f4e4e36469a9b869b50b083e862"
      }
     },
     "b491159e6bb54f11a8cbd94b8c198a06": {
      "model_module": "@jupyter-widgets/controls",
      "model_module_version": "1.5.0",
      "model_name": "FloatProgressModel",
      "state": {
       "bar_style": "info",
       "description": "Progress:",
       "layout": "IPY_MODEL_1a5b61612b044e09a6c24ff1a77420ee",
       "max": 1,
       "style": "IPY_MODEL_5fb5f34262f24099b36c3f20f3846d16",
       "value": 1
      }
     },
     "b49d08a86c27413e82ddf0e98e787e9a": {
      "model_module": "@jupyter-widgets/controls",
      "model_module_version": "1.5.0",
      "model_name": "ProgressStyleModel",
      "state": {
       "description_width": ""
      }
     },
     "b4ebdeeaa2c34bce919e1cc8ffa91eeb": {
      "model_module": "@jupyter-widgets/base",
      "model_module_version": "1.2.0",
      "model_name": "LayoutModel",
      "state": {
       "height": "25px",
       "width": "50%"
      }
     },
     "b5aa495598df4a30a85c516ccc42ae4f": {
      "model_module": "@jupyter-widgets/base",
      "model_module_version": "1.2.0",
      "model_name": "LayoutModel",
      "state": {
       "height": "25px",
       "width": "50%"
      }
     },
     "b6050d4b1d76495989d0d99660853c0b": {
      "model_module": "@jupyter-widgets/base",
      "model_module_version": "1.2.0",
      "model_name": "LayoutModel",
      "state": {
       "height": "25px",
       "width": "50%"
      }
     },
     "b669b69f99204f9ebc17fa975c76cfe7": {
      "model_module": "@jupyter-widgets/controls",
      "model_module_version": "1.5.0",
      "model_name": "ProgressStyleModel",
      "state": {
       "description_width": ""
      }
     },
     "b6cd8664417a490782671f77e7a8d486": {
      "model_module": "@jupyter-widgets/controls",
      "model_module_version": "1.5.0",
      "model_name": "ProgressStyleModel",
      "state": {
       "description_width": ""
      }
     },
     "b6e265f85fdb40619fafcb880a52d4a7": {
      "model_module": "@jupyter-widgets/base",
      "model_module_version": "1.2.0",
      "model_name": "LayoutModel",
      "state": {
       "height": "25px",
       "width": "50%"
      }
     },
     "b757810f43fc49c9883dde90524417b3": {
      "model_module": "@jupyter-widgets/base",
      "model_module_version": "1.2.0",
      "model_name": "LayoutModel",
      "state": {
       "height": "25px",
       "width": "50%"
      }
     },
     "b7c973832c0d40168fca46179b701e4d": {
      "model_module": "@jupyter-widgets/base",
      "model_module_version": "1.2.0",
      "model_name": "LayoutModel",
      "state": {
       "height": "25px",
       "width": "50%"
      }
     },
     "b7cfd95ba62f4cdd86180d017211462b": {
      "model_module": "@jupyter-widgets/controls",
      "model_module_version": "1.5.0",
      "model_name": "ProgressStyleModel",
      "state": {
       "description_width": ""
      }
     },
     "b800b3ba0af3475a85167f2891b6f0f2": {
      "model_module": "@jupyter-widgets/controls",
      "model_module_version": "1.5.0",
      "model_name": "ProgressStyleModel",
      "state": {
       "description_width": ""
      }
     },
     "b80305310fab4d28951e8eb3b3decd1b": {
      "model_module": "@jupyter-widgets/controls",
      "model_module_version": "1.5.0",
      "model_name": "ProgressStyleModel",
      "state": {
       "description_width": ""
      }
     },
     "b831b0f39b1e469499ef5be10cea25b9": {
      "model_module": "@jupyter-widgets/controls",
      "model_module_version": "1.5.0",
      "model_name": "ProgressStyleModel",
      "state": {
       "description_width": ""
      }
     },
     "b84454011a054ca4b36820bad65bb217": {
      "model_module": "@jupyter-widgets/controls",
      "model_module_version": "1.5.0",
      "model_name": "ProgressStyleModel",
      "state": {
       "description_width": ""
      }
     },
     "b86b2490461d4e979cbd99468dc4e6cd": {
      "model_module": "@jupyter-widgets/base",
      "model_module_version": "1.2.0",
      "model_name": "LayoutModel",
      "state": {
       "height": "25px",
       "width": "50%"
      }
     },
     "b8b65fa639fa403295e9a96215833d7a": {
      "model_module": "@jupyter-widgets/base",
      "model_module_version": "1.2.0",
      "model_name": "LayoutModel",
      "state": {
       "height": "25px",
       "width": "50%"
      }
     },
     "b9263f48d0384c698f6d0cd5f7b5fdb0": {
      "model_module": "@jupyter-widgets/controls",
      "model_module_version": "1.5.0",
      "model_name": "ProgressStyleModel",
      "state": {
       "description_width": ""
      }
     },
     "b92b4341a98946f0bfda5912a0c70f72": {
      "model_module": "@jupyter-widgets/base",
      "model_module_version": "1.2.0",
      "model_name": "LayoutModel",
      "state": {
       "height": "25px",
       "width": "50%"
      }
     },
     "b940469831c9429586bf679eca3fbd11": {
      "model_module": "@jupyter-widgets/controls",
      "model_module_version": "1.5.0",
      "model_name": "ProgressStyleModel",
      "state": {
       "description_width": ""
      }
     },
     "b94430ecd74c4536b23f15333e9c875a": {
      "model_module": "@jupyter-widgets/controls",
      "model_module_version": "1.5.0",
      "model_name": "ProgressStyleModel",
      "state": {
       "description_width": ""
      }
     },
     "b95d649ad6ef461587f36dfee6831bde": {
      "model_module": "@jupyter-widgets/base",
      "model_module_version": "1.2.0",
      "model_name": "LayoutModel",
      "state": {
       "height": "25px",
       "width": "50%"
      }
     },
     "b98896c69a674327ac51963bc0a1970c": {
      "model_module": "@jupyter-widgets/controls",
      "model_module_version": "1.5.0",
      "model_name": "ProgressStyleModel",
      "state": {
       "description_width": ""
      }
     },
     "b9d1df112c5f4218a303998a5455604e": {
      "model_module": "@jupyter-widgets/controls",
      "model_module_version": "1.5.0",
      "model_name": "ProgressStyleModel",
      "state": {
       "description_width": ""
      }
     },
     "ba31b5ff720e4a71a6717ff3c47ba52d": {
      "model_module": "@jupyter-widgets/base",
      "model_module_version": "1.2.0",
      "model_name": "LayoutModel",
      "state": {
       "height": "25px",
       "width": "50%"
      }
     },
     "ba506a8695af401aa02c5eff9c949572": {
      "model_module": "@jupyter-widgets/base",
      "model_module_version": "1.2.0",
      "model_name": "LayoutModel",
      "state": {
       "height": "25px",
       "width": "50%"
      }
     },
     "ba6383ed2477444db7305c4cf611fa30": {
      "model_module": "@jupyter-widgets/controls",
      "model_module_version": "1.5.0",
      "model_name": "ProgressStyleModel",
      "state": {
       "description_width": ""
      }
     },
     "ba64fe5387694ef88584bb67fa7e292f": {
      "model_module": "@jupyter-widgets/base",
      "model_module_version": "1.2.0",
      "model_name": "LayoutModel",
      "state": {
       "height": "25px",
       "width": "50%"
      }
     },
     "ba8a34899d7b40f48631a335ac63f421": {
      "model_module": "@jupyter-widgets/base",
      "model_module_version": "1.2.0",
      "model_name": "LayoutModel",
      "state": {
       "height": "25px",
       "width": "50%"
      }
     },
     "ba9c1d6d27c9449f98ab9ac2e2b2a91b": {
      "model_module": "@jupyter-widgets/base",
      "model_module_version": "1.2.0",
      "model_name": "LayoutModel",
      "state": {
       "height": "25px",
       "width": "50%"
      }
     },
     "bad8446cc6c84002a96cd4e2ecd75339": {
      "model_module": "@jupyter-widgets/controls",
      "model_module_version": "1.5.0",
      "model_name": "ProgressStyleModel",
      "state": {
       "description_width": ""
      }
     },
     "bb055759f6a74a5693c13b5499232b05": {
      "model_module": "@jupyter-widgets/base",
      "model_module_version": "1.2.0",
      "model_name": "LayoutModel",
      "state": {
       "height": "25px",
       "width": "50%"
      }
     },
     "bb60123a93424ece9a2c3bfb8ee73f74": {
      "model_module": "@jupyter-widgets/base",
      "model_module_version": "1.2.0",
      "model_name": "LayoutModel",
      "state": {
       "height": "25px",
       "width": "50%"
      }
     },
     "bb6958e9c89e465fa96fdfdd3c459688": {
      "model_module": "@jupyter-widgets/controls",
      "model_module_version": "1.5.0",
      "model_name": "ProgressStyleModel",
      "state": {
       "description_width": ""
      }
     },
     "bb6f09602ffd408bb577c9a1140d674d": {
      "model_module": "@jupyter-widgets/base",
      "model_module_version": "1.2.0",
      "model_name": "LayoutModel",
      "state": {
       "height": "25px",
       "width": "50%"
      }
     },
     "bb9376380bf943a0b8516a68538e1cab": {
      "model_module": "@jupyter-widgets/base",
      "model_module_version": "1.2.0",
      "model_name": "LayoutModel",
      "state": {
       "height": "25px",
       "width": "50%"
      }
     },
     "bbeb46dccd824e1e9f21cd870498c476": {
      "model_module": "@jupyter-widgets/controls",
      "model_module_version": "1.5.0",
      "model_name": "ProgressStyleModel",
      "state": {
       "description_width": ""
      }
     },
     "bc460afcf77f4133a71f5e93064489f8": {
      "model_module": "@jupyter-widgets/base",
      "model_module_version": "1.2.0",
      "model_name": "LayoutModel",
      "state": {
       "height": "25px",
       "width": "50%"
      }
     },
     "bcc6fd66177c4ae5ae04a8c0ee6c5f53": {
      "model_module": "@jupyter-widgets/controls",
      "model_module_version": "1.5.0",
      "model_name": "ProgressStyleModel",
      "state": {
       "description_width": ""
      }
     },
     "bd4f3fa73e6d49ecb2c12126a32692a4": {
      "model_module": "@jupyter-widgets/controls",
      "model_module_version": "1.5.0",
      "model_name": "ProgressStyleModel",
      "state": {
       "description_width": ""
      }
     },
     "bd5572ad058f4fe2ac193f023651506e": {
      "model_module": "@jupyter-widgets/controls",
      "model_module_version": "1.5.0",
      "model_name": "ProgressStyleModel",
      "state": {
       "description_width": ""
      }
     },
     "bd751939a16e4c69b18a46a28e5b4478": {
      "model_module": "@jupyter-widgets/base",
      "model_module_version": "1.2.0",
      "model_name": "LayoutModel",
      "state": {
       "height": "25px",
       "width": "50%"
      }
     },
     "bd7aa2b96dc3428c808a404a760e2afa": {
      "model_module": "@jupyter-widgets/base",
      "model_module_version": "1.2.0",
      "model_name": "LayoutModel",
      "state": {
       "height": "25px",
       "width": "50%"
      }
     },
     "be07e4e4e24e4e48bc1fb6aa263768a2": {
      "model_module": "@jupyter-widgets/controls",
      "model_module_version": "1.5.0",
      "model_name": "ProgressStyleModel",
      "state": {
       "description_width": ""
      }
     },
     "be1193f09e074b6688c58538e7f8361c": {
      "model_module": "@jupyter-widgets/base",
      "model_module_version": "1.2.0",
      "model_name": "LayoutModel",
      "state": {
       "height": "25px",
       "width": "50%"
      }
     },
     "be80381a94fa46ab9c9d03dbd5501690": {
      "model_module": "@jupyter-widgets/controls",
      "model_module_version": "1.5.0",
      "model_name": "ProgressStyleModel",
      "state": {
       "description_width": ""
      }
     },
     "be8099943ef6410289f06eaa73c1130f": {
      "model_module": "@jupyter-widgets/controls",
      "model_module_version": "1.5.0",
      "model_name": "FloatProgressModel",
      "state": {
       "bar_style": "info",
       "description": "Progress:",
       "layout": "IPY_MODEL_c6cc6f163456485396c587833af559de",
       "max": 1,
       "style": "IPY_MODEL_7ec1c377aeba4a4fa46755c282245d3e"
      }
     },
     "be8145a53bf24444b85e112f37c9f96e": {
      "model_module": "@jupyter-widgets/base",
      "model_module_version": "1.2.0",
      "model_name": "LayoutModel",
      "state": {
       "height": "25px",
       "width": "50%"
      }
     },
     "be8c59e2b12f4cf09427faf3ef7f766c": {
      "model_module": "@jupyter-widgets/controls",
      "model_module_version": "1.5.0",
      "model_name": "ProgressStyleModel",
      "state": {
       "description_width": ""
      }
     },
     "be9888b7a7fb40deb63d1af38002299a": {
      "model_module": "@jupyter-widgets/controls",
      "model_module_version": "1.5.0",
      "model_name": "ProgressStyleModel",
      "state": {
       "description_width": ""
      }
     },
     "bea5d040caf846cdbf5a8af81430dd2a": {
      "model_module": "@jupyter-widgets/base",
      "model_module_version": "1.2.0",
      "model_name": "LayoutModel",
      "state": {
       "height": "25px",
       "width": "50%"
      }
     },
     "bebff69190b24622bd3bcae722f96ea2": {
      "model_module": "@jupyter-widgets/controls",
      "model_module_version": "1.5.0",
      "model_name": "ProgressStyleModel",
      "state": {
       "description_width": ""
      }
     },
     "bee46f63d0cc42109e80333163f93352": {
      "model_module": "@jupyter-widgets/controls",
      "model_module_version": "1.5.0",
      "model_name": "ProgressStyleModel",
      "state": {
       "description_width": ""
      }
     },
     "beeda3c50aee4078b41c17bf2895a4cf": {
      "model_module": "@jupyter-widgets/controls",
      "model_module_version": "1.5.0",
      "model_name": "FloatProgressModel",
      "state": {
       "bar_style": "info",
       "description": "Progress:",
       "layout": "IPY_MODEL_d7b3daa747524dc6abf618c4608b367b",
       "max": 1,
       "style": "IPY_MODEL_e19c9bb9c57848b39d3485c0b4c65d6b",
       "value": 1
      }
     },
     "bf0d55e5619646bab45fdf2c418d472e": {
      "model_module": "@jupyter-widgets/controls",
      "model_module_version": "1.5.0",
      "model_name": "ProgressStyleModel",
      "state": {
       "description_width": ""
      }
     },
     "bf1111749cca498fa069f7fc478918fd": {
      "model_module": "@jupyter-widgets/controls",
      "model_module_version": "1.5.0",
      "model_name": "ProgressStyleModel",
      "state": {
       "description_width": ""
      }
     },
     "bf2fc2f248ba457e95923e290969541e": {
      "model_module": "@jupyter-widgets/controls",
      "model_module_version": "1.5.0",
      "model_name": "ProgressStyleModel",
      "state": {
       "description_width": ""
      }
     },
     "bf4618ed61874466928ca2061e8a117d": {
      "model_module": "@jupyter-widgets/base",
      "model_module_version": "1.2.0",
      "model_name": "LayoutModel",
      "state": {
       "height": "25px",
       "width": "50%"
      }
     },
     "bf523951240b434eb742ec109563e12b": {
      "model_module": "@jupyter-widgets/controls",
      "model_module_version": "1.5.0",
      "model_name": "ProgressStyleModel",
      "state": {
       "description_width": ""
      }
     },
     "bf6128b620e0497597805f06650a689e": {
      "model_module": "@jupyter-widgets/controls",
      "model_module_version": "1.5.0",
      "model_name": "ProgressStyleModel",
      "state": {
       "description_width": ""
      }
     },
     "bfa355dda9d5435fbf5167f656374d2f": {
      "model_module": "@jupyter-widgets/base",
      "model_module_version": "1.2.0",
      "model_name": "LayoutModel",
      "state": {
       "height": "25px",
       "width": "50%"
      }
     },
     "c1a62c7b063542d58f4a0d80b63cfae3": {
      "model_module": "@jupyter-widgets/base",
      "model_module_version": "1.2.0",
      "model_name": "LayoutModel",
      "state": {
       "height": "25px",
       "width": "50%"
      }
     },
     "c1f9d8390c764ac18acccb7fe041dbbe": {
      "model_module": "@jupyter-widgets/controls",
      "model_module_version": "1.5.0",
      "model_name": "ProgressStyleModel",
      "state": {
       "description_width": ""
      }
     },
     "c1fa5fb37a5f4fb68468e14b67c61297": {
      "model_module": "@jupyter-widgets/controls",
      "model_module_version": "1.5.0",
      "model_name": "ProgressStyleModel",
      "state": {
       "description_width": ""
      }
     },
     "c1ff49bfaa6347999629eda93f18fb95": {
      "model_module": "@jupyter-widgets/controls",
      "model_module_version": "1.5.0",
      "model_name": "ProgressStyleModel",
      "state": {
       "description_width": ""
      }
     },
     "c23e66d84d594ae8bdbd2593a189ad4d": {
      "model_module": "@jupyter-widgets/controls",
      "model_module_version": "1.5.0",
      "model_name": "ProgressStyleModel",
      "state": {
       "description_width": ""
      }
     },
     "c2a68b57685740b6a5fba0fd70af9046": {
      "model_module": "@jupyter-widgets/base",
      "model_module_version": "1.2.0",
      "model_name": "LayoutModel",
      "state": {
       "height": "25px",
       "width": "50%"
      }
     },
     "c2f065286b894283a449a805707cb2a9": {
      "model_module": "@jupyter-widgets/base",
      "model_module_version": "1.2.0",
      "model_name": "LayoutModel",
      "state": {
       "height": "25px",
       "width": "50%"
      }
     },
     "c319334130ab41e0a22c428af8011b37": {
      "model_module": "@jupyter-widgets/controls",
      "model_module_version": "1.5.0",
      "model_name": "ProgressStyleModel",
      "state": {
       "description_width": ""
      }
     },
     "c32b897ce80141898868d00d3eb9fcb1": {
      "model_module": "@jupyter-widgets/controls",
      "model_module_version": "1.5.0",
      "model_name": "ProgressStyleModel",
      "state": {
       "description_width": ""
      }
     },
     "c33935e78f034266827bff7692513f52": {
      "model_module": "@jupyter-widgets/base",
      "model_module_version": "1.2.0",
      "model_name": "LayoutModel",
      "state": {
       "height": "25px",
       "width": "50%"
      }
     },
     "c42237c7d68844778b94bee934ffe96c": {
      "model_module": "@jupyter-widgets/base",
      "model_module_version": "1.2.0",
      "model_name": "LayoutModel",
      "state": {
       "height": "25px",
       "width": "50%"
      }
     },
     "c42c33de2bff4864b5192ac9ac32eaca": {
      "model_module": "@jupyter-widgets/base",
      "model_module_version": "1.2.0",
      "model_name": "LayoutModel",
      "state": {
       "height": "25px",
       "width": "50%"
      }
     },
     "c4547b787a5a4b8f9b4ad175ec65ee89": {
      "model_module": "@jupyter-widgets/controls",
      "model_module_version": "1.5.0",
      "model_name": "ProgressStyleModel",
      "state": {
       "description_width": ""
      }
     },
     "c46a91710210434c84b1a6ef12682f6a": {
      "model_module": "@jupyter-widgets/base",
      "model_module_version": "1.2.0",
      "model_name": "LayoutModel",
      "state": {
       "height": "25px",
       "width": "50%"
      }
     },
     "c4d0f265873343bd9ac7ba7e84d96221": {
      "model_module": "@jupyter-widgets/base",
      "model_module_version": "1.2.0",
      "model_name": "LayoutModel",
      "state": {
       "height": "25px",
       "width": "50%"
      }
     },
     "c5653d056f1a4a9cb11712350783b489": {
      "model_module": "@jupyter-widgets/controls",
      "model_module_version": "1.5.0",
      "model_name": "ProgressStyleModel",
      "state": {
       "description_width": ""
      }
     },
     "c56b76f646da4013b70c6053f905ac67": {
      "model_module": "@jupyter-widgets/base",
      "model_module_version": "1.2.0",
      "model_name": "LayoutModel",
      "state": {
       "height": "25px",
       "width": "50%"
      }
     },
     "c5734d9f95384763af2e0b82d228528d": {
      "model_module": "@jupyter-widgets/base",
      "model_module_version": "1.2.0",
      "model_name": "LayoutModel",
      "state": {
       "height": "25px",
       "width": "50%"
      }
     },
     "c57b684f250847f78aeea76c65a56d4d": {
      "model_module": "@jupyter-widgets/base",
      "model_module_version": "1.2.0",
      "model_name": "LayoutModel",
      "state": {
       "height": "25px",
       "width": "50%"
      }
     },
     "c58bdd2568c540eabc395825e6791ef6": {
      "model_module": "@jupyter-widgets/controls",
      "model_module_version": "1.5.0",
      "model_name": "FloatProgressModel",
      "state": {
       "bar_style": "info",
       "description": "Progress:",
       "layout": "IPY_MODEL_1cf326d6dff248dd8750573d1a4f0feb",
       "max": 1,
       "style": "IPY_MODEL_6cab27ecf44f4ae08c8b705feb00db98",
       "value": 1
      }
     },
     "c5b7ddb3ddc54b42a2d761414ba92122": {
      "model_module": "@jupyter-widgets/controls",
      "model_module_version": "1.5.0",
      "model_name": "ProgressStyleModel",
      "state": {
       "description_width": ""
      }
     },
     "c5ffc76f0b0848c4a5711dcefe2af817": {
      "model_module": "@jupyter-widgets/controls",
      "model_module_version": "1.5.0",
      "model_name": "ProgressStyleModel",
      "state": {
       "description_width": ""
      }
     },
     "c64016d797804f57aa5ff156b866edf3": {
      "model_module": "@jupyter-widgets/controls",
      "model_module_version": "1.5.0",
      "model_name": "FloatProgressModel",
      "state": {
       "bar_style": "info",
       "description": "Progress:",
       "layout": "IPY_MODEL_67b67edc50224917b279a8c7809f2215",
       "max": 1,
       "style": "IPY_MODEL_58c26736938841a5a8bd03b96ff08e5b"
      }
     },
     "c643140a44c741d59466b9b222a83bc7": {
      "model_module": "@jupyter-widgets/controls",
      "model_module_version": "1.5.0",
      "model_name": "FloatProgressModel",
      "state": {
       "bar_style": "info",
       "description": "Progress:",
       "layout": "IPY_MODEL_9e4a182315ef423e97a4defb5a655897",
       "max": 1,
       "style": "IPY_MODEL_5fa31b5ef63c4a3493c8035e73ecce96"
      }
     },
     "c6640177ff3c4bd386dd6c614548c4df": {
      "model_module": "@jupyter-widgets/controls",
      "model_module_version": "1.5.0",
      "model_name": "ProgressStyleModel",
      "state": {
       "description_width": ""
      }
     },
     "c6749123a9cb465ab5fbe3fbc2095e9a": {
      "model_module": "@jupyter-widgets/base",
      "model_module_version": "1.2.0",
      "model_name": "LayoutModel",
      "state": {
       "height": "25px",
       "width": "50%"
      }
     },
     "c6a50b03d16b49b6ab904c182733f291": {
      "model_module": "@jupyter-widgets/base",
      "model_module_version": "1.2.0",
      "model_name": "LayoutModel",
      "state": {
       "height": "25px",
       "width": "50%"
      }
     },
     "c6c2e2aa2b3f4b44b5444e9e8faf70d3": {
      "model_module": "@jupyter-widgets/base",
      "model_module_version": "1.2.0",
      "model_name": "LayoutModel",
      "state": {
       "height": "25px",
       "width": "50%"
      }
     },
     "c6cc6f163456485396c587833af559de": {
      "model_module": "@jupyter-widgets/base",
      "model_module_version": "1.2.0",
      "model_name": "LayoutModel",
      "state": {
       "height": "25px",
       "width": "50%"
      }
     },
     "c74e434f3b134287b800675fa9b23fd5": {
      "model_module": "@jupyter-widgets/base",
      "model_module_version": "1.2.0",
      "model_name": "LayoutModel",
      "state": {
       "height": "25px",
       "width": "50%"
      }
     },
     "c76d057da38c49c0832c0f99cff1817e": {
      "model_module": "@jupyter-widgets/controls",
      "model_module_version": "1.5.0",
      "model_name": "ProgressStyleModel",
      "state": {
       "description_width": ""
      }
     },
     "c78488e609ac4127ad2281993093f6ce": {
      "model_module": "@jupyter-widgets/controls",
      "model_module_version": "1.5.0",
      "model_name": "ProgressStyleModel",
      "state": {
       "description_width": ""
      }
     },
     "c78a115a573346009370870a416af2c5": {
      "model_module": "@jupyter-widgets/controls",
      "model_module_version": "1.5.0",
      "model_name": "ProgressStyleModel",
      "state": {
       "description_width": ""
      }
     },
     "c7d1c10f66a9407594ee8747624f5130": {
      "model_module": "@jupyter-widgets/controls",
      "model_module_version": "1.5.0",
      "model_name": "ProgressStyleModel",
      "state": {
       "description_width": ""
      }
     },
     "c80bf97dce7d434d89915f18413a76c8": {
      "model_module": "@jupyter-widgets/base",
      "model_module_version": "1.2.0",
      "model_name": "LayoutModel",
      "state": {
       "height": "25px",
       "width": "50%"
      }
     },
     "c81b977d314941a28228f4f861fe2253": {
      "model_module": "@jupyter-widgets/base",
      "model_module_version": "1.2.0",
      "model_name": "LayoutModel",
      "state": {
       "height": "25px",
       "width": "50%"
      }
     },
     "c8c7d0e1dc5f48979e3d4e4de3f6b435": {
      "model_module": "@jupyter-widgets/base",
      "model_module_version": "1.2.0",
      "model_name": "LayoutModel",
      "state": {
       "height": "25px",
       "width": "50%"
      }
     },
     "c8d3ec48795648b199863f3b701e064b": {
      "model_module": "@jupyter-widgets/controls",
      "model_module_version": "1.5.0",
      "model_name": "ProgressStyleModel",
      "state": {
       "description_width": ""
      }
     },
     "c94a5905eab94f4fbb4848e6514fc37f": {
      "model_module": "@jupyter-widgets/base",
      "model_module_version": "1.2.0",
      "model_name": "LayoutModel",
      "state": {
       "height": "25px",
       "width": "50%"
      }
     },
     "c991e48555f84a0b93a6521f63ecfcf3": {
      "model_module": "@jupyter-widgets/controls",
      "model_module_version": "1.5.0",
      "model_name": "ProgressStyleModel",
      "state": {
       "description_width": ""
      }
     },
     "c99396152b3e446e8b8cf197b9612704": {
      "model_module": "@jupyter-widgets/controls",
      "model_module_version": "1.5.0",
      "model_name": "ProgressStyleModel",
      "state": {
       "description_width": ""
      }
     },
     "c9b5ba30ab834f15aa231f6a70a9e0ad": {
      "model_module": "@jupyter-widgets/base",
      "model_module_version": "1.2.0",
      "model_name": "LayoutModel",
      "state": {
       "height": "25px",
       "width": "50%"
      }
     },
     "ca10792d405f4603a0da81efef176393": {
      "model_module": "@jupyter-widgets/base",
      "model_module_version": "1.2.0",
      "model_name": "LayoutModel",
      "state": {
       "height": "25px",
       "width": "50%"
      }
     },
     "ca1a023189c347daadbb033558765cb5": {
      "model_module": "@jupyter-widgets/base",
      "model_module_version": "1.2.0",
      "model_name": "LayoutModel",
      "state": {
       "height": "25px",
       "width": "50%"
      }
     },
     "ca5cb452b20641ad9485fbe8507b77a4": {
      "model_module": "@jupyter-widgets/base",
      "model_module_version": "1.2.0",
      "model_name": "LayoutModel",
      "state": {
       "height": "25px",
       "width": "50%"
      }
     },
     "cab7a1661aac4f5eb7fc9d21c2a1a9ce": {
      "model_module": "@jupyter-widgets/controls",
      "model_module_version": "1.5.0",
      "model_name": "FloatProgressModel",
      "state": {
       "bar_style": "info",
       "description": "Progress:",
       "layout": "IPY_MODEL_0c4c26bbb3214494a82cdf75bace2fa5",
       "max": 1,
       "style": "IPY_MODEL_f64a6ef2da364610b67482a28a9efeef"
      }
     },
     "cab975595bf1452da45c714ca02b1594": {
      "model_module": "@jupyter-widgets/controls",
      "model_module_version": "1.5.0",
      "model_name": "ProgressStyleModel",
      "state": {
       "description_width": ""
      }
     },
     "cafe136d19114b5fb6c491cc24b8c5b8": {
      "model_module": "@jupyter-widgets/base",
      "model_module_version": "1.2.0",
      "model_name": "LayoutModel",
      "state": {
       "height": "25px",
       "width": "50%"
      }
     },
     "cb0bf1b2c38b492790579fbf9fc9808a": {
      "model_module": "@jupyter-widgets/controls",
      "model_module_version": "1.5.0",
      "model_name": "ProgressStyleModel",
      "state": {
       "description_width": ""
      }
     },
     "cb47591a97c94481acebffb2e04d8c7f": {
      "model_module": "@jupyter-widgets/controls",
      "model_module_version": "1.5.0",
      "model_name": "ProgressStyleModel",
      "state": {
       "description_width": ""
      }
     },
     "cb67d9fde8ac480c892df8642913ede8": {
      "model_module": "@jupyter-widgets/base",
      "model_module_version": "1.2.0",
      "model_name": "LayoutModel",
      "state": {
       "height": "25px",
       "width": "50%"
      }
     },
     "cb7ea28fa49e4909b16788b9cac303f2": {
      "model_module": "@jupyter-widgets/base",
      "model_module_version": "1.2.0",
      "model_name": "LayoutModel",
      "state": {
       "height": "25px",
       "width": "50%"
      }
     },
     "cb84e5cda6f44a3d865d01f47c1bf4d4": {
      "model_module": "@jupyter-widgets/controls",
      "model_module_version": "1.5.0",
      "model_name": "ProgressStyleModel",
      "state": {
       "description_width": ""
      }
     },
     "cb94674687be4d3d9ce3b4255c1d2de9": {
      "model_module": "@jupyter-widgets/controls",
      "model_module_version": "1.5.0",
      "model_name": "ProgressStyleModel",
      "state": {
       "description_width": ""
      }
     },
     "cbc03db590ce4e30b86a3e19c7beefc5": {
      "model_module": "@jupyter-widgets/controls",
      "model_module_version": "1.5.0",
      "model_name": "ProgressStyleModel",
      "state": {
       "description_width": ""
      }
     },
     "cbc739de52874442bf36dabd6942e79c": {
      "model_module": "@jupyter-widgets/controls",
      "model_module_version": "1.5.0",
      "model_name": "ProgressStyleModel",
      "state": {
       "description_width": ""
      }
     },
     "cbff36a997e84e6b8f7ffbf708bc4b48": {
      "model_module": "@jupyter-widgets/controls",
      "model_module_version": "1.5.0",
      "model_name": "ProgressStyleModel",
      "state": {
       "description_width": ""
      }
     },
     "cc4db58c0508492098f2e7aac04ce1d0": {
      "model_module": "@jupyter-widgets/controls",
      "model_module_version": "1.5.0",
      "model_name": "ProgressStyleModel",
      "state": {
       "description_width": ""
      }
     },
     "cc7fb36c0dc148fe8362f08368091043": {
      "model_module": "@jupyter-widgets/controls",
      "model_module_version": "1.5.0",
      "model_name": "ProgressStyleModel",
      "state": {
       "description_width": ""
      }
     },
     "cc9a7b4479aa463e971b2e29ed2f5847": {
      "model_module": "@jupyter-widgets/base",
      "model_module_version": "1.2.0",
      "model_name": "LayoutModel",
      "state": {
       "height": "25px",
       "width": "50%"
      }
     },
     "ccf58e33fc3a4ae6973ad526de5d1a74": {
      "model_module": "@jupyter-widgets/controls",
      "model_module_version": "1.5.0",
      "model_name": "ProgressStyleModel",
      "state": {
       "description_width": ""
      }
     },
     "cd416843b87e4bef85e07b13a11e5b89": {
      "model_module": "@jupyter-widgets/base",
      "model_module_version": "1.2.0",
      "model_name": "LayoutModel",
      "state": {
       "height": "25px",
       "width": "50%"
      }
     },
     "cd46e81cf1be4a719fad9323724deef7": {
      "model_module": "@jupyter-widgets/base",
      "model_module_version": "1.2.0",
      "model_name": "LayoutModel",
      "state": {
       "height": "25px",
       "width": "50%"
      }
     },
     "cda241269869487699837deee90328a3": {
      "model_module": "@jupyter-widgets/base",
      "model_module_version": "1.2.0",
      "model_name": "LayoutModel",
      "state": {
       "height": "25px",
       "width": "50%"
      }
     },
     "cdf5af52e935446ba8a410c788d18f6a": {
      "model_module": "@jupyter-widgets/controls",
      "model_module_version": "1.5.0",
      "model_name": "ProgressStyleModel",
      "state": {
       "description_width": ""
      }
     },
     "ce0692e127414c83a4a5ee2520d2c653": {
      "model_module": "@jupyter-widgets/base",
      "model_module_version": "1.2.0",
      "model_name": "LayoutModel",
      "state": {
       "height": "25px",
       "width": "50%"
      }
     },
     "ce172a6aba9a4a21896e256c5a374757": {
      "model_module": "@jupyter-widgets/base",
      "model_module_version": "1.2.0",
      "model_name": "LayoutModel",
      "state": {
       "height": "25px",
       "width": "50%"
      }
     },
     "ce2a5724a874429f9c6b6f6bba48775b": {
      "model_module": "@jupyter-widgets/controls",
      "model_module_version": "1.5.0",
      "model_name": "ProgressStyleModel",
      "state": {
       "description_width": ""
      }
     },
     "ce6b5a64e0d94b3da035a5c634e5aa2d": {
      "model_module": "@jupyter-widgets/base",
      "model_module_version": "1.2.0",
      "model_name": "LayoutModel",
      "state": {
       "height": "25px",
       "width": "50%"
      }
     },
     "cef09908ec7f46c19b77b66c4bddf2c9": {
      "model_module": "@jupyter-widgets/base",
      "model_module_version": "1.2.0",
      "model_name": "LayoutModel",
      "state": {
       "height": "25px",
       "width": "50%"
      }
     },
     "cef747db27bf4f2f81b9630384d8b608": {
      "model_module": "@jupyter-widgets/controls",
      "model_module_version": "1.5.0",
      "model_name": "ProgressStyleModel",
      "state": {
       "description_width": ""
      }
     },
     "cefd3633453146fe84c787698ec8e9d1": {
      "model_module": "@jupyter-widgets/base",
      "model_module_version": "1.2.0",
      "model_name": "LayoutModel",
      "state": {
       "height": "25px",
       "width": "50%"
      }
     },
     "cf478a0a1fc94140a0ed334405093e00": {
      "model_module": "@jupyter-widgets/base",
      "model_module_version": "1.2.0",
      "model_name": "LayoutModel",
      "state": {
       "height": "25px",
       "width": "50%"
      }
     },
     "cf732f8806ca44d584c6190dd16c8946": {
      "model_module": "@jupyter-widgets/base",
      "model_module_version": "1.2.0",
      "model_name": "LayoutModel",
      "state": {
       "height": "25px",
       "width": "50%"
      }
     },
     "d012e39d6f5b4b06b6516d0a479f8481": {
      "model_module": "@jupyter-widgets/base",
      "model_module_version": "1.2.0",
      "model_name": "LayoutModel",
      "state": {
       "height": "25px",
       "width": "50%"
      }
     },
     "d03150067df442438c13e6f7652870dd": {
      "model_module": "@jupyter-widgets/controls",
      "model_module_version": "1.5.0",
      "model_name": "ProgressStyleModel",
      "state": {
       "description_width": ""
      }
     },
     "d03c4f05d1154d0dbf616b40052de132": {
      "model_module": "@jupyter-widgets/controls",
      "model_module_version": "1.5.0",
      "model_name": "ProgressStyleModel",
      "state": {
       "description_width": ""
      }
     },
     "d0820160696c4cc3a84872428bc21332": {
      "model_module": "@jupyter-widgets/base",
      "model_module_version": "1.2.0",
      "model_name": "LayoutModel",
      "state": {
       "height": "25px",
       "width": "50%"
      }
     },
     "d0fe9bbda71749e28aeab1731cd661dc": {
      "model_module": "@jupyter-widgets/controls",
      "model_module_version": "1.5.0",
      "model_name": "ProgressStyleModel",
      "state": {
       "description_width": ""
      }
     },
     "d0fed1a90334461d89fafa899ef21b71": {
      "model_module": "@jupyter-widgets/controls",
      "model_module_version": "1.5.0",
      "model_name": "ProgressStyleModel",
      "state": {
       "description_width": ""
      }
     },
     "d100903aa824459f808118f4bd21d2d9": {
      "model_module": "@jupyter-widgets/base",
      "model_module_version": "1.2.0",
      "model_name": "LayoutModel",
      "state": {
       "height": "25px",
       "width": "50%"
      }
     },
     "d12dccf3a7f94646a5f791e22bbb0dfc": {
      "model_module": "@jupyter-widgets/base",
      "model_module_version": "1.2.0",
      "model_name": "LayoutModel",
      "state": {
       "height": "25px",
       "width": "50%"
      }
     },
     "d1a5481d9cae4333b0f1ef482f22a6bc": {
      "model_module": "@jupyter-widgets/base",
      "model_module_version": "1.2.0",
      "model_name": "LayoutModel",
      "state": {
       "height": "25px",
       "width": "50%"
      }
     },
     "d1d2ef5990484e51b2cad0704d459a98": {
      "model_module": "@jupyter-widgets/base",
      "model_module_version": "1.2.0",
      "model_name": "LayoutModel",
      "state": {
       "height": "25px",
       "width": "50%"
      }
     },
     "d1d538a7e43b49f0816f674907e162c9": {
      "model_module": "@jupyter-widgets/controls",
      "model_module_version": "1.5.0",
      "model_name": "ProgressStyleModel",
      "state": {
       "description_width": ""
      }
     },
     "d248617ab9e04f5d9ad0588ab1b75cf9": {
      "model_module": "@jupyter-widgets/base",
      "model_module_version": "1.2.0",
      "model_name": "LayoutModel",
      "state": {
       "height": "25px",
       "width": "50%"
      }
     },
     "d289c2ec36c34fd5974f696fe951bdb4": {
      "model_module": "@jupyter-widgets/controls",
      "model_module_version": "1.5.0",
      "model_name": "ProgressStyleModel",
      "state": {
       "description_width": ""
      }
     },
     "d29051a486314a2ea1335c54ac12df42": {
      "model_module": "@jupyter-widgets/base",
      "model_module_version": "1.2.0",
      "model_name": "LayoutModel",
      "state": {
       "height": "25px",
       "width": "50%"
      }
     },
     "d316145d883945598ef4146ec0c7f5b5": {
      "model_module": "@jupyter-widgets/base",
      "model_module_version": "1.2.0",
      "model_name": "LayoutModel",
      "state": {
       "height": "25px",
       "width": "50%"
      }
     },
     "d32d1d7230094f34a9f55feca5390599": {
      "model_module": "@jupyter-widgets/base",
      "model_module_version": "1.2.0",
      "model_name": "LayoutModel",
      "state": {
       "height": "25px",
       "width": "50%"
      }
     },
     "d37645649fe24abd82543ba3db6d7d5e": {
      "model_module": "@jupyter-widgets/controls",
      "model_module_version": "1.5.0",
      "model_name": "ProgressStyleModel",
      "state": {
       "description_width": ""
      }
     },
     "d39ec69c1931480ebbc8e680863b4432": {
      "model_module": "@jupyter-widgets/base",
      "model_module_version": "1.2.0",
      "model_name": "LayoutModel",
      "state": {
       "height": "25px",
       "width": "50%"
      }
     },
     "d3c2dde0ec2d4982be51eb27fa6613d0": {
      "model_module": "@jupyter-widgets/base",
      "model_module_version": "1.2.0",
      "model_name": "LayoutModel",
      "state": {
       "height": "25px",
       "width": "50%"
      }
     },
     "d3eb68264c29419980c038ad24b7c8c2": {
      "model_module": "@jupyter-widgets/controls",
      "model_module_version": "1.5.0",
      "model_name": "ProgressStyleModel",
      "state": {
       "description_width": ""
      }
     },
     "d3f89f9521184d7daa7747dc2607f436": {
      "model_module": "@jupyter-widgets/controls",
      "model_module_version": "1.5.0",
      "model_name": "ProgressStyleModel",
      "state": {
       "description_width": ""
      }
     },
     "d45922ca46854429b2ef300ac7f72048": {
      "model_module": "@jupyter-widgets/base",
      "model_module_version": "1.2.0",
      "model_name": "LayoutModel",
      "state": {
       "height": "25px",
       "width": "50%"
      }
     },
     "d45c441438d545ac89a120384abe6071": {
      "model_module": "@jupyter-widgets/base",
      "model_module_version": "1.2.0",
      "model_name": "LayoutModel",
      "state": {
       "height": "25px",
       "width": "50%"
      }
     },
     "d4835946549747ffafa25bc6252e0ec2": {
      "model_module": "@jupyter-widgets/controls",
      "model_module_version": "1.5.0",
      "model_name": "ProgressStyleModel",
      "state": {
       "description_width": ""
      }
     },
     "d4bbbe3106d34bea967f44098230ee44": {
      "model_module": "@jupyter-widgets/base",
      "model_module_version": "1.2.0",
      "model_name": "LayoutModel",
      "state": {
       "height": "25px",
       "width": "50%"
      }
     },
     "d528d30412dc40faaa96453f3151283f": {
      "model_module": "@jupyter-widgets/controls",
      "model_module_version": "1.5.0",
      "model_name": "ProgressStyleModel",
      "state": {
       "description_width": ""
      }
     },
     "d5484b79a21744eebdc0592b53f079be": {
      "model_module": "@jupyter-widgets/base",
      "model_module_version": "1.2.0",
      "model_name": "LayoutModel",
      "state": {
       "height": "25px",
       "width": "50%"
      }
     },
     "d5ab0562890d43ca9f5a7327328c9c33": {
      "model_module": "@jupyter-widgets/base",
      "model_module_version": "1.2.0",
      "model_name": "LayoutModel",
      "state": {
       "height": "25px",
       "width": "50%"
      }
     },
     "d5d19acd10534147b4d19398d9f95f1d": {
      "model_module": "@jupyter-widgets/base",
      "model_module_version": "1.2.0",
      "model_name": "LayoutModel",
      "state": {
       "height": "25px",
       "width": "50%"
      }
     },
     "d61cbc8c0e644b129924b79567c98d99": {
      "model_module": "@jupyter-widgets/base",
      "model_module_version": "1.2.0",
      "model_name": "LayoutModel",
      "state": {
       "height": "25px",
       "width": "50%"
      }
     },
     "d65113b0eb2b4732be95c6f668203871": {
      "model_module": "@jupyter-widgets/controls",
      "model_module_version": "1.5.0",
      "model_name": "ProgressStyleModel",
      "state": {
       "description_width": ""
      }
     },
     "d65f507eebb5450f9204b56073995dba": {
      "model_module": "@jupyter-widgets/controls",
      "model_module_version": "1.5.0",
      "model_name": "ProgressStyleModel",
      "state": {
       "description_width": ""
      }
     },
     "d663292880e24598a48650d08296d677": {
      "model_module": "@jupyter-widgets/controls",
      "model_module_version": "1.5.0",
      "model_name": "ProgressStyleModel",
      "state": {
       "description_width": ""
      }
     },
     "d6788e0161b849d08d2aeb5a632e3dae": {
      "model_module": "@jupyter-widgets/controls",
      "model_module_version": "1.5.0",
      "model_name": "ProgressStyleModel",
      "state": {
       "description_width": ""
      }
     },
     "d6845baea8f14d23a75713cc2a1dfa9f": {
      "model_module": "@jupyter-widgets/base",
      "model_module_version": "1.2.0",
      "model_name": "LayoutModel",
      "state": {
       "height": "25px",
       "width": "50%"
      }
     },
     "d68bb3c7a2f14377a7454c2e1a4e9c3d": {
      "model_module": "@jupyter-widgets/base",
      "model_module_version": "1.2.0",
      "model_name": "LayoutModel",
      "state": {
       "height": "25px",
       "width": "50%"
      }
     },
     "d6a612ba04e44cdd901a99375617a7e0": {
      "model_module": "@jupyter-widgets/controls",
      "model_module_version": "1.5.0",
      "model_name": "ProgressStyleModel",
      "state": {
       "description_width": ""
      }
     },
     "d6cabff127f2441dabb315d86973b1fe": {
      "model_module": "@jupyter-widgets/controls",
      "model_module_version": "1.5.0",
      "model_name": "ProgressStyleModel",
      "state": {
       "description_width": ""
      }
     },
     "d719e7a335ca48b3afb5b9bcee611504": {
      "model_module": "@jupyter-widgets/base",
      "model_module_version": "1.2.0",
      "model_name": "LayoutModel",
      "state": {
       "height": "25px",
       "width": "50%"
      }
     },
     "d71c289b3a05436aab8e69dff9a6b417": {
      "model_module": "@jupyter-widgets/base",
      "model_module_version": "1.2.0",
      "model_name": "LayoutModel",
      "state": {
       "height": "25px",
       "width": "50%"
      }
     },
     "d7211d9483b84974868b2601b804af87": {
      "model_module": "@jupyter-widgets/controls",
      "model_module_version": "1.5.0",
      "model_name": "ProgressStyleModel",
      "state": {
       "description_width": ""
      }
     },
     "d766310dd34a484588fa0f3333a8e22b": {
      "model_module": "@jupyter-widgets/controls",
      "model_module_version": "1.5.0",
      "model_name": "ProgressStyleModel",
      "state": {
       "description_width": ""
      }
     },
     "d77c6f2502fd4111bf8f2f6ac806f645": {
      "model_module": "@jupyter-widgets/controls",
      "model_module_version": "1.5.0",
      "model_name": "ProgressStyleModel",
      "state": {
       "description_width": ""
      }
     },
     "d78da3d78cc44850a3de59ce90fb84b1": {
      "model_module": "@jupyter-widgets/base",
      "model_module_version": "1.2.0",
      "model_name": "LayoutModel",
      "state": {
       "height": "25px",
       "width": "50%"
      }
     },
     "d79e76afa7f84e218e9e540f6886ea72": {
      "model_module": "@jupyter-widgets/base",
      "model_module_version": "1.2.0",
      "model_name": "LayoutModel",
      "state": {
       "height": "25px",
       "width": "50%"
      }
     },
     "d7b3daa747524dc6abf618c4608b367b": {
      "model_module": "@jupyter-widgets/base",
      "model_module_version": "1.2.0",
      "model_name": "LayoutModel",
      "state": {
       "height": "25px",
       "width": "50%"
      }
     },
     "d8ba3c88b6c64627a2479fd7b6f09c1b": {
      "model_module": "@jupyter-widgets/base",
      "model_module_version": "1.2.0",
      "model_name": "LayoutModel",
      "state": {
       "height": "25px",
       "width": "50%"
      }
     },
     "d920aaff196b43c78fb33c857a8d2b7f": {
      "model_module": "@jupyter-widgets/base",
      "model_module_version": "1.2.0",
      "model_name": "LayoutModel",
      "state": {
       "height": "25px",
       "width": "50%"
      }
     },
     "d93461eae26649fd880f663ddb799dfb": {
      "model_module": "@jupyter-widgets/base",
      "model_module_version": "1.2.0",
      "model_name": "LayoutModel",
      "state": {
       "height": "25px",
       "width": "50%"
      }
     },
     "d9525ddd39b5466db8dc5fae6080899e": {
      "model_module": "@jupyter-widgets/base",
      "model_module_version": "1.2.0",
      "model_name": "LayoutModel",
      "state": {
       "height": "25px",
       "width": "50%"
      }
     },
     "d96819f403aa4df9afab382a2665fcd3": {
      "model_module": "@jupyter-widgets/controls",
      "model_module_version": "1.5.0",
      "model_name": "ProgressStyleModel",
      "state": {
       "description_width": ""
      }
     },
     "da3bea927ef0432da9b433294d669f86": {
      "model_module": "@jupyter-widgets/controls",
      "model_module_version": "1.5.0",
      "model_name": "ProgressStyleModel",
      "state": {
       "description_width": ""
      }
     },
     "dae17179ae0b4463919de8edee8ecbde": {
      "model_module": "@jupyter-widgets/base",
      "model_module_version": "1.2.0",
      "model_name": "LayoutModel",
      "state": {
       "height": "25px",
       "width": "50%"
      }
     },
     "dae84b983fb14b56bf772164f490fa75": {
      "model_module": "@jupyter-widgets/controls",
      "model_module_version": "1.5.0",
      "model_name": "ProgressStyleModel",
      "state": {
       "description_width": ""
      }
     },
     "daf5fcad331f4a84a5cf6af3e1ba67e5": {
      "model_module": "@jupyter-widgets/base",
      "model_module_version": "1.2.0",
      "model_name": "LayoutModel",
      "state": {
       "height": "25px",
       "width": "50%"
      }
     },
     "dbb783e7dd19434d9c7f81dd702aefee": {
      "model_module": "@jupyter-widgets/base",
      "model_module_version": "1.2.0",
      "model_name": "LayoutModel",
      "state": {
       "height": "25px",
       "width": "50%"
      }
     },
     "dbe128c877ac452abd90a7f8dffda242": {
      "model_module": "@jupyter-widgets/controls",
      "model_module_version": "1.5.0",
      "model_name": "ProgressStyleModel",
      "state": {
       "description_width": ""
      }
     },
     "dbed96a7aec444df80ec411901d140a1": {
      "model_module": "@jupyter-widgets/base",
      "model_module_version": "1.2.0",
      "model_name": "LayoutModel",
      "state": {
       "height": "25px",
       "width": "50%"
      }
     },
     "dc25ec966a4c46b4a9d4b2f91be988b2": {
      "model_module": "@jupyter-widgets/base",
      "model_module_version": "1.2.0",
      "model_name": "LayoutModel",
      "state": {
       "height": "25px",
       "width": "50%"
      }
     },
     "dc5d823872a4467fbf272d7b5e2b60dc": {
      "model_module": "@jupyter-widgets/controls",
      "model_module_version": "1.5.0",
      "model_name": "FloatProgressModel",
      "state": {
       "bar_style": "info",
       "description": "Progress:",
       "layout": "IPY_MODEL_0d650ae7311543f9ad51e077ae1988f3",
       "max": 1,
       "style": "IPY_MODEL_dd6c69d1a49c42aba117721192a29ff9"
      }
     },
     "dc6679b790224e0e9575762f94650c25": {
      "model_module": "@jupyter-widgets/controls",
      "model_module_version": "1.5.0",
      "model_name": "ProgressStyleModel",
      "state": {
       "description_width": ""
      }
     },
     "dcff6abffe01404981c22f1d395d56a9": {
      "model_module": "@jupyter-widgets/base",
      "model_module_version": "1.2.0",
      "model_name": "LayoutModel",
      "state": {
       "height": "25px",
       "width": "50%"
      }
     },
     "dd3850e1e7ba45259cbfae6f899eb54f": {
      "model_module": "@jupyter-widgets/base",
      "model_module_version": "1.2.0",
      "model_name": "LayoutModel",
      "state": {
       "height": "25px",
       "width": "50%"
      }
     },
     "dd3a675462a240fdbd8c6c1f1b80d56b": {
      "model_module": "@jupyter-widgets/controls",
      "model_module_version": "1.5.0",
      "model_name": "ProgressStyleModel",
      "state": {
       "description_width": ""
      }
     },
     "dd4648b219b04eff864bc90276695711": {
      "model_module": "@jupyter-widgets/base",
      "model_module_version": "1.2.0",
      "model_name": "LayoutModel",
      "state": {
       "height": "25px",
       "width": "50%"
      }
     },
     "dd6c69d1a49c42aba117721192a29ff9": {
      "model_module": "@jupyter-widgets/controls",
      "model_module_version": "1.5.0",
      "model_name": "ProgressStyleModel",
      "state": {
       "description_width": ""
      }
     },
     "ddad9719d2a24574865458cc4cec1095": {
      "model_module": "@jupyter-widgets/controls",
      "model_module_version": "1.5.0",
      "model_name": "ProgressStyleModel",
      "state": {
       "description_width": ""
      }
     },
     "ddfb0f06041e4601b49f1e9bef08b632": {
      "model_module": "@jupyter-widgets/controls",
      "model_module_version": "1.5.0",
      "model_name": "ProgressStyleModel",
      "state": {
       "description_width": ""
      }
     },
     "debb107d7dbe45ada2643f200d006abb": {
      "model_module": "@jupyter-widgets/base",
      "model_module_version": "1.2.0",
      "model_name": "LayoutModel",
      "state": {
       "height": "25px",
       "width": "50%"
      }
     },
     "dee672c61e82488ca50e72cbb9024c49": {
      "model_module": "@jupyter-widgets/base",
      "model_module_version": "1.2.0",
      "model_name": "LayoutModel",
      "state": {
       "height": "25px",
       "width": "50%"
      }
     },
     "dee7d276c4864aebaf4f585adddbf556": {
      "model_module": "@jupyter-widgets/base",
      "model_module_version": "1.2.0",
      "model_name": "LayoutModel",
      "state": {
       "height": "25px",
       "width": "50%"
      }
     },
     "df36bebd93f14572b682adf876b6dfaf": {
      "model_module": "@jupyter-widgets/base",
      "model_module_version": "1.2.0",
      "model_name": "LayoutModel",
      "state": {
       "height": "25px",
       "width": "50%"
      }
     },
     "df78ada14572403481a91d01101da3bc": {
      "model_module": "@jupyter-widgets/base",
      "model_module_version": "1.2.0",
      "model_name": "LayoutModel",
      "state": {
       "height": "25px",
       "width": "50%"
      }
     },
     "dfbec6f7b1524741b14330be7cf779ec": {
      "model_module": "@jupyter-widgets/controls",
      "model_module_version": "1.5.0",
      "model_name": "ProgressStyleModel",
      "state": {
       "description_width": ""
      }
     },
     "e037de8138e440bfb5b598acf3773afa": {
      "model_module": "@jupyter-widgets/controls",
      "model_module_version": "1.5.0",
      "model_name": "ProgressStyleModel",
      "state": {
       "description_width": ""
      }
     },
     "e0a722dc17e34b7da8f0fb596347b4ad": {
      "model_module": "@jupyter-widgets/controls",
      "model_module_version": "1.5.0",
      "model_name": "ProgressStyleModel",
      "state": {
       "description_width": ""
      }
     },
     "e0f9609b927d4af6b973b1694c1ff04f": {
      "model_module": "@jupyter-widgets/controls",
      "model_module_version": "1.5.0",
      "model_name": "ProgressStyleModel",
      "state": {
       "description_width": ""
      }
     },
     "e1469f540dde47f1b3ad94686ead3e63": {
      "model_module": "@jupyter-widgets/base",
      "model_module_version": "1.2.0",
      "model_name": "LayoutModel",
      "state": {
       "height": "25px",
       "width": "50%"
      }
     },
     "e163cb8727924715b790977761b9dabb": {
      "model_module": "@jupyter-widgets/base",
      "model_module_version": "1.2.0",
      "model_name": "LayoutModel",
      "state": {
       "height": "25px",
       "width": "50%"
      }
     },
     "e1788bd3cd7545dd995199d75bbdf514": {
      "model_module": "@jupyter-widgets/controls",
      "model_module_version": "1.5.0",
      "model_name": "ProgressStyleModel",
      "state": {
       "description_width": ""
      }
     },
     "e19c9bb9c57848b39d3485c0b4c65d6b": {
      "model_module": "@jupyter-widgets/controls",
      "model_module_version": "1.5.0",
      "model_name": "ProgressStyleModel",
      "state": {
       "description_width": ""
      }
     },
     "e1bf64d6cd00487b9c5b71dcefa34a04": {
      "model_module": "@jupyter-widgets/controls",
      "model_module_version": "1.5.0",
      "model_name": "ProgressStyleModel",
      "state": {
       "description_width": ""
      }
     },
     "e20ae5bcfff049789f2975d8f12444d7": {
      "model_module": "@jupyter-widgets/controls",
      "model_module_version": "1.5.0",
      "model_name": "ProgressStyleModel",
      "state": {
       "description_width": ""
      }
     },
     "e23bfe531642488fab2f903824ab2706": {
      "model_module": "@jupyter-widgets/controls",
      "model_module_version": "1.5.0",
      "model_name": "FloatProgressModel",
      "state": {
       "bar_style": "info",
       "description": "Progress:",
       "layout": "IPY_MODEL_85f1645b727d4745b2759abf3f91a640",
       "max": 1,
       "style": "IPY_MODEL_8c429be6a04b438ca0c9c20da1802c47",
       "value": 1
      }
     },
     "e249244fd4304e60a363a36027ae5bcb": {
      "model_module": "@jupyter-widgets/controls",
      "model_module_version": "1.5.0",
      "model_name": "FloatProgressModel",
      "state": {
       "bar_style": "info",
       "description": "Progress:",
       "layout": "IPY_MODEL_aae51367b5e64dbd8933f1907c242b92",
       "max": 1,
       "style": "IPY_MODEL_79f9c3b351394e3abc2319ec0375b9ea"
      }
     },
     "e263a144e1694372aa9ec5e060885408": {
      "model_module": "@jupyter-widgets/base",
      "model_module_version": "1.2.0",
      "model_name": "LayoutModel",
      "state": {
       "height": "25px",
       "width": "50%"
      }
     },
     "e2e8a86c77cb448289537c6dab627917": {
      "model_module": "@jupyter-widgets/controls",
      "model_module_version": "1.5.0",
      "model_name": "ProgressStyleModel",
      "state": {
       "description_width": ""
      }
     },
     "e2ee7f4e4e36469a9b869b50b083e862": {
      "model_module": "@jupyter-widgets/controls",
      "model_module_version": "1.5.0",
      "model_name": "ProgressStyleModel",
      "state": {
       "description_width": ""
      }
     },
     "e31c150651df46f797a5e96b40bd37b5": {
      "model_module": "@jupyter-widgets/base",
      "model_module_version": "1.2.0",
      "model_name": "LayoutModel",
      "state": {
       "height": "25px",
       "width": "50%"
      }
     },
     "e377789fcbc94a5e8f5a25d8f0bc0510": {
      "model_module": "@jupyter-widgets/controls",
      "model_module_version": "1.5.0",
      "model_name": "FloatProgressModel",
      "state": {
       "bar_style": "info",
       "description": "Progress:",
       "layout": "IPY_MODEL_7720a2c3f8124160b92d0b776e4b34d4",
       "max": 1,
       "style": "IPY_MODEL_be80381a94fa46ab9c9d03dbd5501690"
      }
     },
     "e38f2a0f10804180b256c5b803de0d1a": {
      "model_module": "@jupyter-widgets/base",
      "model_module_version": "1.2.0",
      "model_name": "LayoutModel",
      "state": {
       "height": "25px",
       "width": "50%"
      }
     },
     "e3d8ae425822489d9846e11fad0f52e7": {
      "model_module": "@jupyter-widgets/controls",
      "model_module_version": "1.5.0",
      "model_name": "ProgressStyleModel",
      "state": {
       "description_width": ""
      }
     },
     "e3ee32323ffd4a639bbe172891ec771c": {
      "model_module": "@jupyter-widgets/base",
      "model_module_version": "1.2.0",
      "model_name": "LayoutModel",
      "state": {
       "height": "25px",
       "width": "50%"
      }
     },
     "e4005b3376c54ada9a599962bdfd1496": {
      "model_module": "@jupyter-widgets/base",
      "model_module_version": "1.2.0",
      "model_name": "LayoutModel",
      "state": {
       "height": "25px",
       "width": "50%"
      }
     },
     "e40b247a42734d2797d7fa523fa4667a": {
      "model_module": "@jupyter-widgets/base",
      "model_module_version": "1.2.0",
      "model_name": "LayoutModel",
      "state": {
       "height": "25px",
       "width": "50%"
      }
     },
     "e42426f5764346bab7ee6c54f1789c9a": {
      "model_module": "@jupyter-widgets/base",
      "model_module_version": "1.2.0",
      "model_name": "LayoutModel",
      "state": {
       "height": "25px",
       "width": "50%"
      }
     },
     "e482de161faf4a36a4a930b9bb4b8390": {
      "model_module": "@jupyter-widgets/controls",
      "model_module_version": "1.5.0",
      "model_name": "ProgressStyleModel",
      "state": {
       "description_width": ""
      }
     },
     "e494cb58743f4579801fbc24565a58f6": {
      "model_module": "@jupyter-widgets/base",
      "model_module_version": "1.2.0",
      "model_name": "LayoutModel",
      "state": {
       "height": "25px",
       "width": "50%"
      }
     },
     "e49732679632428b9b365c0757e578fd": {
      "model_module": "@jupyter-widgets/controls",
      "model_module_version": "1.5.0",
      "model_name": "ProgressStyleModel",
      "state": {
       "description_width": ""
      }
     },
     "e4dd96eda993413a98b6c34edb920e82": {
      "model_module": "@jupyter-widgets/controls",
      "model_module_version": "1.5.0",
      "model_name": "ProgressStyleModel",
      "state": {
       "description_width": ""
      }
     },
     "e4e1c50215ca4096b722f421b9fb8b0f": {
      "model_module": "@jupyter-widgets/controls",
      "model_module_version": "1.5.0",
      "model_name": "ProgressStyleModel",
      "state": {
       "description_width": ""
      }
     },
     "e661aa449d0e49b58d78a991d359a777": {
      "model_module": "@jupyter-widgets/controls",
      "model_module_version": "1.5.0",
      "model_name": "ProgressStyleModel",
      "state": {
       "description_width": ""
      }
     },
     "e66e9b3b29bd4cd1814f817370ac916a": {
      "model_module": "@jupyter-widgets/base",
      "model_module_version": "1.2.0",
      "model_name": "LayoutModel",
      "state": {
       "height": "25px",
       "width": "50%"
      }
     },
     "e6dab8ca106348c2978fee2cf11f4df7": {
      "model_module": "@jupyter-widgets/base",
      "model_module_version": "1.2.0",
      "model_name": "LayoutModel",
      "state": {
       "height": "25px",
       "width": "50%"
      }
     },
     "e6daf78e186544689d86f00c8be3746f": {
      "model_module": "@jupyter-widgets/base",
      "model_module_version": "1.2.0",
      "model_name": "LayoutModel",
      "state": {
       "height": "25px",
       "width": "50%"
      }
     },
     "e7c58dc56a474d838132845550cd694b": {
      "model_module": "@jupyter-widgets/controls",
      "model_module_version": "1.5.0",
      "model_name": "ProgressStyleModel",
      "state": {
       "description_width": ""
      }
     },
     "e7d0c39273f142459f44652d8efd3720": {
      "model_module": "@jupyter-widgets/controls",
      "model_module_version": "1.5.0",
      "model_name": "ProgressStyleModel",
      "state": {
       "description_width": ""
      }
     },
     "e7dfc31bc3a34717a3b8d98b40d4feb1": {
      "model_module": "@jupyter-widgets/controls",
      "model_module_version": "1.5.0",
      "model_name": "ProgressStyleModel",
      "state": {
       "description_width": ""
      }
     },
     "e7fa3d4bb9424fbaa2ab58bb02be9aaa": {
      "model_module": "@jupyter-widgets/controls",
      "model_module_version": "1.5.0",
      "model_name": "ProgressStyleModel",
      "state": {
       "description_width": ""
      }
     },
     "e8350757fc334c5faff932472256c43f": {
      "model_module": "@jupyter-widgets/base",
      "model_module_version": "1.2.0",
      "model_name": "LayoutModel",
      "state": {
       "height": "25px",
       "width": "50%"
      }
     },
     "e835c41904f34f53b266820e1c7b8522": {
      "model_module": "@jupyter-widgets/controls",
      "model_module_version": "1.5.0",
      "model_name": "ProgressStyleModel",
      "state": {
       "description_width": ""
      }
     },
     "e83b0a4fe2ea4fcab85bc18fbef51f2f": {
      "model_module": "@jupyter-widgets/controls",
      "model_module_version": "1.5.0",
      "model_name": "ProgressStyleModel",
      "state": {
       "description_width": ""
      }
     },
     "e84c46d1d62143579d1c63d4ee7eb667": {
      "model_module": "@jupyter-widgets/controls",
      "model_module_version": "1.5.0",
      "model_name": "ProgressStyleModel",
      "state": {
       "description_width": ""
      }
     },
     "e860b45bfd1e46e39b0bb141c88f9f56": {
      "model_module": "@jupyter-widgets/controls",
      "model_module_version": "1.5.0",
      "model_name": "ProgressStyleModel",
      "state": {
       "description_width": ""
      }
     },
     "e898c2ebc21d4c089d46f539fe1f5b71": {
      "model_module": "@jupyter-widgets/controls",
      "model_module_version": "1.5.0",
      "model_name": "ProgressStyleModel",
      "state": {
       "description_width": ""
      }
     },
     "e8a6191610904cf1a67c1bd74638a37d": {
      "model_module": "@jupyter-widgets/controls",
      "model_module_version": "1.5.0",
      "model_name": "ProgressStyleModel",
      "state": {
       "description_width": ""
      }
     },
     "e8dda8263f4b4efb80a57034edd593ff": {
      "model_module": "@jupyter-widgets/controls",
      "model_module_version": "1.5.0",
      "model_name": "FloatProgressModel",
      "state": {
       "bar_style": "info",
       "description": "Progress:",
       "layout": "IPY_MODEL_9317190bf1604f7f89a7295e2526a80d",
       "max": 1,
       "style": "IPY_MODEL_fb0c41a50a7044fe850789c1e514e99e"
      }
     },
     "e92df1b477844e4eb7b4f7eda6f7161a": {
      "model_module": "@jupyter-widgets/controls",
      "model_module_version": "1.5.0",
      "model_name": "ProgressStyleModel",
      "state": {
       "description_width": ""
      }
     },
     "e9442ce6fae8436ebad7888a04657d79": {
      "model_module": "@jupyter-widgets/controls",
      "model_module_version": "1.5.0",
      "model_name": "ProgressStyleModel",
      "state": {
       "description_width": ""
      }
     },
     "e94ac746e35e45aa8bc76bbfec7c74fd": {
      "model_module": "@jupyter-widgets/base",
      "model_module_version": "1.2.0",
      "model_name": "LayoutModel",
      "state": {
       "height": "25px",
       "width": "50%"
      }
     },
     "e96e59bd918241a885410ca188a4f2f4": {
      "model_module": "@jupyter-widgets/base",
      "model_module_version": "1.2.0",
      "model_name": "LayoutModel",
      "state": {
       "height": "25px",
       "width": "50%"
      }
     },
     "e99f318afe9c41a28b9a1b4e16cfa38b": {
      "model_module": "@jupyter-widgets/base",
      "model_module_version": "1.2.0",
      "model_name": "LayoutModel",
      "state": {
       "height": "25px",
       "width": "50%"
      }
     },
     "e9c807d9f97f4b8482e370b893f14a95": {
      "model_module": "@jupyter-widgets/base",
      "model_module_version": "1.2.0",
      "model_name": "LayoutModel",
      "state": {
       "height": "25px",
       "width": "50%"
      }
     },
     "ea355a369ce04624a6f01022d8d3a1f1": {
      "model_module": "@jupyter-widgets/controls",
      "model_module_version": "1.5.0",
      "model_name": "ProgressStyleModel",
      "state": {
       "description_width": ""
      }
     },
     "ea5294501a784f14b3b7e21e9f25f0eb": {
      "model_module": "@jupyter-widgets/controls",
      "model_module_version": "1.5.0",
      "model_name": "ProgressStyleModel",
      "state": {
       "description_width": ""
      }
     },
     "ea582d8e664a48b8a2e2940d5e080362": {
      "model_module": "@jupyter-widgets/base",
      "model_module_version": "1.2.0",
      "model_name": "LayoutModel",
      "state": {
       "height": "25px",
       "width": "50%"
      }
     },
     "ea66c67793214c688deb2fd2e5e40227": {
      "model_module": "@jupyter-widgets/base",
      "model_module_version": "1.2.0",
      "model_name": "LayoutModel",
      "state": {
       "height": "25px",
       "width": "50%"
      }
     },
     "ea66f5e840104f5ea3eb528603bb2c50": {
      "model_module": "@jupyter-widgets/base",
      "model_module_version": "1.2.0",
      "model_name": "LayoutModel",
      "state": {
       "height": "25px",
       "width": "50%"
      }
     },
     "ea9504b62e6c4daa93869704631ac479": {
      "model_module": "@jupyter-widgets/base",
      "model_module_version": "1.2.0",
      "model_name": "LayoutModel",
      "state": {
       "height": "25px",
       "width": "50%"
      }
     },
     "eaddc5383ef341a486fcc4ddc882c152": {
      "model_module": "@jupyter-widgets/base",
      "model_module_version": "1.2.0",
      "model_name": "LayoutModel",
      "state": {
       "height": "25px",
       "width": "50%"
      }
     },
     "eadfc4f7bb1d4137b8194bd768fa6c3a": {
      "model_module": "@jupyter-widgets/base",
      "model_module_version": "1.2.0",
      "model_name": "LayoutModel",
      "state": {
       "height": "25px",
       "width": "50%"
      }
     },
     "eb00e08fd20e4114a8f78826f7bc6aa3": {
      "model_module": "@jupyter-widgets/controls",
      "model_module_version": "1.5.0",
      "model_name": "ProgressStyleModel",
      "state": {
       "description_width": ""
      }
     },
     "eb2e3d64477442ecb35b6338360a70e4": {
      "model_module": "@jupyter-widgets/base",
      "model_module_version": "1.2.0",
      "model_name": "LayoutModel",
      "state": {
       "height": "25px",
       "width": "50%"
      }
     },
     "ebb0dd363a54479e935c5d41d7c6eb0c": {
      "model_module": "@jupyter-widgets/base",
      "model_module_version": "1.2.0",
      "model_name": "LayoutModel",
      "state": {
       "height": "25px",
       "width": "50%"
      }
     },
     "ebef361085ac4113bf242513995d86b9": {
      "model_module": "@jupyter-widgets/controls",
      "model_module_version": "1.5.0",
      "model_name": "ProgressStyleModel",
      "state": {
       "description_width": ""
      }
     },
     "ec3ddde9c56349ecb29891b82aca884f": {
      "model_module": "@jupyter-widgets/controls",
      "model_module_version": "1.5.0",
      "model_name": "ProgressStyleModel",
      "state": {
       "description_width": ""
      }
     },
     "ec408f6d989142c0bdcae21e57c4b3ad": {
      "model_module": "@jupyter-widgets/base",
      "model_module_version": "1.2.0",
      "model_name": "LayoutModel",
      "state": {
       "height": "25px",
       "width": "50%"
      }
     },
     "ec6e11bec71f44f3a5089c00bf4f3081": {
      "model_module": "@jupyter-widgets/base",
      "model_module_version": "1.2.0",
      "model_name": "LayoutModel",
      "state": {
       "height": "25px",
       "width": "50%"
      }
     },
     "ecd0947f8d1a4da2a1afd9a9e27128b4": {
      "model_module": "@jupyter-widgets/controls",
      "model_module_version": "1.5.0",
      "model_name": "ProgressStyleModel",
      "state": {
       "description_width": ""
      }
     },
     "ed063f6f5de1403d8cc19636fee0a5cb": {
      "model_module": "@jupyter-widgets/controls",
      "model_module_version": "1.5.0",
      "model_name": "ProgressStyleModel",
      "state": {
       "description_width": ""
      }
     },
     "ed2efb018a0d4850adb19d285a897e41": {
      "model_module": "@jupyter-widgets/controls",
      "model_module_version": "1.5.0",
      "model_name": "ProgressStyleModel",
      "state": {
       "description_width": ""
      }
     },
     "ed5501b6940846b795c86d5dea92dfe6": {
      "model_module": "@jupyter-widgets/controls",
      "model_module_version": "1.5.0",
      "model_name": "ProgressStyleModel",
      "state": {
       "description_width": ""
      }
     },
     "ed65b1e2db6745b3857dff599481ef28": {
      "model_module": "@jupyter-widgets/controls",
      "model_module_version": "1.5.0",
      "model_name": "ProgressStyleModel",
      "state": {
       "description_width": ""
      }
     },
     "ed6e774496d6441097103269466aaf76": {
      "model_module": "@jupyter-widgets/controls",
      "model_module_version": "1.5.0",
      "model_name": "ProgressStyleModel",
      "state": {
       "description_width": ""
      }
     },
     "edc14a1bfcc9494295cd8538c293e169": {
      "model_module": "@jupyter-widgets/controls",
      "model_module_version": "1.5.0",
      "model_name": "ProgressStyleModel",
      "state": {
       "description_width": ""
      }
     },
     "ee2456975a184996a2ab24880bcb40b8": {
      "model_module": "@jupyter-widgets/base",
      "model_module_version": "1.2.0",
      "model_name": "LayoutModel",
      "state": {
       "height": "25px",
       "width": "50%"
      }
     },
     "ee5d76a08b244254a537a484e613211e": {
      "model_module": "@jupyter-widgets/base",
      "model_module_version": "1.2.0",
      "model_name": "LayoutModel",
      "state": {
       "height": "25px",
       "width": "50%"
      }
     },
     "ee8a6ebe7c4e494a826cf39004d8ec07": {
      "model_module": "@jupyter-widgets/base",
      "model_module_version": "1.2.0",
      "model_name": "LayoutModel",
      "state": {
       "height": "25px",
       "width": "50%"
      }
     },
     "ee9af1906c784499ae2a9c6156f95406": {
      "model_module": "@jupyter-widgets/controls",
      "model_module_version": "1.5.0",
      "model_name": "ProgressStyleModel",
      "state": {
       "description_width": ""
      }
     },
     "eebe0a9cd54e4ba99e3f93e5029d3d0a": {
      "model_module": "@jupyter-widgets/base",
      "model_module_version": "1.2.0",
      "model_name": "LayoutModel",
      "state": {
       "height": "25px",
       "width": "50%"
      }
     },
     "eed6bee8705041768f358ada4cf003ee": {
      "model_module": "@jupyter-widgets/base",
      "model_module_version": "1.2.0",
      "model_name": "LayoutModel",
      "state": {
       "height": "25px",
       "width": "50%"
      }
     },
     "efaaa778054144a5bc8a158a721e2acb": {
      "model_module": "@jupyter-widgets/controls",
      "model_module_version": "1.5.0",
      "model_name": "ProgressStyleModel",
      "state": {
       "description_width": ""
      }
     },
     "efd1d799888c4033a104bc39d9b267f1": {
      "model_module": "@jupyter-widgets/controls",
      "model_module_version": "1.5.0",
      "model_name": "ProgressStyleModel",
      "state": {
       "description_width": ""
      }
     },
     "f083e3c3280e46828863cd15477ab24a": {
      "model_module": "@jupyter-widgets/base",
      "model_module_version": "1.2.0",
      "model_name": "LayoutModel",
      "state": {
       "height": "25px",
       "width": "50%"
      }
     },
     "f09578c0c1be4832bc5a0fc7c18e51ce": {
      "model_module": "@jupyter-widgets/base",
      "model_module_version": "1.2.0",
      "model_name": "LayoutModel",
      "state": {
       "height": "25px",
       "width": "50%"
      }
     },
     "f0e3945330fb46519d1c153e84581863": {
      "model_module": "@jupyter-widgets/controls",
      "model_module_version": "1.5.0",
      "model_name": "FloatProgressModel",
      "state": {
       "bar_style": "info",
       "description": "Progress:",
       "layout": "IPY_MODEL_567fdc218e634f68aeaddf44bc29c1fb",
       "max": 1,
       "style": "IPY_MODEL_5fe2a93ad865456986c05b77f1a0be85"
      }
     },
     "f0f1fe3ec405437b8d36c904a5087fda": {
      "model_module": "@jupyter-widgets/controls",
      "model_module_version": "1.5.0",
      "model_name": "ProgressStyleModel",
      "state": {
       "description_width": ""
      }
     },
     "f14bb6560c354eb3b2211ed789c7250c": {
      "model_module": "@jupyter-widgets/controls",
      "model_module_version": "1.5.0",
      "model_name": "ProgressStyleModel",
      "state": {
       "description_width": ""
      }
     },
     "f17a0f21110b4e8aa48f69d250d83438": {
      "model_module": "@jupyter-widgets/controls",
      "model_module_version": "1.5.0",
      "model_name": "ProgressStyleModel",
      "state": {
       "description_width": ""
      }
     },
     "f1ad37f7d22d4fc2ad3b77bd99cf2f93": {
      "model_module": "@jupyter-widgets/base",
      "model_module_version": "1.2.0",
      "model_name": "LayoutModel",
      "state": {
       "height": "25px",
       "width": "50%"
      }
     },
     "f1c0efebf80844d9b5072a193bc5505e": {
      "model_module": "@jupyter-widgets/controls",
      "model_module_version": "1.5.0",
      "model_name": "ProgressStyleModel",
      "state": {
       "description_width": ""
      }
     },
     "f20ab07f91da40d3bdecaf36c3c63e09": {
      "model_module": "@jupyter-widgets/controls",
      "model_module_version": "1.5.0",
      "model_name": "FloatProgressModel",
      "state": {
       "bar_style": "info",
       "description": "Progress:",
       "layout": "IPY_MODEL_0065a3ef00cc48f4bc27a6874d763c18",
       "max": 1,
       "style": "IPY_MODEL_b398b247fa244b33beb48fe99fc381a9"
      }
     },
     "f222795974ba4d18b56246a00b465947": {
      "model_module": "@jupyter-widgets/controls",
      "model_module_version": "1.5.0",
      "model_name": "FloatProgressModel",
      "state": {
       "bar_style": "info",
       "description": "Progress:",
       "layout": "IPY_MODEL_ec6e11bec71f44f3a5089c00bf4f3081",
       "max": 1,
       "style": "IPY_MODEL_d3eb68264c29419980c038ad24b7c8c2",
       "value": 1
      }
     },
     "f231275d17474e43b50a3ee01ff30665": {
      "model_module": "@jupyter-widgets/base",
      "model_module_version": "1.2.0",
      "model_name": "LayoutModel",
      "state": {
       "height": "25px",
       "width": "50%"
      }
     },
     "f25f115720d34f44a27f5bf02b748735": {
      "model_module": "@jupyter-widgets/controls",
      "model_module_version": "1.5.0",
      "model_name": "ProgressStyleModel",
      "state": {
       "description_width": ""
      }
     },
     "f2efd64092654462aa56235c1aeb92da": {
      "model_module": "@jupyter-widgets/controls",
      "model_module_version": "1.5.0",
      "model_name": "ProgressStyleModel",
      "state": {
       "description_width": ""
      }
     },
     "f321e98ce8a042e8a95ad4dbd238873d": {
      "model_module": "@jupyter-widgets/base",
      "model_module_version": "1.2.0",
      "model_name": "LayoutModel",
      "state": {
       "height": "25px",
       "width": "50%"
      }
     },
     "f33657c0d35947fb818d16e8129f7901": {
      "model_module": "@jupyter-widgets/base",
      "model_module_version": "1.2.0",
      "model_name": "LayoutModel",
      "state": {
       "height": "25px",
       "width": "50%"
      }
     },
     "f337b192aa824a06a898bd517890ff94": {
      "model_module": "@jupyter-widgets/base",
      "model_module_version": "1.2.0",
      "model_name": "LayoutModel",
      "state": {
       "height": "25px",
       "width": "50%"
      }
     },
     "f385c57590e5414b8825ccef72dcb784": {
      "model_module": "@jupyter-widgets/base",
      "model_module_version": "1.2.0",
      "model_name": "LayoutModel",
      "state": {
       "height": "25px",
       "width": "50%"
      }
     },
     "f398191745874ef8b8ae81c844797258": {
      "model_module": "@jupyter-widgets/controls",
      "model_module_version": "1.5.0",
      "model_name": "ProgressStyleModel",
      "state": {
       "description_width": ""
      }
     },
     "f3ad93bed8f24cd9814b2e7de0cff6b7": {
      "model_module": "@jupyter-widgets/controls",
      "model_module_version": "1.5.0",
      "model_name": "FloatProgressModel",
      "state": {
       "bar_style": "info",
       "description": "Progress:",
       "layout": "IPY_MODEL_632bda90fccd4a4d8453283a840a49a0",
       "max": 1,
       "style": "IPY_MODEL_ec3ddde9c56349ecb29891b82aca884f",
       "value": 1
      }
     },
     "f3c609196cad440db43b3a3650ad8639": {
      "model_module": "@jupyter-widgets/base",
      "model_module_version": "1.2.0",
      "model_name": "LayoutModel",
      "state": {
       "height": "25px",
       "width": "50%"
      }
     },
     "f3e0b5c9e0e8408a8fd0bf0f5b544d3c": {
      "model_module": "@jupyter-widgets/base",
      "model_module_version": "1.2.0",
      "model_name": "LayoutModel",
      "state": {
       "height": "25px",
       "width": "50%"
      }
     },
     "f407d3bc49fb4137aef154a445d8b814": {
      "model_module": "@jupyter-widgets/base",
      "model_module_version": "1.2.0",
      "model_name": "LayoutModel",
      "state": {
       "height": "25px",
       "width": "50%"
      }
     },
     "f426408f19fa491eb80f3a86d8139989": {
      "model_module": "@jupyter-widgets/base",
      "model_module_version": "1.2.0",
      "model_name": "LayoutModel",
      "state": {
       "height": "25px",
       "width": "50%"
      }
     },
     "f45cd7fbacc94cea8f5aad5a1c1bcfc9": {
      "model_module": "@jupyter-widgets/controls",
      "model_module_version": "1.5.0",
      "model_name": "ProgressStyleModel",
      "state": {
       "description_width": ""
      }
     },
     "f47c09505cd04459a0e78da82fdfc189": {
      "model_module": "@jupyter-widgets/base",
      "model_module_version": "1.2.0",
      "model_name": "LayoutModel",
      "state": {
       "height": "25px",
       "width": "50%"
      }
     },
     "f532dfbfbabb4c259bf729b0ab617e4b": {
      "model_module": "@jupyter-widgets/controls",
      "model_module_version": "1.5.0",
      "model_name": "ProgressStyleModel",
      "state": {
       "description_width": ""
      }
     },
     "f53bdb44d16a479bb72a5abb468f700f": {
      "model_module": "@jupyter-widgets/controls",
      "model_module_version": "1.5.0",
      "model_name": "ProgressStyleModel",
      "state": {
       "description_width": ""
      }
     },
     "f55b986902d24f288d4f90bc608d18bb": {
      "model_module": "@jupyter-widgets/controls",
      "model_module_version": "1.5.0",
      "model_name": "ProgressStyleModel",
      "state": {
       "description_width": ""
      }
     },
     "f56c874aaba848f1b075818a53b80a94": {
      "model_module": "@jupyter-widgets/base",
      "model_module_version": "1.2.0",
      "model_name": "LayoutModel",
      "state": {
       "height": "25px",
       "width": "50%"
      }
     },
     "f5cfefa3c0e44c94a4497a7c2b42d8b8": {
      "model_module": "@jupyter-widgets/base",
      "model_module_version": "1.2.0",
      "model_name": "LayoutModel",
      "state": {
       "height": "25px",
       "width": "50%"
      }
     },
     "f5e1c3f574e04fe59bd84b56ef3c0b8d": {
      "model_module": "@jupyter-widgets/base",
      "model_module_version": "1.2.0",
      "model_name": "LayoutModel",
      "state": {
       "height": "25px",
       "width": "50%"
      }
     },
     "f5e3fd4924294926b1093833d6d04002": {
      "model_module": "@jupyter-widgets/controls",
      "model_module_version": "1.5.0",
      "model_name": "ProgressStyleModel",
      "state": {
       "description_width": ""
      }
     },
     "f601ecd68a6b4f098b8e3a3a773a6bba": {
      "model_module": "@jupyter-widgets/controls",
      "model_module_version": "1.5.0",
      "model_name": "ProgressStyleModel",
      "state": {
       "description_width": ""
      }
     },
     "f611e4e6885f4ace9e6cd01f2aa50a96": {
      "model_module": "@jupyter-widgets/controls",
      "model_module_version": "1.5.0",
      "model_name": "ProgressStyleModel",
      "state": {
       "description_width": ""
      }
     },
     "f61d96d6ccf14ff1839bb69ce04bc307": {
      "model_module": "@jupyter-widgets/controls",
      "model_module_version": "1.5.0",
      "model_name": "ProgressStyleModel",
      "state": {
       "description_width": ""
      }
     },
     "f64a6ef2da364610b67482a28a9efeef": {
      "model_module": "@jupyter-widgets/controls",
      "model_module_version": "1.5.0",
      "model_name": "ProgressStyleModel",
      "state": {
       "description_width": ""
      }
     },
     "f6af8a25a84843c59bbea71c23d585a5": {
      "model_module": "@jupyter-widgets/base",
      "model_module_version": "1.2.0",
      "model_name": "LayoutModel",
      "state": {
       "height": "25px",
       "width": "50%"
      }
     },
     "f6e541392607413fa5422c872516d9ad": {
      "model_module": "@jupyter-widgets/controls",
      "model_module_version": "1.5.0",
      "model_name": "ProgressStyleModel",
      "state": {
       "description_width": ""
      }
     },
     "f6e705e28bbd413bb3844ce677f4ccea": {
      "model_module": "@jupyter-widgets/controls",
      "model_module_version": "1.5.0",
      "model_name": "ProgressStyleModel",
      "state": {
       "description_width": ""
      }
     },
     "f7a8a5f389524c58bd4d50d2a7e5b8fe": {
      "model_module": "@jupyter-widgets/base",
      "model_module_version": "1.2.0",
      "model_name": "LayoutModel",
      "state": {
       "height": "25px",
       "width": "50%"
      }
     },
     "f88078f6a8ea4a069b7ac783406c6503": {
      "model_module": "@jupyter-widgets/base",
      "model_module_version": "1.2.0",
      "model_name": "LayoutModel",
      "state": {
       "height": "25px",
       "width": "50%"
      }
     },
     "f8918360887144e59b155ba94cbcfb02": {
      "model_module": "@jupyter-widgets/base",
      "model_module_version": "1.2.0",
      "model_name": "LayoutModel",
      "state": {
       "height": "25px",
       "width": "50%"
      }
     },
     "f89f0c1ff6a04eb0bde951b8d297b241": {
      "model_module": "@jupyter-widgets/controls",
      "model_module_version": "1.5.0",
      "model_name": "ProgressStyleModel",
      "state": {
       "description_width": ""
      }
     },
     "f92f7484e9b4442bb4f31f73d7a053ee": {
      "model_module": "@jupyter-widgets/base",
      "model_module_version": "1.2.0",
      "model_name": "LayoutModel",
      "state": {
       "height": "25px",
       "width": "50%"
      }
     },
     "f95f5c8460684c618851da0ff0c10322": {
      "model_module": "@jupyter-widgets/base",
      "model_module_version": "1.2.0",
      "model_name": "LayoutModel",
      "state": {
       "height": "25px",
       "width": "50%"
      }
     },
     "f9620e775e104d2ab3c7a778c4852823": {
      "model_module": "@jupyter-widgets/controls",
      "model_module_version": "1.5.0",
      "model_name": "FloatProgressModel",
      "state": {
       "bar_style": "info",
       "description": "Progress:",
       "layout": "IPY_MODEL_0710c1ac6eba42f0acd4f725779ce3bc",
       "max": 1,
       "style": "IPY_MODEL_e83b0a4fe2ea4fcab85bc18fbef51f2f"
      }
     },
     "f965dbe4cad94da6843cc078708b22e7": {
      "model_module": "@jupyter-widgets/controls",
      "model_module_version": "1.5.0",
      "model_name": "ProgressStyleModel",
      "state": {
       "description_width": ""
      }
     },
     "f993dca3d12d4823af0885e0e949f4d6": {
      "model_module": "@jupyter-widgets/controls",
      "model_module_version": "1.5.0",
      "model_name": "ProgressStyleModel",
      "state": {
       "description_width": ""
      }
     },
     "f9dcc951dddf42178a8dd38dd92d7557": {
      "model_module": "@jupyter-widgets/base",
      "model_module_version": "1.2.0",
      "model_name": "LayoutModel",
      "state": {
       "height": "25px",
       "width": "50%"
      }
     },
     "f9fdbc65b7ec4c5a91fc10be5931ef1d": {
      "model_module": "@jupyter-widgets/base",
      "model_module_version": "1.2.0",
      "model_name": "LayoutModel",
      "state": {
       "height": "25px",
       "width": "50%"
      }
     },
     "fa06330a7b264fe7815b8511ed99e106": {
      "model_module": "@jupyter-widgets/controls",
      "model_module_version": "1.5.0",
      "model_name": "FloatProgressModel",
      "state": {
       "bar_style": "info",
       "description": "Progress:",
       "layout": "IPY_MODEL_eb2e3d64477442ecb35b6338360a70e4",
       "max": 1,
       "style": "IPY_MODEL_c32b897ce80141898868d00d3eb9fcb1"
      }
     },
     "faaee464a8ac4b8caa6fae534e7654f5": {
      "model_module": "@jupyter-widgets/controls",
      "model_module_version": "1.5.0",
      "model_name": "ProgressStyleModel",
      "state": {
       "description_width": ""
      }
     },
     "fabf35c947064696ba02d64aac40ff0a": {
      "model_module": "@jupyter-widgets/controls",
      "model_module_version": "1.5.0",
      "model_name": "ProgressStyleModel",
      "state": {
       "description_width": ""
      }
     },
     "facac0b869464c1db449e1d5d60cbe31": {
      "model_module": "@jupyter-widgets/base",
      "model_module_version": "1.2.0",
      "model_name": "LayoutModel",
      "state": {
       "height": "25px",
       "width": "50%"
      }
     },
     "fb0c41a50a7044fe850789c1e514e99e": {
      "model_module": "@jupyter-widgets/controls",
      "model_module_version": "1.5.0",
      "model_name": "ProgressStyleModel",
      "state": {
       "description_width": ""
      }
     },
     "fb101a8e795d4afbb5dd4f5a1fe47d06": {
      "model_module": "@jupyter-widgets/controls",
      "model_module_version": "1.5.0",
      "model_name": "ProgressStyleModel",
      "state": {
       "description_width": ""
      }
     },
     "fb7225c02d3844f9bcb9f437f062bd6b": {
      "model_module": "@jupyter-widgets/base",
      "model_module_version": "1.2.0",
      "model_name": "LayoutModel",
      "state": {
       "height": "25px",
       "width": "50%"
      }
     },
     "fb9cbb13f4b74dfab88eda9e1d6e5387": {
      "model_module": "@jupyter-widgets/base",
      "model_module_version": "1.2.0",
      "model_name": "LayoutModel",
      "state": {
       "height": "25px",
       "width": "50%"
      }
     },
     "fbf68ba0ef58444f923508ea5d6c6758": {
      "model_module": "@jupyter-widgets/base",
      "model_module_version": "1.2.0",
      "model_name": "LayoutModel",
      "state": {
       "height": "25px",
       "width": "50%"
      }
     },
     "fbfe1fe024644038b0adf335ab2cf335": {
      "model_module": "@jupyter-widgets/base",
      "model_module_version": "1.2.0",
      "model_name": "LayoutModel",
      "state": {
       "height": "25px",
       "width": "50%"
      }
     },
     "fc6b88860b64459a9a30b881dcc2f97a": {
      "model_module": "@jupyter-widgets/controls",
      "model_module_version": "1.5.0",
      "model_name": "ProgressStyleModel",
      "state": {
       "description_width": ""
      }
     },
     "fc8e0d485e9b4c9ba602e184e22c8780": {
      "model_module": "@jupyter-widgets/controls",
      "model_module_version": "1.5.0",
      "model_name": "FloatProgressModel",
      "state": {
       "bar_style": "info",
       "description": "Progress:",
       "layout": "IPY_MODEL_672a2ab0598a46f8ae9feafa06207b5e",
       "max": 1,
       "style": "IPY_MODEL_1bfd56e62253428fb0a9fc9a803e2dd2",
       "value": 1
      }
     },
     "fccf1dd058564e3ab801af85aebf3d6a": {
      "model_module": "@jupyter-widgets/controls",
      "model_module_version": "1.5.0",
      "model_name": "ProgressStyleModel",
      "state": {
       "description_width": ""
      }
     },
     "fcfc326dba75476782333a77e8e1f4e6": {
      "model_module": "@jupyter-widgets/controls",
      "model_module_version": "1.5.0",
      "model_name": "FloatProgressModel",
      "state": {
       "bar_style": "info",
       "description": "Progress:",
       "layout": "IPY_MODEL_78c1cd57a2e2419ea063764d93e3a513",
       "max": 1,
       "style": "IPY_MODEL_f61d96d6ccf14ff1839bb69ce04bc307",
       "value": 1
      }
     },
     "fd9c77b2d3f84f3ba0ea3b4759a10cb3": {
      "model_module": "@jupyter-widgets/base",
      "model_module_version": "1.2.0",
      "model_name": "LayoutModel",
      "state": {
       "height": "25px",
       "width": "50%"
      }
     },
     "fdb3b09bc2904c9a9ef5cc7c6ab6e51b": {
      "model_module": "@jupyter-widgets/base",
      "model_module_version": "1.2.0",
      "model_name": "LayoutModel",
      "state": {
       "height": "25px",
       "width": "50%"
      }
     },
     "fdc45e8e757643d0adb2f843cdd9707e": {
      "model_module": "@jupyter-widgets/controls",
      "model_module_version": "1.5.0",
      "model_name": "ProgressStyleModel",
      "state": {
       "description_width": ""
      }
     },
     "fdef97766ffb4fc3bfd63844bed98c5b": {
      "model_module": "@jupyter-widgets/controls",
      "model_module_version": "1.5.0",
      "model_name": "ProgressStyleModel",
      "state": {
       "description_width": ""
      }
     },
     "fe30b87e578841058271a93ce15e3eed": {
      "model_module": "@jupyter-widgets/controls",
      "model_module_version": "1.5.0",
      "model_name": "ProgressStyleModel",
      "state": {
       "description_width": ""
      }
     },
     "fe4d97fe85d4490897c91605d6ad00fd": {
      "model_module": "@jupyter-widgets/controls",
      "model_module_version": "1.5.0",
      "model_name": "ProgressStyleModel",
      "state": {
       "description_width": ""
      }
     },
     "fe5601ea885f4ccbb318e02ad86587ee": {
      "model_module": "@jupyter-widgets/base",
      "model_module_version": "1.2.0",
      "model_name": "LayoutModel",
      "state": {
       "height": "25px",
       "width": "50%"
      }
     },
     "fe7246a48bac4323b320972998f1f6b8": {
      "model_module": "@jupyter-widgets/controls",
      "model_module_version": "1.5.0",
      "model_name": "ProgressStyleModel",
      "state": {
       "description_width": ""
      }
     },
     "fe80b45484da4fef8780fd3e1ea65922": {
      "model_module": "@jupyter-widgets/controls",
      "model_module_version": "1.5.0",
      "model_name": "FloatProgressModel",
      "state": {
       "bar_style": "info",
       "description": "Progress:",
       "layout": "IPY_MODEL_eebe0a9cd54e4ba99e3f93e5029d3d0a",
       "max": 1,
       "style": "IPY_MODEL_4c9fc6dbc6eb49f790f0bec6730e316b"
      }
     },
     "fe8a589f4f7d44f0b2d5d67950d133f3": {
      "model_module": "@jupyter-widgets/controls",
      "model_module_version": "1.5.0",
      "model_name": "ProgressStyleModel",
      "state": {
       "description_width": ""
      }
     },
     "fecb08866d03422da3ca052b9d109a7b": {
      "model_module": "@jupyter-widgets/controls",
      "model_module_version": "1.5.0",
      "model_name": "FloatProgressModel",
      "state": {
       "bar_style": "info",
       "description": "Progress:",
       "layout": "IPY_MODEL_fb7225c02d3844f9bcb9f437f062bd6b",
       "max": 1,
       "style": "IPY_MODEL_855d0a8d90554bf983a4ba89cecaa71e"
      }
     },
     "fed76dab687c4d739b0999d59f5935dd": {
      "model_module": "@jupyter-widgets/controls",
      "model_module_version": "1.5.0",
      "model_name": "ProgressStyleModel",
      "state": {
       "description_width": ""
      }
     },
     "ff8aa93176874373b1e38dffdff9b165": {
      "model_module": "@jupyter-widgets/controls",
      "model_module_version": "1.5.0",
      "model_name": "ProgressStyleModel",
      "state": {
       "description_width": ""
      }
     },
     "ffc6715930fe4ab0bde908107927c60d": {
      "model_module": "@jupyter-widgets/base",
      "model_module_version": "1.2.0",
      "model_name": "LayoutModel",
      "state": {
       "height": "25px",
       "width": "50%"
      }
     }
    },
    "version_major": 2,
    "version_minor": 0
   }
  }
 },
 "nbformat": 4,
 "nbformat_minor": 5
}
