{
 "cells": [
  {
   "cell_type": "markdown",
   "id": "b5927f6f",
   "metadata": {},
   "source": [
    "# <b>Image features demo 2</b>"
   ]
  },
  {
   "cell_type": "markdown",
   "id": "83738db9",
   "metadata": {},
   "source": [
    "The AIServiceVisionClient offers the image <b>object detection</b> and <b>text detection</b> features. This notebook aims to provide overall clarity about the features to the user in terms of requirements, usage and the output of the API.<br>\n",
    "\n",
    "<ul>\n",
    "    <li>The raw output is saved as <code>response_image_demo2.json</code> in the <code>output</code> directory. </li>\n",
    "    <li>Output image with bounding boxes is saved as <code>output_[input_file_name]</code> in the <code>output</code> directory. </li>\n",
    "    <li>Object labels are printed in descending order of their confidence levels in the last cell of the notebook.</li>\n",
    "<ul>"
   ]
  },
  {
   "cell_type": "markdown",
   "id": "8f0d497f",
   "metadata": {},
   "source": [
    "### Steps to run the notebook:\n",
    "<details>\n",
    "    <summary>Notebook session setup</summary>\n",
    "    <ol>\n",
    "        <li><font size=\"2\">Installing the OCI Vision SDK</font></li>\n",
    "        <li><font size=\"2\">Installing other dependencies</font></li>\n",
    "        <li><font size=\"2\">Setup sample input images</font></li>\n",
    "        <li><font size=\"2\">Setup helper .py files</font></li>\n",
    "        <li><font size=\"2\">Create output folder</font></li>\n",
    "    </ol>\n",
    "</details>\n",
    "\n",
    "<details>\n",
    "    <summary>Importing the required modules</summary>\n",
    "</details>\n",
    "\n",
    "<details>\n",
    "    <summary>Setting the input variables</summary>\n",
    "     <font size=\"2\">The user can change the input variables, if necessary. They have been assigned default values.</font>\n",
    "</details>\n",
    "\n",
    "<details>\n",
    "    <summary>Running the main pipeline</summary>\n",
    "    <font size=\"2\">Run all cells to get the output in the <code>output</code> directory. </font><br>\n",
    "</details>"
   ]
  },
  {
   "cell_type": "markdown",
   "id": "fb51abeb",
   "metadata": {},
   "source": [
    "### Notebook session setup\n",
    "<details>\n",
    "    <summary>Instructions</summary>\n",
    "    <ul>\n",
    "        <li><font size=\"2\">The user needs to setup only once.</font></li>\n",
    "        <li><font size=\"2\">Uncomment the commented cells and run once to setup.</font></li>\n",
    "        <li><font size=\"2\">Comment back the same cells to avoid running again.</font></li>\n",
    "    </ul>\n",
    "</details>"
   ]
  },
  {
   "cell_type": "markdown",
   "id": "eba4c63a",
   "metadata": {},
   "source": [
    "#### Installing the OCI Python SDK"
   ]
  },
  {
   "cell_type": "code",
   "execution_count": null,
   "id": "03e03774",
   "metadata": {},
   "outputs": [],
   "source": [
    "# !pip install oci==2.105.0"
   ]
  },
  {
   "cell_type": "markdown",
   "id": "f292f960",
   "metadata": {},
   "source": [
    "#### Installing other dependencies"
   ]
  },
  {
   "cell_type": "code",
   "execution_count": null,
   "id": "bee2225f",
   "metadata": {},
   "outputs": [],
   "source": [
    "# !pip install matplotlib==3.3.4\n",
    "# !pip install pandas==1.1.5\n",
    "# !pip install requests==2.31.0\n",
    "# !pip install Jinja2==3.1.2"
   ]
  },
  {
   "cell_type": "markdown",
   "id": "7be88b31",
   "metadata": {},
   "source": [
    "#### Setup sample input images"
   ]
  },
  {
   "cell_type": "code",
   "execution_count": null,
   "id": "ec5af92c",
   "metadata": {},
   "outputs": [],
   "source": [
    "# !wget \"https://github.com/oracle-livelabs/oci/tree/main/ai-vision/ai-vision-datascience/files/data/car.jpg\"\n",
    "# !mkdir data\n",
    "# !mv car.jpg data"
   ]
  },
  {
   "cell_type": "markdown",
   "id": "d7f23c35",
   "metadata": {},
   "source": [
    "#### Setup helper .py files"
   ]
  },
  {
   "cell_type": "code",
   "execution_count": null,
   "id": "ce249946",
   "metadata": {},
   "outputs": [],
   "source": [
    "# !wget \"https://github.com/oracle-livelabs/oci/tree/main/ai-vision/ai-vision-datascience/files/helper/output_plot.py\"\n",
    "# !wget \"https://github.com/oracle-livelabs/oci/tree/main/ai-vision/ai-vision-datascience/files/helper/analyze_image_utils.py\"\n",
    "# !mkdir helper\n",
    "# !mv output_plot.py helper\n",
    "# !mv analyze_image_utils.py helper"
   ]
  },
  {
   "cell_type": "markdown",
   "id": "b98dd662",
   "metadata": {},
   "source": [
    "#### Create output folder"
   ]
  },
  {
   "cell_type": "code",
   "execution_count": null,
   "id": "fa7346db",
   "metadata": {},
   "outputs": [],
   "source": [
    "# !mkdir output"
   ]
  },
  {
   "cell_type": "markdown",
   "id": "b07689e1",
   "metadata": {},
   "source": [
    "### Imports"
   ]
  },
  {
   "cell_type": "code",
   "execution_count": null,
   "id": "852141f3",
   "metadata": {},
   "outputs": [],
   "source": [
    "import base64\n",
    "import json\n",
    "import io\n",
    "import os\n",
    "import requests\n",
    "import oci\n",
    "from PIL import Image\n",
    "import matplotlib.pyplot as plt\n",
    "from helper.output_plot import OutputPlot\n",
    "from helper.analyze_image_utils import is_url, display_classes, clean_output"
   ]
  },
  {
   "cell_type": "markdown",
   "id": "b1d83b08",
   "metadata": {},
   "source": [
    "### Set input variables\n",
    "<details>\n",
    "<summary><font size=\"3\">input_path</font></summary>\n",
    "<font size=\"2\">The user can provide the Image URL or filepath from the notebook session.</font><br>\n",
    "</details>\n",
    "<details>\n",
    "<summary><font size=\"3\">max_results</font></summary>\n",
    "    <font size=\"2\">Provide the maximum number of results needed for object detection. This is an upper limit over the output classes, the API may detect lesser classes according to the image.</font><br>\n",
    "</details>\n",
    "<details>\n",
    "<summary><font size=\"3\">compartment_id</font></summary>\n",
    "    <font size=\"2\">The user should provide the compartment OCID to call the API</font><br>\n",
    "</details>"
   ]
  },
  {
   "cell_type": "code",
   "execution_count": null,
   "id": "ad934157",
   "metadata": {},
   "outputs": [],
   "source": [
    "input_path = \"data/car.jpg\"\n",
    "max_results = 5\n",
    "compartment_id = \"<COMPARTMENT-ID>\""
   ]
  },
  {
   "cell_type": "markdown",
   "id": "2b8656a7",
   "metadata": {},
   "source": [
    "### Authorize user config"
   ]
  },
  {
   "cell_type": "code",
   "execution_count": null,
   "id": "f7b1ba03",
   "metadata": {},
   "outputs": [],
   "source": [
    "config = oci.config.from_file('~/.oci/config')"
   ]
  },
  {
   "cell_type": "markdown",
   "id": "b4028132",
   "metadata": {},
   "source": [
    "### View input image"
   ]
  },
  {
   "cell_type": "code",
   "execution_count": null,
   "id": "422810fb",
   "metadata": {},
   "outputs": [],
   "source": [
    "if is_url(input_path):\n",
    "    encoded_string = base64.b64encode(requests.get(input_path).content)\n",
    "else:\n",
    "    with open(input_path, \"rb\") as image_file:\n",
    "        encoded_string = base64.b64encode(image_file.read())\n",
    "\n",
    "image_data = base64.b64decode(encoded_string)\n",
    "image = Image.open(io.BytesIO(image_data))\n",
    "plt.gcf().set_dpi(200)\n",
    "plt.axis('off')\n",
    "plt.imshow(image)"
   ]
  },
  {
   "cell_type": "markdown",
   "id": "7829243f",
   "metadata": {},
   "source": [
    "### Create AI service vision client and get response object"
   ]
  },
  {
   "cell_type": "code",
   "execution_count": null,
   "id": "6f373cf7",
   "metadata": {},
   "outputs": [],
   "source": [
    "ai_service_vision_client = oci.ai_vision.AIServiceVisionClient(config=config)\n",
    "analyze_image_details = oci.ai_vision.models.AnalyzeImageDetails()\n",
    "inline_image_details = oci.ai_vision.models.InlineImageDetails()\n",
    "\n",
    "image_object_detection_feature = oci.ai_vision.models.ImageObjectDetectionFeature()\n",
    "image_object_detection_feature.max_results = max_results\n",
    "image_text_detection_feature = oci.ai_vision.models.ImageTextDetectionFeature()\n",
    "features = [image_object_detection_feature, image_text_detection_feature]\n",
    "inline_image_details.data = encoded_string.decode('utf-8')\n",
    "analyze_image_details.image = inline_image_details\n",
    "analyze_image_details.features = features\n",
    "analyze_image_details.compartment_id = compartment_id\n",
    "\n",
    "res = ai_service_vision_client.analyze_image(analyze_image_details=analyze_image_details)"
   ]
  },
  {
   "cell_type": "markdown",
   "id": "87d1eb5b",
   "metadata": {},
   "source": [
    "### Clean and save the API response as json"
   ]
  },
  {
   "cell_type": "code",
   "execution_count": null,
   "id": "3509be33",
   "metadata": {},
   "outputs": [],
   "source": [
    "res_json = json.loads(repr(res.data))\n",
    "clean_res = clean_output(res_json)\n",
    "with open('output/response_image_demo2.json', 'w') as fp:\n",
    "    json.dump(clean_res, fp)"
   ]
  },
  {
   "cell_type": "markdown",
   "id": "c451c1b4",
   "metadata": {},
   "source": [
    "### Add bounding boxes to the output image\n",
    "The detected objects and text are annotated with <b>red</b> and <b>yellow</b> bounding boxes respectively."
   ]
  },
  {
   "cell_type": "code",
   "execution_count": null,
   "id": "03c9a4e9",
   "metadata": {},
   "outputs": [],
   "source": [
    "image_data = base64.b64decode(encoded_string)\n",
    "image = Image.open(io.BytesIO(image_data))\n",
    "output_plot = OutputPlot(image.width, image.height)\n",
    "plt.gcf().set_dpi(200)\n",
    "output_plot.plot.imshow(image)\n",
    "\n",
    "box_properties = {}\n",
    "if \"image_objects\" in clean_res:\n",
    "    box_properties[\"linewidth\"] = 2\n",
    "    box_properties[\"edgecolor\"] = 'red'\n",
    "    output_plot.add_bounding_boxes(\n",
    "        clean_res[\"image_objects\"], True, box_properties)\n",
    "\n",
    "if \"image_text\" in clean_res:\n",
    "    box_properties[\"linewidth\"] = 2\n",
    "    box_properties[\"edgecolor\"] = 'yellow'\n",
    "    output_plot.add_bounding_boxes(clean_res[\"image_text\"][\"lines\"], False, box_properties)\n",
    "    \n",
    "plt.axis('off')\n",
    "plt.savefig(\"output/output_\" + os.path.basename(input_path), dpi=200)"
   ]
  },
  {
   "cell_type": "markdown",
   "id": "fa0f4a65",
   "metadata": {},
   "source": [
    "### Display the object labels with their confidence levels"
   ]
  },
  {
   "cell_type": "code",
   "execution_count": null,
   "id": "d179aa2c",
   "metadata": {},
   "outputs": [],
   "source": [
    "if 'image_objects' in clean_res:\n",
    "    display(display_classes(clean_res['image_objects']))"
   ]
  },
  {
   "cell_type": "markdown",
   "id": "09a6794f",
   "metadata": {},
   "source": [
    "### Display the detected text with their confidence levels"
   ]
  },
  {
   "cell_type": "code",
   "execution_count": null,
   "id": "43a5da5a",
   "metadata": {},
   "outputs": [],
   "source": [
    "if 'image_text' in clean_res:\n",
    "    display(display_classes(clean_res['image_text']['lines'], 'Text'))"
   ]
  },
  {
   "cell_type": "code",
   "execution_count": null,
   "id": "a687a96b",
   "metadata": {},
   "outputs": [],
   "source": []
  }
 ],
 "metadata": {
  "kernelspec": {
   "display_name": "Python 3",
   "language": "python",
   "name": "python3"
  },
  "language_info": {
   "codemirror_mode": {
    "name": "ipython",
    "version": 3
   },
   "file_extension": ".py",
   "mimetype": "text/x-python",
   "name": "python",
   "nbconvert_exporter": "python",
   "pygments_lexer": "ipython3",
   "version": "3.8.10"
  }
 },
 "nbformat": 4,
 "nbformat_minor": 5
}
