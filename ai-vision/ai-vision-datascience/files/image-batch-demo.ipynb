{
 "cells": [
  {
   "cell_type": "markdown",
   "id": "3c37cb88",
   "metadata": {},
   "source": [
    "# <b>Image classification batch feature demo</b>"
   ]
  },
  {
   "cell_type": "markdown",
   "id": "283e78a1",
   "metadata": {},
   "source": [
    "The AIServiceVisionClient offers the image classification feature in batch mode. This notebook aims to provide overall clarity about the feature to the user in terms of requirements, usage and the output of the batch i.e. asynchronous API.<br>\n",
    "<ul>\n",
    "    <li>The output response files are stored at the object storage location specified in <code>data/output_object_image_batch.json</code>. </li>\n",
    "<li>The detected classes for a random input image will be displayed in the last section of the notebook.</li>\n",
    "</ul>"
   ]
  },
  {
   "cell_type": "markdown",
   "id": "b9c6b475",
   "metadata": {},
   "source": [
    "### Steps to run the notebook:\n",
    "<details>\n",
    "    <summary>Notebook session setup</summary>\n",
    "    <ol>\n",
    "        <li><font size=\"2\">Installing the OCI Vision SDK</font></li>\n",
    "        <li><font size=\"2\">Installing other dependencies</font></li>\n",
    "        <li><font size=\"2\">Setup sample input images</font></li>\n",
    "        <li><font size=\"2\">Setup helper .py files</font></li>\n",
    "    </ol>\n",
    "</details>\n",
    "\n",
    "<details>\n",
    "    <summary>Importing the required modules</summary>\n",
    "</details>\n",
    "\n",
    "<details>\n",
    "    <summary>Setting the input variables</summary>\n",
    "     <font size=\"2\">The user must update the input variables.</font>\n",
    "</details>\n",
    "\n",
    "<details>\n",
    "    <summary>Running the main pipeline</summary>\n",
    "    <font size=\"2\">Run all cells to get the output in the <code>output</code> directory. </font><br>\n",
    "</details>"
   ]
  },
  {
   "cell_type": "markdown",
   "id": "9a4fecff",
   "metadata": {},
   "source": [
    "### Notebook session setup\n",
    "<details>\n",
    "    <summary>Instructions</summary>\n",
    "    <ul>\n",
    "        <li><font size=\"2\">The user needs to setup only once.</font></li>\n",
    "        <li><font size=\"2\">Uncomment the commented cells and run once to setup.</font></li>\n",
    "        <li><font size=\"2\">Comment back the same cells to avoid running again.</font></li>\n",
    "    </ul>\n",
    "</details>"
   ]
  },
  {
   "cell_type": "markdown",
   "id": "0e1c26d1",
   "metadata": {},
   "source": [
    "#### Installing the OCI Python SDK"
   ]
  },
  {
   "cell_type": "code",
   "execution_count": null,
   "id": "699cc2f7",
   "metadata": {},
   "outputs": [],
   "source": [
    "# !pip install oci==2.105.0"
   ]
  },
  {
   "cell_type": "markdown",
   "id": "596b960c",
   "metadata": {},
   "source": [
    "#### Installing other dependencies"
   ]
  },
  {
   "cell_type": "code",
   "execution_count": null,
   "id": "ae030ae1",
   "metadata": {},
   "outputs": [],
   "source": [
    "# !pip install matplotlib==3.3.4\n",
    "# !pip install pandas==1.1.5\n",
    "# !pip install Jinja2==3.1.2"
   ]
  },
  {
   "cell_type": "markdown",
   "id": "6adc4d45",
   "metadata": {},
   "source": [
    "#### Setup sample input\n",
    "\n",
    "* Uncomment and run the cell below.\n",
    "* Create a bucket in your tenancy (you may skip this step if you have an existing bucket)\n",
    "* Upload the images `car.jpg` and `bees.jpg` to the bucket and update the corresponding location in `data/input_objects_image_batch.json`.\n",
    "* Update the output object storage location in `output_object_image_batch.json` where you want the results to be stored."
   ]
  },
  {
   "cell_type": "code",
   "execution_count": null,
   "id": "c3789928",
   "metadata": {},
   "outputs": [],
   "source": [
    "# !wget \"https://github.com/oracle-livelabs/oci/tree/main/ai-vision/ai-vision-datascience/files/data/input_objects_image_batch.json\"\n",
    "# !wget \"https://github.com/oracle-livelabs/oci/tree/main/ai-vision/ai-vision-datascience/files/data/output_object_image_batch.json\"\n",
    "# !wget \"https://github.com/oracle-livelabs/oci/tree/main/ai-vision/ai-vision-datascience/files/data/car.jpg\"\n",
    "# !wget \"https://github.com/oracle-livelabs/oci/tree/main/ai-vision/ai-vision-datascience/files/data/bees.jpg\"\n",
    "# !mkdir data\n",
    "# !mv input_objects_image_batch.json data\n",
    "# !mv output_object_image_batch.json data\n",
    "# !mv car.jpg data\n",
    "# !mv bees.jpg data"
   ]
  },
  {
   "cell_type": "markdown",
   "id": "acaccf37",
   "metadata": {},
   "source": [
    "#### Setup helper .py files"
   ]
  },
  {
   "cell_type": "code",
   "execution_count": null,
   "id": "d61b43d2",
   "metadata": {},
   "outputs": [],
   "source": [
    "# !wget \"https://github.com/oracle-livelabs/oci/tree/main/ai-vision/ai-vision-datascience/files/helper/analyze_image_batch_utils.py\"\n",
    "# !mkdir helper\n",
    "# !mv analyze_image_batch_utils.py helper"
   ]
  },
  {
   "cell_type": "markdown",
   "id": "e4bb9aad",
   "metadata": {},
   "source": [
    "### Imports"
   ]
  },
  {
   "cell_type": "code",
   "execution_count": null,
   "id": "89ced1bc",
   "metadata": {},
   "outputs": [],
   "source": [
    "import time\n",
    "import json\n",
    "import io\n",
    "from random import randint\n",
    "import oci\n",
    "from PIL import Image\n",
    "from helper.analyze_image_batch_utils import load_input_object_locations, load_output_object_location, display_classes, clean_output\n",
    "from IPython.display import JSON"
   ]
  },
  {
   "cell_type": "markdown",
   "id": "8f879d66",
   "metadata": {},
   "source": [
    "### Set input variables\n",
    "<details>\n",
    "    <summary><font size=\"3\">input_location_path</font></summary>\n",
    "    <font size=\"2\">The file <code>data/input_objects_image_batch.json</code> specifies where the input images are to be taken from. Sample file has been provided. The user needs to provide the following in this file:\n",
    "        <ul>\n",
    "            <li><code>compartment_id</code> : Compartment ID</li>\n",
    "            <li><code>input_objects</code>: List with the object locations in the following format-</li>\n",
    "            <ul>\n",
    "                <li><code>namespace</code> : Namespace name</li>\n",
    "                <li><code>bucket</code> : Bucket name</li>\n",
    "                <li><code>objects</code> : List of object names</li>\n",
    "            </ul>\n",
    "        </ul>\n",
    "    </font>\n",
    "</details>\n",
    "\n",
    "<details>\n",
    "    <summary><font size=\"3\">output_location_path</font></summary>\n",
    "    <font size=\"2\">The file <code>data/output_object_image_batch.json</code> specifies where the output files will be stored. Sample file has been provided. The user needs to provide the following in this file:\n",
    "        <ul>\n",
    "            <li><code>namespace</code> : Namespace name</li>\n",
    "            <li><code>bucket</code> : Bucket name</li>\n",
    "            <li><code>prefix</code> : Prefix name</li>\n",
    "        </ul>\n",
    "    </font>\n",
    "</details>\n",
    "\n",
    "<details>\n",
    "<summary><font size=\"3\">max_results</font></summary>\n",
    "    <font size=\"2\">Provide the maximum number of results needed for image classification. This is an upper limit over the output classes, the API may detect lesser classes according to the image.</font><br>\n",
    "</details>"
   ]
  },
  {
   "cell_type": "code",
   "execution_count": null,
   "id": "6afeb39a",
   "metadata": {},
   "outputs": [],
   "source": [
    "input_location_path = 'data/input_objects_image_batch.json'\n",
    "output_location_path = 'data/output_object_image_batch.json'\n",
    "max_results = 5"
   ]
  },
  {
   "cell_type": "markdown",
   "id": "9ac9bc7f",
   "metadata": {},
   "source": [
    "### Authorize user config"
   ]
  },
  {
   "cell_type": "code",
   "execution_count": null,
   "id": "140a6070",
   "metadata": {},
   "outputs": [],
   "source": [
    "config = oci.config.from_file('~/.oci/config')"
   ]
  },
  {
   "cell_type": "markdown",
   "id": "f34ce249",
   "metadata": {},
   "source": [
    "### Load input and output object locations"
   ]
  },
  {
   "cell_type": "code",
   "execution_count": null,
   "id": "f1259b30",
   "metadata": {},
   "outputs": [],
   "source": [
    "compartment_id, input_location = load_input_object_locations(input_location_path)\n",
    "output_location = load_output_object_location(output_location_path)"
   ]
  },
  {
   "cell_type": "markdown",
   "id": "e27e5608",
   "metadata": {},
   "source": [
    "### Create AI service vision client and image job"
   ]
  },
  {
   "cell_type": "code",
   "execution_count": null,
   "id": "203d98f9",
   "metadata": {},
   "outputs": [],
   "source": [
    "ai_service_vision_client = oci.ai_vision.AIServiceVisionClient(config=config)\n",
    "create_image_job_details = oci.ai_vision.models.CreateImageJobDetails()\n",
    "\n",
    "image_classification_feature = oci.ai_vision.models.ImageClassificationFeature()\n",
    "image_classification_feature.max_results = max_results\n",
    "features = [image_classification_feature]\n",
    "create_image_job_details.features = features\n",
    "create_image_job_details.compartment_id = compartment_id\n",
    "create_image_job_details.input_location = input_location\n",
    "create_image_job_details.output_location = output_location\n",
    "\n",
    "res = ai_service_vision_client.create_image_job(create_image_job_details=create_image_job_details)"
   ]
  },
  {
   "cell_type": "markdown",
   "id": "9babcef6",
   "metadata": {},
   "source": [
    "### Job submitted\n",
    "The job is created and is in <code>ACCEPTED</code> state."
   ]
  },
  {
   "cell_type": "code",
   "execution_count": null,
   "id": "179a2bbf",
   "metadata": {},
   "outputs": [],
   "source": [
    "res_json = json.loads(repr(res.data))\n",
    "clean_res = clean_output(res_json)\n",
    "JSON(clean_res)"
   ]
  },
  {
   "cell_type": "markdown",
   "id": "0596160c",
   "metadata": {},
   "source": [
    "### Job in progress\n",
    "The job progress is tracked till completion with an interval of 5 seconds and is in <code>IN_PROGRESS</code> state."
   ]
  },
  {
   "cell_type": "code",
   "execution_count": null,
   "id": "cba58b68",
   "metadata": {},
   "outputs": [],
   "source": [
    "job_id = res.data.id\n",
    "print(\"Job ID :\", job_id, '\\n')\n",
    "seconds = 0\n",
    "res = ai_service_vision_client.get_image_job(image_job_id=job_id)\n",
    "\n",
    "while res.data.lifecycle_state in [\"IN_PROGRESS\", \"ACCEPTED\"]:\n",
    "    print(\"Job is IN_PROGRESS for \" + str(seconds) + \" seconds\")\n",
    "    time.sleep(5)\n",
    "    seconds += 5\n",
    "    res = ai_service_vision_client.get_image_job(image_job_id=job_id)"
   ]
  },
  {
   "cell_type": "markdown",
   "id": "9ab4cb44",
   "metadata": {},
   "source": [
    "### Job completed\n",
    "The job is completed and is in <code>SUCCEEDED</code> state."
   ]
  },
  {
   "cell_type": "code",
   "execution_count": null,
   "id": "bd803b67",
   "metadata": {},
   "outputs": [],
   "source": [
    "res_json = json.loads(repr(res.data))\n",
    "clean_res = clean_output(res_json)\n",
    "JSON(clean_res)"
   ]
  },
  {
   "cell_type": "markdown",
   "id": "c1bad9b1",
   "metadata": {},
   "source": [
    "### Display detected classes\n",
    "The detected classes will be displayed in decreasing order of confidence level for a randomly selected image from the batch input."
   ]
  },
  {
   "cell_type": "code",
   "execution_count": null,
   "id": "09cd7c77",
   "metadata": {},
   "outputs": [],
   "source": [
    "object_storage_client = oci.object_storage.ObjectStorageClient(config)\n",
    "\n",
    "index = randint(0, len(input_location.object_locations) - 1)\n",
    "object_location = input_location.object_locations[index]\n",
    "\n",
    "output_object_name = output_location.prefix + \"/\" + res.data.id + \"/\" + \\\n",
    "        object_location.namespace_name  + \"_\" + object_location.bucket_name + \"_\" + \\\n",
    "            object_location.object_name\n",
    "\n",
    "res_json = object_storage_client.get_object(output_location.namespace_name, \\\n",
    "    output_location.bucket_name, object_name = output_object_name+\".json\").data.content\n",
    "res_dict = json.loads(res_json)\n",
    "\n",
    "print(\"Image :\", object_location.object_name)\n",
    "if res_dict['labels'] is not None:\n",
    "    display(display_classes(res_dict['labels']))\n",
    "else:\n",
    "    print(\"No image classes detected.\")"
   ]
  }
 ],
 "metadata": {
  "kernelspec": {
   "display_name": "Python 3",
   "language": "python",
   "name": "python3"
  },
  "language_info": {
   "codemirror_mode": {
    "name": "ipython",
    "version": 3
   },
   "file_extension": ".py",
   "mimetype": "text/x-python",
   "name": "python",
   "nbconvert_exporter": "python",
   "pygments_lexer": "ipython3",
   "version": "3.6.10"
  }
 },
 "nbformat": 4,
 "nbformat_minor": 5
}
