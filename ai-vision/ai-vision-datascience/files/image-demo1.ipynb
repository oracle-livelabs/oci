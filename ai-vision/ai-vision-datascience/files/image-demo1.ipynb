{
 "cells": [
  {
   "cell_type": "markdown",
   "id": "4496adb9",
   "metadata": {},
   "source": [
    "# <b>Image features demo 1</b>"
   ]
  },
  {
   "cell_type": "markdown",
   "id": "82a14c3a",
   "metadata": {},
   "source": [
    "The AIServiceVisionClient offers the <b>image classification</b> feature. This notebook aims to provide overall clarity about the feature to the user in terms of requirements, usage and the output of the API.<br>\n",
    "<ul>\n",
    "    <li>The raw output is saved as <code>response_image_demo1.json</code> in the <code>output</code> directory. </li>\n",
    "    <li>Image classes are printed in descending order of their confidence levels in the last cell of the notebook.</li>\n",
    "</ul>"
   ]
  },
  {
   "cell_type": "markdown",
   "id": "a0502c5e",
   "metadata": {},
   "source": [
    "### Steps to run the notebook:\n",
    "<details>\n",
    "    <summary>Notebook session setup</summary>\n",
    "    <ol>\n",
    "        <li><font size=\"2\">Installing the OCI Vision SDK</font></li>\n",
    "        <li><font size=\"2\">Installing other dependencies</font></li>\n",
    "        <li><font size=\"2\">Setup sample input images</font></li>\n",
    "        <li><font size=\"2\">Setup helper .py files</font></li>\n",
    "        <li><font size=\"2\">Create output folder</font></li>\n",
    "    </ol>\n",
    "</details>\n",
    "\n",
    "<details>\n",
    "    <summary>Importing the required modules</summary>\n",
    "</details>\n",
    "\n",
    "<details>\n",
    "    <summary>Setting the input variables</summary>\n",
    "     <font size=\"2\">The user can change the input variables, if necessary. They have been assigned default values.</font>\n",
    "</details>\n",
    "\n",
    "<details>\n",
    "    <summary>Running the main pipeline</summary>\n",
    "    <font size=\"2\">Run all cells to get the output in the <code>output</code> directory. </font><br>\n",
    "</details>"
   ]
  },
  {
   "cell_type": "markdown",
   "id": "49b99ff0",
   "metadata": {},
   "source": [
    "### Notebook session setup\n",
    "<details>\n",
    "    <summary>Instructions</summary>\n",
    "    <ul>\n",
    "        <li><font size=\"2\">The user needs to setup only once.</font></li>\n",
    "        <li><font size=\"2\">Uncomment the commented cells and run once to setup.</font></li>\n",
    "        <li><font size=\"2\">Comment back the same cells to avoid running again.</font></li>\n",
    "    </ul>\n",
    "</details>"
   ]
  },
  {
   "cell_type": "markdown",
   "id": "a244515b",
   "metadata": {},
   "source": [
    "#### Installing the OCI Python SDK"
   ]
  },
  {
   "cell_type": "code",
   "execution_count": null,
   "id": "eb1c2f14",
   "metadata": {},
   "outputs": [],
   "source": [
    "# !pip install oci==2.105.0"
   ]
  },
  {
   "cell_type": "markdown",
   "id": "deac9c4a",
   "metadata": {},
   "source": [
    "#### Installing other dependencies"
   ]
  },
  {
   "cell_type": "code",
   "execution_count": null,
   "id": "fd1af74f",
   "metadata": {},
   "outputs": [],
   "source": [
    "# !pip install matplotlib==3.3.4\n",
    "# !pip install pandas==1.1.5\n",
    "# !pip install Jinja2==3.1.2"
   ]
  },
  {
   "cell_type": "markdown",
   "id": "c47f5cfc",
   "metadata": {},
   "source": [
    "#### Setup sample input images"
   ]
  },
  {
   "cell_type": "code",
   "execution_count": null,
   "id": "29d51b98",
   "metadata": {},
   "outputs": [],
   "source": [
    "# !wget \"https://github.com/oracle-livelabs/oci/tree/main/ai-vision/ai-vision-datascience/files/data/car.jpg\"\n",
    "# !mkdir data\n",
    "# !mv car.jpg data"
   ]
  },
  {
   "cell_type": "markdown",
   "id": "1910b331",
   "metadata": {},
   "source": [
    "#### Setup helper .py files"
   ]
  },
  {
   "cell_type": "code",
   "execution_count": null,
   "id": "28c69716",
   "metadata": {},
   "outputs": [],
   "source": [
    "# !wget \"https://github.com/oracle-livelabs/oci/tree/main/ai-vision/ai-vision-datascience/files/helper/output_plot.py\"\n",
    "# !wget \"https://github.com/oracle-livelabs/oci/tree/main/ai-vision/ai-vision-datascience/files/helper/analyze_image_utils.py\"\n",
    "# !mkdir helper\n",
    "# !mv output_plot.py helper\n",
    "# !mv analyze_image_utils.py helper"
   ]
  },
  {
   "cell_type": "markdown",
   "id": "4f0a7c9d",
   "metadata": {},
   "source": [
    "#### Create output folder"
   ]
  },
  {
   "cell_type": "code",
   "execution_count": null,
   "id": "ac910658",
   "metadata": {},
   "outputs": [],
   "source": [
    "# !mkdir output"
   ]
  },
  {
   "cell_type": "markdown",
   "id": "4c8da98c",
   "metadata": {},
   "source": [
    "### Imports"
   ]
  },
  {
   "cell_type": "code",
   "execution_count": null,
   "id": "3525914e",
   "metadata": {},
   "outputs": [],
   "source": [
    "import base64\n",
    "import io\n",
    "import json\n",
    "from PIL import Image\n",
    "import matplotlib.pyplot as plt\n",
    "import requests\n",
    "import oci\n",
    "from helper.analyze_image_utils import is_url, display_classes, clean_output"
   ]
  },
  {
   "cell_type": "markdown",
   "id": "c12e2f10",
   "metadata": {},
   "source": [
    "### Set input variables\n",
    "<details>\n",
    "<summary><font size=\"3\">input_path</font></summary>\n",
    "<font size=\"2\">The user can provide the image URL or filepath from the notebook session</font><br>\n",
    "</details>\n",
    "<details>\n",
    "<summary><font size=\"3\">max_results</font></summary>\n",
    "    <font size=\"2\">The user should provide the maximum number of results needed for image classification. This is an upper limit over the output classes, the API may detect lesser classes according to the image.</font><br>\n",
    "</details>\n",
    "<details>\n",
    "<summary><font size=\"3\">compartment_id</font></summary>\n",
    "    <font size=\"2\">The user should provide the compartment OCID to call the API</font><br>\n",
    "</details>\n"
   ]
  },
  {
   "cell_type": "code",
   "execution_count": null,
   "id": "851910da",
   "metadata": {},
   "outputs": [],
   "source": [
    "input_path = \"data/car.jpg\"\n",
    "max_results = 5\n",
    "compartment_id = \"<COMPARTMENT-ID>\""
   ]
  },
  {
   "cell_type": "markdown",
   "id": "a4cf2f27",
   "metadata": {},
   "source": [
    "### Authorize user config"
   ]
  },
  {
   "cell_type": "code",
   "execution_count": null,
   "id": "454d8335",
   "metadata": {},
   "outputs": [],
   "source": [
    "config = oci.config.from_file('~/.oci/config')"
   ]
  },
  {
   "cell_type": "markdown",
   "id": "67a6c195",
   "metadata": {},
   "source": [
    "### View input image"
   ]
  },
  {
   "cell_type": "code",
   "execution_count": null,
   "id": "281069f0",
   "metadata": {},
   "outputs": [],
   "source": [
    "if is_url(input_path):\n",
    "    encoded_string = base64.b64encode(requests.get(input_path).content)\n",
    "else:\n",
    "    with open(input_path, \"rb\") as image_file:\n",
    "        encoded_string = base64.b64encode(image_file.read())\n",
    "\n",
    "image_data = base64.b64decode(encoded_string)\n",
    "image = Image.open(io.BytesIO(image_data))\n",
    "plt.gcf().set_dpi(200)\n",
    "plt.axis('off')\n",
    "plt.imshow(image)"
   ]
  },
  {
   "cell_type": "markdown",
   "id": "501bf963",
   "metadata": {},
   "source": [
    "### Create AI service vision client and get response object"
   ]
  },
  {
   "cell_type": "code",
   "execution_count": null,
   "id": "f4db78ad",
   "metadata": {},
   "outputs": [],
   "source": [
    "ai_service_vision_client = oci.ai_vision.AIServiceVisionClient(config=config)\n",
    "analyze_image_details = oci.ai_vision.models.AnalyzeImageDetails()\n",
    "inline_image_details = oci.ai_vision.models.InlineImageDetails()\n",
    "\n",
    "image_classification_feature = oci.ai_vision.models.ImageClassificationFeature()\n",
    "image_classification_feature.max_results = max_results\n",
    "features = [image_classification_feature]\n",
    "inline_image_details.data = encoded_string.decode('utf-8')\n",
    "analyze_image_details.image = inline_image_details\n",
    "analyze_image_details.features = features\n",
    "analyze_image_details.compartment_id = compartment_id\n",
    "\n",
    "res = ai_service_vision_client.analyze_image(analyze_image_details=analyze_image_details)"
   ]
  },
  {
   "cell_type": "markdown",
   "id": "fa80767f",
   "metadata": {},
   "source": [
    "### Clean and save the API response as json"
   ]
  },
  {
   "cell_type": "code",
   "execution_count": null,
   "id": "ecbf3b59",
   "metadata": {},
   "outputs": [],
   "source": [
    "res_json = json.loads(repr(res.data))\n",
    "clean_res = clean_output(res_json)\n",
    "with open('output/response_image_demo1.json', 'w') as fp:\n",
    "    json.dump(clean_res, fp)"
   ]
  },
  {
   "cell_type": "markdown",
   "id": "b9030b7a",
   "metadata": {},
   "source": [
    "### Display the classes with their confidence levels"
   ]
  },
  {
   "cell_type": "code",
   "execution_count": null,
   "id": "ea66110a",
   "metadata": {},
   "outputs": [],
   "source": [
    "if 'labels' in clean_res:\n",
    "    display(display_classes(clean_res['labels']))"
   ]
  }
 ],
 "metadata": {
  "kernelspec": {
   "display_name": "Python 3",
   "language": "python",
   "name": "python3"
  },
  "language_info": {
   "codemirror_mode": {
    "name": "ipython",
    "version": 3
   },
   "file_extension": ".py",
   "mimetype": "text/x-python",
   "name": "python",
   "nbconvert_exporter": "python",
   "pygments_lexer": "ipython3",
   "version": "3.9.9"
  }
 },
 "nbformat": 4,
 "nbformat_minor": 5
}
